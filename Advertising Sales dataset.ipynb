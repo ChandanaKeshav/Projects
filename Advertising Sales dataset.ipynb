{
 "cells": [
  {
   "cell_type": "code",
   "execution_count": 1,
   "metadata": {},
   "outputs": [],
   "source": [
    "import pandas as pd \n",
    "import numpy as np \n",
    "import matplotlib.pyplot as plt \n",
    "import seaborn as sns "
   ]
  },
  {
   "cell_type": "code",
   "execution_count": 2,
   "metadata": {},
   "outputs": [
    {
     "data": {
      "text/html": [
       "<div>\n",
       "<style scoped>\n",
       "    .dataframe tbody tr th:only-of-type {\n",
       "        vertical-align: middle;\n",
       "    }\n",
       "\n",
       "    .dataframe tbody tr th {\n",
       "        vertical-align: top;\n",
       "    }\n",
       "\n",
       "    .dataframe thead th {\n",
       "        text-align: right;\n",
       "    }\n",
       "</style>\n",
       "<table border=\"1\" class=\"dataframe\">\n",
       "  <thead>\n",
       "    <tr style=\"text-align: right;\">\n",
       "      <th></th>\n",
       "      <th>Sl.No.</th>\n",
       "      <th>TV</th>\n",
       "      <th>radio</th>\n",
       "      <th>newspaper</th>\n",
       "      <th>sales</th>\n",
       "    </tr>\n",
       "  </thead>\n",
       "  <tbody>\n",
       "    <tr>\n",
       "      <th>0</th>\n",
       "      <td>1</td>\n",
       "      <td>230.1</td>\n",
       "      <td>37.8</td>\n",
       "      <td>69.2</td>\n",
       "      <td>22.1</td>\n",
       "    </tr>\n",
       "    <tr>\n",
       "      <th>1</th>\n",
       "      <td>2</td>\n",
       "      <td>44.5</td>\n",
       "      <td>39.3</td>\n",
       "      <td>45.1</td>\n",
       "      <td>10.4</td>\n",
       "    </tr>\n",
       "    <tr>\n",
       "      <th>2</th>\n",
       "      <td>3</td>\n",
       "      <td>17.2</td>\n",
       "      <td>45.9</td>\n",
       "      <td>69.3</td>\n",
       "      <td>9.3</td>\n",
       "    </tr>\n",
       "    <tr>\n",
       "      <th>3</th>\n",
       "      <td>4</td>\n",
       "      <td>151.5</td>\n",
       "      <td>41.3</td>\n",
       "      <td>58.5</td>\n",
       "      <td>18.5</td>\n",
       "    </tr>\n",
       "    <tr>\n",
       "      <th>4</th>\n",
       "      <td>5</td>\n",
       "      <td>180.8</td>\n",
       "      <td>10.8</td>\n",
       "      <td>58.4</td>\n",
       "      <td>12.9</td>\n",
       "    </tr>\n",
       "    <tr>\n",
       "      <th>...</th>\n",
       "      <td>...</td>\n",
       "      <td>...</td>\n",
       "      <td>...</td>\n",
       "      <td>...</td>\n",
       "      <td>...</td>\n",
       "    </tr>\n",
       "    <tr>\n",
       "      <th>195</th>\n",
       "      <td>196</td>\n",
       "      <td>38.2</td>\n",
       "      <td>3.7</td>\n",
       "      <td>13.8</td>\n",
       "      <td>7.6</td>\n",
       "    </tr>\n",
       "    <tr>\n",
       "      <th>196</th>\n",
       "      <td>197</td>\n",
       "      <td>94.2</td>\n",
       "      <td>4.9</td>\n",
       "      <td>8.1</td>\n",
       "      <td>9.7</td>\n",
       "    </tr>\n",
       "    <tr>\n",
       "      <th>197</th>\n",
       "      <td>198</td>\n",
       "      <td>177.0</td>\n",
       "      <td>9.3</td>\n",
       "      <td>6.4</td>\n",
       "      <td>12.8</td>\n",
       "    </tr>\n",
       "    <tr>\n",
       "      <th>198</th>\n",
       "      <td>199</td>\n",
       "      <td>283.6</td>\n",
       "      <td>42.0</td>\n",
       "      <td>66.2</td>\n",
       "      <td>25.5</td>\n",
       "    </tr>\n",
       "    <tr>\n",
       "      <th>199</th>\n",
       "      <td>200</td>\n",
       "      <td>232.1</td>\n",
       "      <td>8.6</td>\n",
       "      <td>8.7</td>\n",
       "      <td>13.4</td>\n",
       "    </tr>\n",
       "  </tbody>\n",
       "</table>\n",
       "<p>200 rows × 5 columns</p>\n",
       "</div>"
      ],
      "text/plain": [
       "     Sl.No.     TV  radio  newspaper  sales\n",
       "0         1  230.1   37.8       69.2   22.1\n",
       "1         2   44.5   39.3       45.1   10.4\n",
       "2         3   17.2   45.9       69.3    9.3\n",
       "3         4  151.5   41.3       58.5   18.5\n",
       "4         5  180.8   10.8       58.4   12.9\n",
       "..      ...    ...    ...        ...    ...\n",
       "195     196   38.2    3.7       13.8    7.6\n",
       "196     197   94.2    4.9        8.1    9.7\n",
       "197     198  177.0    9.3        6.4   12.8\n",
       "198     199  283.6   42.0       66.2   25.5\n",
       "199     200  232.1    8.6        8.7   13.4\n",
       "\n",
       "[200 rows x 5 columns]"
      ]
     },
     "execution_count": 2,
     "metadata": {},
     "output_type": "execute_result"
    }
   ],
   "source": [
    "df=pd.read_csv(\"Advertising.csv\")\n",
    "df"
   ]
  },
  {
   "cell_type": "code",
   "execution_count": 3,
   "metadata": {},
   "outputs": [
    {
     "data": {
      "text/html": [
       "<div>\n",
       "<style scoped>\n",
       "    .dataframe tbody tr th:only-of-type {\n",
       "        vertical-align: middle;\n",
       "    }\n",
       "\n",
       "    .dataframe tbody tr th {\n",
       "        vertical-align: top;\n",
       "    }\n",
       "\n",
       "    .dataframe thead th {\n",
       "        text-align: right;\n",
       "    }\n",
       "</style>\n",
       "<table border=\"1\" class=\"dataframe\">\n",
       "  <thead>\n",
       "    <tr style=\"text-align: right;\">\n",
       "      <th></th>\n",
       "      <th>Sl.No.</th>\n",
       "      <th>TV</th>\n",
       "      <th>radio</th>\n",
       "      <th>newspaper</th>\n",
       "      <th>sales</th>\n",
       "    </tr>\n",
       "  </thead>\n",
       "  <tbody>\n",
       "    <tr>\n",
       "      <th>0</th>\n",
       "      <td>False</td>\n",
       "      <td>False</td>\n",
       "      <td>False</td>\n",
       "      <td>False</td>\n",
       "      <td>False</td>\n",
       "    </tr>\n",
       "    <tr>\n",
       "      <th>1</th>\n",
       "      <td>False</td>\n",
       "      <td>False</td>\n",
       "      <td>False</td>\n",
       "      <td>False</td>\n",
       "      <td>False</td>\n",
       "    </tr>\n",
       "    <tr>\n",
       "      <th>2</th>\n",
       "      <td>False</td>\n",
       "      <td>False</td>\n",
       "      <td>False</td>\n",
       "      <td>False</td>\n",
       "      <td>False</td>\n",
       "    </tr>\n",
       "    <tr>\n",
       "      <th>3</th>\n",
       "      <td>False</td>\n",
       "      <td>False</td>\n",
       "      <td>False</td>\n",
       "      <td>False</td>\n",
       "      <td>False</td>\n",
       "    </tr>\n",
       "    <tr>\n",
       "      <th>4</th>\n",
       "      <td>False</td>\n",
       "      <td>False</td>\n",
       "      <td>False</td>\n",
       "      <td>False</td>\n",
       "      <td>False</td>\n",
       "    </tr>\n",
       "    <tr>\n",
       "      <th>...</th>\n",
       "      <td>...</td>\n",
       "      <td>...</td>\n",
       "      <td>...</td>\n",
       "      <td>...</td>\n",
       "      <td>...</td>\n",
       "    </tr>\n",
       "    <tr>\n",
       "      <th>195</th>\n",
       "      <td>False</td>\n",
       "      <td>False</td>\n",
       "      <td>False</td>\n",
       "      <td>False</td>\n",
       "      <td>False</td>\n",
       "    </tr>\n",
       "    <tr>\n",
       "      <th>196</th>\n",
       "      <td>False</td>\n",
       "      <td>False</td>\n",
       "      <td>False</td>\n",
       "      <td>False</td>\n",
       "      <td>False</td>\n",
       "    </tr>\n",
       "    <tr>\n",
       "      <th>197</th>\n",
       "      <td>False</td>\n",
       "      <td>False</td>\n",
       "      <td>False</td>\n",
       "      <td>False</td>\n",
       "      <td>False</td>\n",
       "    </tr>\n",
       "    <tr>\n",
       "      <th>198</th>\n",
       "      <td>False</td>\n",
       "      <td>False</td>\n",
       "      <td>False</td>\n",
       "      <td>False</td>\n",
       "      <td>False</td>\n",
       "    </tr>\n",
       "    <tr>\n",
       "      <th>199</th>\n",
       "      <td>False</td>\n",
       "      <td>False</td>\n",
       "      <td>False</td>\n",
       "      <td>False</td>\n",
       "      <td>False</td>\n",
       "    </tr>\n",
       "  </tbody>\n",
       "</table>\n",
       "<p>200 rows × 5 columns</p>\n",
       "</div>"
      ],
      "text/plain": [
       "     Sl.No.     TV  radio  newspaper  sales\n",
       "0     False  False  False      False  False\n",
       "1     False  False  False      False  False\n",
       "2     False  False  False      False  False\n",
       "3     False  False  False      False  False\n",
       "4     False  False  False      False  False\n",
       "..      ...    ...    ...        ...    ...\n",
       "195   False  False  False      False  False\n",
       "196   False  False  False      False  False\n",
       "197   False  False  False      False  False\n",
       "198   False  False  False      False  False\n",
       "199   False  False  False      False  False\n",
       "\n",
       "[200 rows x 5 columns]"
      ]
     },
     "execution_count": 3,
     "metadata": {},
     "output_type": "execute_result"
    }
   ],
   "source": [
    "df.isnull()"
   ]
  },
  {
   "cell_type": "code",
   "execution_count": 4,
   "metadata": {},
   "outputs": [
    {
     "data": {
      "text/plain": [
       "Sl.No.       0\n",
       "TV           0\n",
       "radio        0\n",
       "newspaper    0\n",
       "sales        0\n",
       "dtype: int64"
      ]
     },
     "execution_count": 4,
     "metadata": {},
     "output_type": "execute_result"
    }
   ],
   "source": [
    "df.isnull().sum()"
   ]
  },
  {
   "cell_type": "markdown",
   "metadata": {},
   "source": [
    "The dataset does not have any NaN values"
   ]
  },
  {
   "cell_type": "code",
   "execution_count": 5,
   "metadata": {},
   "outputs": [
    {
     "data": {
      "text/plain": [
       "Sl.No.         int64\n",
       "TV           float64\n",
       "radio        float64\n",
       "newspaper    float64\n",
       "sales        float64\n",
       "dtype: object"
      ]
     },
     "execution_count": 5,
     "metadata": {},
     "output_type": "execute_result"
    }
   ],
   "source": [
    "df.dtypes"
   ]
  },
  {
   "cell_type": "markdown",
   "metadata": {},
   "source": [
    "Dataset has all float values."
   ]
  },
  {
   "cell_type": "code",
   "execution_count": 6,
   "metadata": {},
   "outputs": [
    {
     "data": {
      "text/plain": [
       "Sl.No.       0\n",
       "TV           0\n",
       "radio        0\n",
       "newspaper    0\n",
       "sales        0\n",
       "dtype: int64"
      ]
     },
     "execution_count": 6,
     "metadata": {},
     "output_type": "execute_result"
    }
   ],
   "source": [
    "(df.loc[0:]==\" \").sum()"
   ]
  },
  {
   "cell_type": "markdown",
   "metadata": {},
   "source": [
    "Dataset does not have any null values "
   ]
  },
  {
   "cell_type": "code",
   "execution_count": 7,
   "metadata": {},
   "outputs": [
    {
     "data": {
      "text/plain": [
       "Sl.No.       0\n",
       "TV           0\n",
       "radio        1\n",
       "newspaper    0\n",
       "sales        0\n",
       "dtype: int64"
      ]
     },
     "execution_count": 7,
     "metadata": {},
     "output_type": "execute_result"
    }
   ],
   "source": [
    "(df.loc[0:]==0).sum()"
   ]
  },
  {
   "cell_type": "markdown",
   "metadata": {},
   "source": [
    "Dataset has one features (radio) with value=0. Which is possible, when the radio channel had no contribution to sales."
   ]
  },
  {
   "cell_type": "markdown",
   "metadata": {},
   "source": [
    "# EDA"
   ]
  },
  {
   "cell_type": "code",
   "execution_count": 8,
   "metadata": {},
   "outputs": [
    {
     "data": {
      "text/plain": [
       "<AxesSubplot:xlabel='TV'>"
      ]
     },
     "execution_count": 8,
     "metadata": {},
     "output_type": "execute_result"
    },
    {
     "data": {
      "image/png": "[encoded data removed]",
      "text/plain": [
       "<Figure size 576x576 with 1 Axes>"
      ]
     },
     "metadata": {
      "needs_background": "light"
     },
     "output_type": "display_data"
    }
   ],
   "source": [
    "plt.subplots(figsize=(8,8))\n",
    "sns.boxplot(data=df,x=\"TV\")"
   ]
  },
  {
   "cell_type": "markdown",
   "metadata": {},
   "source": [
    "50th percentile (median) for the TV channel = 150 "
   ]
  },
  {
   "cell_type": "code",
   "execution_count": 9,
   "metadata": {},
   "outputs": [
    {
     "data": {
      "text/plain": [
       "<AxesSubplot:xlabel='sales', ylabel='TV'>"
      ]
     },
     "execution_count": 9,
     "metadata": {},
     "output_type": "execute_result"
    },
    {
     "data": {
      "image/png": "[encoded data removed]",
      "text/plain": [
       "<Figure size 432x288 with 1 Axes>"
      ]
     },
     "metadata": {
      "needs_background": "light"
     },
     "output_type": "display_data"
    }
   ],
   "source": [
    "sns.kdeplot(data=df,x=\"sales\",y=\"TV\",levels=5,fill=True)"
   ]
  },
  {
   "cell_type": "markdown",
   "metadata": {},
   "source": [
    "Higher density is noticed with Tv channels between 0-200 units and sales between 5-20 units"
   ]
  },
  {
   "cell_type": "code",
   "execution_count": 10,
   "metadata": {},
   "outputs": [
    {
     "data": {
      "text/plain": [
       "<AxesSubplot:xlabel='radio'>"
      ]
     },
     "execution_count": 10,
     "metadata": {},
     "output_type": "execute_result"
    },
    {
     "data": {
      "image/png": "[encoded data removed]",
      "text/plain": [
       "<Figure size 432x288 with 1 Axes>"
      ]
     },
     "metadata": {
      "needs_background": "light"
     },
     "output_type": "display_data"
    }
   ],
   "source": [
    "sns.boxplot(data=df,x=\"radio\")"
   ]
  },
  {
   "cell_type": "markdown",
   "metadata": {},
   "source": [
    "No evident outliers, 50th percentile is between 20-25"
   ]
  },
  {
   "cell_type": "code",
   "execution_count": 11,
   "metadata": {},
   "outputs": [
    {
     "data": {
      "text/plain": [
       "<AxesSubplot:xlabel='newspaper'>"
      ]
     },
     "execution_count": 11,
     "metadata": {},
     "output_type": "execute_result"
    },
    {
     "data": {
      "image/png": "[encoded data removed]",
      "text/plain": [
       "<Figure size 432x288 with 1 Axes>"
      ]
     },
     "metadata": {
      "needs_background": "light"
     },
     "output_type": "display_data"
    }
   ],
   "source": [
    "sns.boxplot(data=df,x=\"newspaper\")"
   ]
  },
  {
   "cell_type": "markdown",
   "metadata": {},
   "source": [
    "Newspaper channel seems to have a few outliers. "
   ]
  },
  {
   "cell_type": "code",
   "execution_count": 12,
   "metadata": {},
   "outputs": [
    {
     "data": {
      "text/plain": [
       "<AxesSubplot:xlabel='TV', ylabel='sales'>"
      ]
     },
     "execution_count": 12,
     "metadata": {},
     "output_type": "execute_result"
    },
    {
     "data": {
      "image/png": "[encoded data removed]",
      "text/plain": [
       "<Figure size 432x288 with 1 Axes>"
      ]
     },
     "metadata": {
      "needs_background": "light"
     },
     "output_type": "display_data"
    }
   ],
   "source": [
    "sns.regplot(data=df,x=\"TV\",y=\"sales\")"
   ]
  },
  {
   "cell_type": "markdown",
   "metadata": {},
   "source": [
    "TV and sales have a linear approach. When the units of the TV channels have increased the sales has also followed.\n",
    "\n",
    "The curve does have a y-intercept. "
   ]
  },
  {
   "cell_type": "code",
   "execution_count": 13,
   "metadata": {},
   "outputs": [
    {
     "data": {
      "text/plain": [
       "<AxesSubplot:xlabel='radio', ylabel='sales'>"
      ]
     },
     "execution_count": 13,
     "metadata": {},
     "output_type": "execute_result"
    },
    {
     "data": {
      "image/png": "[encoded data removed]",
      "text/plain": [
       "<Figure size 432x288 with 1 Axes>"
      ]
     },
     "metadata": {
      "needs_background": "light"
     },
     "output_type": "display_data"
    }
   ],
   "source": [
    "sns.regplot(data=df,x=\"radio\",y=\"sales\")"
   ]
  },
  {
   "cell_type": "markdown",
   "metadata": {},
   "source": [
    "Radio and sales have a linear relationship. When the radio channel had units =0 the sales were close to 10 as the units on the channel increased there is an increase in the overall sales."
   ]
  },
  {
   "cell_type": "code",
   "execution_count": 14,
   "metadata": {},
   "outputs": [
    {
     "data": {
      "text/plain": [
       "<AxesSubplot:xlabel='newspaper', ylabel='sales'>"
      ]
     },
     "execution_count": 14,
     "metadata": {},
     "output_type": "execute_result"
    },
    {
     "data": {
      "image/png": "[encoded data removed]",
      "text/plain": [
       "<Figure size 432x288 with 1 Axes>"
      ]
     },
     "metadata": {
      "needs_background": "light"
     },
     "output_type": "display_data"
    }
   ],
   "source": [
    "sns.regplot(data=df,x=\"newspaper\",y=\"sales\")"
   ]
  },
  {
   "cell_type": "markdown",
   "metadata": {},
   "source": [
    "newspaper and sales also have a linear relationship. \n",
    "\n",
    "Worth noticing is the curve between newspaper and sales have a flatter curve when compaired with the curve between radio and sales. \n",
    "\n",
    "Likewise,the curve between radio and sales is flatter than the curve between TV and sales. "
   ]
  },
  {
   "cell_type": "markdown",
   "metadata": {},
   "source": [
    "Which indicates TV channels to be an effective means to increase sales when compared to radio or newspaper."
   ]
  },
  {
   "cell_type": "code",
   "execution_count": 15,
   "metadata": {},
   "outputs": [],
   "source": [
    "df=df.drop([\"Sl.No.\"],axis=1)"
   ]
  },
  {
   "cell_type": "code",
   "execution_count": 16,
   "metadata": {},
   "outputs": [
    {
     "data": {
      "text/html": [
       "<div>\n",
       "<style scoped>\n",
       "    .dataframe tbody tr th:only-of-type {\n",
       "        vertical-align: middle;\n",
       "    }\n",
       "\n",
       "    .dataframe tbody tr th {\n",
       "        vertical-align: top;\n",
       "    }\n",
       "\n",
       "    .dataframe thead th {\n",
       "        text-align: right;\n",
       "    }\n",
       "</style>\n",
       "<table border=\"1\" class=\"dataframe\">\n",
       "  <thead>\n",
       "    <tr style=\"text-align: right;\">\n",
       "      <th></th>\n",
       "      <th>TV</th>\n",
       "      <th>radio</th>\n",
       "      <th>newspaper</th>\n",
       "      <th>sales</th>\n",
       "    </tr>\n",
       "  </thead>\n",
       "  <tbody>\n",
       "    <tr>\n",
       "      <th>TV</th>\n",
       "      <td>1.000000</td>\n",
       "      <td>0.054809</td>\n",
       "      <td>0.056648</td>\n",
       "      <td>0.782224</td>\n",
       "    </tr>\n",
       "    <tr>\n",
       "      <th>radio</th>\n",
       "      <td>0.054809</td>\n",
       "      <td>1.000000</td>\n",
       "      <td>0.354104</td>\n",
       "      <td>0.576223</td>\n",
       "    </tr>\n",
       "    <tr>\n",
       "      <th>newspaper</th>\n",
       "      <td>0.056648</td>\n",
       "      <td>0.354104</td>\n",
       "      <td>1.000000</td>\n",
       "      <td>0.228299</td>\n",
       "    </tr>\n",
       "    <tr>\n",
       "      <th>sales</th>\n",
       "      <td>0.782224</td>\n",
       "      <td>0.576223</td>\n",
       "      <td>0.228299</td>\n",
       "      <td>1.000000</td>\n",
       "    </tr>\n",
       "  </tbody>\n",
       "</table>\n",
       "</div>"
      ],
      "text/plain": [
       "                 TV     radio  newspaper     sales\n",
       "TV         1.000000  0.054809   0.056648  0.782224\n",
       "radio      0.054809  1.000000   0.354104  0.576223\n",
       "newspaper  0.056648  0.354104   1.000000  0.228299\n",
       "sales      0.782224  0.576223   0.228299  1.000000"
      ]
     },
     "execution_count": 16,
     "metadata": {},
     "output_type": "execute_result"
    }
   ],
   "source": [
    "df.corr()"
   ]
  },
  {
   "cell_type": "code",
   "execution_count": 17,
   "metadata": {},
   "outputs": [
    {
     "data": {
      "text/plain": [
       "<AxesSubplot:>"
      ]
     },
     "execution_count": 17,
     "metadata": {},
     "output_type": "execute_result"
    },
    {
     "data": {
      "image/png": "[encoded data removed]",
      "text/plain": [
       "<Figure size 432x288 with 2 Axes>"
      ]
     },
     "metadata": {
      "needs_background": "light"
     },
     "output_type": "display_data"
    }
   ],
   "source": [
    "sns.heatmap(df.corr(),annot=True)"
   ]
  },
  {
   "cell_type": "markdown",
   "metadata": {},
   "source": [
    "1. All features are positively correlated with sales. \n",
    "\n",
    "\n",
    "2. No multi-colinearity. \n",
    "\n",
    "\n",
    "3. TV has the highest correlation with sales (0.78). \n",
    "\n",
    "\n",
    "4. Newspaper has the least correlation (0.23)."
   ]
  },
  {
   "cell_type": "code",
   "execution_count": 18,
   "metadata": {},
   "outputs": [
    {
     "name": "stdout",
     "output_type": "stream",
     "text": [
      "<class 'pandas.core.frame.DataFrame'>\n",
      "RangeIndex: 200 entries, 0 to 199\n",
      "Data columns (total 4 columns):\n",
      " #   Column     Non-Null Count  Dtype  \n",
      "---  ------     --------------  -----  \n",
      " 0   TV         200 non-null    float64\n",
      " 1   radio      200 non-null    float64\n",
      " 2   newspaper  200 non-null    float64\n",
      " 3   sales      200 non-null    float64\n",
      "dtypes: float64(4)\n",
      "memory usage: 6.4 KB\n"
     ]
    }
   ],
   "source": [
    "df.info()"
   ]
  },
  {
   "cell_type": "markdown",
   "metadata": {},
   "source": [
    "No null values and features are float"
   ]
  },
  {
   "cell_type": "code",
   "execution_count": 19,
   "metadata": {},
   "outputs": [
    {
     "data": {
      "text/html": [
       "<div>\n",
       "<style scoped>\n",
       "    .dataframe tbody tr th:only-of-type {\n",
       "        vertical-align: middle;\n",
       "    }\n",
       "\n",
       "    .dataframe tbody tr th {\n",
       "        vertical-align: top;\n",
       "    }\n",
       "\n",
       "    .dataframe thead th {\n",
       "        text-align: right;\n",
       "    }\n",
       "</style>\n",
       "<table border=\"1\" class=\"dataframe\">\n",
       "  <thead>\n",
       "    <tr style=\"text-align: right;\">\n",
       "      <th></th>\n",
       "      <th>TV</th>\n",
       "      <th>radio</th>\n",
       "      <th>newspaper</th>\n",
       "      <th>sales</th>\n",
       "    </tr>\n",
       "  </thead>\n",
       "  <tbody>\n",
       "    <tr>\n",
       "      <th>count</th>\n",
       "      <td>200.000000</td>\n",
       "      <td>200.000000</td>\n",
       "      <td>200.000000</td>\n",
       "      <td>200.000000</td>\n",
       "    </tr>\n",
       "    <tr>\n",
       "      <th>mean</th>\n",
       "      <td>147.042500</td>\n",
       "      <td>23.264000</td>\n",
       "      <td>30.554000</td>\n",
       "      <td>14.022500</td>\n",
       "    </tr>\n",
       "    <tr>\n",
       "      <th>std</th>\n",
       "      <td>85.854236</td>\n",
       "      <td>14.846809</td>\n",
       "      <td>21.778621</td>\n",
       "      <td>5.217457</td>\n",
       "    </tr>\n",
       "    <tr>\n",
       "      <th>min</th>\n",
       "      <td>0.700000</td>\n",
       "      <td>0.000000</td>\n",
       "      <td>0.300000</td>\n",
       "      <td>1.600000</td>\n",
       "    </tr>\n",
       "    <tr>\n",
       "      <th>25%</th>\n",
       "      <td>74.375000</td>\n",
       "      <td>9.975000</td>\n",
       "      <td>12.750000</td>\n",
       "      <td>10.375000</td>\n",
       "    </tr>\n",
       "    <tr>\n",
       "      <th>50%</th>\n",
       "      <td>149.750000</td>\n",
       "      <td>22.900000</td>\n",
       "      <td>25.750000</td>\n",
       "      <td>12.900000</td>\n",
       "    </tr>\n",
       "    <tr>\n",
       "      <th>75%</th>\n",
       "      <td>218.825000</td>\n",
       "      <td>36.525000</td>\n",
       "      <td>45.100000</td>\n",
       "      <td>17.400000</td>\n",
       "    </tr>\n",
       "    <tr>\n",
       "      <th>max</th>\n",
       "      <td>296.400000</td>\n",
       "      <td>49.600000</td>\n",
       "      <td>114.000000</td>\n",
       "      <td>27.000000</td>\n",
       "    </tr>\n",
       "  </tbody>\n",
       "</table>\n",
       "</div>"
      ],
      "text/plain": [
       "               TV       radio   newspaper       sales\n",
       "count  200.000000  200.000000  200.000000  200.000000\n",
       "mean   147.042500   23.264000   30.554000   14.022500\n",
       "std     85.854236   14.846809   21.778621    5.217457\n",
       "min      0.700000    0.000000    0.300000    1.600000\n",
       "25%     74.375000    9.975000   12.750000   10.375000\n",
       "50%    149.750000   22.900000   25.750000   12.900000\n",
       "75%    218.825000   36.525000   45.100000   17.400000\n",
       "max    296.400000   49.600000  114.000000   27.000000"
      ]
     },
     "execution_count": 19,
     "metadata": {},
     "output_type": "execute_result"
    }
   ],
   "source": [
    "df.describe()"
   ]
  },
  {
   "cell_type": "markdown",
   "metadata": {},
   "source": [
    "# Checking for outliers and skewness"
   ]
  },
  {
   "cell_type": "code",
   "execution_count": 20,
   "metadata": {},
   "outputs": [
    {
     "data": {
      "image/png": "[encoded data removed]",
      "text/plain": [
       "<Figure size 1080x3240 with 4 Axes>"
      ]
     },
     "metadata": {
      "needs_background": "light"
     },
     "output_type": "display_data"
    }
   ],
   "source": [
    "collist=df.columns.values\n",
    "ncol=15 #no.of columns and rows to display the graphs i.e max col and max row\n",
    "nrows=10\n",
    "plt.figure(figsize=(ncol,3*ncol))\n",
    "for i in range (0, len(collist)):\n",
    "    plt.subplot(nrows,ncol,i+1)\n",
    "    sns.boxplot(y=df[collist[i]],color=\"blue\",orient=\"v\")\n",
    "    plt.tight_layout()"
   ]
  },
  {
   "cell_type": "markdown",
   "metadata": {},
   "source": [
    "Observations:\n",
    "    \n",
    "Newspaper has outliers. "
   ]
  },
  {
   "cell_type": "code",
   "execution_count": 21,
   "metadata": {},
   "outputs": [
    {
     "data": {
      "text/plain": [
       "TV          -0.069853\n",
       "radio        0.094175\n",
       "newspaper    0.894720\n",
       "sales        0.407571\n",
       "dtype: float64"
      ]
     },
     "execution_count": 21,
     "metadata": {},
     "output_type": "execute_result"
    }
   ],
   "source": [
    "df.skew()"
   ]
  },
  {
   "cell_type": "markdown",
   "metadata": {},
   "source": [
    "Observation:\n",
    "    \n",
    "newspaper has skewness over 0.5."
   ]
  },
  {
   "cell_type": "code",
   "execution_count": 22,
   "metadata": {},
   "outputs": [
    {
     "data": {
      "text/plain": [
       "<AxesSubplot:xlabel='newspaper', ylabel='Density'>"
      ]
     },
     "execution_count": 22,
     "metadata": {},
     "output_type": "execute_result"
    },
    {
     "data": {
      "image/png": "[encoded data removed]",
      "text/plain": [
       "<Figure size 432x288 with 1 Axes>"
      ]
     },
     "metadata": {
      "needs_background": "light"
     },
     "output_type": "display_data"
    }
   ],
   "source": [
    "sns.kdeplot(data=df,x=\"newspaper\")"
   ]
  },
  {
   "cell_type": "code",
   "execution_count": 23,
   "metadata": {},
   "outputs": [
    {
     "data": {
      "text/plain": [
       "<AxesSubplot:xlabel='TV', ylabel='Density'>"
      ]
     },
     "execution_count": 23,
     "metadata": {},
     "output_type": "execute_result"
    },
    {
     "data": {
      "image/png": "[encoded data removed]",
      "text/plain": [
       "<Figure size 432x288 with 1 Axes>"
      ]
     },
     "metadata": {
      "needs_background": "light"
     },
     "output_type": "display_data"
    }
   ],
   "source": [
    "sns.kdeplot(data=df,x=\"TV\")"
   ]
  },
  {
   "cell_type": "code",
   "execution_count": 24,
   "metadata": {},
   "outputs": [
    {
     "data": {
      "text/plain": [
       "<AxesSubplot:xlabel='radio', ylabel='Density'>"
      ]
     },
     "execution_count": 24,
     "metadata": {},
     "output_type": "execute_result"
    },
    {
     "data": {
      "image/png": "[encoded data removed]",
      "text/plain": [
       "<Figure size 432x288 with 1 Axes>"
      ]
     },
     "metadata": {
      "needs_background": "light"
     },
     "output_type": "display_data"
    }
   ],
   "source": [
    "sns.kdeplot(data=df,x=\"radio\")"
   ]
  },
  {
   "cell_type": "code",
   "execution_count": 25,
   "metadata": {},
   "outputs": [
    {
     "data": {
      "text/plain": [
       "<AxesSubplot:xlabel='sales', ylabel='Density'>"
      ]
     },
     "execution_count": 25,
     "metadata": {},
     "output_type": "execute_result"
    },
    {
     "data": {
      "image/png": "[encoded data removed]",
      "text/plain": [
       "<Figure size 432x288 with 1 Axes>"
      ]
     },
     "metadata": {
      "needs_background": "light"
     },
     "output_type": "display_data"
    }
   ],
   "source": [
    "sns.kdeplot(data=df,x=\"sales\")"
   ]
  },
  {
   "cell_type": "markdown",
   "metadata": {},
   "source": [
    "Features do not show a normally distributed curve. "
   ]
  },
  {
   "cell_type": "markdown",
   "metadata": {},
   "source": [
    "# Data Cleaning "
   ]
  },
  {
   "cell_type": "code",
   "execution_count": 26,
   "metadata": {},
   "outputs": [],
   "source": [
    "import scipy \n",
    "from scipy.stats import zscore"
   ]
  },
  {
   "cell_type": "code",
   "execution_count": 27,
   "metadata": {},
   "outputs": [
    {
     "data": {
      "text/plain": [
       "(200, 4)"
      ]
     },
     "execution_count": 27,
     "metadata": {},
     "output_type": "execute_result"
    }
   ],
   "source": [
    "z=np.abs(zscore(df)) \n",
    "z.shape"
   ]
  },
  {
   "cell_type": "code",
   "execution_count": 28,
   "metadata": {},
   "outputs": [
    {
     "name": "stdout",
     "output_type": "stream",
     "text": [
      "(200, 4)\n",
      "(198, 4)\n"
     ]
    }
   ],
   "source": [
    "threshold=3  #removing outliers \n",
    "df_new=df[(z<3).all(axis=1)]\n",
    "print(df.shape)\n",
    "print(df_new.shape)"
   ]
  },
  {
   "cell_type": "code",
   "execution_count": 29,
   "metadata": {},
   "outputs": [
    {
     "data": {
      "text/plain": [
       "1.0"
      ]
     },
     "execution_count": 29,
     "metadata": {},
     "output_type": "execute_result"
    }
   ],
   "source": [
    "#dataloss\n",
    "loss=(200-198)/200*100\n",
    "loss"
   ]
  },
  {
   "cell_type": "markdown",
   "metadata": {},
   "source": [
    "Since the dataloss is less than 10% we can proceed."
   ]
  },
  {
   "cell_type": "code",
   "execution_count": 30,
   "metadata": {},
   "outputs": [],
   "source": [
    "x=df_new.iloc[:,0:-1]\n",
    "y=df_new.iloc[:,-1]"
   ]
  },
  {
   "cell_type": "code",
   "execution_count": 31,
   "metadata": {},
   "outputs": [],
   "source": [
    "#removing skewness\n",
    "\n",
    "from sklearn.preprocessing import power_transform \n",
    "x=power_transform(x,method=\"yeo-johnson\")"
   ]
  },
  {
   "cell_type": "code",
   "execution_count": 32,
   "metadata": {},
   "outputs": [
    {
     "data": {
      "text/plain": [
       "0   -0.320682\n",
       "1   -0.236668\n",
       "2   -0.101288\n",
       "dtype: float64"
      ]
     },
     "execution_count": 32,
     "metadata": {},
     "output_type": "execute_result"
    }
   ],
   "source": [
    "x_df=pd.DataFrame(data=x)\n",
    "x_df.skew()"
   ]
  },
  {
   "cell_type": "markdown",
   "metadata": {},
   "source": [
    "All features have skewness between -0.5 - 0.5"
   ]
  },
  {
   "cell_type": "markdown",
   "metadata": {},
   "source": [
    "# Preprocessing"
   ]
  },
  {
   "cell_type": "code",
   "execution_count": 33,
   "metadata": {},
   "outputs": [],
   "source": [
    "import sklearn\n",
    "from sklearn.preprocessing import StandardScaler "
   ]
  },
  {
   "cell_type": "code",
   "execution_count": 34,
   "metadata": {},
   "outputs": [],
   "source": [
    "ss=StandardScaler()\n",
    "x=ss.fit_transform(x)"
   ]
  },
  {
   "cell_type": "markdown",
   "metadata": {},
   "source": [
    "# Linear Regression "
   ]
  },
  {
   "cell_type": "code",
   "execution_count": 35,
   "metadata": {},
   "outputs": [],
   "source": [
    "from sklearn.linear_model import LinearRegression \n",
    "from sklearn.metrics import r2_score \n",
    "from sklearn.model_selection import train_test_split "
   ]
  },
  {
   "cell_type": "code",
   "execution_count": 36,
   "metadata": {},
   "outputs": [],
   "source": [
    "x_train,x_test,y_train,y_test=train_test_split(x,y,random_state=42,test_size=0.2)"
   ]
  },
  {
   "cell_type": "code",
   "execution_count": 37,
   "metadata": {},
   "outputs": [
    {
     "name": "stdout",
     "output_type": "stream",
     "text": [
      "Accuracy_train= 0.8904804356502445 At random_state = 0\n",
      "Accuracy_test= 0.8995517052176802 At random_state = 0\n",
      "\n",
      "\n",
      "Accuracy_train= 0.8981453316965802 At random_state = 1\n",
      "Accuracy_test= 0.8945848152555803 At random_state = 1\n",
      "\n",
      "\n",
      "Accuracy_train= 0.9065645892224968 At random_state = 2\n",
      "Accuracy_test= 0.8449269806363064 At random_state = 2\n",
      "\n",
      "\n",
      "Accuracy_train= 0.8936441876631787 At random_state = 3\n",
      "Accuracy_test= 0.9040425441959381 At random_state = 3\n",
      "\n",
      "\n",
      "Accuracy_train= 0.8986974112685383 At random_state = 4\n",
      "Accuracy_test= 0.8769945124740702 At random_state = 4\n",
      "\n",
      "\n",
      "Accuracy_train= 0.894344773014199 At random_state = 5\n",
      "Accuracy_test= 0.8817747196879593 At random_state = 5\n",
      "\n",
      "\n",
      "Accuracy_train= 0.8976645054572484 At random_state = 6\n",
      "Accuracy_test= 0.8437881484495258 At random_state = 6\n",
      "\n",
      "\n",
      "Accuracy_train= 0.8930836046305419 At random_state = 7\n",
      "Accuracy_test= 0.8980924110849856 At random_state = 7\n",
      "\n",
      "\n",
      "Accuracy_train= 0.8993605579515119 At random_state = 8\n",
      "Accuracy_test= 0.8255028722519442 At random_state = 8\n",
      "\n",
      "\n",
      "Accuracy_train= 0.8917945360163543 At random_state = 9\n",
      "Accuracy_test= 0.9147812318725834 At random_state = 9\n",
      "\n",
      "\n",
      "Accuracy_train= 0.9197124661556632 At random_state = 10\n",
      "Accuracy_test= 0.8045852082550012 At random_state = 10\n",
      "\n",
      "\n",
      "Accuracy_train= 0.8833513050093357 At random_state = 11\n",
      "Accuracy_test= 0.9180062531433069 At random_state = 11\n",
      "\n",
      "\n",
      "Accuracy_train= 0.8929350706243357 At random_state = 12\n",
      "Accuracy_test= 0.8931116740251541 At random_state = 12\n",
      "\n",
      "\n",
      "Accuracy_train= 0.9054036340264329 At random_state = 13\n",
      "Accuracy_test= 0.8480809559016812 At random_state = 13\n",
      "\n",
      "\n",
      "Accuracy_train= 0.8876859662326756 At random_state = 14\n",
      "Accuracy_test= 0.8911966476327389 At random_state = 14\n",
      "\n",
      "\n",
      "Accuracy_train= 0.8916445051905807 At random_state = 15\n",
      "Accuracy_test= 0.901226186923783 At random_state = 15\n",
      "\n",
      "\n",
      "Accuracy_train= 0.8909405720707337 At random_state = 16\n",
      "Accuracy_test= 0.8901263417334624 At random_state = 16\n",
      "\n",
      "\n",
      "Accuracy_train= 0.8952614281526394 At random_state = 17\n",
      "Accuracy_test= 0.9053282119379268 At random_state = 17\n",
      "\n",
      "\n",
      "Accuracy_train= 0.908231865384619 At random_state = 18\n",
      "Accuracy_test= 0.8006969573959999 At random_state = 18\n",
      "\n",
      "\n",
      "Accuracy_train= 0.9009731707156038 At random_state = 19\n",
      "Accuracy_test= 0.8953854203100258 At random_state = 19\n",
      "\n",
      "\n",
      "Accuracy_train= 0.8857583984898063 At random_state = 20\n",
      "Accuracy_test= 0.9058016005832233 At random_state = 20\n",
      "\n",
      "\n",
      "Accuracy_train= 0.8856581222424853 At random_state = 21\n",
      "Accuracy_test= 0.9193605572896885 At random_state = 21\n",
      "\n",
      "\n",
      "Accuracy_train= 0.8890499428772836 At random_state = 22\n",
      "Accuracy_test= 0.925461871372768 At random_state = 22\n",
      "\n",
      "\n",
      "Accuracy_train= 0.8867438915739387 At random_state = 23\n",
      "Accuracy_test= 0.9209459012484857 At random_state = 23\n",
      "\n",
      "\n",
      "Accuracy_train= 0.882541496759185 At random_state = 24\n",
      "Accuracy_test= 0.9407711588301383 At random_state = 24\n",
      "\n",
      "\n",
      "Accuracy_train= 0.8847271264409303 At random_state = 25\n",
      "Accuracy_test= 0.9223717378529545 At random_state = 25\n",
      "\n",
      "\n",
      "Accuracy_train= 0.9031804149944761 At random_state = 26\n",
      "Accuracy_test= 0.8642118524434452 At random_state = 26\n",
      "\n",
      "\n",
      "Accuracy_train= 0.9078876412453512 At random_state = 27\n",
      "Accuracy_test= 0.842150026410549 At random_state = 27\n",
      "\n",
      "\n",
      "Accuracy_train= 0.9123403401799414 At random_state = 28\n",
      "Accuracy_test= 0.8423021757530675 At random_state = 28\n",
      "\n",
      "\n",
      "Accuracy_train= 0.9071197462916922 At random_state = 29\n",
      "Accuracy_test= 0.8506974345434806 At random_state = 29\n",
      "\n",
      "\n",
      "Accuracy_train= 0.9119957035619602 At random_state = 30\n",
      "Accuracy_test= 0.830748540499624 At random_state = 30\n",
      "\n",
      "\n",
      "Accuracy_train= 0.8819236741998429 At random_state = 31\n",
      "Accuracy_test= 0.9197569874703805 At random_state = 31\n",
      "\n",
      "\n",
      "Accuracy_train= 0.8869616183257434 At random_state = 32\n",
      "Accuracy_test= 0.920180767369758 At random_state = 32\n",
      "\n",
      "\n",
      "Accuracy_train= 0.8978239145006094 At random_state = 33\n",
      "Accuracy_test= 0.9059093270160964 At random_state = 33\n",
      "\n",
      "\n",
      "Accuracy_train= 0.8981261339579191 At random_state = 34\n",
      "Accuracy_test= 0.9006356321299639 At random_state = 34\n",
      "\n",
      "\n",
      "Accuracy_train= 0.885783375458279 At random_state = 35\n",
      "Accuracy_test= 0.9305509504115664 At random_state = 35\n",
      "\n",
      "\n",
      "Accuracy_train= 0.8916653490054823 At random_state = 36\n",
      "Accuracy_test= 0.9131162232980745 At random_state = 36\n",
      "\n",
      "\n",
      "Accuracy_train= 0.8919256749829311 At random_state = 37\n",
      "Accuracy_test= 0.9159730642913833 At random_state = 37\n",
      "\n",
      "\n",
      "Accuracy_train= 0.8914679727913206 At random_state = 38\n",
      "Accuracy_test= 0.9034186718318088 At random_state = 38\n",
      "\n",
      "\n",
      "Accuracy_train= 0.9007086507187517 At random_state = 39\n",
      "Accuracy_test= 0.8411390055460172 At random_state = 39\n",
      "\n",
      "\n",
      "Accuracy_train= 0.8969820639732716 At random_state = 40\n",
      "Accuracy_test= 0.899962382882722 At random_state = 40\n",
      "\n",
      "\n",
      "Accuracy_train= 0.8992269597042825 At random_state = 41\n",
      "Accuracy_test= 0.8319615548537915 At random_state = 41\n",
      "\n",
      "\n",
      "Accuracy_train= 0.8946364752167006 At random_state = 42\n",
      "Accuracy_test= 0.8799304807739079 At random_state = 42\n",
      "\n",
      "\n",
      "Accuracy_train= 0.8965942369272419 At random_state = 43\n",
      "Accuracy_test= 0.8733963292086921 At random_state = 43\n",
      "\n",
      "\n",
      "Accuracy_train= 0.8975758902443036 At random_state = 44\n",
      "Accuracy_test= 0.8818603360191595 At random_state = 44\n",
      "\n",
      "\n",
      "Accuracy_train= 0.8938850908555245 At random_state = 45\n",
      "Accuracy_test= 0.9078608260116156 At random_state = 45\n",
      "\n",
      "\n",
      "Accuracy_train= 0.8996912134850177 At random_state = 46\n",
      "Accuracy_test= 0.8873986146925001 At random_state = 46\n",
      "\n",
      "\n",
      "Accuracy_train= 0.8933278032575869 At random_state = 47\n",
      "Accuracy_test= 0.9097485460029979 At random_state = 47\n",
      "\n",
      "\n",
      "Accuracy_train= 0.9016424761135958 At random_state = 48\n",
      "Accuracy_test= 0.867502425676769 At random_state = 48\n",
      "\n",
      "\n",
      "Accuracy_train= 0.9063744090502818 At random_state = 49\n",
      "Accuracy_test= 0.8500479771199189 At random_state = 49\n",
      "\n",
      "\n",
      "Accuracy_train= 0.901649371361632 At random_state = 50\n",
      "Accuracy_test= 0.8721363945524068 At random_state = 50\n",
      "\n",
      "\n",
      "Accuracy_train= 0.8935901073616259 At random_state = 51\n",
      "Accuracy_test= 0.8932422184284206 At random_state = 51\n",
      "\n",
      "\n",
      "Accuracy_train= 0.8955340499430682 At random_state = 52\n",
      "Accuracy_test= 0.910978107446268 At random_state = 52\n",
      "\n",
      "\n",
      "Accuracy_train= 0.9023649573949133 At random_state = 53\n",
      "Accuracy_test= 0.8604506934374689 At random_state = 53\n",
      "\n",
      "\n",
      "Accuracy_train= 0.8996376000622224 At random_state = 54\n",
      "Accuracy_test= 0.88375833602546 At random_state = 54\n",
      "\n",
      "\n",
      "Accuracy_train= 0.8937975725484033 At random_state = 55\n",
      "Accuracy_test= 0.875805033854049 At random_state = 55\n",
      "\n",
      "\n",
      "Accuracy_train= 0.8997130927131691 At random_state = 56\n",
      "Accuracy_test= 0.8308421024120108 At random_state = 56\n",
      "\n",
      "\n",
      "Accuracy_train= 0.9035884781865793 At random_state = 57\n",
      "Accuracy_test= 0.8702797110404725 At random_state = 57\n",
      "\n",
      "\n",
      "Accuracy_train= 0.8859869240406573 At random_state = 58\n",
      "Accuracy_test= 0.9129487123775764 At random_state = 58\n",
      "\n",
      "\n",
      "Accuracy_train= 0.8926240697798693 At random_state = 59\n",
      "Accuracy_test= 0.8870388520776425 At random_state = 59\n",
      "\n",
      "\n",
      "Accuracy_train= 0.8962598417725791 At random_state = 60\n",
      "Accuracy_test= 0.8739057721462985 At random_state = 60\n",
      "\n",
      "\n",
      "Accuracy_train= 0.9040706686672748 At random_state = 61\n",
      "Accuracy_test= 0.8517467211649883 At random_state = 61\n",
      "\n",
      "\n",
      "Accuracy_train= 0.9005186092311684 At random_state = 62\n",
      "Accuracy_test= 0.8652348070572011 At random_state = 62\n",
      "\n",
      "\n",
      "Accuracy_train= 0.8959856787850787 At random_state = 63\n",
      "Accuracy_test= 0.8981412300172621 At random_state = 63\n",
      "\n",
      "\n",
      "Accuracy_train= 0.8894780641018156 At random_state = 64\n",
      "Accuracy_test= 0.917880017361505 At random_state = 64\n",
      "\n",
      "\n",
      "Accuracy_train= 0.9025039573416065 At random_state = 65\n",
      "Accuracy_test= 0.8711539863552646 At random_state = 65\n",
      "\n",
      "\n",
      "Accuracy_train= 0.9020223445980913 At random_state = 66\n",
      "Accuracy_test= 0.8816821345826555 At random_state = 66\n",
      "\n",
      "\n",
      "Accuracy_train= 0.88690361893703 At random_state = 67\n",
      "Accuracy_test= 0.9117440335650587 At random_state = 67\n",
      "\n",
      "\n",
      "Accuracy_train= 0.9019518694426027 At random_state = 68\n",
      "Accuracy_test= 0.8607335907120108 At random_state = 68\n",
      "\n",
      "\n",
      "Accuracy_train= 0.8957821341361418 At random_state = 69\n",
      "Accuracy_test= 0.9064277808562959 At random_state = 69\n",
      "\n",
      "\n",
      "Accuracy_train= 0.8867631782392861 At random_state = 70\n",
      "Accuracy_test= 0.8950359233895121 At random_state = 70\n",
      "\n",
      "\n",
      "Accuracy_train= 0.9034653720337725 At random_state = 71\n",
      "Accuracy_test= 0.8584771005381496 At random_state = 71\n",
      "\n",
      "\n",
      "Accuracy_train= 0.8949076882641069 At random_state = 72\n",
      "Accuracy_test= 0.9085815571653576 At random_state = 72\n",
      "\n",
      "\n",
      "Accuracy_train= 0.8958562478984217 At random_state = 73\n",
      "Accuracy_test= 0.8873163755621346 At random_state = 73\n",
      "\n",
      "\n",
      "Accuracy_train= 0.8750141547482635 At random_state = 74\n",
      "Accuracy_test= 0.8991545004657381 At random_state = 74\n",
      "\n",
      "\n",
      "Accuracy_train= 0.8975109211662959 At random_state = 75\n",
      "Accuracy_test= 0.8618612387133806 At random_state = 75\n",
      "\n",
      "\n",
      "Accuracy_train= 0.9017756819970171 At random_state = 76\n",
      "Accuracy_test= 0.8585727248330828 At random_state = 76\n",
      "\n",
      "\n",
      "Accuracy_train= 0.8896199393820942 At random_state = 77\n",
      "Accuracy_test= 0.926775503429173 At random_state = 77\n",
      "\n",
      "\n",
      "Accuracy_train= 0.9065231699318843 At random_state = 78\n",
      "Accuracy_test= 0.8067724986283131 At random_state = 78\n",
      "\n",
      "\n",
      "Accuracy_train= 0.8930988238982137 At random_state = 79\n",
      "Accuracy_test= 0.8731740686257916 At random_state = 79\n",
      "\n",
      "\n",
      "Accuracy_train= 0.8918962839647344 At random_state = 80\n",
      "Accuracy_test= 0.9159030799963931 At random_state = 80\n",
      "\n",
      "\n",
      "Accuracy_train= 0.8899095021326036 At random_state = 81\n",
      "Accuracy_test= 0.9172801047265156 At random_state = 81\n",
      "\n",
      "\n",
      "Accuracy_train= 0.9127154892377266 At random_state = 82\n",
      "Accuracy_test= 0.8518283317915205 At random_state = 82\n",
      "\n",
      "\n",
      "Accuracy_train= 0.9019286347830051 At random_state = 83\n",
      "Accuracy_test= 0.857604699777108 At random_state = 83\n",
      "\n",
      "\n",
      "Accuracy_train= 0.8882625396695742 At random_state = 84\n",
      "Accuracy_test= 0.9086450470769725 At random_state = 84\n",
      "\n",
      "\n",
      "Accuracy_train= 0.9067591839466256 At random_state = 85\n",
      "Accuracy_test= 0.832316350032291 At random_state = 85\n",
      "\n",
      "\n",
      "Accuracy_train= 0.8948997241000428 At random_state = 86\n",
      "Accuracy_test= 0.907891978732163 At random_state = 86\n",
      "\n",
      "\n",
      "Accuracy_train= 0.9066777499845384 At random_state = 87\n",
      "Accuracy_test= 0.8165726297107168 At random_state = 87\n",
      "\n",
      "\n",
      "Accuracy_train= 0.8931470177979999 At random_state = 88\n",
      "Accuracy_test= 0.889689506948633 At random_state = 88\n",
      "\n",
      "\n",
      "Accuracy_train= 0.9033779449794168 At random_state = 89\n",
      "Accuracy_test= 0.8724723724858972 At random_state = 89\n",
      "\n",
      "\n",
      "Accuracy_train= 0.8784260918401728 At random_state = 90\n",
      "Accuracy_test= 0.9329819243848724 At random_state = 90\n",
      "\n",
      "\n",
      "Accuracy_train= 0.8947381075061221 At random_state = 91\n",
      "Accuracy_test= 0.8745873888663942 At random_state = 91\n",
      "\n",
      "\n",
      "Accuracy_train= 0.8996723564503256 At random_state = 92\n",
      "Accuracy_test= 0.8811261837262951 At random_state = 92\n",
      "\n",
      "\n",
      "Accuracy_train= 0.9073252751540519 At random_state = 93\n",
      "Accuracy_test= 0.8110417241895731 At random_state = 93\n",
      "\n",
      "\n",
      "Accuracy_train= 0.9023624178602488 At random_state = 94\n",
      "Accuracy_test= 0.8529302560997666 At random_state = 94\n",
      "\n",
      "\n",
      "Accuracy_train= 0.9050115258916362 At random_state = 95\n",
      "Accuracy_test= 0.8281070024463318 At random_state = 95\n",
      "\n",
      "\n",
      "Accuracy_train= 0.9026227291033342 At random_state = 96\n",
      "Accuracy_test= 0.8489009485964608 At random_state = 96\n",
      "\n",
      "\n",
      "Accuracy_train= 0.8922525792768241 At random_state = 97\n",
      "Accuracy_test= 0.8898011661224091 At random_state = 97\n",
      "\n",
      "\n",
      "Accuracy_train= 0.9037665379625398 At random_state = 98\n",
      "Accuracy_test= 0.8168594991928058 At random_state = 98\n",
      "\n",
      "\n",
      "Accuracy_train= 0.88313284032424 At random_state = 99\n",
      "Accuracy_test= 0.9110715718278949 At random_state = 99\n",
      "\n",
      "\n"
     ]
    }
   ],
   "source": [
    "lr=LinearRegression()\n",
    "for i in range(0,100):\n",
    "    x_train,x_test,y_train,y_test=train_test_split(x,y,random_state=i,test_size=0.2)\n",
    "    lr.fit(x_train,y_train)\n",
    "    pred_train=lr.predict(x_train)\n",
    "    pred_test=lr.predict(x_test)\n",
    "    r2_train=r2_score(pred_train,y_train)\n",
    "    r2_test=r2_score(pred_test,y_test)\n",
    "    print(\"Accuracy_train=\",r2_train,\"At random_state =\",i)\n",
    "    print(\"Accuracy_test=\",r2_test,\"At random_state =\",i)\n",
    "    print(\"\\n\")"
   ]
  },
  {
   "cell_type": "code",
   "execution_count": 38,
   "metadata": {},
   "outputs": [
    {
     "name": "stdout",
     "output_type": "stream",
     "text": [
      "Accuracy_train= 0.8917945360163543\n",
      "Accuracy_test= 0.9147812318725834\n"
     ]
    }
   ],
   "source": [
    "x_train,x_test,y_train,y_test=train_test_split(x,y,random_state=9,test_size=0.2)\n",
    "lr.fit(x_train,y_train)\n",
    "pred_train=lr.predict(x_train)\n",
    "pred_test=lr.predict(x_test)\n",
    "r2_train=r2_score(pred_train,y_train)\n",
    "r2_test=r2_score(pred_test,y_test)\n",
    "print(\"Accuracy_train=\",r2_train)\n",
    "print(\"Accuracy_test=\",r2_test)"
   ]
  },
  {
   "cell_type": "markdown",
   "metadata": {},
   "source": [
    "# Regularization"
   ]
  },
  {
   "cell_type": "code",
   "execution_count": 39,
   "metadata": {},
   "outputs": [],
   "source": [
    "from sklearn.model_selection import GridSearchCV\n",
    "from sklearn.model_selection import cross_val_score \n",
    "import warnings \n",
    "warnings.filterwarnings(\"ignore\")\n",
    "from sklearn.linear_model import Lasso"
   ]
  },
  {
   "cell_type": "markdown",
   "metadata": {},
   "source": [
    "parameters={\"alpha\":[0.0001,.001,0.1,1,10],\"random_state\":list(range(0,100)),\"max_iter\":list(range(100,200)),\"selection\":[\"cyclic\",\"random\"]}\n",
    "ls=Lasso()\n",
    "clf=GridSearchCV(ls,parameters)\n",
    "clf.fit(x_train,y_train)\n",
    "print(clf.best_params_)"
   ]
  },
  {
   "cell_type": "code",
   "execution_count": 40,
   "metadata": {},
   "outputs": [
    {
     "name": "stdout",
     "output_type": "stream",
     "text": [
      "Test Accuracy =  0.9161428330070626\n",
      "Train Accuracy =  0.901543863700018\n"
     ]
    }
   ],
   "source": [
    "ls=Lasso(alpha=0.1,random_state=90,max_iter=100,selection=\"random\",fit_intercept=True)\n",
    "ls.fit(x_train,y_train)\n",
    "ls.score(x_train,y_train)\n",
    "pred_ls=ls.predict(x_test)\n",
    "pred_train=ls.predict(x_train)\n",
    "lss=r2_score(y_test,pred_ls)\n",
    "lss_train=r2_score(y_train,pred_train)\n",
    "print(\"Test Accuracy = \",lss)\n",
    "print(\"Train Accuracy = \",lss_train)"
   ]
  },
  {
   "cell_type": "code",
   "execution_count": 41,
   "metadata": {},
   "outputs": [
    {
     "name": "stdout",
     "output_type": "stream",
     "text": [
      "Score = 90.14615075512133 at cv = 2\n",
      "Score = 89.7234834599248 at cv = 3\n",
      "Score = 89.80784403656428 at cv = 4\n",
      "Score = 89.5780138287583 at cv = 5\n",
      "Score = 89.8167014580228 at cv = 6\n",
      "Score = 89.46420818070641 at cv = 7\n",
      "Score = 89.8153283579087 at cv = 8\n",
      "Score = 89.37135261966867 at cv = 9\n",
      "Score = 89.55776414957968 at cv = 10\n"
     ]
    }
   ],
   "source": [
    "for i in range(2,11):\n",
    "    lss_cv=cross_val_score(ls,x,y,cv=i)\n",
    "    lssc=lss_cv.mean()\n",
    "    print(\"Score =\",lssc*100,\"at cv =\",i)"
   ]
  },
  {
   "cell_type": "markdown",
   "metadata": {},
   "source": [
    "# Ensembling "
   ]
  },
  {
   "cell_type": "code",
   "execution_count": 49,
   "metadata": {},
   "outputs": [
    {
     "data": {
      "text/plain": [
       "0.9714555964840997"
      ]
     },
     "execution_count": 49,
     "metadata": {},
     "output_type": "execute_result"
    }
   ],
   "source": [
    "ad=AdaBoostRegressor()\n",
    "ad.fit(x_train,y_train)\n",
    "y_ad=ad.predict(x_test)\n",
    "r2_score(y_test,y_ad)"
   ]
  },
  {
   "cell_type": "markdown",
   "metadata": {},
   "source": [
    "# DecisionTreeRegressor"
   ]
  },
  {
   "cell_type": "code",
   "execution_count": 45,
   "metadata": {},
   "outputs": [],
   "source": [
    "from sklearn.tree import DecisionTreeRegressor"
   ]
  },
  {
   "cell_type": "code",
   "execution_count": 46,
   "metadata": {},
   "outputs": [
    {
     "data": {
      "text/plain": [
       "0.967103408306834"
      ]
     },
     "execution_count": 46,
     "metadata": {},
     "output_type": "execute_result"
    }
   ],
   "source": [
    "decisionTreeRegressor = DecisionTreeRegressor()\n",
    "decisionTreeRegressor.fit(x_train,y_train)\n",
    "y_pred = decisionTreeRegressor.predict(x_test)\n",
    "r2_score(y_test,y_pred)"
   ]
  },
  {
   "cell_type": "markdown",
   "metadata": {},
   "source": [
    "# SVR"
   ]
  },
  {
   "cell_type": "code",
   "execution_count": 50,
   "metadata": {},
   "outputs": [],
   "source": [
    "from sklearn.svm import SVR"
   ]
  },
  {
   "cell_type": "code",
   "execution_count": 51,
   "metadata": {},
   "outputs": [
    {
     "data": {
      "text/plain": [
       "0.9563575729164967"
      ]
     },
     "execution_count": 51,
     "metadata": {},
     "output_type": "execute_result"
    }
   ],
   "source": [
    "svr = SVR()\n",
    "svr.fit(x_train,y_train)\n",
    "y_svr = svr.predict(x_test)\n",
    "r2_score(y_test,y_svr)"
   ]
  },
  {
   "cell_type": "markdown",
   "metadata": {},
   "source": [
    "# Cross val score"
   ]
  },
  {
   "cell_type": "markdown",
   "metadata": {},
   "source": [
    "Cross val for AdaBoost"
   ]
  },
  {
   "cell_type": "code",
   "execution_count": 57,
   "metadata": {},
   "outputs": [
    {
     "name": "stdout",
     "output_type": "stream",
     "text": [
      "Score = 95.23927621895058 at cv = 2\n",
      "Score = 95.75992224800824 at cv = 3\n",
      "Score = 95.2235820775071 at cv = 4\n",
      "Score = 95.42954587998685 at cv = 5\n",
      "Score = 95.69575394734794 at cv = 6\n",
      "Score = 95.54388145484847 at cv = 7\n",
      "Score = 95.2868141648898 at cv = 8\n",
      "Score = 95.46788249909726 at cv = 9\n",
      "Score = 95.82814679884362 at cv = 10\n"
     ]
    }
   ],
   "source": [
    "from sklearn.model_selection import cross_val_score \n",
    "for i in range(2,11):\n",
    "    rf_cv=cross_val_score(ad,x,y,cv=i)\n",
    "    rfs=rf_cv.mean()\n",
    "    print(\"Score =\",rfs*100,\"at cv =\",i)"
   ]
  },
  {
   "cell_type": "markdown",
   "metadata": {},
   "source": [
    "Cross val for DecisionTreeRegressor "
   ]
  },
  {
   "cell_type": "code",
   "execution_count": 53,
   "metadata": {},
   "outputs": [
    {
     "name": "stdout",
     "output_type": "stream",
     "text": [
      "Score = 90.71987766191911 at cv = 2\n",
      "Score = 94.84894796498376 at cv = 3\n",
      "Score = 94.15614508682889 at cv = 4\n",
      "Score = 95.04203794456657 at cv = 5\n",
      "Score = 93.95992504482358 at cv = 6\n",
      "Score = 94.83015703968134 at cv = 7\n",
      "Score = 94.25581415881786 at cv = 8\n",
      "Score = 93.97186877515952 at cv = 9\n",
      "Score = 94.97557390779565 at cv = 10\n"
     ]
    }
   ],
   "source": [
    "for i in range(2,11):\n",
    "    rf_cv=cross_val_score(decisionTreeRegressor,x,y,cv=i)\n",
    "    rfs=rf_cv.mean()\n",
    "    print(\"Score =\",rfs*100,\"at cv =\",i)"
   ]
  },
  {
   "cell_type": "markdown",
   "metadata": {},
   "source": [
    "Cross val for SVR"
   ]
  },
  {
   "cell_type": "code",
   "execution_count": 55,
   "metadata": {},
   "outputs": [
    {
     "name": "stdout",
     "output_type": "stream",
     "text": [
      "Score = 86.60284441799949 at cv = 2\n",
      "Score = 89.95351608744402 at cv = 3\n",
      "Score = 91.35257569293861 at cv = 4\n",
      "Score = 92.02978192122427 at cv = 5\n",
      "Score = 92.11852040016363 at cv = 6\n",
      "Score = 92.14852078488843 at cv = 7\n",
      "Score = 92.2282860669734 at cv = 8\n",
      "Score = 92.21330826526528 at cv = 9\n",
      "Score = 92.89180178558316 at cv = 10\n"
     ]
    }
   ],
   "source": [
    "for i in range(2,11):\n",
    "    rf_cv=cross_val_score(svr,x,y,cv=i)\n",
    "    rfs=rf_cv.mean()\n",
    "    print(\"Score =\",rfs*100,\"at cv =\",i)"
   ]
  },
  {
   "cell_type": "code",
   "execution_count": 58,
   "metadata": {},
   "outputs": [
    {
     "name": "stdout",
     "output_type": "stream",
     "text": [
      "CV_Score = 95.71682736903631\n",
      "Accuracy_score = 97.14555964840997\n"
     ]
    }
   ],
   "source": [
    "rf_cv=cross_val_score(ad,x,y,cv=10)\n",
    "rfs=rf_cv.mean()\n",
    "print(\"CV_Score =\",rfs*100)\n",
    "print(\"Accuracy_score =\",r2_score(y_test,y_ad)*100)"
   ]
  },
  {
   "cell_type": "code",
   "execution_count": 59,
   "metadata": {},
   "outputs": [
    {
     "data": {
      "image/png": "[encoded data removed]",
      "text/plain": [
       "<Figure size 576x432 with 1 Axes>"
      ]
     },
     "metadata": {
      "needs_background": "light"
     },
     "output_type": "display_data"
    }
   ],
   "source": [
    "plt.figure(figsize=(8,6))\n",
    "plt.scatter(x=y_test,y=y_ad,color=\"r\")\n",
    "plt.plot(y_test,y_test,color=\"b\")\n",
    "plt.xlabel(\"Actual rings\",fontsize=14)\n",
    "plt.ylabel(\"Predicted rings\",fontsize=14)\n",
    "plt.title(\"Ada boost\",fontsize=18)\n",
    "plt.show()"
   ]
  },
  {
   "cell_type": "markdown",
   "metadata": {},
   "source": [
    "# Model Saving "
   ]
  },
  {
   "cell_type": "code",
   "execution_count": 60,
   "metadata": {},
   "outputs": [],
   "source": [
    "import pickle \n",
    "filename= \"Ad.pkl\"\n",
    "pickle.dump(ad, open(filename,\"wb\"))"
   ]
  },
  {
   "cell_type": "markdown",
   "metadata": {},
   "source": [
    "# Conclusion "
   ]
  },
  {
   "cell_type": "code",
   "execution_count": 61,
   "metadata": {},
   "outputs": [
    {
     "data": {
      "text/html": [
       "<div>\n",
       "<style scoped>\n",
       "    .dataframe tbody tr th:only-of-type {\n",
       "        vertical-align: middle;\n",
       "    }\n",
       "\n",
       "    .dataframe tbody tr th {\n",
       "        vertical-align: top;\n",
       "    }\n",
       "\n",
       "    .dataframe thead th {\n",
       "        text-align: right;\n",
       "    }\n",
       "</style>\n",
       "<table border=\"1\" class=\"dataframe\">\n",
       "  <thead>\n",
       "    <tr style=\"text-align: right;\">\n",
       "      <th></th>\n",
       "      <th>original</th>\n",
       "      <th>predicted</th>\n",
       "    </tr>\n",
       "  </thead>\n",
       "  <tbody>\n",
       "    <tr>\n",
       "      <th>0</th>\n",
       "      <td>12.3</td>\n",
       "      <td>12.266667</td>\n",
       "    </tr>\n",
       "    <tr>\n",
       "      <th>1</th>\n",
       "      <td>16.6</td>\n",
       "      <td>17.000000</td>\n",
       "    </tr>\n",
       "    <tr>\n",
       "      <th>2</th>\n",
       "      <td>15.3</td>\n",
       "      <td>13.535897</td>\n",
       "    </tr>\n",
       "    <tr>\n",
       "      <th>3</th>\n",
       "      <td>9.7</td>\n",
       "      <td>9.736364</td>\n",
       "    </tr>\n",
       "    <tr>\n",
       "      <th>4</th>\n",
       "      <td>14.9</td>\n",
       "      <td>15.572340</td>\n",
       "    </tr>\n",
       "    <tr>\n",
       "      <th>5</th>\n",
       "      <td>10.8</td>\n",
       "      <td>10.550000</td>\n",
       "    </tr>\n",
       "    <tr>\n",
       "      <th>6</th>\n",
       "      <td>11.7</td>\n",
       "      <td>11.954545</td>\n",
       "    </tr>\n",
       "    <tr>\n",
       "      <th>7</th>\n",
       "      <td>7.3</td>\n",
       "      <td>8.555556</td>\n",
       "    </tr>\n",
       "    <tr>\n",
       "      <th>8</th>\n",
       "      <td>12.6</td>\n",
       "      <td>13.425000</td>\n",
       "    </tr>\n",
       "    <tr>\n",
       "      <th>9</th>\n",
       "      <td>10.1</td>\n",
       "      <td>10.727778</td>\n",
       "    </tr>\n",
       "    <tr>\n",
       "      <th>10</th>\n",
       "      <td>6.7</td>\n",
       "      <td>7.875000</td>\n",
       "    </tr>\n",
       "    <tr>\n",
       "      <th>11</th>\n",
       "      <td>19.8</td>\n",
       "      <td>18.781250</td>\n",
       "    </tr>\n",
       "    <tr>\n",
       "      <th>12</th>\n",
       "      <td>5.9</td>\n",
       "      <td>7.785714</td>\n",
       "    </tr>\n",
       "    <tr>\n",
       "      <th>13</th>\n",
       "      <td>15.9</td>\n",
       "      <td>15.331250</td>\n",
       "    </tr>\n",
       "    <tr>\n",
       "      <th>14</th>\n",
       "      <td>19.7</td>\n",
       "      <td>19.535714</td>\n",
       "    </tr>\n",
       "    <tr>\n",
       "      <th>15</th>\n",
       "      <td>9.6</td>\n",
       "      <td>10.620588</td>\n",
       "    </tr>\n",
       "    <tr>\n",
       "      <th>16</th>\n",
       "      <td>11.9</td>\n",
       "      <td>13.405882</td>\n",
       "    </tr>\n",
       "    <tr>\n",
       "      <th>17</th>\n",
       "      <td>10.9</td>\n",
       "      <td>11.409091</td>\n",
       "    </tr>\n",
       "    <tr>\n",
       "      <th>18</th>\n",
       "      <td>8.8</td>\n",
       "      <td>9.050000</td>\n",
       "    </tr>\n",
       "    <tr>\n",
       "      <th>19</th>\n",
       "      <td>10.5</td>\n",
       "      <td>11.778947</td>\n",
       "    </tr>\n",
       "    <tr>\n",
       "      <th>20</th>\n",
       "      <td>25.4</td>\n",
       "      <td>23.621212</td>\n",
       "    </tr>\n",
       "    <tr>\n",
       "      <th>21</th>\n",
       "      <td>11.3</td>\n",
       "      <td>11.396552</td>\n",
       "    </tr>\n",
       "    <tr>\n",
       "      <th>22</th>\n",
       "      <td>25.5</td>\n",
       "      <td>25.106667</td>\n",
       "    </tr>\n",
       "    <tr>\n",
       "      <th>23</th>\n",
       "      <td>18.9</td>\n",
       "      <td>18.781250</td>\n",
       "    </tr>\n",
       "    <tr>\n",
       "      <th>24</th>\n",
       "      <td>17.0</td>\n",
       "      <td>17.555769</td>\n",
       "    </tr>\n",
       "    <tr>\n",
       "      <th>25</th>\n",
       "      <td>12.5</td>\n",
       "      <td>12.266667</td>\n",
       "    </tr>\n",
       "    <tr>\n",
       "      <th>26</th>\n",
       "      <td>12.2</td>\n",
       "      <td>12.266667</td>\n",
       "    </tr>\n",
       "    <tr>\n",
       "      <th>27</th>\n",
       "      <td>17.3</td>\n",
       "      <td>17.416667</td>\n",
       "    </tr>\n",
       "    <tr>\n",
       "      <th>28</th>\n",
       "      <td>17.4</td>\n",
       "      <td>15.458824</td>\n",
       "    </tr>\n",
       "    <tr>\n",
       "      <th>29</th>\n",
       "      <td>8.0</td>\n",
       "      <td>8.300000</td>\n",
       "    </tr>\n",
       "    <tr>\n",
       "      <th>30</th>\n",
       "      <td>15.9</td>\n",
       "      <td>15.092308</td>\n",
       "    </tr>\n",
       "    <tr>\n",
       "      <th>31</th>\n",
       "      <td>22.3</td>\n",
       "      <td>22.443478</td>\n",
       "    </tr>\n",
       "    <tr>\n",
       "      <th>32</th>\n",
       "      <td>21.5</td>\n",
       "      <td>22.196667</td>\n",
       "    </tr>\n",
       "    <tr>\n",
       "      <th>33</th>\n",
       "      <td>9.7</td>\n",
       "      <td>10.620588</td>\n",
       "    </tr>\n",
       "    <tr>\n",
       "      <th>34</th>\n",
       "      <td>22.6</td>\n",
       "      <td>22.280357</td>\n",
       "    </tr>\n",
       "    <tr>\n",
       "      <th>35</th>\n",
       "      <td>15.0</td>\n",
       "      <td>14.541538</td>\n",
       "    </tr>\n",
       "    <tr>\n",
       "      <th>36</th>\n",
       "      <td>9.7</td>\n",
       "      <td>9.712500</td>\n",
       "    </tr>\n",
       "    <tr>\n",
       "      <th>37</th>\n",
       "      <td>10.6</td>\n",
       "      <td>10.696552</td>\n",
       "    </tr>\n",
       "    <tr>\n",
       "      <th>38</th>\n",
       "      <td>5.6</td>\n",
       "      <td>6.900000</td>\n",
       "    </tr>\n",
       "    <tr>\n",
       "      <th>39</th>\n",
       "      <td>10.5</td>\n",
       "      <td>11.396552</td>\n",
       "    </tr>\n",
       "  </tbody>\n",
       "</table>\n",
       "</div>"
      ],
      "text/plain": [
       "    original  predicted\n",
       "0       12.3  12.266667\n",
       "1       16.6  17.000000\n",
       "2       15.3  13.535897\n",
       "3        9.7   9.736364\n",
       "4       14.9  15.572340\n",
       "5       10.8  10.550000\n",
       "6       11.7  11.954545\n",
       "7        7.3   8.555556\n",
       "8       12.6  13.425000\n",
       "9       10.1  10.727778\n",
       "10       6.7   7.875000\n",
       "11      19.8  18.781250\n",
       "12       5.9   7.785714\n",
       "13      15.9  15.331250\n",
       "14      19.7  19.535714\n",
       "15       9.6  10.620588\n",
       "16      11.9  13.405882\n",
       "17      10.9  11.409091\n",
       "18       8.8   9.050000\n",
       "19      10.5  11.778947\n",
       "20      25.4  23.621212\n",
       "21      11.3  11.396552\n",
       "22      25.5  25.106667\n",
       "23      18.9  18.781250\n",
       "24      17.0  17.555769\n",
       "25      12.5  12.266667\n",
       "26      12.2  12.266667\n",
       "27      17.3  17.416667\n",
       "28      17.4  15.458824\n",
       "29       8.0   8.300000\n",
       "30      15.9  15.092308\n",
       "31      22.3  22.443478\n",
       "32      21.5  22.196667\n",
       "33       9.7  10.620588\n",
       "34      22.6  22.280357\n",
       "35      15.0  14.541538\n",
       "36       9.7   9.712500\n",
       "37      10.6  10.696552\n",
       "38       5.6   6.900000\n",
       "39      10.5  11.396552"
      ]
     },
     "execution_count": 61,
     "metadata": {},
     "output_type": "execute_result"
    }
   ],
   "source": [
    "a=np.array(y_test)\n",
    "predicted = np.array(ad.predict(x_test))\n",
    "df_com=pd.DataFrame({\"original\":a,\"predicted\":predicted}, index=range(len(a)))\n",
    "df_com"
   ]
  },
  {
   "cell_type": "code",
   "execution_count": null,
   "metadata": {},
   "outputs": [],
   "source": []
  }
 ],
 "metadata": {
  "kernelspec": {
   "display_name": "Python 3",
   "language": "python",
   "name": "python3"
  },
  "language_info": {
   "codemirror_mode": {
    "name": "ipython",
    "version": 3
   },
   "file_extension": ".py",
   "mimetype": "text/x-python",
   "name": "python",
   "nbconvert_exporter": "python",
   "pygments_lexer": "ipython3",
   "version": "3.8.5"
  }
 },
 "nbformat": 4,
 "nbformat_minor": 4
}
