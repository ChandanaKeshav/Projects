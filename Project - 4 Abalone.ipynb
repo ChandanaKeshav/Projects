{
 "cells": [
  {
   "cell_type": "code",
   "execution_count": 1,
   "metadata": {},
   "outputs": [],
   "source": [
    "import pandas as pd \n",
    "import numpy as np \n",
    "import matplotlib.pyplot as plt \n",
    "import seaborn as sns "
   ]
  },
  {
   "cell_type": "code",
   "execution_count": 2,
   "metadata": {},
   "outputs": [
    {
     "data": {
      "text/html": [
       "<div>\n",
       "<style scoped>\n",
       "    .dataframe tbody tr th:only-of-type {\n",
       "        vertical-align: middle;\n",
       "    }\n",
       "\n",
       "    .dataframe tbody tr th {\n",
       "        vertical-align: top;\n",
       "    }\n",
       "\n",
       "    .dataframe thead th {\n",
       "        text-align: right;\n",
       "    }\n",
       "</style>\n",
       "<table border=\"1\" class=\"dataframe\">\n",
       "  <thead>\n",
       "    <tr style=\"text-align: right;\">\n",
       "      <th></th>\n",
       "      <th>sex</th>\n",
       "      <th>length</th>\n",
       "      <th>dia</th>\n",
       "      <th>height</th>\n",
       "      <th>whole weight</th>\n",
       "      <th>shucked weight</th>\n",
       "      <th>viscera weight</th>\n",
       "      <th>shell weight</th>\n",
       "      <th>rings</th>\n",
       "    </tr>\n",
       "  </thead>\n",
       "  <tbody>\n",
       "    <tr>\n",
       "      <th>0</th>\n",
       "      <td>M</td>\n",
       "      <td>0.455</td>\n",
       "      <td>0.365</td>\n",
       "      <td>0.095</td>\n",
       "      <td>0.5140</td>\n",
       "      <td>0.2245</td>\n",
       "      <td>0.1010</td>\n",
       "      <td>0.150</td>\n",
       "      <td>15</td>\n",
       "    </tr>\n",
       "    <tr>\n",
       "      <th>1</th>\n",
       "      <td>M</td>\n",
       "      <td>0.350</td>\n",
       "      <td>0.265</td>\n",
       "      <td>0.090</td>\n",
       "      <td>0.2255</td>\n",
       "      <td>0.0995</td>\n",
       "      <td>0.0485</td>\n",
       "      <td>0.070</td>\n",
       "      <td>7</td>\n",
       "    </tr>\n",
       "    <tr>\n",
       "      <th>2</th>\n",
       "      <td>F</td>\n",
       "      <td>0.530</td>\n",
       "      <td>0.420</td>\n",
       "      <td>0.135</td>\n",
       "      <td>0.6770</td>\n",
       "      <td>0.2565</td>\n",
       "      <td>0.1415</td>\n",
       "      <td>0.210</td>\n",
       "      <td>9</td>\n",
       "    </tr>\n",
       "    <tr>\n",
       "      <th>3</th>\n",
       "      <td>M</td>\n",
       "      <td>0.440</td>\n",
       "      <td>0.365</td>\n",
       "      <td>0.125</td>\n",
       "      <td>0.5160</td>\n",
       "      <td>0.2155</td>\n",
       "      <td>0.1140</td>\n",
       "      <td>0.155</td>\n",
       "      <td>10</td>\n",
       "    </tr>\n",
       "    <tr>\n",
       "      <th>4</th>\n",
       "      <td>I</td>\n",
       "      <td>0.330</td>\n",
       "      <td>0.255</td>\n",
       "      <td>0.080</td>\n",
       "      <td>0.2050</td>\n",
       "      <td>0.0895</td>\n",
       "      <td>0.0395</td>\n",
       "      <td>0.055</td>\n",
       "      <td>7</td>\n",
       "    </tr>\n",
       "    <tr>\n",
       "      <th>5</th>\n",
       "      <td>I</td>\n",
       "      <td>0.425</td>\n",
       "      <td>0.300</td>\n",
       "      <td>0.095</td>\n",
       "      <td>0.3515</td>\n",
       "      <td>0.1410</td>\n",
       "      <td>0.0775</td>\n",
       "      <td>0.120</td>\n",
       "      <td>8</td>\n",
       "    </tr>\n",
       "    <tr>\n",
       "      <th>6</th>\n",
       "      <td>F</td>\n",
       "      <td>0.530</td>\n",
       "      <td>0.415</td>\n",
       "      <td>0.150</td>\n",
       "      <td>0.7775</td>\n",
       "      <td>0.2370</td>\n",
       "      <td>0.1415</td>\n",
       "      <td>0.330</td>\n",
       "      <td>20</td>\n",
       "    </tr>\n",
       "    <tr>\n",
       "      <th>7</th>\n",
       "      <td>F</td>\n",
       "      <td>0.545</td>\n",
       "      <td>0.425</td>\n",
       "      <td>0.125</td>\n",
       "      <td>0.7680</td>\n",
       "      <td>0.2940</td>\n",
       "      <td>0.1495</td>\n",
       "      <td>0.260</td>\n",
       "      <td>16</td>\n",
       "    </tr>\n",
       "    <tr>\n",
       "      <th>8</th>\n",
       "      <td>M</td>\n",
       "      <td>0.475</td>\n",
       "      <td>0.370</td>\n",
       "      <td>0.125</td>\n",
       "      <td>0.5095</td>\n",
       "      <td>0.2165</td>\n",
       "      <td>0.1125</td>\n",
       "      <td>0.165</td>\n",
       "      <td>9</td>\n",
       "    </tr>\n",
       "    <tr>\n",
       "      <th>9</th>\n",
       "      <td>F</td>\n",
       "      <td>0.550</td>\n",
       "      <td>0.440</td>\n",
       "      <td>0.150</td>\n",
       "      <td>0.8945</td>\n",
       "      <td>0.3145</td>\n",
       "      <td>0.1510</td>\n",
       "      <td>0.320</td>\n",
       "      <td>19</td>\n",
       "    </tr>\n",
       "    <tr>\n",
       "      <th>10</th>\n",
       "      <td>F</td>\n",
       "      <td>0.525</td>\n",
       "      <td>0.380</td>\n",
       "      <td>0.140</td>\n",
       "      <td>0.6065</td>\n",
       "      <td>0.1940</td>\n",
       "      <td>0.1475</td>\n",
       "      <td>0.210</td>\n",
       "      <td>14</td>\n",
       "    </tr>\n",
       "    <tr>\n",
       "      <th>11</th>\n",
       "      <td>M</td>\n",
       "      <td>0.430</td>\n",
       "      <td>0.350</td>\n",
       "      <td>0.110</td>\n",
       "      <td>0.4060</td>\n",
       "      <td>0.1675</td>\n",
       "      <td>0.0810</td>\n",
       "      <td>0.135</td>\n",
       "      <td>10</td>\n",
       "    </tr>\n",
       "    <tr>\n",
       "      <th>12</th>\n",
       "      <td>M</td>\n",
       "      <td>0.490</td>\n",
       "      <td>0.380</td>\n",
       "      <td>0.135</td>\n",
       "      <td>0.5415</td>\n",
       "      <td>0.2175</td>\n",
       "      <td>0.0950</td>\n",
       "      <td>0.190</td>\n",
       "      <td>11</td>\n",
       "    </tr>\n",
       "    <tr>\n",
       "      <th>13</th>\n",
       "      <td>F</td>\n",
       "      <td>0.535</td>\n",
       "      <td>0.405</td>\n",
       "      <td>0.145</td>\n",
       "      <td>0.6845</td>\n",
       "      <td>0.2725</td>\n",
       "      <td>0.1710</td>\n",
       "      <td>0.205</td>\n",
       "      <td>10</td>\n",
       "    </tr>\n",
       "    <tr>\n",
       "      <th>14</th>\n",
       "      <td>F</td>\n",
       "      <td>0.470</td>\n",
       "      <td>0.355</td>\n",
       "      <td>0.100</td>\n",
       "      <td>0.4755</td>\n",
       "      <td>0.1675</td>\n",
       "      <td>0.0805</td>\n",
       "      <td>0.185</td>\n",
       "      <td>10</td>\n",
       "    </tr>\n",
       "    <tr>\n",
       "      <th>15</th>\n",
       "      <td>M</td>\n",
       "      <td>0.500</td>\n",
       "      <td>0.400</td>\n",
       "      <td>0.130</td>\n",
       "      <td>0.6645</td>\n",
       "      <td>0.2580</td>\n",
       "      <td>0.1330</td>\n",
       "      <td>0.240</td>\n",
       "      <td>12</td>\n",
       "    </tr>\n",
       "    <tr>\n",
       "      <th>16</th>\n",
       "      <td>I</td>\n",
       "      <td>0.355</td>\n",
       "      <td>0.280</td>\n",
       "      <td>0.085</td>\n",
       "      <td>0.2905</td>\n",
       "      <td>0.0950</td>\n",
       "      <td>0.0395</td>\n",
       "      <td>0.115</td>\n",
       "      <td>7</td>\n",
       "    </tr>\n",
       "    <tr>\n",
       "      <th>17</th>\n",
       "      <td>F</td>\n",
       "      <td>0.440</td>\n",
       "      <td>0.340</td>\n",
       "      <td>0.100</td>\n",
       "      <td>0.4510</td>\n",
       "      <td>0.1880</td>\n",
       "      <td>0.0870</td>\n",
       "      <td>0.130</td>\n",
       "      <td>10</td>\n",
       "    </tr>\n",
       "    <tr>\n",
       "      <th>18</th>\n",
       "      <td>M</td>\n",
       "      <td>0.365</td>\n",
       "      <td>0.295</td>\n",
       "      <td>0.080</td>\n",
       "      <td>0.2555</td>\n",
       "      <td>0.0970</td>\n",
       "      <td>0.0430</td>\n",
       "      <td>0.100</td>\n",
       "      <td>7</td>\n",
       "    </tr>\n",
       "    <tr>\n",
       "      <th>19</th>\n",
       "      <td>M</td>\n",
       "      <td>0.450</td>\n",
       "      <td>0.320</td>\n",
       "      <td>0.100</td>\n",
       "      <td>0.3810</td>\n",
       "      <td>0.1705</td>\n",
       "      <td>0.0750</td>\n",
       "      <td>0.115</td>\n",
       "      <td>9</td>\n",
       "    </tr>\n",
       "    <tr>\n",
       "      <th>20</th>\n",
       "      <td>M</td>\n",
       "      <td>0.355</td>\n",
       "      <td>0.280</td>\n",
       "      <td>0.095</td>\n",
       "      <td>0.2455</td>\n",
       "      <td>0.0955</td>\n",
       "      <td>0.0620</td>\n",
       "      <td>0.075</td>\n",
       "      <td>11</td>\n",
       "    </tr>\n",
       "    <tr>\n",
       "      <th>21</th>\n",
       "      <td>I</td>\n",
       "      <td>0.380</td>\n",
       "      <td>0.275</td>\n",
       "      <td>0.100</td>\n",
       "      <td>0.2255</td>\n",
       "      <td>0.0800</td>\n",
       "      <td>0.0490</td>\n",
       "      <td>0.085</td>\n",
       "      <td>10</td>\n",
       "    </tr>\n",
       "    <tr>\n",
       "      <th>22</th>\n",
       "      <td>F</td>\n",
       "      <td>0.565</td>\n",
       "      <td>0.440</td>\n",
       "      <td>0.155</td>\n",
       "      <td>0.9395</td>\n",
       "      <td>0.4275</td>\n",
       "      <td>0.2140</td>\n",
       "      <td>0.270</td>\n",
       "      <td>12</td>\n",
       "    </tr>\n",
       "    <tr>\n",
       "      <th>23</th>\n",
       "      <td>F</td>\n",
       "      <td>0.550</td>\n",
       "      <td>0.415</td>\n",
       "      <td>0.135</td>\n",
       "      <td>0.7635</td>\n",
       "      <td>0.3180</td>\n",
       "      <td>0.2100</td>\n",
       "      <td>0.200</td>\n",
       "      <td>9</td>\n",
       "    </tr>\n",
       "    <tr>\n",
       "      <th>24</th>\n",
       "      <td>F</td>\n",
       "      <td>0.615</td>\n",
       "      <td>0.480</td>\n",
       "      <td>0.165</td>\n",
       "      <td>1.1615</td>\n",
       "      <td>0.5130</td>\n",
       "      <td>0.3010</td>\n",
       "      <td>0.305</td>\n",
       "      <td>10</td>\n",
       "    </tr>\n",
       "  </tbody>\n",
       "</table>\n",
       "</div>"
      ],
      "text/plain": [
       "   sex  length    dia  height  whole weight  shucked weight  viscera weight  \\\n",
       "0    M   0.455  0.365   0.095        0.5140          0.2245          0.1010   \n",
       "1    M   0.350  0.265   0.090        0.2255          0.0995          0.0485   \n",
       "2    F   0.530  0.420   0.135        0.6770          0.2565          0.1415   \n",
       "3    M   0.440  0.365   0.125        0.5160          0.2155          0.1140   \n",
       "4    I   0.330  0.255   0.080        0.2050          0.0895          0.0395   \n",
       "5    I   0.425  0.300   0.095        0.3515          0.1410          0.0775   \n",
       "6    F   0.530  0.415   0.150        0.7775          0.2370          0.1415   \n",
       "7    F   0.545  0.425   0.125        0.7680          0.2940          0.1495   \n",
       "8    M   0.475  0.370   0.125        0.5095          0.2165          0.1125   \n",
       "9    F   0.550  0.440   0.150        0.8945          0.3145          0.1510   \n",
       "10   F   0.525  0.380   0.140        0.6065          0.1940          0.1475   \n",
       "11   M   0.430  0.350   0.110        0.4060          0.1675          0.0810   \n",
       "12   M   0.490  0.380   0.135        0.5415          0.2175          0.0950   \n",
       "13   F   0.535  0.405   0.145        0.6845          0.2725          0.1710   \n",
       "14   F   0.470  0.355   0.100        0.4755          0.1675          0.0805   \n",
       "15   M   0.500  0.400   0.130        0.6645          0.2580          0.1330   \n",
       "16   I   0.355  0.280   0.085        0.2905          0.0950          0.0395   \n",
       "17   F   0.440  0.340   0.100        0.4510          0.1880          0.0870   \n",
       "18   M   0.365  0.295   0.080        0.2555          0.0970          0.0430   \n",
       "19   M   0.450  0.320   0.100        0.3810          0.1705          0.0750   \n",
       "20   M   0.355  0.280   0.095        0.2455          0.0955          0.0620   \n",
       "21   I   0.380  0.275   0.100        0.2255          0.0800          0.0490   \n",
       "22   F   0.565  0.440   0.155        0.9395          0.4275          0.2140   \n",
       "23   F   0.550  0.415   0.135        0.7635          0.3180          0.2100   \n",
       "24   F   0.615  0.480   0.165        1.1615          0.5130          0.3010   \n",
       "\n",
       "    shell weight  rings  \n",
       "0          0.150     15  \n",
       "1          0.070      7  \n",
       "2          0.210      9  \n",
       "3          0.155     10  \n",
       "4          0.055      7  \n",
       "5          0.120      8  \n",
       "6          0.330     20  \n",
       "7          0.260     16  \n",
       "8          0.165      9  \n",
       "9          0.320     19  \n",
       "10         0.210     14  \n",
       "11         0.135     10  \n",
       "12         0.190     11  \n",
       "13         0.205     10  \n",
       "14         0.185     10  \n",
       "15         0.240     12  \n",
       "16         0.115      7  \n",
       "17         0.130     10  \n",
       "18         0.100      7  \n",
       "19         0.115      9  \n",
       "20         0.075     11  \n",
       "21         0.085     10  \n",
       "22         0.270     12  \n",
       "23         0.200      9  \n",
       "24         0.305     10  "
      ]
     },
     "execution_count": 2,
     "metadata": {},
     "output_type": "execute_result"
    }
   ],
   "source": [
    "df=pd.read_csv(\"abalone.csv\")\n",
    "df.iloc[0:25]"
   ]
  },
  {
   "cell_type": "code",
   "execution_count": 3,
   "metadata": {},
   "outputs": [
    {
     "data": {
      "text/plain": [
       "M    1528\n",
       "I    1342\n",
       "F    1307\n",
       "Name: sex, dtype: int64"
      ]
     },
     "execution_count": 3,
     "metadata": {},
     "output_type": "execute_result"
    }
   ],
   "source": [
    "df[\"sex\"].value_counts()"
   ]
  },
  {
   "cell_type": "code",
   "execution_count": 4,
   "metadata": {},
   "outputs": [
    {
     "data": {
      "text/html": [
       "<div>\n",
       "<style scoped>\n",
       "    .dataframe tbody tr th:only-of-type {\n",
       "        vertical-align: middle;\n",
       "    }\n",
       "\n",
       "    .dataframe tbody tr th {\n",
       "        vertical-align: top;\n",
       "    }\n",
       "\n",
       "    .dataframe thead th {\n",
       "        text-align: right;\n",
       "    }\n",
       "</style>\n",
       "<table border=\"1\" class=\"dataframe\">\n",
       "  <thead>\n",
       "    <tr style=\"text-align: right;\">\n",
       "      <th></th>\n",
       "      <th>sex</th>\n",
       "      <th>length</th>\n",
       "      <th>dia</th>\n",
       "      <th>height</th>\n",
       "      <th>whole weight</th>\n",
       "      <th>shucked weight</th>\n",
       "      <th>viscera weight</th>\n",
       "      <th>shell weight</th>\n",
       "      <th>rings</th>\n",
       "    </tr>\n",
       "  </thead>\n",
       "  <tbody>\n",
       "    <tr>\n",
       "      <th>0</th>\n",
       "      <td>False</td>\n",
       "      <td>False</td>\n",
       "      <td>False</td>\n",
       "      <td>False</td>\n",
       "      <td>False</td>\n",
       "      <td>False</td>\n",
       "      <td>False</td>\n",
       "      <td>False</td>\n",
       "      <td>False</td>\n",
       "    </tr>\n",
       "    <tr>\n",
       "      <th>1</th>\n",
       "      <td>False</td>\n",
       "      <td>False</td>\n",
       "      <td>False</td>\n",
       "      <td>False</td>\n",
       "      <td>False</td>\n",
       "      <td>False</td>\n",
       "      <td>False</td>\n",
       "      <td>False</td>\n",
       "      <td>False</td>\n",
       "    </tr>\n",
       "    <tr>\n",
       "      <th>2</th>\n",
       "      <td>False</td>\n",
       "      <td>False</td>\n",
       "      <td>False</td>\n",
       "      <td>False</td>\n",
       "      <td>False</td>\n",
       "      <td>False</td>\n",
       "      <td>False</td>\n",
       "      <td>False</td>\n",
       "      <td>False</td>\n",
       "    </tr>\n",
       "    <tr>\n",
       "      <th>3</th>\n",
       "      <td>False</td>\n",
       "      <td>False</td>\n",
       "      <td>False</td>\n",
       "      <td>False</td>\n",
       "      <td>False</td>\n",
       "      <td>False</td>\n",
       "      <td>False</td>\n",
       "      <td>False</td>\n",
       "      <td>False</td>\n",
       "    </tr>\n",
       "    <tr>\n",
       "      <th>4</th>\n",
       "      <td>False</td>\n",
       "      <td>False</td>\n",
       "      <td>False</td>\n",
       "      <td>False</td>\n",
       "      <td>False</td>\n",
       "      <td>False</td>\n",
       "      <td>False</td>\n",
       "      <td>False</td>\n",
       "      <td>False</td>\n",
       "    </tr>\n",
       "    <tr>\n",
       "      <th>...</th>\n",
       "      <td>...</td>\n",
       "      <td>...</td>\n",
       "      <td>...</td>\n",
       "      <td>...</td>\n",
       "      <td>...</td>\n",
       "      <td>...</td>\n",
       "      <td>...</td>\n",
       "      <td>...</td>\n",
       "      <td>...</td>\n",
       "    </tr>\n",
       "    <tr>\n",
       "      <th>4172</th>\n",
       "      <td>False</td>\n",
       "      <td>False</td>\n",
       "      <td>False</td>\n",
       "      <td>False</td>\n",
       "      <td>False</td>\n",
       "      <td>False</td>\n",
       "      <td>False</td>\n",
       "      <td>False</td>\n",
       "      <td>False</td>\n",
       "    </tr>\n",
       "    <tr>\n",
       "      <th>4173</th>\n",
       "      <td>False</td>\n",
       "      <td>False</td>\n",
       "      <td>False</td>\n",
       "      <td>False</td>\n",
       "      <td>False</td>\n",
       "      <td>False</td>\n",
       "      <td>False</td>\n",
       "      <td>False</td>\n",
       "      <td>False</td>\n",
       "    </tr>\n",
       "    <tr>\n",
       "      <th>4174</th>\n",
       "      <td>False</td>\n",
       "      <td>False</td>\n",
       "      <td>False</td>\n",
       "      <td>False</td>\n",
       "      <td>False</td>\n",
       "      <td>False</td>\n",
       "      <td>False</td>\n",
       "      <td>False</td>\n",
       "      <td>False</td>\n",
       "    </tr>\n",
       "    <tr>\n",
       "      <th>4175</th>\n",
       "      <td>False</td>\n",
       "      <td>False</td>\n",
       "      <td>False</td>\n",
       "      <td>False</td>\n",
       "      <td>False</td>\n",
       "      <td>False</td>\n",
       "      <td>False</td>\n",
       "      <td>False</td>\n",
       "      <td>False</td>\n",
       "    </tr>\n",
       "    <tr>\n",
       "      <th>4176</th>\n",
       "      <td>False</td>\n",
       "      <td>False</td>\n",
       "      <td>False</td>\n",
       "      <td>False</td>\n",
       "      <td>False</td>\n",
       "      <td>False</td>\n",
       "      <td>False</td>\n",
       "      <td>False</td>\n",
       "      <td>False</td>\n",
       "    </tr>\n",
       "  </tbody>\n",
       "</table>\n",
       "<p>4177 rows × 9 columns</p>\n",
       "</div>"
      ],
      "text/plain": [
       "        sex  length    dia  height  whole weight  shucked weight  \\\n",
       "0     False   False  False   False         False           False   \n",
       "1     False   False  False   False         False           False   \n",
       "2     False   False  False   False         False           False   \n",
       "3     False   False  False   False         False           False   \n",
       "4     False   False  False   False         False           False   \n",
       "...     ...     ...    ...     ...           ...             ...   \n",
       "4172  False   False  False   False         False           False   \n",
       "4173  False   False  False   False         False           False   \n",
       "4174  False   False  False   False         False           False   \n",
       "4175  False   False  False   False         False           False   \n",
       "4176  False   False  False   False         False           False   \n",
       "\n",
       "      viscera weight  shell weight  rings  \n",
       "0              False         False  False  \n",
       "1              False         False  False  \n",
       "2              False         False  False  \n",
       "3              False         False  False  \n",
       "4              False         False  False  \n",
       "...              ...           ...    ...  \n",
       "4172           False         False  False  \n",
       "4173           False         False  False  \n",
       "4174           False         False  False  \n",
       "4175           False         False  False  \n",
       "4176           False         False  False  \n",
       "\n",
       "[4177 rows x 9 columns]"
      ]
     },
     "execution_count": 4,
     "metadata": {},
     "output_type": "execute_result"
    }
   ],
   "source": [
    "df.isnull()"
   ]
  },
  {
   "cell_type": "code",
   "execution_count": 5,
   "metadata": {},
   "outputs": [
    {
     "data": {
      "text/plain": [
       "sex               0\n",
       "length            0\n",
       "dia               0\n",
       "height            0\n",
       "whole weight      0\n",
       "shucked weight    0\n",
       "viscera weight    0\n",
       "shell weight      0\n",
       "rings             0\n",
       "dtype: int64"
      ]
     },
     "execution_count": 5,
     "metadata": {},
     "output_type": "execute_result"
    }
   ],
   "source": [
    "df.isnull().sum()"
   ]
  },
  {
   "cell_type": "code",
   "execution_count": 6,
   "metadata": {},
   "outputs": [
    {
     "data": {
      "text/plain": [
       "<AxesSubplot:>"
      ]
     },
     "execution_count": 6,
     "metadata": {},
     "output_type": "execute_result"
    },
    {
     "data": {
      "image/png": "[encoded data removed]",
      "text/plain": [
       "<Figure size 432x288 with 2 Axes>"
      ]
     },
     "metadata": {
      "needs_background": "light"
     },
     "output_type": "display_data"
    }
   ],
   "source": [
    "sns.heatmap(df.isnull())"
   ]
  },
  {
   "cell_type": "markdown",
   "metadata": {},
   "source": [
    "No NaN values present in the dataset "
   ]
  },
  {
   "cell_type": "markdown",
   "metadata": {},
   "source": [
    "# EDA"
   ]
  },
  {
   "cell_type": "code",
   "execution_count": 7,
   "metadata": {},
   "outputs": [
    {
     "data": {
      "text/plain": [
       "<AxesSubplot:xlabel='sex', ylabel='count'>"
      ]
     },
     "execution_count": 7,
     "metadata": {},
     "output_type": "execute_result"
    },
    {
     "data": {
      "image/png": "[encoded data removed]",
      "text/plain": [
       "<Figure size 432x288 with 1 Axes>"
      ]
     },
     "metadata": {
      "needs_background": "light"
     },
     "output_type": "display_data"
    }
   ],
   "source": [
    "sns.countplot(x=\"sex\",data=df)"
   ]
  },
  {
   "cell_type": "code",
   "execution_count": 8,
   "metadata": {},
   "outputs": [
    {
     "data": {
      "text/plain": [
       "<AxesSubplot:xlabel='height'>"
      ]
     },
     "execution_count": 8,
     "metadata": {},
     "output_type": "execute_result"
    },
    {
     "data": {
      "image/png": "[encoded data removed]",
      "text/plain": [
       "<Figure size 432x288 with 1 Axes>"
      ]
     },
     "metadata": {
      "needs_background": "light"
     },
     "output_type": "display_data"
    }
   ],
   "source": [
    "sns.stripplot(x=\"height\",data=df)"
   ]
  },
  {
   "cell_type": "code",
   "execution_count": 9,
   "metadata": {},
   "outputs": [
    {
     "data": {
      "text/plain": [
       "<AxesSubplot:xlabel='length'>"
      ]
     },
     "execution_count": 9,
     "metadata": {},
     "output_type": "execute_result"
    },
    {
     "data": {
      "image/png": "[encoded data removed]",
      "text/plain": [
       "<Figure size 432x288 with 1 Axes>"
      ]
     },
     "metadata": {
      "needs_background": "light"
     },
     "output_type": "display_data"
    }
   ],
   "source": [
    "sns.stripplot(x=\"length\",data=df)"
   ]
  },
  {
   "cell_type": "code",
   "execution_count": 10,
   "metadata": {},
   "outputs": [
    {
     "data": {
      "text/plain": [
       "<AxesSubplot:xlabel='dia'>"
      ]
     },
     "execution_count": 10,
     "metadata": {},
     "output_type": "execute_result"
    },
    {
     "data": {
      "image/png": "[encoded data removed]",
      "text/plain": [
       "<Figure size 432x288 with 1 Axes>"
      ]
     },
     "metadata": {
      "needs_background": "light"
     },
     "output_type": "display_data"
    }
   ],
   "source": [
    "sns.stripplot(x=\"dia\",data=df)"
   ]
  },
  {
   "cell_type": "code",
   "execution_count": 11,
   "metadata": {},
   "outputs": [
    {
     "data": {
      "text/plain": [
       "<AxesSubplot:xlabel='whole weight'>"
      ]
     },
     "execution_count": 11,
     "metadata": {},
     "output_type": "execute_result"
    },
    {
     "data": {
      "image/png": "[encoded data removed]",
      "text/plain": [
       "<Figure size 432x288 with 1 Axes>"
      ]
     },
     "metadata": {
      "needs_background": "light"
     },
     "output_type": "display_data"
    }
   ],
   "source": [
    "sns.stripplot(x=\"whole weight\",data=df)"
   ]
  },
  {
   "cell_type": "code",
   "execution_count": 12,
   "metadata": {},
   "outputs": [
    {
     "data": {
      "text/plain": [
       "<AxesSubplot:xlabel='shucked weight'>"
      ]
     },
     "execution_count": 12,
     "metadata": {},
     "output_type": "execute_result"
    },
    {
     "data": {
      "image/png": "[encoded data removed]",
      "text/plain": [
       "<Figure size 432x288 with 1 Axes>"
      ]
     },
     "metadata": {
      "needs_background": "light"
     },
     "output_type": "display_data"
    }
   ],
   "source": [
    "sns.stripplot(x=\"shucked weight\",data=df)"
   ]
  },
  {
   "cell_type": "code",
   "execution_count": 13,
   "metadata": {},
   "outputs": [
    {
     "data": {
      "text/plain": [
       "<AxesSubplot:xlabel='viscera weight'>"
      ]
     },
     "execution_count": 13,
     "metadata": {},
     "output_type": "execute_result"
    },
    {
     "data": {
      "image/png": "[encoded data removed]",
      "text/plain": [
       "<Figure size 432x288 with 1 Axes>"
      ]
     },
     "metadata": {
      "needs_background": "light"
     },
     "output_type": "display_data"
    }
   ],
   "source": [
    "sns.stripplot(x=\"viscera weight\",data=df)"
   ]
  },
  {
   "cell_type": "code",
   "execution_count": 14,
   "metadata": {},
   "outputs": [
    {
     "data": {
      "text/plain": [
       "<AxesSubplot:xlabel='shell weight'>"
      ]
     },
     "execution_count": 14,
     "metadata": {},
     "output_type": "execute_result"
    },
    {
     "data": {
      "image/png": "[encoded data removed]",
      "text/plain": [
       "<Figure size 432x288 with 1 Axes>"
      ]
     },
     "metadata": {
      "needs_background": "light"
     },
     "output_type": "display_data"
    }
   ],
   "source": [
    "sns.stripplot(x=\"shell weight\",data=df)"
   ]
  },
  {
   "cell_type": "markdown",
   "metadata": {},
   "source": [
    "lets check for any missing data"
   ]
  },
  {
   "cell_type": "code",
   "execution_count": 15,
   "metadata": {},
   "outputs": [
    {
     "data": {
      "text/html": [
       "<div>\n",
       "<style scoped>\n",
       "    .dataframe tbody tr th:only-of-type {\n",
       "        vertical-align: middle;\n",
       "    }\n",
       "\n",
       "    .dataframe tbody tr th {\n",
       "        vertical-align: top;\n",
       "    }\n",
       "\n",
       "    .dataframe thead th {\n",
       "        text-align: right;\n",
       "    }\n",
       "</style>\n",
       "<table border=\"1\" class=\"dataframe\">\n",
       "  <thead>\n",
       "    <tr style=\"text-align: right;\">\n",
       "      <th></th>\n",
       "      <th>sex</th>\n",
       "      <th>length</th>\n",
       "      <th>dia</th>\n",
       "      <th>height</th>\n",
       "      <th>whole weight</th>\n",
       "      <th>shucked weight</th>\n",
       "      <th>viscera weight</th>\n",
       "      <th>shell weight</th>\n",
       "      <th>rings</th>\n",
       "    </tr>\n",
       "  </thead>\n",
       "  <tbody>\n",
       "  </tbody>\n",
       "</table>\n",
       "</div>"
      ],
      "text/plain": [
       "Empty DataFrame\n",
       "Columns: [sex, length, dia, height, whole weight, shucked weight, viscera weight, shell weight, rings]\n",
       "Index: []"
      ]
     },
     "execution_count": 15,
     "metadata": {},
     "output_type": "execute_result"
    }
   ],
   "source": [
    "df[(df[\"shell weight\"]==\" \")|(df[\"shell weight\"]==0)]"
   ]
  },
  {
   "cell_type": "code",
   "execution_count": 16,
   "metadata": {},
   "outputs": [
    {
     "data": {
      "text/html": [
       "<div>\n",
       "<style scoped>\n",
       "    .dataframe tbody tr th:only-of-type {\n",
       "        vertical-align: middle;\n",
       "    }\n",
       "\n",
       "    .dataframe tbody tr th {\n",
       "        vertical-align: top;\n",
       "    }\n",
       "\n",
       "    .dataframe thead th {\n",
       "        text-align: right;\n",
       "    }\n",
       "</style>\n",
       "<table border=\"1\" class=\"dataframe\">\n",
       "  <thead>\n",
       "    <tr style=\"text-align: right;\">\n",
       "      <th></th>\n",
       "      <th>sex</th>\n",
       "      <th>length</th>\n",
       "      <th>dia</th>\n",
       "      <th>height</th>\n",
       "      <th>whole weight</th>\n",
       "      <th>shucked weight</th>\n",
       "      <th>viscera weight</th>\n",
       "      <th>shell weight</th>\n",
       "      <th>rings</th>\n",
       "    </tr>\n",
       "  </thead>\n",
       "  <tbody>\n",
       "    <tr>\n",
       "      <th>1257</th>\n",
       "      <td>I</td>\n",
       "      <td>0.430</td>\n",
       "      <td>0.34</td>\n",
       "      <td>0.0</td>\n",
       "      <td>0.428</td>\n",
       "      <td>0.2065</td>\n",
       "      <td>0.0860</td>\n",
       "      <td>0.1150</td>\n",
       "      <td>8</td>\n",
       "    </tr>\n",
       "    <tr>\n",
       "      <th>3996</th>\n",
       "      <td>I</td>\n",
       "      <td>0.315</td>\n",
       "      <td>0.23</td>\n",
       "      <td>0.0</td>\n",
       "      <td>0.134</td>\n",
       "      <td>0.0575</td>\n",
       "      <td>0.0285</td>\n",
       "      <td>0.3505</td>\n",
       "      <td>6</td>\n",
       "    </tr>\n",
       "  </tbody>\n",
       "</table>\n",
       "</div>"
      ],
      "text/plain": [
       "     sex  length   dia  height  whole weight  shucked weight  viscera weight  \\\n",
       "1257   I   0.430  0.34     0.0         0.428          0.2065          0.0860   \n",
       "3996   I   0.315  0.23     0.0         0.134          0.0575          0.0285   \n",
       "\n",
       "      shell weight  rings  \n",
       "1257        0.1150      8  \n",
       "3996        0.3505      6  "
      ]
     },
     "execution_count": 16,
     "metadata": {},
     "output_type": "execute_result"
    }
   ],
   "source": [
    "df[(df[\"height\"]==\" \")|(df[\"height\"]==0)]"
   ]
  },
  {
   "cell_type": "markdown",
   "metadata": {},
   "source": [
    "Height has data = 0 which couldn't be possibile"
   ]
  },
  {
   "cell_type": "code",
   "execution_count": 17,
   "metadata": {},
   "outputs": [
    {
     "data": {
      "text/html": [
       "<div>\n",
       "<style scoped>\n",
       "    .dataframe tbody tr th:only-of-type {\n",
       "        vertical-align: middle;\n",
       "    }\n",
       "\n",
       "    .dataframe tbody tr th {\n",
       "        vertical-align: top;\n",
       "    }\n",
       "\n",
       "    .dataframe thead th {\n",
       "        text-align: right;\n",
       "    }\n",
       "</style>\n",
       "<table border=\"1\" class=\"dataframe\">\n",
       "  <thead>\n",
       "    <tr style=\"text-align: right;\">\n",
       "      <th></th>\n",
       "      <th>sex</th>\n",
       "      <th>length</th>\n",
       "      <th>dia</th>\n",
       "      <th>height</th>\n",
       "      <th>whole weight</th>\n",
       "      <th>shucked weight</th>\n",
       "      <th>viscera weight</th>\n",
       "      <th>shell weight</th>\n",
       "      <th>rings</th>\n",
       "    </tr>\n",
       "  </thead>\n",
       "  <tbody>\n",
       "  </tbody>\n",
       "</table>\n",
       "</div>"
      ],
      "text/plain": [
       "Empty DataFrame\n",
       "Columns: [sex, length, dia, height, whole weight, shucked weight, viscera weight, shell weight, rings]\n",
       "Index: []"
      ]
     },
     "execution_count": 17,
     "metadata": {},
     "output_type": "execute_result"
    }
   ],
   "source": [
    "df[(df[\"length\"]==\" \")|(df[\"length\"]==0)]"
   ]
  },
  {
   "cell_type": "code",
   "execution_count": 18,
   "metadata": {},
   "outputs": [
    {
     "data": {
      "text/html": [
       "<div>\n",
       "<style scoped>\n",
       "    .dataframe tbody tr th:only-of-type {\n",
       "        vertical-align: middle;\n",
       "    }\n",
       "\n",
       "    .dataframe tbody tr th {\n",
       "        vertical-align: top;\n",
       "    }\n",
       "\n",
       "    .dataframe thead th {\n",
       "        text-align: right;\n",
       "    }\n",
       "</style>\n",
       "<table border=\"1\" class=\"dataframe\">\n",
       "  <thead>\n",
       "    <tr style=\"text-align: right;\">\n",
       "      <th></th>\n",
       "      <th>sex</th>\n",
       "      <th>length</th>\n",
       "      <th>dia</th>\n",
       "      <th>height</th>\n",
       "      <th>whole weight</th>\n",
       "      <th>shucked weight</th>\n",
       "      <th>viscera weight</th>\n",
       "      <th>shell weight</th>\n",
       "      <th>rings</th>\n",
       "    </tr>\n",
       "  </thead>\n",
       "  <tbody>\n",
       "  </tbody>\n",
       "</table>\n",
       "</div>"
      ],
      "text/plain": [
       "Empty DataFrame\n",
       "Columns: [sex, length, dia, height, whole weight, shucked weight, viscera weight, shell weight, rings]\n",
       "Index: []"
      ]
     },
     "execution_count": 18,
     "metadata": {},
     "output_type": "execute_result"
    }
   ],
   "source": [
    "df[(df[\"dia\"]==\" \")|(df[\"dia\"]==0)]"
   ]
  },
  {
   "cell_type": "code",
   "execution_count": 19,
   "metadata": {},
   "outputs": [
    {
     "data": {
      "text/html": [
       "<div>\n",
       "<style scoped>\n",
       "    .dataframe tbody tr th:only-of-type {\n",
       "        vertical-align: middle;\n",
       "    }\n",
       "\n",
       "    .dataframe tbody tr th {\n",
       "        vertical-align: top;\n",
       "    }\n",
       "\n",
       "    .dataframe thead th {\n",
       "        text-align: right;\n",
       "    }\n",
       "</style>\n",
       "<table border=\"1\" class=\"dataframe\">\n",
       "  <thead>\n",
       "    <tr style=\"text-align: right;\">\n",
       "      <th></th>\n",
       "      <th>sex</th>\n",
       "      <th>length</th>\n",
       "      <th>dia</th>\n",
       "      <th>height</th>\n",
       "      <th>whole weight</th>\n",
       "      <th>shucked weight</th>\n",
       "      <th>viscera weight</th>\n",
       "      <th>shell weight</th>\n",
       "      <th>rings</th>\n",
       "    </tr>\n",
       "  </thead>\n",
       "  <tbody>\n",
       "  </tbody>\n",
       "</table>\n",
       "</div>"
      ],
      "text/plain": [
       "Empty DataFrame\n",
       "Columns: [sex, length, dia, height, whole weight, shucked weight, viscera weight, shell weight, rings]\n",
       "Index: []"
      ]
     },
     "execution_count": 19,
     "metadata": {},
     "output_type": "execute_result"
    }
   ],
   "source": [
    "df[(df[\"viscera weight\"]==\" \")|(df[\"viscera weight\"]==0)]"
   ]
  },
  {
   "cell_type": "code",
   "execution_count": 20,
   "metadata": {},
   "outputs": [],
   "source": [
    "df[\"height\"]=df[\"height\"].replace(0,np.nan)"
   ]
  },
  {
   "cell_type": "code",
   "execution_count": 21,
   "metadata": {},
   "outputs": [
    {
     "data": {
      "text/plain": [
       "sex               0\n",
       "length            0\n",
       "dia               0\n",
       "height            2\n",
       "whole weight      0\n",
       "shucked weight    0\n",
       "viscera weight    0\n",
       "shell weight      0\n",
       "rings             0\n",
       "dtype: int64"
      ]
     },
     "execution_count": 21,
     "metadata": {},
     "output_type": "execute_result"
    }
   ],
   "source": [
    "df.isnull().sum()"
   ]
  },
  {
   "cell_type": "code",
   "execution_count": 22,
   "metadata": {},
   "outputs": [],
   "source": [
    "df[\"height\"]=df[\"height\"].fillna(np.mean(df[\"height\"]))"
   ]
  },
  {
   "cell_type": "code",
   "execution_count": 23,
   "metadata": {},
   "outputs": [
    {
     "data": {
      "text/plain": [
       "sex               0\n",
       "length            0\n",
       "dia               0\n",
       "height            0\n",
       "whole weight      0\n",
       "shucked weight    0\n",
       "viscera weight    0\n",
       "shell weight      0\n",
       "rings             0\n",
       "dtype: int64"
      ]
     },
     "execution_count": 23,
     "metadata": {},
     "output_type": "execute_result"
    }
   ],
   "source": [
    "df.isnull().sum()"
   ]
  },
  {
   "cell_type": "markdown",
   "metadata": {},
   "source": [
    "Replaced zero in height by the mean value"
   ]
  },
  {
   "cell_type": "markdown",
   "metadata": {},
   "source": [
    "# Label Encoder"
   ]
  },
  {
   "cell_type": "code",
   "execution_count": 24,
   "metadata": {},
   "outputs": [],
   "source": [
    "import sklearn \n",
    "from sklearn.preprocessing import LabelEncoder"
   ]
  },
  {
   "cell_type": "code",
   "execution_count": 25,
   "metadata": {},
   "outputs": [
    {
     "data": {
      "text/html": [
       "<div>\n",
       "<style scoped>\n",
       "    .dataframe tbody tr th:only-of-type {\n",
       "        vertical-align: middle;\n",
       "    }\n",
       "\n",
       "    .dataframe tbody tr th {\n",
       "        vertical-align: top;\n",
       "    }\n",
       "\n",
       "    .dataframe thead th {\n",
       "        text-align: right;\n",
       "    }\n",
       "</style>\n",
       "<table border=\"1\" class=\"dataframe\">\n",
       "  <thead>\n",
       "    <tr style=\"text-align: right;\">\n",
       "      <th></th>\n",
       "      <th>sex</th>\n",
       "      <th>length</th>\n",
       "      <th>dia</th>\n",
       "      <th>height</th>\n",
       "      <th>whole weight</th>\n",
       "      <th>shucked weight</th>\n",
       "      <th>viscera weight</th>\n",
       "      <th>shell weight</th>\n",
       "      <th>rings</th>\n",
       "    </tr>\n",
       "  </thead>\n",
       "  <tbody>\n",
       "    <tr>\n",
       "      <th>0</th>\n",
       "      <td>2</td>\n",
       "      <td>0.455</td>\n",
       "      <td>0.365</td>\n",
       "      <td>0.095</td>\n",
       "      <td>0.5140</td>\n",
       "      <td>0.2245</td>\n",
       "      <td>0.1010</td>\n",
       "      <td>0.1500</td>\n",
       "      <td>15</td>\n",
       "    </tr>\n",
       "    <tr>\n",
       "      <th>1</th>\n",
       "      <td>2</td>\n",
       "      <td>0.350</td>\n",
       "      <td>0.265</td>\n",
       "      <td>0.090</td>\n",
       "      <td>0.2255</td>\n",
       "      <td>0.0995</td>\n",
       "      <td>0.0485</td>\n",
       "      <td>0.0700</td>\n",
       "      <td>7</td>\n",
       "    </tr>\n",
       "    <tr>\n",
       "      <th>2</th>\n",
       "      <td>0</td>\n",
       "      <td>0.530</td>\n",
       "      <td>0.420</td>\n",
       "      <td>0.135</td>\n",
       "      <td>0.6770</td>\n",
       "      <td>0.2565</td>\n",
       "      <td>0.1415</td>\n",
       "      <td>0.2100</td>\n",
       "      <td>9</td>\n",
       "    </tr>\n",
       "    <tr>\n",
       "      <th>3</th>\n",
       "      <td>2</td>\n",
       "      <td>0.440</td>\n",
       "      <td>0.365</td>\n",
       "      <td>0.125</td>\n",
       "      <td>0.5160</td>\n",
       "      <td>0.2155</td>\n",
       "      <td>0.1140</td>\n",
       "      <td>0.1550</td>\n",
       "      <td>10</td>\n",
       "    </tr>\n",
       "    <tr>\n",
       "      <th>4</th>\n",
       "      <td>1</td>\n",
       "      <td>0.330</td>\n",
       "      <td>0.255</td>\n",
       "      <td>0.080</td>\n",
       "      <td>0.2050</td>\n",
       "      <td>0.0895</td>\n",
       "      <td>0.0395</td>\n",
       "      <td>0.0550</td>\n",
       "      <td>7</td>\n",
       "    </tr>\n",
       "    <tr>\n",
       "      <th>...</th>\n",
       "      <td>...</td>\n",
       "      <td>...</td>\n",
       "      <td>...</td>\n",
       "      <td>...</td>\n",
       "      <td>...</td>\n",
       "      <td>...</td>\n",
       "      <td>...</td>\n",
       "      <td>...</td>\n",
       "      <td>...</td>\n",
       "    </tr>\n",
       "    <tr>\n",
       "      <th>4172</th>\n",
       "      <td>0</td>\n",
       "      <td>0.565</td>\n",
       "      <td>0.450</td>\n",
       "      <td>0.165</td>\n",
       "      <td>0.8870</td>\n",
       "      <td>0.3700</td>\n",
       "      <td>0.2390</td>\n",
       "      <td>0.2490</td>\n",
       "      <td>11</td>\n",
       "    </tr>\n",
       "    <tr>\n",
       "      <th>4173</th>\n",
       "      <td>2</td>\n",
       "      <td>0.590</td>\n",
       "      <td>0.440</td>\n",
       "      <td>0.135</td>\n",
       "      <td>0.9660</td>\n",
       "      <td>0.4390</td>\n",
       "      <td>0.2145</td>\n",
       "      <td>0.2605</td>\n",
       "      <td>10</td>\n",
       "    </tr>\n",
       "    <tr>\n",
       "      <th>4174</th>\n",
       "      <td>2</td>\n",
       "      <td>0.600</td>\n",
       "      <td>0.475</td>\n",
       "      <td>0.205</td>\n",
       "      <td>1.1760</td>\n",
       "      <td>0.5255</td>\n",
       "      <td>0.2875</td>\n",
       "      <td>0.3080</td>\n",
       "      <td>9</td>\n",
       "    </tr>\n",
       "    <tr>\n",
       "      <th>4175</th>\n",
       "      <td>0</td>\n",
       "      <td>0.625</td>\n",
       "      <td>0.485</td>\n",
       "      <td>0.150</td>\n",
       "      <td>1.0945</td>\n",
       "      <td>0.5310</td>\n",
       "      <td>0.2610</td>\n",
       "      <td>0.2960</td>\n",
       "      <td>10</td>\n",
       "    </tr>\n",
       "    <tr>\n",
       "      <th>4176</th>\n",
       "      <td>2</td>\n",
       "      <td>0.710</td>\n",
       "      <td>0.555</td>\n",
       "      <td>0.195</td>\n",
       "      <td>1.9485</td>\n",
       "      <td>0.9455</td>\n",
       "      <td>0.3765</td>\n",
       "      <td>0.4950</td>\n",
       "      <td>12</td>\n",
       "    </tr>\n",
       "  </tbody>\n",
       "</table>\n",
       "<p>4177 rows × 9 columns</p>\n",
       "</div>"
      ],
      "text/plain": [
       "      sex  length    dia  height  whole weight  shucked weight  \\\n",
       "0       2   0.455  0.365   0.095        0.5140          0.2245   \n",
       "1       2   0.350  0.265   0.090        0.2255          0.0995   \n",
       "2       0   0.530  0.420   0.135        0.6770          0.2565   \n",
       "3       2   0.440  0.365   0.125        0.5160          0.2155   \n",
       "4       1   0.330  0.255   0.080        0.2050          0.0895   \n",
       "...   ...     ...    ...     ...           ...             ...   \n",
       "4172    0   0.565  0.450   0.165        0.8870          0.3700   \n",
       "4173    2   0.590  0.440   0.135        0.9660          0.4390   \n",
       "4174    2   0.600  0.475   0.205        1.1760          0.5255   \n",
       "4175    0   0.625  0.485   0.150        1.0945          0.5310   \n",
       "4176    2   0.710  0.555   0.195        1.9485          0.9455   \n",
       "\n",
       "      viscera weight  shell weight  rings  \n",
       "0             0.1010        0.1500     15  \n",
       "1             0.0485        0.0700      7  \n",
       "2             0.1415        0.2100      9  \n",
       "3             0.1140        0.1550     10  \n",
       "4             0.0395        0.0550      7  \n",
       "...              ...           ...    ...  \n",
       "4172          0.2390        0.2490     11  \n",
       "4173          0.2145        0.2605     10  \n",
       "4174          0.2875        0.3080      9  \n",
       "4175          0.2610        0.2960     10  \n",
       "4176          0.3765        0.4950     12  \n",
       "\n",
       "[4177 rows x 9 columns]"
      ]
     },
     "execution_count": 25,
     "metadata": {},
     "output_type": "execute_result"
    }
   ],
   "source": [
    "lencode=LabelEncoder()\n",
    "df[\"sex\"]=lencode.fit_transform(df[\"sex\"])\n",
    "df"
   ]
  },
  {
   "cell_type": "code",
   "execution_count": 26,
   "metadata": {},
   "outputs": [
    {
     "data": {
      "text/html": [
       "<div>\n",
       "<style scoped>\n",
       "    .dataframe tbody tr th:only-of-type {\n",
       "        vertical-align: middle;\n",
       "    }\n",
       "\n",
       "    .dataframe tbody tr th {\n",
       "        vertical-align: top;\n",
       "    }\n",
       "\n",
       "    .dataframe thead th {\n",
       "        text-align: right;\n",
       "    }\n",
       "</style>\n",
       "<table border=\"1\" class=\"dataframe\">\n",
       "  <thead>\n",
       "    <tr style=\"text-align: right;\">\n",
       "      <th></th>\n",
       "      <th>sex</th>\n",
       "      <th>length</th>\n",
       "      <th>dia</th>\n",
       "      <th>height</th>\n",
       "      <th>whole weight</th>\n",
       "      <th>shucked weight</th>\n",
       "      <th>viscera weight</th>\n",
       "      <th>shell weight</th>\n",
       "      <th>rings</th>\n",
       "    </tr>\n",
       "  </thead>\n",
       "  <tbody>\n",
       "    <tr>\n",
       "      <th>sex</th>\n",
       "      <td>1.000000</td>\n",
       "      <td>-0.036066</td>\n",
       "      <td>-0.038874</td>\n",
       "      <td>-0.042293</td>\n",
       "      <td>-0.021391</td>\n",
       "      <td>-0.001373</td>\n",
       "      <td>-0.032067</td>\n",
       "      <td>-0.034854</td>\n",
       "      <td>-0.034627</td>\n",
       "    </tr>\n",
       "    <tr>\n",
       "      <th>length</th>\n",
       "      <td>-0.036066</td>\n",
       "      <td>1.000000</td>\n",
       "      <td>0.986812</td>\n",
       "      <td>0.827747</td>\n",
       "      <td>0.925261</td>\n",
       "      <td>0.897914</td>\n",
       "      <td>0.903018</td>\n",
       "      <td>0.897706</td>\n",
       "      <td>0.556720</td>\n",
       "    </tr>\n",
       "    <tr>\n",
       "      <th>dia</th>\n",
       "      <td>-0.038874</td>\n",
       "      <td>0.986812</td>\n",
       "      <td>1.000000</td>\n",
       "      <td>0.833931</td>\n",
       "      <td>0.925452</td>\n",
       "      <td>0.893162</td>\n",
       "      <td>0.899724</td>\n",
       "      <td>0.905330</td>\n",
       "      <td>0.574660</td>\n",
       "    </tr>\n",
       "    <tr>\n",
       "      <th>height</th>\n",
       "      <td>-0.042293</td>\n",
       "      <td>0.827747</td>\n",
       "      <td>0.833931</td>\n",
       "      <td>1.000000</td>\n",
       "      <td>0.819623</td>\n",
       "      <td>0.775405</td>\n",
       "      <td>0.798653</td>\n",
       "      <td>0.819455</td>\n",
       "      <td>0.557501</td>\n",
       "    </tr>\n",
       "    <tr>\n",
       "      <th>whole weight</th>\n",
       "      <td>-0.021391</td>\n",
       "      <td>0.925261</td>\n",
       "      <td>0.925452</td>\n",
       "      <td>0.819623</td>\n",
       "      <td>1.000000</td>\n",
       "      <td>0.969405</td>\n",
       "      <td>0.966375</td>\n",
       "      <td>0.955355</td>\n",
       "      <td>0.540390</td>\n",
       "    </tr>\n",
       "    <tr>\n",
       "      <th>shucked weight</th>\n",
       "      <td>-0.001373</td>\n",
       "      <td>0.897914</td>\n",
       "      <td>0.893162</td>\n",
       "      <td>0.775405</td>\n",
       "      <td>0.969405</td>\n",
       "      <td>1.000000</td>\n",
       "      <td>0.931961</td>\n",
       "      <td>0.882617</td>\n",
       "      <td>0.420884</td>\n",
       "    </tr>\n",
       "    <tr>\n",
       "      <th>viscera weight</th>\n",
       "      <td>-0.032067</td>\n",
       "      <td>0.903018</td>\n",
       "      <td>0.899724</td>\n",
       "      <td>0.798653</td>\n",
       "      <td>0.966375</td>\n",
       "      <td>0.931961</td>\n",
       "      <td>1.000000</td>\n",
       "      <td>0.907656</td>\n",
       "      <td>0.503819</td>\n",
       "    </tr>\n",
       "    <tr>\n",
       "      <th>shell weight</th>\n",
       "      <td>-0.034854</td>\n",
       "      <td>0.897706</td>\n",
       "      <td>0.905330</td>\n",
       "      <td>0.819455</td>\n",
       "      <td>0.955355</td>\n",
       "      <td>0.882617</td>\n",
       "      <td>0.907656</td>\n",
       "      <td>1.000000</td>\n",
       "      <td>0.627574</td>\n",
       "    </tr>\n",
       "    <tr>\n",
       "      <th>rings</th>\n",
       "      <td>-0.034627</td>\n",
       "      <td>0.556720</td>\n",
       "      <td>0.574660</td>\n",
       "      <td>0.557501</td>\n",
       "      <td>0.540390</td>\n",
       "      <td>0.420884</td>\n",
       "      <td>0.503819</td>\n",
       "      <td>0.627574</td>\n",
       "      <td>1.000000</td>\n",
       "    </tr>\n",
       "  </tbody>\n",
       "</table>\n",
       "</div>"
      ],
      "text/plain": [
       "                     sex    length       dia    height  whole weight  \\\n",
       "sex             1.000000 -0.036066 -0.038874 -0.042293     -0.021391   \n",
       "length         -0.036066  1.000000  0.986812  0.827747      0.925261   \n",
       "dia            -0.038874  0.986812  1.000000  0.833931      0.925452   \n",
       "height         -0.042293  0.827747  0.833931  1.000000      0.819623   \n",
       "whole weight   -0.021391  0.925261  0.925452  0.819623      1.000000   \n",
       "shucked weight -0.001373  0.897914  0.893162  0.775405      0.969405   \n",
       "viscera weight -0.032067  0.903018  0.899724  0.798653      0.966375   \n",
       "shell weight   -0.034854  0.897706  0.905330  0.819455      0.955355   \n",
       "rings          -0.034627  0.556720  0.574660  0.557501      0.540390   \n",
       "\n",
       "                shucked weight  viscera weight  shell weight     rings  \n",
       "sex                  -0.001373       -0.032067     -0.034854 -0.034627  \n",
       "length                0.897914        0.903018      0.897706  0.556720  \n",
       "dia                   0.893162        0.899724      0.905330  0.574660  \n",
       "height                0.775405        0.798653      0.819455  0.557501  \n",
       "whole weight          0.969405        0.966375      0.955355  0.540390  \n",
       "shucked weight        1.000000        0.931961      0.882617  0.420884  \n",
       "viscera weight        0.931961        1.000000      0.907656  0.503819  \n",
       "shell weight          0.882617        0.907656      1.000000  0.627574  \n",
       "rings                 0.420884        0.503819      0.627574  1.000000  "
      ]
     },
     "execution_count": 26,
     "metadata": {},
     "output_type": "execute_result"
    }
   ],
   "source": [
    "df.corr()"
   ]
  },
  {
   "cell_type": "markdown",
   "metadata": {},
   "source": [
    "As mentioned in the problem statement age = rings+1.5"
   ]
  },
  {
   "cell_type": "markdown",
   "metadata": {},
   "source": [
    "# Correlation "
   ]
  },
  {
   "cell_type": "code",
   "execution_count": 27,
   "metadata": {},
   "outputs": [
    {
     "data": {
      "text/html": [
       "<div>\n",
       "<style scoped>\n",
       "    .dataframe tbody tr th:only-of-type {\n",
       "        vertical-align: middle;\n",
       "    }\n",
       "\n",
       "    .dataframe tbody tr th {\n",
       "        vertical-align: top;\n",
       "    }\n",
       "\n",
       "    .dataframe thead th {\n",
       "        text-align: right;\n",
       "    }\n",
       "</style>\n",
       "<table border=\"1\" class=\"dataframe\">\n",
       "  <thead>\n",
       "    <tr style=\"text-align: right;\">\n",
       "      <th></th>\n",
       "      <th>sex</th>\n",
       "      <th>length</th>\n",
       "      <th>dia</th>\n",
       "      <th>height</th>\n",
       "      <th>whole weight</th>\n",
       "      <th>shucked weight</th>\n",
       "      <th>viscera weight</th>\n",
       "      <th>shell weight</th>\n",
       "      <th>rings</th>\n",
       "    </tr>\n",
       "  </thead>\n",
       "  <tbody>\n",
       "    <tr>\n",
       "      <th>sex</th>\n",
       "      <td>1.000000</td>\n",
       "      <td>-0.036066</td>\n",
       "      <td>-0.038874</td>\n",
       "      <td>-0.042293</td>\n",
       "      <td>-0.021391</td>\n",
       "      <td>-0.001373</td>\n",
       "      <td>-0.032067</td>\n",
       "      <td>-0.034854</td>\n",
       "      <td>-0.034627</td>\n",
       "    </tr>\n",
       "    <tr>\n",
       "      <th>length</th>\n",
       "      <td>-0.036066</td>\n",
       "      <td>1.000000</td>\n",
       "      <td>0.986812</td>\n",
       "      <td>0.827747</td>\n",
       "      <td>0.925261</td>\n",
       "      <td>0.897914</td>\n",
       "      <td>0.903018</td>\n",
       "      <td>0.897706</td>\n",
       "      <td>0.556720</td>\n",
       "    </tr>\n",
       "    <tr>\n",
       "      <th>dia</th>\n",
       "      <td>-0.038874</td>\n",
       "      <td>0.986812</td>\n",
       "      <td>1.000000</td>\n",
       "      <td>0.833931</td>\n",
       "      <td>0.925452</td>\n",
       "      <td>0.893162</td>\n",
       "      <td>0.899724</td>\n",
       "      <td>0.905330</td>\n",
       "      <td>0.574660</td>\n",
       "    </tr>\n",
       "    <tr>\n",
       "      <th>height</th>\n",
       "      <td>-0.042293</td>\n",
       "      <td>0.827747</td>\n",
       "      <td>0.833931</td>\n",
       "      <td>1.000000</td>\n",
       "      <td>0.819623</td>\n",
       "      <td>0.775405</td>\n",
       "      <td>0.798653</td>\n",
       "      <td>0.819455</td>\n",
       "      <td>0.557501</td>\n",
       "    </tr>\n",
       "    <tr>\n",
       "      <th>whole weight</th>\n",
       "      <td>-0.021391</td>\n",
       "      <td>0.925261</td>\n",
       "      <td>0.925452</td>\n",
       "      <td>0.819623</td>\n",
       "      <td>1.000000</td>\n",
       "      <td>0.969405</td>\n",
       "      <td>0.966375</td>\n",
       "      <td>0.955355</td>\n",
       "      <td>0.540390</td>\n",
       "    </tr>\n",
       "    <tr>\n",
       "      <th>shucked weight</th>\n",
       "      <td>-0.001373</td>\n",
       "      <td>0.897914</td>\n",
       "      <td>0.893162</td>\n",
       "      <td>0.775405</td>\n",
       "      <td>0.969405</td>\n",
       "      <td>1.000000</td>\n",
       "      <td>0.931961</td>\n",
       "      <td>0.882617</td>\n",
       "      <td>0.420884</td>\n",
       "    </tr>\n",
       "    <tr>\n",
       "      <th>viscera weight</th>\n",
       "      <td>-0.032067</td>\n",
       "      <td>0.903018</td>\n",
       "      <td>0.899724</td>\n",
       "      <td>0.798653</td>\n",
       "      <td>0.966375</td>\n",
       "      <td>0.931961</td>\n",
       "      <td>1.000000</td>\n",
       "      <td>0.907656</td>\n",
       "      <td>0.503819</td>\n",
       "    </tr>\n",
       "    <tr>\n",
       "      <th>shell weight</th>\n",
       "      <td>-0.034854</td>\n",
       "      <td>0.897706</td>\n",
       "      <td>0.905330</td>\n",
       "      <td>0.819455</td>\n",
       "      <td>0.955355</td>\n",
       "      <td>0.882617</td>\n",
       "      <td>0.907656</td>\n",
       "      <td>1.000000</td>\n",
       "      <td>0.627574</td>\n",
       "    </tr>\n",
       "    <tr>\n",
       "      <th>rings</th>\n",
       "      <td>-0.034627</td>\n",
       "      <td>0.556720</td>\n",
       "      <td>0.574660</td>\n",
       "      <td>0.557501</td>\n",
       "      <td>0.540390</td>\n",
       "      <td>0.420884</td>\n",
       "      <td>0.503819</td>\n",
       "      <td>0.627574</td>\n",
       "      <td>1.000000</td>\n",
       "    </tr>\n",
       "  </tbody>\n",
       "</table>\n",
       "</div>"
      ],
      "text/plain": [
       "                     sex    length       dia    height  whole weight  \\\n",
       "sex             1.000000 -0.036066 -0.038874 -0.042293     -0.021391   \n",
       "length         -0.036066  1.000000  0.986812  0.827747      0.925261   \n",
       "dia            -0.038874  0.986812  1.000000  0.833931      0.925452   \n",
       "height         -0.042293  0.827747  0.833931  1.000000      0.819623   \n",
       "whole weight   -0.021391  0.925261  0.925452  0.819623      1.000000   \n",
       "shucked weight -0.001373  0.897914  0.893162  0.775405      0.969405   \n",
       "viscera weight -0.032067  0.903018  0.899724  0.798653      0.966375   \n",
       "shell weight   -0.034854  0.897706  0.905330  0.819455      0.955355   \n",
       "rings          -0.034627  0.556720  0.574660  0.557501      0.540390   \n",
       "\n",
       "                shucked weight  viscera weight  shell weight     rings  \n",
       "sex                  -0.001373       -0.032067     -0.034854 -0.034627  \n",
       "length                0.897914        0.903018      0.897706  0.556720  \n",
       "dia                   0.893162        0.899724      0.905330  0.574660  \n",
       "height                0.775405        0.798653      0.819455  0.557501  \n",
       "whole weight          0.969405        0.966375      0.955355  0.540390  \n",
       "shucked weight        1.000000        0.931961      0.882617  0.420884  \n",
       "viscera weight        0.931961        1.000000      0.907656  0.503819  \n",
       "shell weight          0.882617        0.907656      1.000000  0.627574  \n",
       "rings                 0.420884        0.503819      0.627574  1.000000  "
      ]
     },
     "execution_count": 27,
     "metadata": {},
     "output_type": "execute_result"
    }
   ],
   "source": [
    "df.corr()"
   ]
  },
  {
   "cell_type": "code",
   "execution_count": 28,
   "metadata": {},
   "outputs": [
    {
     "data": {
      "image/png": "[encoded data removed]",
      "text/plain": [
       "<Figure size 1800x1440 with 2 Axes>"
      ]
     },
     "metadata": {
      "needs_background": "light"
     },
     "output_type": "display_data"
    }
   ],
   "source": [
    "plt.figure(figsize=(25,20))\n",
    "sns.heatmap(round(df.corr()[1:].transpose(),5),linewidth=2,annot=True,fmt=\"f\")\n",
    "plt.xticks(fontsize=15)\n",
    "plt.yticks(fontsize=15)\n",
    "plt.show()"
   ]
  },
  {
   "cell_type": "markdown",
   "metadata": {},
   "source": [
    "most features in the dataset are positive correlated\n",
    "\n",
    "There could be a possibility of multi-colinearity "
   ]
  },
  {
   "cell_type": "code",
   "execution_count": 29,
   "metadata": {},
   "outputs": [],
   "source": [
    "x=df.iloc[:,:-1]\n",
    "y=df.iloc[:,-1]\n",
    "from statsmodels.stats.outliers_influence import variance_inflation_factor \n",
    "def c_vif(x):\n",
    "    vif=pd.DataFrame()\n",
    "    vif[\"variables\"]=x.columns\n",
    "    vif[\"VIF\"]=[variance_inflation_factor(x.values,i)for i in range(x.shape[1])]\n",
    "    return(vif)"
   ]
  },
  {
   "cell_type": "code",
   "execution_count": 30,
   "metadata": {},
   "outputs": [
    {
     "data": {
      "text/html": [
       "<div>\n",
       "<style scoped>\n",
       "    .dataframe tbody tr th:only-of-type {\n",
       "        vertical-align: middle;\n",
       "    }\n",
       "\n",
       "    .dataframe tbody tr th {\n",
       "        vertical-align: top;\n",
       "    }\n",
       "\n",
       "    .dataframe thead th {\n",
       "        text-align: right;\n",
       "    }\n",
       "</style>\n",
       "<table border=\"1\" class=\"dataframe\">\n",
       "  <thead>\n",
       "    <tr style=\"text-align: right;\">\n",
       "      <th></th>\n",
       "      <th>variables</th>\n",
       "      <th>VIF</th>\n",
       "    </tr>\n",
       "  </thead>\n",
       "  <tbody>\n",
       "    <tr>\n",
       "      <th>0</th>\n",
       "      <td>sex</td>\n",
       "      <td>2.555420</td>\n",
       "    </tr>\n",
       "    <tr>\n",
       "      <th>1</th>\n",
       "      <td>length</td>\n",
       "      <td>700.757659</td>\n",
       "    </tr>\n",
       "    <tr>\n",
       "      <th>2</th>\n",
       "      <td>dia</td>\n",
       "      <td>748.925958</td>\n",
       "    </tr>\n",
       "    <tr>\n",
       "      <th>3</th>\n",
       "      <td>height</td>\n",
       "      <td>42.517127</td>\n",
       "    </tr>\n",
       "    <tr>\n",
       "      <th>4</th>\n",
       "      <td>whole weight</td>\n",
       "      <td>421.582079</td>\n",
       "    </tr>\n",
       "    <tr>\n",
       "      <th>5</th>\n",
       "      <td>shucked weight</td>\n",
       "      <td>101.584320</td>\n",
       "    </tr>\n",
       "    <tr>\n",
       "      <th>6</th>\n",
       "      <td>viscera weight</td>\n",
       "      <td>63.602792</td>\n",
       "    </tr>\n",
       "    <tr>\n",
       "      <th>7</th>\n",
       "      <td>shell weight</td>\n",
       "      <td>82.088012</td>\n",
       "    </tr>\n",
       "  </tbody>\n",
       "</table>\n",
       "</div>"
      ],
      "text/plain": [
       "        variables         VIF\n",
       "0             sex    2.555420\n",
       "1          length  700.757659\n",
       "2             dia  748.925958\n",
       "3          height   42.517127\n",
       "4    whole weight  421.582079\n",
       "5  shucked weight  101.584320\n",
       "6  viscera weight   63.602792\n",
       "7    shell weight   82.088012"
      ]
     },
     "execution_count": 30,
     "metadata": {},
     "output_type": "execute_result"
    }
   ],
   "source": [
    "c_vif(x)"
   ]
  },
  {
   "cell_type": "markdown",
   "metadata": {},
   "source": [
    "Evidently length, dia,whole weight and shucked weight."
   ]
  },
  {
   "cell_type": "markdown",
   "metadata": {},
   "source": [
    "# Description and Information "
   ]
  },
  {
   "cell_type": "code",
   "execution_count": 31,
   "metadata": {},
   "outputs": [
    {
     "data": {
      "text/html": [
       "<div>\n",
       "<style scoped>\n",
       "    .dataframe tbody tr th:only-of-type {\n",
       "        vertical-align: middle;\n",
       "    }\n",
       "\n",
       "    .dataframe tbody tr th {\n",
       "        vertical-align: top;\n",
       "    }\n",
       "\n",
       "    .dataframe thead th {\n",
       "        text-align: right;\n",
       "    }\n",
       "</style>\n",
       "<table border=\"1\" class=\"dataframe\">\n",
       "  <thead>\n",
       "    <tr style=\"text-align: right;\">\n",
       "      <th></th>\n",
       "      <th>sex</th>\n",
       "      <th>length</th>\n",
       "      <th>dia</th>\n",
       "      <th>height</th>\n",
       "      <th>whole weight</th>\n",
       "      <th>shucked weight</th>\n",
       "      <th>viscera weight</th>\n",
       "      <th>shell weight</th>\n",
       "      <th>rings</th>\n",
       "    </tr>\n",
       "  </thead>\n",
       "  <tbody>\n",
       "    <tr>\n",
       "      <th>count</th>\n",
       "      <td>4177.000000</td>\n",
       "      <td>4177.000000</td>\n",
       "      <td>4177.000000</td>\n",
       "      <td>4177.000000</td>\n",
       "      <td>4177.000000</td>\n",
       "      <td>4177.000000</td>\n",
       "      <td>4177.000000</td>\n",
       "      <td>4177.000000</td>\n",
       "      <td>4177.000000</td>\n",
       "    </tr>\n",
       "    <tr>\n",
       "      <th>mean</th>\n",
       "      <td>1.052909</td>\n",
       "      <td>0.523992</td>\n",
       "      <td>0.407881</td>\n",
       "      <td>0.139583</td>\n",
       "      <td>0.828742</td>\n",
       "      <td>0.359367</td>\n",
       "      <td>0.180594</td>\n",
       "      <td>0.238831</td>\n",
       "      <td>9.933684</td>\n",
       "    </tr>\n",
       "    <tr>\n",
       "      <th>std</th>\n",
       "      <td>0.822240</td>\n",
       "      <td>0.120093</td>\n",
       "      <td>0.099240</td>\n",
       "      <td>0.041715</td>\n",
       "      <td>0.490389</td>\n",
       "      <td>0.221963</td>\n",
       "      <td>0.109614</td>\n",
       "      <td>0.139203</td>\n",
       "      <td>3.224169</td>\n",
       "    </tr>\n",
       "    <tr>\n",
       "      <th>min</th>\n",
       "      <td>0.000000</td>\n",
       "      <td>0.075000</td>\n",
       "      <td>0.055000</td>\n",
       "      <td>0.010000</td>\n",
       "      <td>0.002000</td>\n",
       "      <td>0.001000</td>\n",
       "      <td>0.000500</td>\n",
       "      <td>0.001500</td>\n",
       "      <td>1.000000</td>\n",
       "    </tr>\n",
       "    <tr>\n",
       "      <th>25%</th>\n",
       "      <td>0.000000</td>\n",
       "      <td>0.450000</td>\n",
       "      <td>0.350000</td>\n",
       "      <td>0.115000</td>\n",
       "      <td>0.441500</td>\n",
       "      <td>0.186000</td>\n",
       "      <td>0.093500</td>\n",
       "      <td>0.130000</td>\n",
       "      <td>8.000000</td>\n",
       "    </tr>\n",
       "    <tr>\n",
       "      <th>50%</th>\n",
       "      <td>1.000000</td>\n",
       "      <td>0.545000</td>\n",
       "      <td>0.425000</td>\n",
       "      <td>0.140000</td>\n",
       "      <td>0.799500</td>\n",
       "      <td>0.336000</td>\n",
       "      <td>0.171000</td>\n",
       "      <td>0.234000</td>\n",
       "      <td>9.000000</td>\n",
       "    </tr>\n",
       "    <tr>\n",
       "      <th>75%</th>\n",
       "      <td>2.000000</td>\n",
       "      <td>0.615000</td>\n",
       "      <td>0.480000</td>\n",
       "      <td>0.165000</td>\n",
       "      <td>1.153000</td>\n",
       "      <td>0.502000</td>\n",
       "      <td>0.253000</td>\n",
       "      <td>0.329000</td>\n",
       "      <td>11.000000</td>\n",
       "    </tr>\n",
       "    <tr>\n",
       "      <th>max</th>\n",
       "      <td>2.000000</td>\n",
       "      <td>0.815000</td>\n",
       "      <td>0.650000</td>\n",
       "      <td>1.130000</td>\n",
       "      <td>2.825500</td>\n",
       "      <td>1.488000</td>\n",
       "      <td>0.760000</td>\n",
       "      <td>1.005000</td>\n",
       "      <td>29.000000</td>\n",
       "    </tr>\n",
       "  </tbody>\n",
       "</table>\n",
       "</div>"
      ],
      "text/plain": [
       "               sex       length          dia       height  whole weight  \\\n",
       "count  4177.000000  4177.000000  4177.000000  4177.000000   4177.000000   \n",
       "mean      1.052909     0.523992     0.407881     0.139583      0.828742   \n",
       "std       0.822240     0.120093     0.099240     0.041715      0.490389   \n",
       "min       0.000000     0.075000     0.055000     0.010000      0.002000   \n",
       "25%       0.000000     0.450000     0.350000     0.115000      0.441500   \n",
       "50%       1.000000     0.545000     0.425000     0.140000      0.799500   \n",
       "75%       2.000000     0.615000     0.480000     0.165000      1.153000   \n",
       "max       2.000000     0.815000     0.650000     1.130000      2.825500   \n",
       "\n",
       "       shucked weight  viscera weight  shell weight        rings  \n",
       "count     4177.000000     4177.000000   4177.000000  4177.000000  \n",
       "mean         0.359367        0.180594      0.238831     9.933684  \n",
       "std          0.221963        0.109614      0.139203     3.224169  \n",
       "min          0.001000        0.000500      0.001500     1.000000  \n",
       "25%          0.186000        0.093500      0.130000     8.000000  \n",
       "50%          0.336000        0.171000      0.234000     9.000000  \n",
       "75%          0.502000        0.253000      0.329000    11.000000  \n",
       "max          1.488000        0.760000      1.005000    29.000000  "
      ]
     },
     "execution_count": 31,
     "metadata": {},
     "output_type": "execute_result"
    }
   ],
   "source": [
    "df.describe()"
   ]
  },
  {
   "cell_type": "markdown",
   "metadata": {},
   "source": [
    "All input features apart from sex (categorical data) have both mean and standard deviation close to zero. "
   ]
  },
  {
   "cell_type": "code",
   "execution_count": 32,
   "metadata": {},
   "outputs": [
    {
     "name": "stdout",
     "output_type": "stream",
     "text": [
      "<class 'pandas.core.frame.DataFrame'>\n",
      "RangeIndex: 4177 entries, 0 to 4176\n",
      "Data columns (total 9 columns):\n",
      " #   Column          Non-Null Count  Dtype  \n",
      "---  ------          --------------  -----  \n",
      " 0   sex             4177 non-null   int32  \n",
      " 1   length          4177 non-null   float64\n",
      " 2   dia             4177 non-null   float64\n",
      " 3   height          4177 non-null   float64\n",
      " 4   whole weight    4177 non-null   float64\n",
      " 5   shucked weight  4177 non-null   float64\n",
      " 6   viscera weight  4177 non-null   float64\n",
      " 7   shell weight    4177 non-null   float64\n",
      " 8   rings           4177 non-null   int64  \n",
      "dtypes: float64(7), int32(1), int64(1)\n",
      "memory usage: 277.5 KB\n"
     ]
    }
   ],
   "source": [
    "df.info()"
   ]
  },
  {
   "cell_type": "markdown",
   "metadata": {},
   "source": [
    "# Check for outliers and skewness "
   ]
  },
  {
   "cell_type": "code",
   "execution_count": 33,
   "metadata": {},
   "outputs": [
    {
     "data": {
      "image/png": "[encoded data removed]",
      "text/plain": [
       "<Figure size 1080x3240 with 7 Axes>"
      ]
     },
     "metadata": {
      "needs_background": "light"
     },
     "output_type": "display_data"
    }
   ],
   "source": [
    "li=df.iloc[:,1:-1]\n",
    "collist=li.columns.values\n",
    "ncol=15 #no.of columns and rows to display the graphs i.e max col and max row\n",
    "nrows=10\n",
    "plt.figure(figsize=(ncol,3*ncol))\n",
    "for i in range (0, len(collist)):\n",
    "    plt.subplot(nrows,ncol,i+1)\n",
    "    sns.boxplot(y=li[collist[i]],color=\"green\",orient=\"v\")\n",
    "    plt.tight_layout()   "
   ]
  },
  {
   "cell_type": "markdown",
   "metadata": {},
   "source": [
    "Looks like all features have outliers present "
   ]
  },
  {
   "cell_type": "markdown",
   "metadata": {},
   "source": [
    "check for skewness "
   ]
  },
  {
   "cell_type": "code",
   "execution_count": 34,
   "metadata": {},
   "outputs": [
    {
     "data": {
      "text/plain": [
       "length           -0.639873\n",
       "dia              -0.609198\n",
       "height            3.167121\n",
       "whole weight      0.530959\n",
       "shucked weight    0.719098\n",
       "viscera weight    0.591852\n",
       "shell weight      0.620927\n",
       "dtype: float64"
      ]
     },
     "execution_count": 34,
     "metadata": {},
     "output_type": "execute_result"
    }
   ],
   "source": [
    "li.skew()"
   ]
  },
  {
   "cell_type": "markdown",
   "metadata": {},
   "source": [
    "Skwness is presnt in length,dia,height,shucked weight and shell weight"
   ]
  },
  {
   "cell_type": "code",
   "execution_count": 35,
   "metadata": {},
   "outputs": [
    {
     "data": {
      "text/plain": [
       "<AxesSubplot:xlabel='length', ylabel='Density'>"
      ]
     },
     "execution_count": 35,
     "metadata": {},
     "output_type": "execute_result"
    },
    {
     "data": {
      "image/png": "[encoded data removed]",
      "text/plain": [
       "<Figure size 432x288 with 1 Axes>"
      ]
     },
     "metadata": {
      "needs_background": "light"
     },
     "output_type": "display_data"
    }
   ],
   "source": [
    "sns.kdeplot(x=\"length\",data=df)"
   ]
  },
  {
   "cell_type": "code",
   "execution_count": 36,
   "metadata": {},
   "outputs": [
    {
     "data": {
      "text/plain": [
       "<AxesSubplot:xlabel='height', ylabel='Density'>"
      ]
     },
     "execution_count": 36,
     "metadata": {},
     "output_type": "execute_result"
    },
    {
     "data": {
      "image/png": "[encoded data removed]",
      "text/plain": [
       "<Figure size 432x288 with 1 Axes>"
      ]
     },
     "metadata": {
      "needs_background": "light"
     },
     "output_type": "display_data"
    }
   ],
   "source": [
    "sns.kdeplot(x=\"height\",data=df)"
   ]
  },
  {
   "cell_type": "code",
   "execution_count": 37,
   "metadata": {},
   "outputs": [
    {
     "data": {
      "text/plain": [
       "sex              -0.098155\n",
       "length           -0.639873\n",
       "dia              -0.609198\n",
       "height           -0.176161\n",
       "whole weight      0.530959\n",
       "shucked weight    0.719098\n",
       "viscera weight    0.591852\n",
       "shell weight      0.620927\n",
       "rings             1.114102\n",
       "dtype: float64"
      ]
     },
     "execution_count": 37,
     "metadata": {},
     "output_type": "execute_result"
    }
   ],
   "source": [
    "import numpy as np \n",
    "\n",
    "df[\"height\"]=np.sqrt(df[\"height\"])\n",
    "df.skew()"
   ]
  },
  {
   "cell_type": "code",
   "execution_count": 38,
   "metadata": {},
   "outputs": [
    {
     "data": {
      "text/plain": [
       "sex              -0.548920\n",
       "length           -1.020771\n",
       "dia              -0.996014\n",
       "height           -0.816961\n",
       "whole weight     -0.236646\n",
       "shucked weight   -0.141443\n",
       "viscera weight   -0.183321\n",
       "shell weight     -0.222772\n",
       "rings             1.114102\n",
       "dtype: float64"
      ]
     },
     "execution_count": 38,
     "metadata": {},
     "output_type": "execute_result"
    }
   ],
   "source": [
    "df.iloc[:,:-1]=np.sqrt(df.iloc[:,:-1])\n",
    "df.skew()"
   ]
  },
  {
   "cell_type": "markdown",
   "metadata": {},
   "source": [
    "# Cleaning the data"
   ]
  },
  {
   "cell_type": "markdown",
   "metadata": {},
   "source": [
    "removing features with high VIF score"
   ]
  },
  {
   "cell_type": "code",
   "execution_count": 39,
   "metadata": {},
   "outputs": [
    {
     "data": {
      "text/html": [
       "<div>\n",
       "<style scoped>\n",
       "    .dataframe tbody tr th:only-of-type {\n",
       "        vertical-align: middle;\n",
       "    }\n",
       "\n",
       "    .dataframe tbody tr th {\n",
       "        vertical-align: top;\n",
       "    }\n",
       "\n",
       "    .dataframe thead th {\n",
       "        text-align: right;\n",
       "    }\n",
       "</style>\n",
       "<table border=\"1\" class=\"dataframe\">\n",
       "  <thead>\n",
       "    <tr style=\"text-align: right;\">\n",
       "      <th></th>\n",
       "      <th>sex</th>\n",
       "      <th>length</th>\n",
       "      <th>height</th>\n",
       "      <th>whole weight</th>\n",
       "      <th>shucked weight</th>\n",
       "      <th>viscera weight</th>\n",
       "      <th>shell weight</th>\n",
       "      <th>rings</th>\n",
       "    </tr>\n",
       "  </thead>\n",
       "  <tbody>\n",
       "    <tr>\n",
       "      <th>0</th>\n",
       "      <td>1.414214</td>\n",
       "      <td>0.674537</td>\n",
       "      <td>0.555176</td>\n",
       "      <td>0.716938</td>\n",
       "      <td>0.473814</td>\n",
       "      <td>0.317805</td>\n",
       "      <td>0.387298</td>\n",
       "      <td>15</td>\n",
       "    </tr>\n",
       "    <tr>\n",
       "      <th>1</th>\n",
       "      <td>1.414214</td>\n",
       "      <td>0.591608</td>\n",
       "      <td>0.547723</td>\n",
       "      <td>0.474868</td>\n",
       "      <td>0.315436</td>\n",
       "      <td>0.220227</td>\n",
       "      <td>0.264575</td>\n",
       "      <td>7</td>\n",
       "    </tr>\n",
       "    <tr>\n",
       "      <th>2</th>\n",
       "      <td>0.000000</td>\n",
       "      <td>0.728011</td>\n",
       "      <td>0.606155</td>\n",
       "      <td>0.822800</td>\n",
       "      <td>0.506458</td>\n",
       "      <td>0.376165</td>\n",
       "      <td>0.458258</td>\n",
       "      <td>9</td>\n",
       "    </tr>\n",
       "    <tr>\n",
       "      <th>3</th>\n",
       "      <td>1.414214</td>\n",
       "      <td>0.663325</td>\n",
       "      <td>0.594604</td>\n",
       "      <td>0.718331</td>\n",
       "      <td>0.464220</td>\n",
       "      <td>0.337639</td>\n",
       "      <td>0.393700</td>\n",
       "      <td>10</td>\n",
       "    </tr>\n",
       "    <tr>\n",
       "      <th>4</th>\n",
       "      <td>1.000000</td>\n",
       "      <td>0.574456</td>\n",
       "      <td>0.531830</td>\n",
       "      <td>0.452769</td>\n",
       "      <td>0.299166</td>\n",
       "      <td>0.198746</td>\n",
       "      <td>0.234521</td>\n",
       "      <td>7</td>\n",
       "    </tr>\n",
       "    <tr>\n",
       "      <th>...</th>\n",
       "      <td>...</td>\n",
       "      <td>...</td>\n",
       "      <td>...</td>\n",
       "      <td>...</td>\n",
       "      <td>...</td>\n",
       "      <td>...</td>\n",
       "      <td>...</td>\n",
       "      <td>...</td>\n",
       "    </tr>\n",
       "    <tr>\n",
       "      <th>4172</th>\n",
       "      <td>0.000000</td>\n",
       "      <td>0.751665</td>\n",
       "      <td>0.637340</td>\n",
       "      <td>0.941807</td>\n",
       "      <td>0.608276</td>\n",
       "      <td>0.488876</td>\n",
       "      <td>0.498999</td>\n",
       "      <td>11</td>\n",
       "    </tr>\n",
       "    <tr>\n",
       "      <th>4173</th>\n",
       "      <td>1.414214</td>\n",
       "      <td>0.768115</td>\n",
       "      <td>0.606155</td>\n",
       "      <td>0.982853</td>\n",
       "      <td>0.662571</td>\n",
       "      <td>0.463141</td>\n",
       "      <td>0.510392</td>\n",
       "      <td>10</td>\n",
       "    </tr>\n",
       "    <tr>\n",
       "      <th>4174</th>\n",
       "      <td>1.414214</td>\n",
       "      <td>0.774597</td>\n",
       "      <td>0.672881</td>\n",
       "      <td>1.084435</td>\n",
       "      <td>0.724914</td>\n",
       "      <td>0.536190</td>\n",
       "      <td>0.554977</td>\n",
       "      <td>9</td>\n",
       "    </tr>\n",
       "    <tr>\n",
       "      <th>4175</th>\n",
       "      <td>0.000000</td>\n",
       "      <td>0.790569</td>\n",
       "      <td>0.622333</td>\n",
       "      <td>1.046184</td>\n",
       "      <td>0.728697</td>\n",
       "      <td>0.510882</td>\n",
       "      <td>0.544059</td>\n",
       "      <td>10</td>\n",
       "    </tr>\n",
       "    <tr>\n",
       "      <th>4176</th>\n",
       "      <td>1.414214</td>\n",
       "      <td>0.842615</td>\n",
       "      <td>0.664521</td>\n",
       "      <td>1.395887</td>\n",
       "      <td>0.972368</td>\n",
       "      <td>0.613596</td>\n",
       "      <td>0.703562</td>\n",
       "      <td>12</td>\n",
       "    </tr>\n",
       "  </tbody>\n",
       "</table>\n",
       "<p>4177 rows × 8 columns</p>\n",
       "</div>"
      ],
      "text/plain": [
       "           sex    length    height  whole weight  shucked weight  \\\n",
       "0     1.414214  0.674537  0.555176      0.716938        0.473814   \n",
       "1     1.414214  0.591608  0.547723      0.474868        0.315436   \n",
       "2     0.000000  0.728011  0.606155      0.822800        0.506458   \n",
       "3     1.414214  0.663325  0.594604      0.718331        0.464220   \n",
       "4     1.000000  0.574456  0.531830      0.452769        0.299166   \n",
       "...        ...       ...       ...           ...             ...   \n",
       "4172  0.000000  0.751665  0.637340      0.941807        0.608276   \n",
       "4173  1.414214  0.768115  0.606155      0.982853        0.662571   \n",
       "4174  1.414214  0.774597  0.672881      1.084435        0.724914   \n",
       "4175  0.000000  0.790569  0.622333      1.046184        0.728697   \n",
       "4176  1.414214  0.842615  0.664521      1.395887        0.972368   \n",
       "\n",
       "      viscera weight  shell weight  rings  \n",
       "0           0.317805      0.387298     15  \n",
       "1           0.220227      0.264575      7  \n",
       "2           0.376165      0.458258      9  \n",
       "3           0.337639      0.393700     10  \n",
       "4           0.198746      0.234521      7  \n",
       "...              ...           ...    ...  \n",
       "4172        0.488876      0.498999     11  \n",
       "4173        0.463141      0.510392     10  \n",
       "4174        0.536190      0.554977      9  \n",
       "4175        0.510882      0.544059     10  \n",
       "4176        0.613596      0.703562     12  \n",
       "\n",
       "[4177 rows x 8 columns]"
      ]
     },
     "execution_count": 39,
     "metadata": {},
     "output_type": "execute_result"
    }
   ],
   "source": [
    "df=df.drop([\"dia\"],axis=1) \n",
    "df"
   ]
  },
  {
   "cell_type": "code",
   "execution_count": 40,
   "metadata": {},
   "outputs": [
    {
     "data": {
      "text/html": [
       "<div>\n",
       "<style scoped>\n",
       "    .dataframe tbody tr th:only-of-type {\n",
       "        vertical-align: middle;\n",
       "    }\n",
       "\n",
       "    .dataframe tbody tr th {\n",
       "        vertical-align: top;\n",
       "    }\n",
       "\n",
       "    .dataframe thead th {\n",
       "        text-align: right;\n",
       "    }\n",
       "</style>\n",
       "<table border=\"1\" class=\"dataframe\">\n",
       "  <thead>\n",
       "    <tr style=\"text-align: right;\">\n",
       "      <th></th>\n",
       "      <th>sex</th>\n",
       "      <th>length</th>\n",
       "      <th>height</th>\n",
       "      <th>whole weight</th>\n",
       "      <th>viscera weight</th>\n",
       "      <th>shell weight</th>\n",
       "      <th>rings</th>\n",
       "    </tr>\n",
       "  </thead>\n",
       "  <tbody>\n",
       "    <tr>\n",
       "      <th>0</th>\n",
       "      <td>1.414214</td>\n",
       "      <td>0.674537</td>\n",
       "      <td>0.555176</td>\n",
       "      <td>0.716938</td>\n",
       "      <td>0.317805</td>\n",
       "      <td>0.387298</td>\n",
       "      <td>15</td>\n",
       "    </tr>\n",
       "    <tr>\n",
       "      <th>1</th>\n",
       "      <td>1.414214</td>\n",
       "      <td>0.591608</td>\n",
       "      <td>0.547723</td>\n",
       "      <td>0.474868</td>\n",
       "      <td>0.220227</td>\n",
       "      <td>0.264575</td>\n",
       "      <td>7</td>\n",
       "    </tr>\n",
       "    <tr>\n",
       "      <th>2</th>\n",
       "      <td>0.000000</td>\n",
       "      <td>0.728011</td>\n",
       "      <td>0.606155</td>\n",
       "      <td>0.822800</td>\n",
       "      <td>0.376165</td>\n",
       "      <td>0.458258</td>\n",
       "      <td>9</td>\n",
       "    </tr>\n",
       "    <tr>\n",
       "      <th>3</th>\n",
       "      <td>1.414214</td>\n",
       "      <td>0.663325</td>\n",
       "      <td>0.594604</td>\n",
       "      <td>0.718331</td>\n",
       "      <td>0.337639</td>\n",
       "      <td>0.393700</td>\n",
       "      <td>10</td>\n",
       "    </tr>\n",
       "    <tr>\n",
       "      <th>4</th>\n",
       "      <td>1.000000</td>\n",
       "      <td>0.574456</td>\n",
       "      <td>0.531830</td>\n",
       "      <td>0.452769</td>\n",
       "      <td>0.198746</td>\n",
       "      <td>0.234521</td>\n",
       "      <td>7</td>\n",
       "    </tr>\n",
       "    <tr>\n",
       "      <th>...</th>\n",
       "      <td>...</td>\n",
       "      <td>...</td>\n",
       "      <td>...</td>\n",
       "      <td>...</td>\n",
       "      <td>...</td>\n",
       "      <td>...</td>\n",
       "      <td>...</td>\n",
       "    </tr>\n",
       "    <tr>\n",
       "      <th>4172</th>\n",
       "      <td>0.000000</td>\n",
       "      <td>0.751665</td>\n",
       "      <td>0.637340</td>\n",
       "      <td>0.941807</td>\n",
       "      <td>0.488876</td>\n",
       "      <td>0.498999</td>\n",
       "      <td>11</td>\n",
       "    </tr>\n",
       "    <tr>\n",
       "      <th>4173</th>\n",
       "      <td>1.414214</td>\n",
       "      <td>0.768115</td>\n",
       "      <td>0.606155</td>\n",
       "      <td>0.982853</td>\n",
       "      <td>0.463141</td>\n",
       "      <td>0.510392</td>\n",
       "      <td>10</td>\n",
       "    </tr>\n",
       "    <tr>\n",
       "      <th>4174</th>\n",
       "      <td>1.414214</td>\n",
       "      <td>0.774597</td>\n",
       "      <td>0.672881</td>\n",
       "      <td>1.084435</td>\n",
       "      <td>0.536190</td>\n",
       "      <td>0.554977</td>\n",
       "      <td>9</td>\n",
       "    </tr>\n",
       "    <tr>\n",
       "      <th>4175</th>\n",
       "      <td>0.000000</td>\n",
       "      <td>0.790569</td>\n",
       "      <td>0.622333</td>\n",
       "      <td>1.046184</td>\n",
       "      <td>0.510882</td>\n",
       "      <td>0.544059</td>\n",
       "      <td>10</td>\n",
       "    </tr>\n",
       "    <tr>\n",
       "      <th>4176</th>\n",
       "      <td>1.414214</td>\n",
       "      <td>0.842615</td>\n",
       "      <td>0.664521</td>\n",
       "      <td>1.395887</td>\n",
       "      <td>0.613596</td>\n",
       "      <td>0.703562</td>\n",
       "      <td>12</td>\n",
       "    </tr>\n",
       "  </tbody>\n",
       "</table>\n",
       "<p>4177 rows × 7 columns</p>\n",
       "</div>"
      ],
      "text/plain": [
       "           sex    length    height  whole weight  viscera weight  \\\n",
       "0     1.414214  0.674537  0.555176      0.716938        0.317805   \n",
       "1     1.414214  0.591608  0.547723      0.474868        0.220227   \n",
       "2     0.000000  0.728011  0.606155      0.822800        0.376165   \n",
       "3     1.414214  0.663325  0.594604      0.718331        0.337639   \n",
       "4     1.000000  0.574456  0.531830      0.452769        0.198746   \n",
       "...        ...       ...       ...           ...             ...   \n",
       "4172  0.000000  0.751665  0.637340      0.941807        0.488876   \n",
       "4173  1.414214  0.768115  0.606155      0.982853        0.463141   \n",
       "4174  1.414214  0.774597  0.672881      1.084435        0.536190   \n",
       "4175  0.000000  0.790569  0.622333      1.046184        0.510882   \n",
       "4176  1.414214  0.842615  0.664521      1.395887        0.613596   \n",
       "\n",
       "      shell weight  rings  \n",
       "0         0.387298     15  \n",
       "1         0.264575      7  \n",
       "2         0.458258      9  \n",
       "3         0.393700     10  \n",
       "4         0.234521      7  \n",
       "...            ...    ...  \n",
       "4172      0.498999     11  \n",
       "4173      0.510392     10  \n",
       "4174      0.554977      9  \n",
       "4175      0.544059     10  \n",
       "4176      0.703562     12  \n",
       "\n",
       "[4177 rows x 7 columns]"
      ]
     },
     "execution_count": 40,
     "metadata": {},
     "output_type": "execute_result"
    }
   ],
   "source": [
    "df=df.drop([\"shucked weight\"],axis=1) \n",
    "df"
   ]
  },
  {
   "cell_type": "code",
   "execution_count": 41,
   "metadata": {},
   "outputs": [
    {
     "data": {
      "text/html": [
       "<div>\n",
       "<style scoped>\n",
       "    .dataframe tbody tr th:only-of-type {\n",
       "        vertical-align: middle;\n",
       "    }\n",
       "\n",
       "    .dataframe tbody tr th {\n",
       "        vertical-align: top;\n",
       "    }\n",
       "\n",
       "    .dataframe thead th {\n",
       "        text-align: right;\n",
       "    }\n",
       "</style>\n",
       "<table border=\"1\" class=\"dataframe\">\n",
       "  <thead>\n",
       "    <tr style=\"text-align: right;\">\n",
       "      <th></th>\n",
       "      <th>variables</th>\n",
       "      <th>VIF</th>\n",
       "    </tr>\n",
       "  </thead>\n",
       "  <tbody>\n",
       "    <tr>\n",
       "      <th>0</th>\n",
       "      <td>sex</td>\n",
       "      <td>3.086981</td>\n",
       "    </tr>\n",
       "    <tr>\n",
       "      <th>1</th>\n",
       "      <td>length</td>\n",
       "      <td>766.545700</td>\n",
       "    </tr>\n",
       "    <tr>\n",
       "      <th>2</th>\n",
       "      <td>height</td>\n",
       "      <td>518.025353</td>\n",
       "    </tr>\n",
       "    <tr>\n",
       "      <th>3</th>\n",
       "      <td>whole weight</td>\n",
       "      <td>498.392271</td>\n",
       "    </tr>\n",
       "    <tr>\n",
       "      <th>4</th>\n",
       "      <td>viscera weight</td>\n",
       "      <td>217.245385</td>\n",
       "    </tr>\n",
       "    <tr>\n",
       "      <th>5</th>\n",
       "      <td>shell weight</td>\n",
       "      <td>196.591379</td>\n",
       "    </tr>\n",
       "  </tbody>\n",
       "</table>\n",
       "</div>"
      ],
      "text/plain": [
       "        variables         VIF\n",
       "0             sex    3.086981\n",
       "1          length  766.545700\n",
       "2          height  518.025353\n",
       "3    whole weight  498.392271\n",
       "4  viscera weight  217.245385\n",
       "5    shell weight  196.591379"
      ]
     },
     "execution_count": 41,
     "metadata": {},
     "output_type": "execute_result"
    }
   ],
   "source": [
    "x=df.iloc[:,:-1]\n",
    "c_vif(x)"
   ]
  },
  {
   "cell_type": "markdown",
   "metadata": {},
   "source": [
    "Removing outliers "
   ]
  },
  {
   "cell_type": "code",
   "execution_count": 42,
   "metadata": {},
   "outputs": [
    {
     "data": {
      "text/plain": [
       "(4177, 7)"
      ]
     },
     "execution_count": 42,
     "metadata": {},
     "output_type": "execute_result"
    }
   ],
   "source": [
    "import scipy\n",
    "from scipy.stats import zscore \n",
    "z=np.abs(zscore(df))\n",
    "z.shape"
   ]
  },
  {
   "cell_type": "code",
   "execution_count": 43,
   "metadata": {},
   "outputs": [
    {
     "name": "stdout",
     "output_type": "stream",
     "text": [
      "(4177, 7)\n",
      "(4050, 7)\n"
     ]
    }
   ],
   "source": [
    "threshold=3\n",
    "df_new=df[(z<3).all(axis=1)]\n",
    "print(df.shape)\n",
    "print(df_new.shape)"
   ]
  },
  {
   "cell_type": "code",
   "execution_count": 47,
   "metadata": {},
   "outputs": [
    {
     "data": {
      "text/plain": [
       "3.040459660043093"
      ]
     },
     "execution_count": 47,
     "metadata": {},
     "output_type": "execute_result"
    }
   ],
   "source": [
    "#data loss \n",
    "loss=(4177-4050)/4177*100\n",
    "loss"
   ]
  },
  {
   "cell_type": "markdown",
   "metadata": {},
   "source": [
    "Since the data loss is only 3% we can proceed "
   ]
  },
  {
   "cell_type": "code",
   "execution_count": 48,
   "metadata": {},
   "outputs": [
    {
     "name": "stdout",
     "output_type": "stream",
     "text": [
      "sex               1.414214\n",
      "length            0.113399\n",
      "height            0.055003\n",
      "whole weight      0.409324\n",
      "viscera weight    0.197213\n",
      "shell weight      0.213030\n",
      "rings             3.000000\n",
      "dtype: float64\n"
     ]
    }
   ],
   "source": [
    "Q1=df.quantile(0.25)\n",
    "Q3=df.quantile(0.75)\n",
    "IQR= Q3-Q1\n",
    "print(IQR)"
   ]
  },
  {
   "cell_type": "code",
   "execution_count": 49,
   "metadata": {},
   "outputs": [
    {
     "name": "stdout",
     "output_type": "stream",
     "text": [
      "(3778, 7)\n"
     ]
    }
   ],
   "source": [
    "df_new1=df[~((df<(Q1 - 1.5*IQR))|(df> (Q3 + 1.5*IQR))).any(axis=1)]\n",
    "print(df_new1.shape)"
   ]
  },
  {
   "cell_type": "markdown",
   "metadata": {},
   "source": [
    "Since the data loss using Zscore is lesser we shall proceed with that."
   ]
  },
  {
   "cell_type": "code",
   "execution_count": 50,
   "metadata": {},
   "outputs": [],
   "source": [
    "x=df_new.iloc[:,:-1]\n",
    "y=df_new.iloc[:,-1]"
   ]
  },
  {
   "cell_type": "code",
   "execution_count": 51,
   "metadata": {},
   "outputs": [
    {
     "name": "stdout",
     "output_type": "stream",
     "text": [
      "(4050, 6)\n",
      "(4050,)\n"
     ]
    }
   ],
   "source": [
    "print(x.shape)\n",
    "print(y.shape)"
   ]
  },
  {
   "cell_type": "markdown",
   "metadata": {},
   "source": [
    "Removing skewness "
   ]
  },
  {
   "cell_type": "code",
   "execution_count": 52,
   "metadata": {},
   "outputs": [
    {
     "data": {
      "text/plain": [
       "array([[ 1.03953654, -0.71515753, -1.22658266, -0.56665216, -0.668411  ,\n",
       "        -0.5722176 ],\n",
       "       [ 1.03953654, -1.48534305, -1.35879713, -1.39446145, -1.37465511,\n",
       "        -1.37383854],\n",
       "       [-1.37680213, -0.07025703, -0.15146219, -0.19093269, -0.23544221,\n",
       "        -0.08777447],\n",
       "       ...,\n",
       "       [ 1.03953654,  0.60662214,  1.81558304,  0.77086557,  0.99058681,\n",
       "         0.59662524],\n",
       "       [-1.37680213,  0.86649953,  0.2605508 ,  0.62740312,  0.79299758,\n",
       "         0.51799056],\n",
       "       [ 1.03953654,  1.82394963,  1.5276018 ,  1.97314626,  1.60324503,\n",
       "         1.70077974]])"
      ]
     },
     "execution_count": 52,
     "metadata": {},
     "output_type": "execute_result"
    }
   ],
   "source": [
    "from sklearn.preprocessing import power_transform \n",
    "x=power_transform(x,method=\"yeo-johnson\")\n",
    "x"
   ]
  },
  {
   "cell_type": "markdown",
   "metadata": {},
   "source": [
    "# Preprocessing"
   ]
  },
  {
   "cell_type": "code",
   "execution_count": 53,
   "metadata": {},
   "outputs": [
    {
     "data": {
      "text/plain": [
       "array([[1.        , 0.29124975, 0.21263329, 0.33089905, 0.35197162,\n",
       "        0.31881168],\n",
       "       [1.        , 0.15077071, 0.18879514, 0.17181008, 0.23168103,\n",
       "        0.17699164],\n",
       "       [0.        , 0.40887725, 0.40647648, 0.40310508, 0.42571677,\n",
       "        0.4045177 ],\n",
       "       ...,\n",
       "       [1.        , 0.53233754, 0.76113285, 0.58794415, 0.63453942,\n",
       "        0.52559935],\n",
       "       [0.        , 0.57973823, 0.48076203, 0.56037344, 0.60088515,\n",
       "        0.51168757],\n",
       "       [1.        , 0.75437364, 0.70921011, 0.81899931, 0.73889005,\n",
       "        0.72094259]])"
      ]
     },
     "execution_count": 53,
     "metadata": {},
     "output_type": "execute_result"
    }
   ],
   "source": [
    "from sklearn.preprocessing import MinMaxScaler\n",
    "ms=MinMaxScaler()\n",
    "x=ms.fit_transform(x)\n",
    "x"
   ]
  },
  {
   "cell_type": "markdown",
   "metadata": {},
   "source": [
    "# Linear Regression"
   ]
  },
  {
   "cell_type": "code",
   "execution_count": 54,
   "metadata": {},
   "outputs": [],
   "source": [
    "from sklearn.linear_model import LinearRegression\n",
    "from sklearn.metrics import r2_score\n",
    "from sklearn.model_selection import train_test_split"
   ]
  },
  {
   "cell_type": "code",
   "execution_count": 55,
   "metadata": {},
   "outputs": [],
   "source": [
    "from sklearn.model_selection import train_test_split\n",
    "x_train,x_test,y_train,y_test=train_test_split(x,y,test_size=0.2, random_state=42)"
   ]
  },
  {
   "cell_type": "code",
   "execution_count": 56,
   "metadata": {},
   "outputs": [
    {
     "name": "stdout",
     "output_type": "stream",
     "text": [
      "At random state= 0 training accuracy = 0.4589201651847612\n",
      "At random state= 0 testing accuracy = 0.43735183115024845\n",
      "\n",
      "\n",
      "At random state= 1 training accuracy = 0.4679757357724019\n",
      "At random state= 1 testing accuracy = 0.39983117739071794\n",
      "\n",
      "\n",
      "At random state= 2 training accuracy = 0.45209772468327525\n",
      "At random state= 2 testing accuracy = 0.4662188864657577\n",
      "\n",
      "\n",
      "At random state= 3 training accuracy = 0.4494143495345332\n",
      "At random state= 3 testing accuracy = 0.47799731872128015\n",
      "\n",
      "\n",
      "At random state= 4 training accuracy = 0.4495154821399713\n",
      "At random state= 4 testing accuracy = 0.4761128736828062\n",
      "\n",
      "\n",
      "At random state= 5 training accuracy = 0.4627416791434049\n",
      "At random state= 5 testing accuracy = 0.41788568374081403\n",
      "\n",
      "\n",
      "At random state= 6 training accuracy = 0.44839415000288385\n",
      "At random state= 6 testing accuracy = 0.4781839846005158\n",
      "\n",
      "\n",
      "At random state= 7 training accuracy = 0.4616673789297261\n",
      "At random state= 7 testing accuracy = 0.4254245671711363\n",
      "\n",
      "\n",
      "At random state= 8 training accuracy = 0.453749877665122\n",
      "At random state= 8 testing accuracy = 0.45657535097484614\n",
      "\n",
      "\n",
      "At random state= 9 training accuracy = 0.45611818031799733\n",
      "At random state= 9 testing accuracy = 0.447127600116743\n",
      "\n",
      "\n",
      "At random state= 10 training accuracy = 0.43986080593646737\n",
      "At random state= 10 testing accuracy = 0.5156228708220083\n",
      "\n",
      "\n",
      "At random state= 11 training accuracy = 0.4546032769313808\n",
      "At random state= 11 testing accuracy = 0.45431990603104355\n",
      "\n",
      "\n",
      "At random state= 12 training accuracy = 0.4401623857721414\n",
      "At random state= 12 testing accuracy = 0.5091363380329549\n",
      "\n",
      "\n",
      "At random state= 13 training accuracy = 0.448703407129896\n",
      "At random state= 13 testing accuracy = 0.4778286031930663\n",
      "\n",
      "\n",
      "At random state= 14 training accuracy = 0.44884131254746995\n",
      "At random state= 14 testing accuracy = 0.4776279453676805\n",
      "\n",
      "\n",
      "At random state= 15 training accuracy = 0.45268876488981646\n",
      "At random state= 15 testing accuracy = 0.46310701762411033\n",
      "\n",
      "\n",
      "At random state= 16 training accuracy = 0.4547522309652685\n",
      "At random state= 16 testing accuracy = 0.45577173933169113\n",
      "\n",
      "\n",
      "At random state= 17 training accuracy = 0.4665714883136971\n",
      "At random state= 17 testing accuracy = 0.40122958523969354\n",
      "\n",
      "\n",
      "At random state= 18 training accuracy = 0.4540498419068699\n",
      "At random state= 18 testing accuracy = 0.4575177572225675\n",
      "\n",
      "\n",
      "At random state= 19 training accuracy = 0.457878931617566\n",
      "At random state= 19 testing accuracy = 0.44159614783740975\n",
      "\n",
      "\n",
      "At random state= 20 training accuracy = 0.4573099307573867\n",
      "At random state= 20 testing accuracy = 0.441645259461382\n",
      "\n",
      "\n",
      "At random state= 21 training accuracy = 0.4640067903194891\n",
      "At random state= 21 testing accuracy = 0.41714577943135944\n",
      "\n",
      "\n",
      "At random state= 22 training accuracy = 0.4596622453454129\n",
      "At random state= 22 testing accuracy = 0.43439950011902106\n",
      "\n",
      "\n",
      "At random state= 23 training accuracy = 0.453833741814073\n",
      "At random state= 23 testing accuracy = 0.4549565521036917\n",
      "\n",
      "\n",
      "At random state= 24 training accuracy = 0.4563913043627129\n",
      "At random state= 24 testing accuracy = 0.44747129312899114\n",
      "\n",
      "\n",
      "At random state= 25 training accuracy = 0.4502395095749796\n",
      "At random state= 25 testing accuracy = 0.4751172085537747\n",
      "\n",
      "\n",
      "At random state= 26 training accuracy = 0.4557952887294333\n",
      "At random state= 26 testing accuracy = 0.45167352846589726\n",
      "\n",
      "\n",
      "At random state= 27 training accuracy = 0.4693079743316311\n",
      "At random state= 27 testing accuracy = 0.38997294227814516\n",
      "\n",
      "\n",
      "At random state= 28 training accuracy = 0.4478428787626887\n",
      "At random state= 28 testing accuracy = 0.478782883358325\n",
      "\n",
      "\n",
      "At random state= 29 training accuracy = 0.45888681450933555\n",
      "At random state= 29 testing accuracy = 0.43900178342879315\n",
      "\n",
      "\n",
      "At random state= 30 training accuracy = 0.4628672512485752\n",
      "At random state= 30 testing accuracy = 0.4173134804388726\n",
      "\n",
      "\n",
      "At random state= 31 training accuracy = 0.4634353741043662\n",
      "At random state= 31 testing accuracy = 0.41806513110809573\n",
      "\n",
      "\n",
      "At random state= 32 training accuracy = 0.45122362750117906\n",
      "At random state= 32 testing accuracy = 0.47024306228512003\n",
      "\n",
      "\n",
      "At random state= 33 training accuracy = 0.45775597895976805\n",
      "At random state= 33 testing accuracy = 0.4436123290731778\n",
      "\n",
      "\n",
      "At random state= 34 training accuracy = 0.45677130774423647\n",
      "At random state= 34 testing accuracy = 0.4453050951162726\n",
      "\n",
      "\n",
      "At random state= 35 training accuracy = 0.4469329226031846\n",
      "At random state= 35 testing accuracy = 0.48377560684479237\n",
      "\n",
      "\n",
      "At random state= 36 training accuracy = 0.44944872377540446\n",
      "At random state= 36 testing accuracy = 0.47556471543113854\n",
      "\n",
      "\n",
      "At random state= 37 training accuracy = 0.44782019062111345\n",
      "At random state= 37 testing accuracy = 0.4824421410169025\n",
      "\n",
      "\n",
      "At random state= 38 training accuracy = 0.4633340806097074\n",
      "At random state= 38 testing accuracy = 0.4196271984787555\n",
      "\n",
      "\n",
      "At random state= 39 training accuracy = 0.4482104851706932\n",
      "At random state= 39 testing accuracy = 0.4781212067871189\n",
      "\n",
      "\n",
      "At random state= 40 training accuracy = 0.4495958172996595\n",
      "At random state= 40 testing accuracy = 0.47274492642218224\n",
      "\n",
      "\n",
      "At random state= 41 training accuracy = 0.4541980444284649\n",
      "At random state= 41 testing accuracy = 0.45646490325922073\n",
      "\n",
      "\n",
      "At random state= 42 training accuracy = 0.45137184102019123\n",
      "At random state= 42 testing accuracy = 0.4661179378394197\n",
      "\n",
      "\n",
      "At random state= 43 training accuracy = 0.4527372956505339\n",
      "At random state= 43 testing accuracy = 0.46070684182061716\n",
      "\n",
      "\n",
      "At random state= 44 training accuracy = 0.4518331868944566\n",
      "At random state= 44 testing accuracy = 0.4663154520981483\n",
      "\n",
      "\n",
      "At random state= 45 training accuracy = 0.4494741345529345\n",
      "At random state= 45 testing accuracy = 0.4752642161012155\n",
      "\n",
      "\n",
      "At random state= 46 training accuracy = 0.4534732536258117\n",
      "At random state= 46 testing accuracy = 0.4589661530405934\n",
      "\n",
      "\n",
      "At random state= 47 training accuracy = 0.45119218683719975\n",
      "At random state= 47 testing accuracy = 0.4696053836981313\n",
      "\n",
      "\n",
      "At random state= 48 training accuracy = 0.4563548943268506\n",
      "At random state= 48 testing accuracy = 0.44744272789031914\n",
      "\n",
      "\n",
      "At random state= 49 training accuracy = 0.4653959966327337\n",
      "At random state= 49 testing accuracy = 0.40508653198914213\n",
      "\n",
      "\n",
      "At random state= 50 training accuracy = 0.4570073035518839\n",
      "At random state= 50 testing accuracy = 0.4430140589839313\n",
      "\n",
      "\n",
      "At random state= 51 training accuracy = 0.45486972567199113\n",
      "At random state= 51 testing accuracy = 0.4534251464356611\n",
      "\n",
      "\n",
      "At random state= 52 training accuracy = 0.46042874919418775\n",
      "At random state= 52 testing accuracy = 0.4298738462239232\n",
      "\n",
      "\n",
      "At random state= 53 training accuracy = 0.45354615484254546\n",
      "At random state= 53 testing accuracy = 0.4602261380419712\n",
      "\n",
      "\n",
      "At random state= 54 training accuracy = 0.45186164107728244\n",
      "At random state= 54 testing accuracy = 0.4668150188314968\n",
      "\n",
      "\n",
      "At random state= 55 training accuracy = 0.44579254138842017\n",
      "At random state= 55 testing accuracy = 0.48994407988571376\n",
      "\n",
      "\n",
      "At random state= 56 training accuracy = 0.4507904112875426\n",
      "At random state= 56 testing accuracy = 0.4710321317925248\n",
      "\n",
      "\n",
      "At random state= 57 training accuracy = 0.45388349629498714\n",
      "At random state= 57 testing accuracy = 0.4582590203330199\n",
      "\n",
      "\n",
      "At random state= 58 training accuracy = 0.45263215985271454\n",
      "At random state= 58 testing accuracy = 0.46474205204027974\n",
      "\n",
      "\n",
      "At random state= 59 training accuracy = 0.45305434911857834\n",
      "At random state= 59 testing accuracy = 0.46166080002480625\n",
      "\n",
      "\n",
      "At random state= 60 training accuracy = 0.4586062650901691\n",
      "At random state= 60 testing accuracy = 0.4386003949232483\n",
      "\n",
      "\n",
      "At random state= 61 training accuracy = 0.44943039995158507\n",
      "At random state= 61 testing accuracy = 0.4735718720612849\n",
      "\n",
      "\n",
      "At random state= 62 training accuracy = 0.4571557575135754\n",
      "At random state= 62 testing accuracy = 0.44483480313685697\n",
      "\n",
      "\n",
      "At random state= 63 training accuracy = 0.4601936270679734\n",
      "At random state= 63 testing accuracy = 0.4346417418055246\n",
      "\n",
      "\n",
      "At random state= 64 training accuracy = 0.45903049923228045\n",
      "At random state= 64 testing accuracy = 0.4371026571202966\n",
      "\n",
      "\n",
      "At random state= 65 training accuracy = 0.45053768621536794\n",
      "At random state= 65 testing accuracy = 0.4669369816766069\n",
      "\n",
      "\n",
      "At random state= 66 training accuracy = 0.45206953432762154\n",
      "At random state= 66 testing accuracy = 0.4608901775591713\n",
      "\n",
      "\n",
      "At random state= 67 training accuracy = 0.4508050711549857\n",
      "At random state= 67 testing accuracy = 0.46868519685417454\n",
      "\n",
      "\n",
      "At random state= 68 training accuracy = 0.4495100698363592\n",
      "At random state= 68 testing accuracy = 0.47607760784317843\n",
      "\n",
      "\n",
      "At random state= 69 training accuracy = 0.44308192682260017\n",
      "At random state= 69 testing accuracy = 0.5035840635700319\n",
      "\n",
      "\n",
      "At random state= 70 training accuracy = 0.4528001877383866\n",
      "At random state= 70 testing accuracy = 0.4598886703420668\n",
      "\n",
      "\n",
      "At random state= 71 training accuracy = 0.4639818251060762\n",
      "At random state= 71 testing accuracy = 0.4185512706093344\n",
      "\n",
      "\n",
      "At random state= 72 training accuracy = 0.4589571854367275\n",
      "At random state= 72 testing accuracy = 0.4363402193889101\n",
      "\n",
      "\n",
      "At random state= 73 training accuracy = 0.4591616338709581\n",
      "At random state= 73 testing accuracy = 0.43659942563727494\n",
      "\n",
      "\n",
      "At random state= 74 training accuracy = 0.4519813046616772\n",
      "At random state= 74 testing accuracy = 0.4654462159708409\n",
      "\n",
      "\n",
      "At random state= 75 training accuracy = 0.4607691309078976\n",
      "At random state= 75 testing accuracy = 0.43212327235208636\n",
      "\n",
      "\n",
      "At random state= 76 training accuracy = 0.4457227630344597\n",
      "At random state= 76 testing accuracy = 0.4891566016718524\n",
      "\n",
      "\n",
      "At random state= 77 training accuracy = 0.4578459607869062\n",
      "At random state= 77 testing accuracy = 0.4401330943386107\n",
      "\n",
      "\n",
      "At random state= 78 training accuracy = 0.45500961449464616\n",
      "At random state= 78 testing accuracy = 0.45409543683620546\n",
      "\n",
      "\n",
      "At random state= 79 training accuracy = 0.45279845810127173\n",
      "At random state= 79 testing accuracy = 0.4599337994075382\n",
      "\n",
      "\n",
      "At random state= 80 training accuracy = 0.449448438372523\n",
      "At random state= 80 testing accuracy = 0.47384389732306664\n",
      "\n",
      "\n",
      "At random state= 81 training accuracy = 0.44768409590120795\n",
      "At random state= 81 testing accuracy = 0.4825097444955768\n",
      "\n",
      "\n",
      "At random state= 82 training accuracy = 0.4568672279664622\n",
      "At random state= 82 testing accuracy = 0.44730966687316875\n",
      "\n",
      "\n",
      "At random state= 83 training accuracy = 0.45497015259045825\n",
      "At random state= 83 testing accuracy = 0.45124063185595786\n",
      "\n",
      "\n",
      "At random state= 84 training accuracy = 0.455195341865673\n",
      "At random state= 84 testing accuracy = 0.45356037295262686\n",
      "\n",
      "\n",
      "At random state= 85 training accuracy = 0.45245685336212815\n",
      "At random state= 85 testing accuracy = 0.46472294640634226\n",
      "\n",
      "\n",
      "At random state= 86 training accuracy = 0.4539168562418092\n",
      "At random state= 86 testing accuracy = 0.458182172186247\n",
      "\n",
      "\n",
      "At random state= 87 training accuracy = 0.45025680349061425\n",
      "At random state= 87 testing accuracy = 0.46829286954216953\n",
      "\n",
      "\n",
      "At random state= 88 training accuracy = 0.4612946195606651\n",
      "At random state= 88 testing accuracy = 0.42858789437186795\n",
      "\n",
      "\n",
      "At random state= 89 training accuracy = 0.4537458673361543\n",
      "At random state= 89 testing accuracy = 0.4591320811598094\n",
      "\n",
      "\n",
      "At random state= 90 training accuracy = 0.45281253013849043\n",
      "At random state= 90 testing accuracy = 0.4620044283086683\n",
      "\n",
      "\n",
      "At random state= 91 training accuracy = 0.4424162394223341\n",
      "At random state= 91 testing accuracy = 0.5062890578403594\n",
      "\n",
      "\n",
      "At random state= 92 training accuracy = 0.4526086215031836\n",
      "At random state= 92 testing accuracy = 0.4606619569398853\n",
      "\n",
      "\n",
      "At random state= 93 training accuracy = 0.46234584483283214\n",
      "At random state= 93 testing accuracy = 0.4212860749748125\n",
      "\n",
      "\n",
      "At random state= 94 training accuracy = 0.4508055590411212\n",
      "At random state= 94 testing accuracy = 0.46914152608503024\n",
      "\n",
      "\n",
      "At random state= 95 training accuracy = 0.4555925363329888\n",
      "At random state= 95 testing accuracy = 0.45092387157846503\n",
      "\n",
      "\n",
      "At random state= 96 training accuracy = 0.4536111362596916\n",
      "At random state= 96 testing accuracy = 0.45784055617869057\n",
      "\n",
      "\n",
      "At random state= 97 training accuracy = 0.45290171844279026\n",
      "At random state= 97 testing accuracy = 0.4622151977479242\n",
      "\n",
      "\n",
      "At random state= 98 training accuracy = 0.4554797790592625\n",
      "At random state= 98 testing accuracy = 0.45210727018937946\n",
      "\n",
      "\n",
      "At random state= 99 training accuracy = 0.4513723332592918\n",
      "At random state= 99 testing accuracy = 0.46964666552389733\n",
      "\n",
      "\n"
     ]
    }
   ],
   "source": [
    "lr=LinearRegression()\n",
    "for i in range(0,100):\n",
    "    x_train,x_test,y_train,y_test=train_test_split(x,y,test_size=0.2, random_state=i)\n",
    "    lr.fit(x_train,y_train)\n",
    "    pred_train=lr.predict(x_train)\n",
    "    pred_test=lr.predict(x_test)\n",
    "    print(\"At random state=\",i,'training accuracy =',r2_score(y_train,pred_train))\n",
    "    print(\"At random state=\",i,'testing accuracy =',r2_score(y_test,pred_test))\n",
    "    print(\"\\n\")"
   ]
  },
  {
   "cell_type": "code",
   "execution_count": 58,
   "metadata": {},
   "outputs": [
    {
     "name": "stdout",
     "output_type": "stream",
     "text": [
      "training accuracy 0.43986080593646737\n",
      "testing accuracy = 0.5156228708220083\n"
     ]
    }
   ],
   "source": [
    "x_train,x_test,y_train,y_test=train_test_split(x,y,test_size=0.2, random_state=10)\n",
    "lr.fit(x_train,y_train)\n",
    "pred_train=lr.predict(x_train)\n",
    "pred_test=lr.predict(x_test)\n",
    "print(\"training accuracy\",r2_score(y_train,pred_train))\n",
    "print('testing accuracy =',r2_score(y_test,pred_test))"
   ]
  },
  {
   "cell_type": "code",
   "execution_count": 59,
   "metadata": {},
   "outputs": [
    {
     "name": "stdout",
     "output_type": "stream",
     "text": [
      "Score = 45.244646979249374 at cv = 2\n",
      "Score = 43.66102569323604 at cv = 3\n",
      "Score = 37.11808615713504 at cv = 4\n",
      "Score = 35.31585811418389 at cv = 5\n",
      "Score = 36.53337616449639 at cv = 6\n",
      "Score = 36.6943145010496 at cv = 7\n",
      "Score = 34.64622032340607 at cv = 8\n",
      "Score = 36.738992856355374 at cv = 9\n"
     ]
    }
   ],
   "source": [
    "from sklearn.model_selection import cross_val_score \n",
    "for i in range(2,10):\n",
    "    lr_cv=cross_val_score(lr,x,y,cv=i)\n",
    "    lrs=lr_cv.mean()\n",
    "    print(\"Score =\",lrs*100,\"at cv =\",i)"
   ]
  },
  {
   "cell_type": "markdown",
   "metadata": {},
   "source": [
    "# Regularization"
   ]
  },
  {
   "cell_type": "code",
   "execution_count": 60,
   "metadata": {},
   "outputs": [],
   "source": [
    "from sklearn.model_selection import GridSearchCV\n",
    "from sklearn.model_selection import cross_val_score \n",
    "import warnings \n",
    "warnings.filterwarnings(\"ignore\")"
   ]
  },
  {
   "cell_type": "code",
   "execution_count": 61,
   "metadata": {},
   "outputs": [],
   "source": [
    "from sklearn.linear_model import Lasso"
   ]
  },
  {
   "cell_type": "code",
   "execution_count": 62,
   "metadata": {},
   "outputs": [
    {
     "name": "stdout",
     "output_type": "stream",
     "text": [
      "{'alpha': 0.0001, 'random_state': 0}\n"
     ]
    }
   ],
   "source": [
    "parameters={\"alpha\":[0.0001,.001,0.1,1,10],\"random_state\":list(range(0,100))}\n",
    "ls=Lasso()\n",
    "clf=GridSearchCV(ls,parameters)\n",
    "clf.fit(x_train,y_train)\n",
    "print(clf.best_params_)"
   ]
  },
  {
   "cell_type": "code",
   "execution_count": 63,
   "metadata": {},
   "outputs": [
    {
     "data": {
      "text/plain": [
       "0.5152605732494402"
      ]
     },
     "execution_count": 63,
     "metadata": {},
     "output_type": "execute_result"
    }
   ],
   "source": [
    "ls=Lasso(alpha=0.0001,random_state=0)\n",
    "ls.fit(x_train,y_train)\n",
    "ls.score(x_train,y_train)\n",
    "pred_ls=ls.predict(x_test)\n",
    "lss=r2_score(y_test,pred_ls)\n",
    "lss"
   ]
  },
  {
   "cell_type": "code",
   "execution_count": 64,
   "metadata": {},
   "outputs": [
    {
     "name": "stdout",
     "output_type": "stream",
     "text": [
      "Score = 45.24473660363164 at cv = 2\n",
      "Score = 43.66532114789886 at cv = 3\n",
      "Score = 37.11631058617683 at cv = 4\n",
      "Score = 35.299339589675256 at cv = 5\n",
      "Score = 36.5329590413556 at cv = 6\n",
      "Score = 36.70417057244188 at cv = 7\n",
      "Score = 34.67495480836853 at cv = 8\n",
      "Score = 36.750572495958565 at cv = 9\n"
     ]
    }
   ],
   "source": [
    "for i in range(2,10):\n",
    "    lss_cv=cross_val_score(ls,x,y,cv=i)\n",
    "    lssc=lss_cv.mean()\n",
    "    print(\"Score =\",lssc*100,\"at cv =\",i)"
   ]
  },
  {
   "cell_type": "markdown",
   "metadata": {},
   "source": [
    "# Ensembling "
   ]
  },
  {
   "cell_type": "code",
   "execution_count": 65,
   "metadata": {},
   "outputs": [
    {
     "name": "stdout",
     "output_type": "stream",
     "text": [
      "{'loss': 'linear', 'random_state': 35}\n"
     ]
    }
   ],
   "source": [
    "from sklearn.model_selection import GridSearchCV\n",
    "from sklearn.ensemble import AdaBoostRegressor \n",
    "\n",
    "parameters={\"loss\":[\"linear\", \"square\", \"exponential\"],\"random_state\":list(range(0,100))}\n",
    "Ad=AdaBoostRegressor()\n",
    "clf=GridSearchCV(Ad,parameters)\n",
    "clf.fit(x_train,y_train)\n",
    "print(clf.best_params_)"
   ]
  },
  {
   "cell_type": "code",
   "execution_count": 69,
   "metadata": {},
   "outputs": [
    {
     "data": {
      "text/plain": [
       "0.30439054362274676"
      ]
     },
     "execution_count": 69,
     "metadata": {},
     "output_type": "execute_result"
    }
   ],
   "source": [
    "Ad=AdaBoostRegressor(loss=\"linear\",random_state=35,learning_rate=2)\n",
    "Ad.fit(x_train,y_train)\n",
    "Ad.score(x_train,y_train)\n",
    "pred_ad=Ad.predict(x_test)\n",
    "r2_ad=r2_score(y_test,pred_ad)\n",
    "r2_ad"
   ]
  },
  {
   "cell_type": "code",
   "execution_count": 70,
   "metadata": {},
   "outputs": [
    {
     "name": "stdout",
     "output_type": "stream",
     "text": [
      "Score = 27.136743709154793 at cv = 2\n",
      "Score = 27.7262002052931 at cv = 3\n",
      "Score = 11.206362257007815 at cv = 4\n",
      "Score = 17.464456008797324 at cv = 5\n",
      "Score = 10.755764298452048 at cv = 6\n",
      "Score = 4.696428056299149 at cv = 7\n",
      "Score = 0.20871764628513784 at cv = 8\n",
      "Score = 5.097391532461468 at cv = 9\n"
     ]
    }
   ],
   "source": [
    "for i in range(2,10):\n",
    "    ad_cv=cross_val_score(Ad,x,y,cv=i)\n",
    "    Ads=ad_cv.mean()\n",
    "    print(\"Score =\",Ads*100,\"at cv =\",i)"
   ]
  },
  {
   "cell_type": "code",
   "execution_count": 71,
   "metadata": {},
   "outputs": [
    {
     "name": "stdout",
     "output_type": "stream",
     "text": [
      "{'criterion': 'mae', 'max_features': 'log2'}\n"
     ]
    }
   ],
   "source": [
    "from sklearn.ensemble import RandomForestRegressor\n",
    "parameters={\"criterion\":[\"mse\",\"mae\"],\"max_features\":[\"auto\",\"sqrt\",\"log2\"]}\n",
    "rf=RandomForestRegressor()\n",
    "clf=GridSearchCV(rf,parameters)\n",
    "clf.fit(x_train,y_train)\n",
    "print(clf.best_params_)"
   ]
  },
  {
   "cell_type": "code",
   "execution_count": 73,
   "metadata": {},
   "outputs": [
    {
     "name": "stdout",
     "output_type": "stream",
     "text": [
      "score_test = 50.9923715693174 random_state = 1\n",
      "\n",
      "\n",
      "score_test = 50.35836360837439 random_state = 2\n",
      "\n",
      "\n",
      "score_test = 51.7879492434905 random_state = 3\n",
      "\n",
      "\n",
      "score_test = 51.02285938599578 random_state = 4\n",
      "\n",
      "\n",
      "score_test = 50.81776697748066 random_state = 5\n",
      "\n",
      "\n",
      "score_test = 50.2629491995074 random_state = 6\n",
      "\n",
      "\n",
      "score_test = 51.26465244546095 random_state = 7\n",
      "\n",
      "\n",
      "score_test = 50.78472119106263 random_state = 8\n",
      "\n",
      "\n",
      "score_test = 50.749817690007035 random_state = 9\n",
      "\n",
      "\n",
      "score_test = 50.47782222026742 random_state = 10\n",
      "\n",
      "\n",
      "score_test = 51.46369550492611 random_state = 11\n",
      "\n",
      "\n",
      "score_test = 50.53550598170305 random_state = 12\n",
      "\n",
      "\n",
      "score_test = 50.55620012315272 random_state = 13\n",
      "\n",
      "\n",
      "score_test = 51.18877748944406 random_state = 14\n",
      "\n",
      "\n",
      "score_test = 51.11342980295568 random_state = 15\n",
      "\n",
      "\n",
      "score_test = 50.7574211382829 random_state = 16\n",
      "\n",
      "\n",
      "score_test = 51.30415451266715 random_state = 17\n",
      "\n",
      "\n",
      "score_test = 50.345944669247025 random_state = 18\n",
      "\n",
      "\n",
      "score_test = 50.509508268824774 random_state = 19\n",
      "\n",
      "\n",
      "score_test = 50.32861088142154 random_state = 20\n",
      "\n",
      "\n",
      "score_test = 50.483954697396214 random_state = 21\n",
      "\n",
      "\n",
      "score_test = 50.17751134764252 random_state = 22\n",
      "\n",
      "\n",
      "score_test = 50.88176807705842 random_state = 23\n",
      "\n",
      "\n",
      "score_test = 50.42258598698099 random_state = 24\n",
      "\n",
      "\n",
      "score_test = 50.736075431034486 random_state = 25\n",
      "\n",
      "\n",
      "score_test = 50.51715328114005 random_state = 26\n",
      "\n",
      "\n",
      "score_test = 51.2232487244898 random_state = 27\n",
      "\n",
      "\n",
      "score_test = 51.11729605031668 random_state = 28\n",
      "\n",
      "\n",
      "score_test = 50.82735283251232 random_state = 29\n",
      "\n",
      "\n",
      "score_test = 51.01736224489797 random_state = 30\n",
      "\n",
      "\n",
      "score_test = 50.76939514426461 random_state = 31\n",
      "\n",
      "\n",
      "score_test = 50.44282173645321 random_state = 32\n",
      "\n",
      "\n",
      "score_test = 50.700960942997895 random_state = 33\n",
      "\n",
      "\n",
      "score_test = 51.06967711998593 random_state = 34\n",
      "\n",
      "\n",
      "score_test = 51.39341625615764 random_state = 35\n",
      "\n",
      "\n",
      "score_test = 50.821083787825486 random_state = 36\n",
      "\n",
      "\n",
      "score_test = 50.56936879838143 random_state = 37\n",
      "\n",
      "\n",
      "score_test = 51.35868811576356 random_state = 38\n",
      "\n",
      "\n",
      "score_test = 51.14369871569318 random_state = 39\n",
      "\n",
      "\n",
      "score_test = 50.97945267417312 random_state = 40\n",
      "\n",
      "\n",
      "score_test = 50.416511303659405 random_state = 41\n",
      "\n",
      "\n",
      "score_test = 50.50168829169599 random_state = 42\n",
      "\n",
      "\n",
      "score_test = 50.94102375087968 random_state = 43\n",
      "\n",
      "\n",
      "score_test = 52.3346355119634 random_state = 44\n",
      "\n",
      "\n",
      "score_test = 50.85425505805772 random_state = 45\n",
      "\n",
      "\n",
      "score_test = 50.92242839549614 random_state = 46\n",
      "\n",
      "\n",
      "score_test = 50.77806263194935 random_state = 47\n",
      "\n",
      "\n",
      "score_test = 51.02914188951444 random_state = 48\n",
      "\n",
      "\n",
      "score_test = 50.3047851864884 random_state = 49\n",
      "\n",
      "\n",
      "score_test = 51.17795975545392 random_state = 50\n",
      "\n",
      "\n",
      "score_test = 50.09747840429276 random_state = 51\n",
      "\n",
      "\n",
      "score_test = 50.880966089021825 random_state = 52\n",
      "\n",
      "\n",
      "score_test = 51.1306191062632 random_state = 53\n",
      "\n",
      "\n",
      "score_test = 49.85343851161155 random_state = 54\n",
      "\n",
      "\n",
      "score_test = 50.70130770584096 random_state = 55\n",
      "\n",
      "\n",
      "score_test = 50.21668288177341 random_state = 56\n",
      "\n",
      "\n",
      "score_test = 50.63906219211823 random_state = 57\n",
      "\n",
      "\n",
      "score_test = 50.78840059817031 random_state = 58\n",
      "\n",
      "\n",
      "score_test = 50.80460859429981 random_state = 59\n",
      "\n",
      "\n",
      "score_test = 50.83656975721325 random_state = 60\n",
      "\n",
      "\n",
      "score_test = 50.814810388810706 random_state = 61\n",
      "\n",
      "\n",
      "score_test = 50.62540662385644 random_state = 62\n",
      "\n",
      "\n",
      "score_test = 50.350919290992266 random_state = 63\n",
      "\n",
      "\n",
      "score_test = 50.95611070548911 random_state = 64\n",
      "\n",
      "\n",
      "score_test = 50.475778457072494 random_state = 65\n",
      "\n",
      "\n",
      "score_test = 51.04335758268825 random_state = 66\n",
      "\n",
      "\n",
      "score_test = 49.88903910098523 random_state = 67\n",
      "\n",
      "\n",
      "score_test = 50.358130849753714 random_state = 68\n",
      "\n",
      "\n",
      "score_test = 50.59041524454611 random_state = 69\n",
      "\n",
      "\n",
      "score_test = 50.45083488740325 random_state = 70\n",
      "\n",
      "\n",
      "score_test = 50.723953377902895 random_state = 71\n",
      "\n",
      "\n",
      "score_test = 50.73659042927516 random_state = 72\n",
      "\n",
      "\n",
      "score_test = 51.20621696868404 random_state = 73\n",
      "\n",
      "\n",
      "score_test = 50.367182705840975 random_state = 74\n",
      "\n",
      "\n",
      "score_test = 50.198323055946524 random_state = 75\n",
      "\n",
      "\n",
      "score_test = 50.4899739619986 random_state = 76\n",
      "\n",
      "\n",
      "score_test = 50.28063925052781 random_state = 77\n",
      "\n",
      "\n",
      "score_test = 50.606449859254056 random_state = 78\n",
      "\n",
      "\n",
      "score_test = 50.74339663969036 random_state = 79\n",
      "\n",
      "\n",
      "score_test = 50.68285921006335 random_state = 80\n",
      "\n",
      "\n",
      "score_test = 50.5638795742435 random_state = 81\n",
      "\n",
      "\n",
      "score_test = 50.3129269880366 random_state = 82\n",
      "\n",
      "\n",
      "score_test = 50.020985925404645 random_state = 83\n",
      "\n",
      "\n",
      "score_test = 51.14979952498242 random_state = 84\n",
      "\n",
      "\n",
      "score_test = 50.18707938951443 random_state = 85\n",
      "\n",
      "\n",
      "score_test = 51.49104583040114 random_state = 86\n",
      "\n",
      "\n",
      "score_test = 50.37627691766362 random_state = 87\n",
      "\n",
      "\n",
      "score_test = 50.8533481703026 random_state = 88\n",
      "\n",
      "\n",
      "score_test = 51.196734429978896 random_state = 89\n",
      "\n",
      "\n",
      "score_test = 50.680556958128086 random_state = 90\n",
      "\n",
      "\n",
      "score_test = 50.17344598874034 random_state = 91\n",
      "\n",
      "\n",
      "score_test = 50.58953052427868 random_state = 92\n",
      "\n",
      "\n",
      "score_test = 50.58545566502464 random_state = 93\n",
      "\n",
      "\n",
      "score_test = 50.4096282987333 random_state = 94\n",
      "\n",
      "\n",
      "score_test = 50.72982657459537 random_state = 95\n",
      "\n",
      "\n",
      "score_test = 50.09776856087264 random_state = 96\n",
      "\n",
      "\n",
      "score_test = 51.21402507037298 random_state = 97\n",
      "\n",
      "\n",
      "score_test = 50.46865873504576 random_state = 98\n",
      "\n",
      "\n",
      "score_test = 50.70632389162563 random_state = 99\n",
      "\n",
      "\n"
     ]
    }
   ],
   "source": [
    "for i in range(1,100):\n",
    "    rf=RandomForestRegressor(criterion=\"mae\",max_features=\"log2\",random_state=i)\n",
    "    rf.fit(x_train,y_train)\n",
    "    rf.score(x_train,y_train)\n",
    "    pred_rf_test=rf.predict(x_test)\n",
    "    rf2=r2_score(y_test,pred_rf_test)\n",
    "    print(\"score_test =\", rf2*100,\"random_state =\",i)\n",
    "    print(\"\\n\")"
   ]
  },
  {
   "cell_type": "code",
   "execution_count": 74,
   "metadata": {},
   "outputs": [
    {
     "name": "stdout",
     "output_type": "stream",
     "text": [
      "score_test = 52.3346355119634\n"
     ]
    }
   ],
   "source": [
    "rf=RandomForestRegressor(criterion=\"mae\",max_features=\"sqrt\",random_state=44)\n",
    "rf.fit(x_train,y_train)\n",
    "rf.score(x_train,y_train)\n",
    "pred_rf_test=rf.predict(x_test)\n",
    "rf2=r2_score(y_test,pred_rf_test)\n",
    "print(\"score_test =\", rf2*100)"
   ]
  },
  {
   "cell_type": "code",
   "execution_count": 75,
   "metadata": {},
   "outputs": [
    {
     "name": "stdout",
     "output_type": "stream",
     "text": [
      "Score = 46.52123832707149 at cv = 2\n",
      "Score = 45.77715619812383 at cv = 3\n",
      "Score = 39.21200074835532 at cv = 4\n",
      "Score = 38.284548651610606 at cv = 5\n",
      "Score = 39.36158316934201 at cv = 6\n",
      "Score = 40.51796313911069 at cv = 7\n",
      "Score = 37.17190022746515 at cv = 8\n",
      "Score = 40.17125788532519 at cv = 9\n",
      "Score = 34.90479921556112 at cv = 10\n"
     ]
    }
   ],
   "source": [
    "for i in range(2,11):\n",
    "    rf_cv=cross_val_score(rf,x,y,cv=i)\n",
    "    rfs=rf_cv.mean()\n",
    "    print(\"Score =\",rfs*100,\"at cv =\",i)"
   ]
  },
  {
   "cell_type": "code",
   "execution_count": 77,
   "metadata": {},
   "outputs": [
    {
     "name": "stdout",
     "output_type": "stream",
     "text": [
      "Score = 46.52123832707149\n"
     ]
    }
   ],
   "source": [
    "rf_cv=cross_val_score(rf,x,y,cv=2)\n",
    "rfs=rf_cv.mean()\n",
    "print(\"Score =\",rfs*100)"
   ]
  },
  {
   "cell_type": "markdown",
   "metadata": {},
   "source": [
    "Model accuray is 52.3% and cross validation is 46.5% \n",
    "\n",
    "This is seemingly the best fit model "
   ]
  },
  {
   "cell_type": "code",
   "execution_count": 78,
   "metadata": {},
   "outputs": [
    {
     "data": {
      "image/png": "[encoded data removed]",
      "text/plain": [
       "<Figure size 576x432 with 1 Axes>"
      ]
     },
     "metadata": {
      "needs_background": "light"
     },
     "output_type": "display_data"
    }
   ],
   "source": [
    "plt.figure(figsize=(8,6))\n",
    "plt.scatter(x=y_test,y=pred_rf_test,color=\"r\")\n",
    "plt.plot(y_test,y_test,color=\"b\")\n",
    "plt.xlabel(\"Actual rings\",fontsize=14)\n",
    "plt.ylabel(\"Predicted rings\",fontsize=14)\n",
    "plt.title(\"Random Forest\",fontsize=18)\n",
    "plt.show()"
   ]
  },
  {
   "cell_type": "markdown",
   "metadata": {},
   "source": [
    "As the plot shows the blue line (predicted values) are not covering most points of the target value. "
   ]
  },
  {
   "cell_type": "markdown",
   "metadata": {},
   "source": [
    "We know from the problem statement that age= rings +1.5"
   ]
  },
  {
   "cell_type": "code",
   "execution_count": 79,
   "metadata": {},
   "outputs": [],
   "source": [
    "#df[\"age\"]=df[\"rings\"]+1.5"
   ]
  },
  {
   "cell_type": "markdown",
   "metadata": {},
   "source": [
    "# Model saving "
   ]
  },
  {
   "cell_type": "code",
   "execution_count": 80,
   "metadata": {},
   "outputs": [],
   "source": [
    "import pickle \n",
    "filename= \"Abalone.pkl\"\n",
    "pickle.dump(rf, open(filename,\"wb\"))"
   ]
  },
  {
   "cell_type": "markdown",
   "metadata": {},
   "source": [
    "# Conclusion"
   ]
  },
  {
   "cell_type": "code",
   "execution_count": 83,
   "metadata": {},
   "outputs": [
    {
     "data": {
      "text/html": [
       "<div>\n",
       "<style scoped>\n",
       "    .dataframe tbody tr th:only-of-type {\n",
       "        vertical-align: middle;\n",
       "    }\n",
       "\n",
       "    .dataframe tbody tr th {\n",
       "        vertical-align: top;\n",
       "    }\n",
       "\n",
       "    .dataframe thead th {\n",
       "        text-align: right;\n",
       "    }\n",
       "</style>\n",
       "<table border=\"1\" class=\"dataframe\">\n",
       "  <thead>\n",
       "    <tr style=\"text-align: right;\">\n",
       "      <th></th>\n",
       "      <th>original</th>\n",
       "      <th>predicted</th>\n",
       "    </tr>\n",
       "  </thead>\n",
       "  <tbody>\n",
       "    <tr>\n",
       "      <th>0</th>\n",
       "      <td>8</td>\n",
       "      <td>6.22</td>\n",
       "    </tr>\n",
       "    <tr>\n",
       "      <th>1</th>\n",
       "      <td>12</td>\n",
       "      <td>13.63</td>\n",
       "    </tr>\n",
       "    <tr>\n",
       "      <th>2</th>\n",
       "      <td>11</td>\n",
       "      <td>10.01</td>\n",
       "    </tr>\n",
       "    <tr>\n",
       "      <th>3</th>\n",
       "      <td>6</td>\n",
       "      <td>6.77</td>\n",
       "    </tr>\n",
       "    <tr>\n",
       "      <th>4</th>\n",
       "      <td>9</td>\n",
       "      <td>8.51</td>\n",
       "    </tr>\n",
       "    <tr>\n",
       "      <th>...</th>\n",
       "      <td>...</td>\n",
       "      <td>...</td>\n",
       "    </tr>\n",
       "    <tr>\n",
       "      <th>805</th>\n",
       "      <td>11</td>\n",
       "      <td>10.33</td>\n",
       "    </tr>\n",
       "    <tr>\n",
       "      <th>806</th>\n",
       "      <td>7</td>\n",
       "      <td>6.53</td>\n",
       "    </tr>\n",
       "    <tr>\n",
       "      <th>807</th>\n",
       "      <td>10</td>\n",
       "      <td>9.25</td>\n",
       "    </tr>\n",
       "    <tr>\n",
       "      <th>808</th>\n",
       "      <td>9</td>\n",
       "      <td>8.40</td>\n",
       "    </tr>\n",
       "    <tr>\n",
       "      <th>809</th>\n",
       "      <td>9</td>\n",
       "      <td>7.70</td>\n",
       "    </tr>\n",
       "  </tbody>\n",
       "</table>\n",
       "<p>810 rows × 2 columns</p>\n",
       "</div>"
      ],
      "text/plain": [
       "     original  predicted\n",
       "0           8       6.22\n",
       "1          12      13.63\n",
       "2          11      10.01\n",
       "3           6       6.77\n",
       "4           9       8.51\n",
       "..        ...        ...\n",
       "805        11      10.33\n",
       "806         7       6.53\n",
       "807        10       9.25\n",
       "808         9       8.40\n",
       "809         9       7.70\n",
       "\n",
       "[810 rows x 2 columns]"
      ]
     },
     "execution_count": 83,
     "metadata": {},
     "output_type": "execute_result"
    }
   ],
   "source": [
    "a=np.array(y_test)\n",
    "predicted = np.array(rf.predict(x_test))\n",
    "df_com=pd.DataFrame({\"original\":a,\"predicted\":predicted}, index=range(len(a)))\n",
    "df_com"
   ]
  },
  {
   "cell_type": "code",
   "execution_count": null,
   "metadata": {},
   "outputs": [],
   "source": []
  }
 ],
 "metadata": {
  "kernelspec": {
   "display_name": "Python 3",
   "language": "python",
   "name": "python3"
  },
  "language_info": {
   "codemirror_mode": {
    "name": "ipython",
    "version": 3
   },
   "file_extension": ".py",
   "mimetype": "text/x-python",
   "name": "python",
   "nbconvert_exporter": "python",
   "pygments_lexer": "ipython3",
   "version": "3.8.5"
  }
 },
 "nbformat": 4,
 "nbformat_minor": 4
}
