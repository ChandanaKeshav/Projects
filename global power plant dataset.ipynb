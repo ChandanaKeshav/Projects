{
 "cells": [
  {
   "cell_type": "code",
   "execution_count": 510,
   "metadata": {},
   "outputs": [],
   "source": [
    "import pandas as pd \n",
    "import numpy as np \n",
    "import seaborn as sns \n",
    "import matplotlib.pyplot as plt"
   ]
  },
  {
   "cell_type": "code",
   "execution_count": 636,
   "metadata": {},
   "outputs": [
    {
     "data": {
      "text/html": [
       "<div>\n",
       "<style scoped>\n",
       "    .dataframe tbody tr th:only-of-type {\n",
       "        vertical-align: middle;\n",
       "    }\n",
       "\n",
       "    .dataframe tbody tr th {\n",
       "        vertical-align: top;\n",
       "    }\n",
       "\n",
       "    .dataframe thead th {\n",
       "        text-align: right;\n",
       "    }\n",
       "</style>\n",
       "<table border=\"1\" class=\"dataframe\">\n",
       "  <thead>\n",
       "    <tr style=\"text-align: right;\">\n",
       "      <th></th>\n",
       "      <th>country</th>\n",
       "      <th>country_long</th>\n",
       "      <th>name</th>\n",
       "      <th>gppd_idnr</th>\n",
       "      <th>capacity_mw</th>\n",
       "      <th>latitude</th>\n",
       "      <th>longitude</th>\n",
       "      <th>primary_fuel</th>\n",
       "      <th>other_fuel1</th>\n",
       "      <th>other_fuel2</th>\n",
       "      <th>...</th>\n",
       "      <th>geolocation_source</th>\n",
       "      <th>wepp_id</th>\n",
       "      <th>year_of_capacity_data</th>\n",
       "      <th>generation_gwh_2013</th>\n",
       "      <th>generation_gwh_2014</th>\n",
       "      <th>generation_gwh_2015</th>\n",
       "      <th>generation_gwh_2016</th>\n",
       "      <th>generation_gwh_2017</th>\n",
       "      <th>generation_data_source</th>\n",
       "      <th>estimated_generation_gwh</th>\n",
       "    </tr>\n",
       "  </thead>\n",
       "  <tbody>\n",
       "    <tr>\n",
       "      <th>0</th>\n",
       "      <td>IND</td>\n",
       "      <td>India</td>\n",
       "      <td>ACME Solar Tower</td>\n",
       "      <td>WRI1020239</td>\n",
       "      <td>2.5</td>\n",
       "      <td>28.1839</td>\n",
       "      <td>73.2407</td>\n",
       "      <td>Solar</td>\n",
       "      <td>NaN</td>\n",
       "      <td>NaN</td>\n",
       "      <td>...</td>\n",
       "      <td>National Renewable Energy Laboratory</td>\n",
       "      <td>NaN</td>\n",
       "      <td>NaN</td>\n",
       "      <td>NaN</td>\n",
       "      <td>NaN</td>\n",
       "      <td>NaN</td>\n",
       "      <td>NaN</td>\n",
       "      <td>NaN</td>\n",
       "      <td>NaN</td>\n",
       "      <td>NaN</td>\n",
       "    </tr>\n",
       "    <tr>\n",
       "      <th>1</th>\n",
       "      <td>IND</td>\n",
       "      <td>India</td>\n",
       "      <td>ADITYA CEMENT WORKS</td>\n",
       "      <td>WRI1019881</td>\n",
       "      <td>98.0</td>\n",
       "      <td>24.7663</td>\n",
       "      <td>74.6090</td>\n",
       "      <td>Coal</td>\n",
       "      <td>NaN</td>\n",
       "      <td>NaN</td>\n",
       "      <td>...</td>\n",
       "      <td>WRI</td>\n",
       "      <td>NaN</td>\n",
       "      <td>NaN</td>\n",
       "      <td>NaN</td>\n",
       "      <td>NaN</td>\n",
       "      <td>NaN</td>\n",
       "      <td>NaN</td>\n",
       "      <td>NaN</td>\n",
       "      <td>NaN</td>\n",
       "      <td>NaN</td>\n",
       "    </tr>\n",
       "    <tr>\n",
       "      <th>2</th>\n",
       "      <td>IND</td>\n",
       "      <td>India</td>\n",
       "      <td>AES Saurashtra Windfarms</td>\n",
       "      <td>WRI1026669</td>\n",
       "      <td>39.2</td>\n",
       "      <td>21.9038</td>\n",
       "      <td>69.3732</td>\n",
       "      <td>Wind</td>\n",
       "      <td>NaN</td>\n",
       "      <td>NaN</td>\n",
       "      <td>...</td>\n",
       "      <td>WRI</td>\n",
       "      <td>NaN</td>\n",
       "      <td>NaN</td>\n",
       "      <td>NaN</td>\n",
       "      <td>NaN</td>\n",
       "      <td>NaN</td>\n",
       "      <td>NaN</td>\n",
       "      <td>NaN</td>\n",
       "      <td>NaN</td>\n",
       "      <td>NaN</td>\n",
       "    </tr>\n",
       "    <tr>\n",
       "      <th>3</th>\n",
       "      <td>IND</td>\n",
       "      <td>India</td>\n",
       "      <td>AGARTALA GT</td>\n",
       "      <td>IND0000001</td>\n",
       "      <td>135.0</td>\n",
       "      <td>23.8712</td>\n",
       "      <td>91.3602</td>\n",
       "      <td>Gas</td>\n",
       "      <td>NaN</td>\n",
       "      <td>NaN</td>\n",
       "      <td>...</td>\n",
       "      <td>WRI</td>\n",
       "      <td>NaN</td>\n",
       "      <td>2018.0</td>\n",
       "      <td>631.777928</td>\n",
       "      <td>617.789264</td>\n",
       "      <td>843.747000</td>\n",
       "      <td>886.004428</td>\n",
       "      <td>663.774500</td>\n",
       "      <td>Central Electricity Authority</td>\n",
       "      <td>NaN</td>\n",
       "    </tr>\n",
       "    <tr>\n",
       "      <th>4</th>\n",
       "      <td>IND</td>\n",
       "      <td>India</td>\n",
       "      <td>AKALTARA TPP</td>\n",
       "      <td>IND0000002</td>\n",
       "      <td>1800.0</td>\n",
       "      <td>21.9603</td>\n",
       "      <td>82.4091</td>\n",
       "      <td>Coal</td>\n",
       "      <td>Oil</td>\n",
       "      <td>NaN</td>\n",
       "      <td>...</td>\n",
       "      <td>WRI</td>\n",
       "      <td>NaN</td>\n",
       "      <td>2018.0</td>\n",
       "      <td>1668.290000</td>\n",
       "      <td>3035.550000</td>\n",
       "      <td>5916.370000</td>\n",
       "      <td>6243.000000</td>\n",
       "      <td>5385.579736</td>\n",
       "      <td>Central Electricity Authority</td>\n",
       "      <td>NaN</td>\n",
       "    </tr>\n",
       "    <tr>\n",
       "      <th>...</th>\n",
       "      <td>...</td>\n",
       "      <td>...</td>\n",
       "      <td>...</td>\n",
       "      <td>...</td>\n",
       "      <td>...</td>\n",
       "      <td>...</td>\n",
       "      <td>...</td>\n",
       "      <td>...</td>\n",
       "      <td>...</td>\n",
       "      <td>...</td>\n",
       "      <td>...</td>\n",
       "      <td>...</td>\n",
       "      <td>...</td>\n",
       "      <td>...</td>\n",
       "      <td>...</td>\n",
       "      <td>...</td>\n",
       "      <td>...</td>\n",
       "      <td>...</td>\n",
       "      <td>...</td>\n",
       "      <td>...</td>\n",
       "      <td>...</td>\n",
       "    </tr>\n",
       "    <tr>\n",
       "      <th>903</th>\n",
       "      <td>IND</td>\n",
       "      <td>India</td>\n",
       "      <td>YERMARUS TPP</td>\n",
       "      <td>IND0000513</td>\n",
       "      <td>1600.0</td>\n",
       "      <td>16.2949</td>\n",
       "      <td>77.3568</td>\n",
       "      <td>Coal</td>\n",
       "      <td>Oil</td>\n",
       "      <td>NaN</td>\n",
       "      <td>...</td>\n",
       "      <td>WRI</td>\n",
       "      <td>NaN</td>\n",
       "      <td>2018.0</td>\n",
       "      <td>NaN</td>\n",
       "      <td>NaN</td>\n",
       "      <td>0.994875</td>\n",
       "      <td>233.596650</td>\n",
       "      <td>865.400000</td>\n",
       "      <td>Central Electricity Authority</td>\n",
       "      <td>NaN</td>\n",
       "    </tr>\n",
       "    <tr>\n",
       "      <th>904</th>\n",
       "      <td>IND</td>\n",
       "      <td>India</td>\n",
       "      <td>Yelesandra Solar Power Plant</td>\n",
       "      <td>WRI1026222</td>\n",
       "      <td>3.0</td>\n",
       "      <td>12.8932</td>\n",
       "      <td>78.1654</td>\n",
       "      <td>Solar</td>\n",
       "      <td>NaN</td>\n",
       "      <td>NaN</td>\n",
       "      <td>...</td>\n",
       "      <td>Industry About</td>\n",
       "      <td>NaN</td>\n",
       "      <td>NaN</td>\n",
       "      <td>NaN</td>\n",
       "      <td>NaN</td>\n",
       "      <td>NaN</td>\n",
       "      <td>NaN</td>\n",
       "      <td>NaN</td>\n",
       "      <td>NaN</td>\n",
       "      <td>NaN</td>\n",
       "    </tr>\n",
       "    <tr>\n",
       "      <th>905</th>\n",
       "      <td>IND</td>\n",
       "      <td>India</td>\n",
       "      <td>Yelisirur wind power project</td>\n",
       "      <td>WRI1026776</td>\n",
       "      <td>25.5</td>\n",
       "      <td>15.2758</td>\n",
       "      <td>75.5811</td>\n",
       "      <td>Wind</td>\n",
       "      <td>NaN</td>\n",
       "      <td>NaN</td>\n",
       "      <td>...</td>\n",
       "      <td>WRI</td>\n",
       "      <td>NaN</td>\n",
       "      <td>NaN</td>\n",
       "      <td>NaN</td>\n",
       "      <td>NaN</td>\n",
       "      <td>NaN</td>\n",
       "      <td>NaN</td>\n",
       "      <td>NaN</td>\n",
       "      <td>NaN</td>\n",
       "      <td>NaN</td>\n",
       "    </tr>\n",
       "    <tr>\n",
       "      <th>906</th>\n",
       "      <td>IND</td>\n",
       "      <td>India</td>\n",
       "      <td>ZAWAR MINES</td>\n",
       "      <td>WRI1019901</td>\n",
       "      <td>80.0</td>\n",
       "      <td>24.3500</td>\n",
       "      <td>73.7477</td>\n",
       "      <td>Coal</td>\n",
       "      <td>NaN</td>\n",
       "      <td>NaN</td>\n",
       "      <td>...</td>\n",
       "      <td>WRI</td>\n",
       "      <td>NaN</td>\n",
       "      <td>NaN</td>\n",
       "      <td>NaN</td>\n",
       "      <td>NaN</td>\n",
       "      <td>NaN</td>\n",
       "      <td>NaN</td>\n",
       "      <td>NaN</td>\n",
       "      <td>NaN</td>\n",
       "      <td>NaN</td>\n",
       "    </tr>\n",
       "    <tr>\n",
       "      <th>907</th>\n",
       "      <td>IND</td>\n",
       "      <td>India</td>\n",
       "      <td>iEnergy Theni Wind Farm</td>\n",
       "      <td>WRI1026761</td>\n",
       "      <td>16.5</td>\n",
       "      <td>9.9344</td>\n",
       "      <td>77.4768</td>\n",
       "      <td>Wind</td>\n",
       "      <td>NaN</td>\n",
       "      <td>NaN</td>\n",
       "      <td>...</td>\n",
       "      <td>WRI</td>\n",
       "      <td>NaN</td>\n",
       "      <td>NaN</td>\n",
       "      <td>NaN</td>\n",
       "      <td>NaN</td>\n",
       "      <td>NaN</td>\n",
       "      <td>NaN</td>\n",
       "      <td>NaN</td>\n",
       "      <td>NaN</td>\n",
       "      <td>NaN</td>\n",
       "    </tr>\n",
       "  </tbody>\n",
       "</table>\n",
       "<p>908 rows × 25 columns</p>\n",
       "</div>"
      ],
      "text/plain": [
       "    country country_long                          name   gppd_idnr  \\\n",
       "0       IND        India              ACME Solar Tower  WRI1020239   \n",
       "1       IND        India           ADITYA CEMENT WORKS  WRI1019881   \n",
       "2       IND        India      AES Saurashtra Windfarms  WRI1026669   \n",
       "3       IND        India                   AGARTALA GT  IND0000001   \n",
       "4       IND        India                  AKALTARA TPP  IND0000002   \n",
       "..      ...          ...                           ...         ...   \n",
       "903     IND        India                  YERMARUS TPP  IND0000513   \n",
       "904     IND        India  Yelesandra Solar Power Plant  WRI1026222   \n",
       "905     IND        India  Yelisirur wind power project  WRI1026776   \n",
       "906     IND        India                   ZAWAR MINES  WRI1019901   \n",
       "907     IND        India       iEnergy Theni Wind Farm  WRI1026761   \n",
       "\n",
       "     capacity_mw  latitude  longitude primary_fuel other_fuel1 other_fuel2  \\\n",
       "0            2.5   28.1839    73.2407        Solar         NaN         NaN   \n",
       "1           98.0   24.7663    74.6090         Coal         NaN         NaN   \n",
       "2           39.2   21.9038    69.3732         Wind         NaN         NaN   \n",
       "3          135.0   23.8712    91.3602          Gas         NaN         NaN   \n",
       "4         1800.0   21.9603    82.4091         Coal         Oil         NaN   \n",
       "..           ...       ...        ...          ...         ...         ...   \n",
       "903       1600.0   16.2949    77.3568         Coal         Oil         NaN   \n",
       "904          3.0   12.8932    78.1654        Solar         NaN         NaN   \n",
       "905         25.5   15.2758    75.5811         Wind         NaN         NaN   \n",
       "906         80.0   24.3500    73.7477         Coal         NaN         NaN   \n",
       "907         16.5    9.9344    77.4768         Wind         NaN         NaN   \n",
       "\n",
       "     ...                    geolocation_source  wepp_id year_of_capacity_data  \\\n",
       "0    ...  National Renewable Energy Laboratory      NaN                   NaN   \n",
       "1    ...                                   WRI      NaN                   NaN   \n",
       "2    ...                                   WRI      NaN                   NaN   \n",
       "3    ...                                   WRI      NaN                2018.0   \n",
       "4    ...                                   WRI      NaN                2018.0   \n",
       "..   ...                                   ...      ...                   ...   \n",
       "903  ...                                   WRI      NaN                2018.0   \n",
       "904  ...                        Industry About      NaN                   NaN   \n",
       "905  ...                                   WRI      NaN                   NaN   \n",
       "906  ...                                   WRI      NaN                   NaN   \n",
       "907  ...                                   WRI      NaN                   NaN   \n",
       "\n",
       "    generation_gwh_2013 generation_gwh_2014 generation_gwh_2015  \\\n",
       "0                   NaN                 NaN                 NaN   \n",
       "1                   NaN                 NaN                 NaN   \n",
       "2                   NaN                 NaN                 NaN   \n",
       "3            631.777928          617.789264          843.747000   \n",
       "4           1668.290000         3035.550000         5916.370000   \n",
       "..                  ...                 ...                 ...   \n",
       "903                 NaN                 NaN            0.994875   \n",
       "904                 NaN                 NaN                 NaN   \n",
       "905                 NaN                 NaN                 NaN   \n",
       "906                 NaN                 NaN                 NaN   \n",
       "907                 NaN                 NaN                 NaN   \n",
       "\n",
       "     generation_gwh_2016  generation_gwh_2017         generation_data_source  \\\n",
       "0                    NaN                  NaN                            NaN   \n",
       "1                    NaN                  NaN                            NaN   \n",
       "2                    NaN                  NaN                            NaN   \n",
       "3             886.004428           663.774500  Central Electricity Authority   \n",
       "4            6243.000000          5385.579736  Central Electricity Authority   \n",
       "..                   ...                  ...                            ...   \n",
       "903           233.596650           865.400000  Central Electricity Authority   \n",
       "904                  NaN                  NaN                            NaN   \n",
       "905                  NaN                  NaN                            NaN   \n",
       "906                  NaN                  NaN                            NaN   \n",
       "907                  NaN                  NaN                            NaN   \n",
       "\n",
       "     estimated_generation_gwh  \n",
       "0                         NaN  \n",
       "1                         NaN  \n",
       "2                         NaN  \n",
       "3                         NaN  \n",
       "4                         NaN  \n",
       "..                        ...  \n",
       "903                       NaN  \n",
       "904                       NaN  \n",
       "905                       NaN  \n",
       "906                       NaN  \n",
       "907                       NaN  \n",
       "\n",
       "[908 rows x 25 columns]"
      ]
     },
     "execution_count": 636,
     "metadata": {},
     "output_type": "execute_result"
    }
   ],
   "source": [
    "df=pd.read_csv(\"global-power-plant-database.csv\")\n",
    "df"
   ]
  },
  {
   "cell_type": "code",
   "execution_count": 512,
   "metadata": {},
   "outputs": [
    {
     "data": {
      "text/plain": [
       "Index(['country', 'country_long', 'name', 'gppd_idnr', 'capacity_mw',\n",
       "       'latitude', 'longitude', 'primary_fuel', 'other_fuel1', 'other_fuel2',\n",
       "       'other_fuel3', 'commissioning_year', 'owner', 'source', 'url',\n",
       "       'geolocation_source', 'wepp_id', 'year_of_capacity_data',\n",
       "       'generation_gwh_2013', 'generation_gwh_2014', 'generation_gwh_2015',\n",
       "       'generation_gwh_2016', 'generation_gwh_2017', 'generation_data_source',\n",
       "       'estimated_generation_gwh'],\n",
       "      dtype='object')"
      ]
     },
     "execution_count": 512,
     "metadata": {},
     "output_type": "execute_result"
    }
   ],
   "source": [
    "df.columns"
   ]
  },
  {
   "cell_type": "code",
   "execution_count": 513,
   "metadata": {},
   "outputs": [
    {
     "data": {
      "text/plain": [
       "country                       0\n",
       "country_long                  0\n",
       "name                          0\n",
       "gppd_idnr                     0\n",
       "capacity_mw                   0\n",
       "latitude                     46\n",
       "longitude                    46\n",
       "primary_fuel                  0\n",
       "other_fuel1                 709\n",
       "other_fuel2                 907\n",
       "other_fuel3                 908\n",
       "commissioning_year          380\n",
       "owner                       566\n",
       "source                        0\n",
       "url                           0\n",
       "geolocation_source           19\n",
       "wepp_id                     908\n",
       "year_of_capacity_data       388\n",
       "generation_gwh_2013         524\n",
       "generation_gwh_2014         507\n",
       "generation_gwh_2015         483\n",
       "generation_gwh_2016         471\n",
       "generation_gwh_2017         465\n",
       "generation_data_source      458\n",
       "estimated_generation_gwh    908\n",
       "dtype: int64"
      ]
     },
     "execution_count": 513,
     "metadata": {},
     "output_type": "execute_result"
    }
   ],
   "source": [
    "df.isnull().sum()"
   ]
  },
  {
   "cell_type": "code",
   "execution_count": 514,
   "metadata": {},
   "outputs": [
    {
     "name": "stdout",
     "output_type": "stream",
     "text": [
      "<class 'pandas.core.frame.DataFrame'>\n",
      "RangeIndex: 908 entries, 0 to 907\n",
      "Data columns (total 25 columns):\n",
      " #   Column                    Non-Null Count  Dtype  \n",
      "---  ------                    --------------  -----  \n",
      " 0   country                   908 non-null    object \n",
      " 1   country_long              908 non-null    object \n",
      " 2   name                      908 non-null    object \n",
      " 3   gppd_idnr                 908 non-null    object \n",
      " 4   capacity_mw               908 non-null    float64\n",
      " 5   latitude                  862 non-null    float64\n",
      " 6   longitude                 862 non-null    float64\n",
      " 7   primary_fuel              908 non-null    object \n",
      " 8   other_fuel1               199 non-null    object \n",
      " 9   other_fuel2               1 non-null      object \n",
      " 10  other_fuel3               0 non-null      float64\n",
      " 11  commissioning_year        528 non-null    float64\n",
      " 12  owner                     342 non-null    object \n",
      " 13  source                    908 non-null    object \n",
      " 14  url                       908 non-null    object \n",
      " 15  geolocation_source        889 non-null    object \n",
      " 16  wepp_id                   0 non-null      float64\n",
      " 17  year_of_capacity_data     520 non-null    float64\n",
      " 18  generation_gwh_2013       384 non-null    float64\n",
      " 19  generation_gwh_2014       401 non-null    float64\n",
      " 20  generation_gwh_2015       425 non-null    float64\n",
      " 21  generation_gwh_2016       437 non-null    float64\n",
      " 22  generation_gwh_2017       443 non-null    float64\n",
      " 23  generation_data_source    450 non-null    object \n",
      " 24  estimated_generation_gwh  0 non-null      float64\n",
      "dtypes: float64(13), object(12)\n",
      "memory usage: 177.5+ KB\n"
     ]
    }
   ],
   "source": [
    "df.info()"
   ]
  },
  {
   "cell_type": "markdown",
   "metadata": {},
   "source": [
    "Observations:\n",
    "    \n",
    "1. wepp_id and estimated_generation_gwh have no values present. \n",
    "\n",
    "\n",
    "\n",
    "2. While other fuel3 doesn't have any values, other_fuel 3 are alternative fuel present.Hence it's okay for the feature to be empty."
   ]
  },
  {
   "cell_type": "code",
   "execution_count": 515,
   "metadata": {},
   "outputs": [
    {
     "data": {
      "text/plain": [
       "country                      object\n",
       "country_long                 object\n",
       "name                         object\n",
       "gppd_idnr                    object\n",
       "capacity_mw                 float64\n",
       "latitude                    float64\n",
       "longitude                   float64\n",
       "primary_fuel                 object\n",
       "other_fuel1                  object\n",
       "other_fuel2                  object\n",
       "other_fuel3                 float64\n",
       "commissioning_year          float64\n",
       "owner                        object\n",
       "source                       object\n",
       "url                          object\n",
       "geolocation_source           object\n",
       "wepp_id                     float64\n",
       "year_of_capacity_data       float64\n",
       "generation_gwh_2013         float64\n",
       "generation_gwh_2014         float64\n",
       "generation_gwh_2015         float64\n",
       "generation_gwh_2016         float64\n",
       "generation_gwh_2017         float64\n",
       "generation_data_source       object\n",
       "estimated_generation_gwh    float64\n",
       "dtype: object"
      ]
     },
     "execution_count": 515,
     "metadata": {},
     "output_type": "execute_result"
    }
   ],
   "source": [
    "df.dtypes"
   ]
  },
  {
   "cell_type": "markdown",
   "metadata": {},
   "source": [
    "Observations:\n",
    "\n",
    "    \n",
    "1. commissioning year and year of capacity data are of float datatype, needs to be int."
   ]
  },
  {
   "cell_type": "code",
   "execution_count": 516,
   "metadata": {},
   "outputs": [
    {
     "data": {
      "text/plain": [
       "country                     0\n",
       "country_long                0\n",
       "name                        0\n",
       "gppd_idnr                   0\n",
       "capacity_mw                 0\n",
       "latitude                    0\n",
       "longitude                   0\n",
       "primary_fuel                0\n",
       "other_fuel1                 0\n",
       "other_fuel2                 0\n",
       "other_fuel3                 0\n",
       "commissioning_year          0\n",
       "owner                       0\n",
       "source                      0\n",
       "url                         0\n",
       "geolocation_source          0\n",
       "wepp_id                     0\n",
       "year_of_capacity_data       0\n",
       "generation_gwh_2013         0\n",
       "generation_gwh_2014         0\n",
       "generation_gwh_2015         0\n",
       "generation_gwh_2016         0\n",
       "generation_gwh_2017         0\n",
       "generation_data_source      0\n",
       "estimated_generation_gwh    0\n",
       "dtype: int64"
      ]
     },
     "execution_count": 516,
     "metadata": {},
     "output_type": "execute_result"
    }
   ],
   "source": [
    "(df.loc[0:]==\" \").sum()"
   ]
  },
  {
   "cell_type": "code",
   "execution_count": 517,
   "metadata": {},
   "outputs": [
    {
     "data": {
      "text/plain": [
       "country                      0\n",
       "country_long                 0\n",
       "name                         0\n",
       "gppd_idnr                    0\n",
       "capacity_mw                  1\n",
       "latitude                     0\n",
       "longitude                    0\n",
       "primary_fuel                 0\n",
       "other_fuel1                  0\n",
       "other_fuel2                  0\n",
       "other_fuel3                  0\n",
       "commissioning_year           0\n",
       "owner                        0\n",
       "source                       0\n",
       "url                          0\n",
       "geolocation_source           0\n",
       "wepp_id                      0\n",
       "year_of_capacity_data        0\n",
       "generation_gwh_2013         21\n",
       "generation_gwh_2014         28\n",
       "generation_gwh_2015         28\n",
       "generation_gwh_2016         31\n",
       "generation_gwh_2017         33\n",
       "generation_data_source       0\n",
       "estimated_generation_gwh     0\n",
       "dtype: int64"
      ]
     },
     "execution_count": 517,
     "metadata": {},
     "output_type": "execute_result"
    }
   ],
   "source": [
    "(df.loc[0:]==0).sum()"
   ]
  },
  {
   "cell_type": "code",
   "execution_count": 518,
   "metadata": {},
   "outputs": [
    {
     "data": {
      "text/html": [
       "<div>\n",
       "<style scoped>\n",
       "    .dataframe tbody tr th:only-of-type {\n",
       "        vertical-align: middle;\n",
       "    }\n",
       "\n",
       "    .dataframe tbody tr th {\n",
       "        vertical-align: top;\n",
       "    }\n",
       "\n",
       "    .dataframe thead th {\n",
       "        text-align: right;\n",
       "    }\n",
       "</style>\n",
       "<table border=\"1\" class=\"dataframe\">\n",
       "  <thead>\n",
       "    <tr style=\"text-align: right;\">\n",
       "      <th></th>\n",
       "      <th>country</th>\n",
       "      <th>country_long</th>\n",
       "      <th>name</th>\n",
       "      <th>gppd_idnr</th>\n",
       "      <th>capacity_mw</th>\n",
       "      <th>latitude</th>\n",
       "      <th>longitude</th>\n",
       "      <th>primary_fuel</th>\n",
       "      <th>other_fuel1</th>\n",
       "      <th>other_fuel2</th>\n",
       "      <th>...</th>\n",
       "      <th>geolocation_source</th>\n",
       "      <th>wepp_id</th>\n",
       "      <th>year_of_capacity_data</th>\n",
       "      <th>generation_gwh_2013</th>\n",
       "      <th>generation_gwh_2014</th>\n",
       "      <th>generation_gwh_2015</th>\n",
       "      <th>generation_gwh_2016</th>\n",
       "      <th>generation_gwh_2017</th>\n",
       "      <th>generation_data_source</th>\n",
       "      <th>estimated_generation_gwh</th>\n",
       "    </tr>\n",
       "  </thead>\n",
       "  <tbody>\n",
       "    <tr>\n",
       "      <th>830</th>\n",
       "      <td>IND</td>\n",
       "      <td>India</td>\n",
       "      <td>Tata BP - Electronics City Solar Panel Plant</td>\n",
       "      <td>WRI1026216</td>\n",
       "      <td>0.0</td>\n",
       "      <td>12.8491</td>\n",
       "      <td>77.6752</td>\n",
       "      <td>Solar</td>\n",
       "      <td>NaN</td>\n",
       "      <td>NaN</td>\n",
       "      <td>...</td>\n",
       "      <td>Industry About</td>\n",
       "      <td>NaN</td>\n",
       "      <td>NaN</td>\n",
       "      <td>NaN</td>\n",
       "      <td>NaN</td>\n",
       "      <td>NaN</td>\n",
       "      <td>NaN</td>\n",
       "      <td>NaN</td>\n",
       "      <td>NaN</td>\n",
       "      <td>NaN</td>\n",
       "    </tr>\n",
       "  </tbody>\n",
       "</table>\n",
       "<p>1 rows × 25 columns</p>\n",
       "</div>"
      ],
      "text/plain": [
       "    country country_long                                          name  \\\n",
       "830     IND        India  Tata BP - Electronics City Solar Panel Plant   \n",
       "\n",
       "      gppd_idnr  capacity_mw  latitude  longitude primary_fuel other_fuel1  \\\n",
       "830  WRI1026216          0.0   12.8491    77.6752        Solar         NaN   \n",
       "\n",
       "    other_fuel2  ...  geolocation_source  wepp_id year_of_capacity_data  \\\n",
       "830         NaN  ...      Industry About      NaN                   NaN   \n",
       "\n",
       "    generation_gwh_2013 generation_gwh_2014 generation_gwh_2015  \\\n",
       "830                 NaN                 NaN                 NaN   \n",
       "\n",
       "     generation_gwh_2016  generation_gwh_2017  generation_data_source  \\\n",
       "830                  NaN                  NaN                     NaN   \n",
       "\n",
       "     estimated_generation_gwh  \n",
       "830                       NaN  \n",
       "\n",
       "[1 rows x 25 columns]"
      ]
     },
     "execution_count": 518,
     "metadata": {},
     "output_type": "execute_result"
    }
   ],
   "source": [
    "df.loc[df[\"capacity_mw\"]==0]"
   ]
  },
  {
   "cell_type": "code",
   "execution_count": 519,
   "metadata": {},
   "outputs": [
    {
     "data": {
      "text/plain": [
       "array(['Solar', 'Coal', 'Wind', 'Gas', 'Hydro', 'Biomass', 'Oil',\n",
       "       'Nuclear'], dtype=object)"
      ]
     },
     "execution_count": 519,
     "metadata": {},
     "output_type": "execute_result"
    }
   ],
   "source": [
    "df[\"primary_fuel\"].unique()"
   ]
  },
  {
   "cell_type": "code",
   "execution_count": 520,
   "metadata": {},
   "outputs": [
    {
     "data": {
      "text/plain": [
       "array([nan, 'Oil', 'Cogeneration', 'Gas'], dtype=object)"
      ]
     },
     "execution_count": 520,
     "metadata": {},
     "output_type": "execute_result"
    }
   ],
   "source": [
    "df[\"other_fuel1\"].unique()"
   ]
  },
  {
   "cell_type": "code",
   "execution_count": 521,
   "metadata": {},
   "outputs": [
    {
     "data": {
      "text/plain": [
       "array([nan])"
      ]
     },
     "execution_count": 521,
     "metadata": {},
     "output_type": "execute_result"
    }
   ],
   "source": [
    "df[\"other_fuel3\"].unique()"
   ]
  },
  {
   "cell_type": "code",
   "execution_count": 522,
   "metadata": {},
   "outputs": [
    {
     "data": {
      "text/plain": [
       "array(['IND'], dtype=object)"
      ]
     },
     "execution_count": 522,
     "metadata": {},
     "output_type": "execute_result"
    }
   ],
   "source": [
    "df[\"country\"].unique()"
   ]
  },
  {
   "cell_type": "code",
   "execution_count": 523,
   "metadata": {},
   "outputs": [
    {
     "data": {
      "text/plain": [
       "array(['India'], dtype=object)"
      ]
     },
     "execution_count": 523,
     "metadata": {},
     "output_type": "execute_result"
    }
   ],
   "source": [
    "df[\"country_long\"].unique()"
   ]
  },
  {
   "cell_type": "code",
   "execution_count": 524,
   "metadata": {},
   "outputs": [
    {
     "data": {
      "text/plain": [
       "TVS Virali Wind Farm    1\n",
       "LAKHERI CEMENT PLANT    1\n",
       "BSES Kerala CCGT        1\n",
       "LOWER PERIYAR           1\n",
       "BINANI CEMENT PLANT     1\n",
       "                       ..\n",
       "GHAT PRABHA             1\n",
       "SERVALAR                1\n",
       "UPPER SINDH I& II       1\n",
       "NIMOO BAZGO             1\n",
       "KAKRAPARA               1\n",
       "Name: name, Length: 908, dtype: int64"
      ]
     },
     "execution_count": 524,
     "metadata": {},
     "output_type": "execute_result"
    }
   ],
   "source": [
    "df[\"name\"].value_counts()"
   ]
  },
  {
   "cell_type": "code",
   "execution_count": 525,
   "metadata": {},
   "outputs": [
    {
     "data": {
      "text/plain": [
       "array(['National Renewable Energy Laboratory', 'WRI', nan,\n",
       "       'Industry About'], dtype=object)"
      ]
     },
     "execution_count": 525,
     "metadata": {},
     "output_type": "execute_result"
    }
   ],
   "source": [
    "df[\"geolocation_source\"].unique()"
   ]
  },
  {
   "cell_type": "code",
   "execution_count": 526,
   "metadata": {},
   "outputs": [
    {
     "data": {
      "text/plain": [
       "Sterling Agro Industries ltd.            4\n",
       "Acc Acc ltd                              4\n",
       "Jk Cement ltd                            4\n",
       "Jaypee Ltd jccl)                         3\n",
       "Government of India                      3\n",
       "                                        ..\n",
       "Konark Gujarat Private Limited           1\n",
       "Davangere Co ltd                         1\n",
       "Centaur Mercantile Pvt. Ltd.             1\n",
       "Chettinad Corp ltd                       1\n",
       "Kohinoor Planet Construction Pvt. Ltd    1\n",
       "Name: owner, Length: 280, dtype: int64"
      ]
     },
     "execution_count": 526,
     "metadata": {},
     "output_type": "execute_result"
    }
   ],
   "source": [
    "df[\"owner\"].value_counts()"
   ]
  },
  {
   "cell_type": "code",
   "execution_count": 527,
   "metadata": {},
   "outputs": [
    {
     "data": {
      "text/plain": [
       "array([2011.,   nan, 2004., 2015., 2005., 1970., 2010., 2008., 2014.,\n",
       "       1985., 1986., 1987., 2000., 1989., 2017., 1998., 1977., 1980.,\n",
       "       2003., 1984., 1973., 1996., 1991., 2002., 2001., 2006., 2007.,\n",
       "       1988., 2012., 1968., 1964., 2016., 2013., 1962., 1993., 1997.,\n",
       "       1999., 1994., 1975., 1992., 1972., 1979., 1967., 1995., 1983.,\n",
       "       1981., 1959., 1961., 1957., 1978., 1976., 1963., 1971., 1955.,\n",
       "       2018., 2009., 1966., 1965., 1960., 1949., 1952., 1990., 1982.,\n",
       "       1937., 1956., 1946., 1958., 1943., 1954., 1969., 1939., 1927.,\n",
       "       1974., 1953.])"
      ]
     },
     "execution_count": 527,
     "metadata": {},
     "output_type": "execute_result"
    }
   ],
   "source": [
    "df[\"commissioning_year\"].unique()"
   ]
  },
  {
   "cell_type": "code",
   "execution_count": 637,
   "metadata": {},
   "outputs": [],
   "source": [
    "import statistics as stats\n",
    "df[\"commissioning_year\"]=df[\"commissioning_year\"].fillna(stats.mode(df[\"commissioning_year\"]))"
   ]
  },
  {
   "cell_type": "code",
   "execution_count": 529,
   "metadata": {},
   "outputs": [
    {
     "data": {
      "text/plain": [
       "array([2011., 2013., 2004., 2015., 2005., 1970., 2010., 2008., 2014.,\n",
       "       1985., 1986., 1987., 2000., 1989., 2017., 1998., 1977., 1980.,\n",
       "       2003., 1984., 1973., 1996., 1991., 2002., 2001., 2006., 2007.,\n",
       "       1988., 2012., 1968., 1964., 2016., 1962., 1993., 1997., 1999.,\n",
       "       1994., 1975., 1992., 1972., 1979., 1967., 1995., 1983., 1981.,\n",
       "       1959., 1961., 1957., 1978., 1976., 1963., 1971., 1955., 2018.,\n",
       "       2009., 1966., 1965., 1960., 1949., 1952., 1990., 1982., 1937.,\n",
       "       1956., 1946., 1958., 1943., 1954., 1969., 1939., 1927., 1974.,\n",
       "       1953.])"
      ]
     },
     "execution_count": 529,
     "metadata": {},
     "output_type": "execute_result"
    }
   ],
   "source": [
    "df[\"commissioning_year\"].unique()"
   ]
  },
  {
   "cell_type": "code",
   "execution_count": 638,
   "metadata": {},
   "outputs": [],
   "source": [
    "df[\"commissioning_year\"]=df[\"commissioning_year\"].astype(int)  #changing the data type"
   ]
  },
  {
   "cell_type": "code",
   "execution_count": 639,
   "metadata": {},
   "outputs": [],
   "source": [
    "df[\"year_of_capacity_data\"]=df[\"year_of_capacity_data\"].fillna(stats.mode(df[\"year_of_capacity_data\"]))"
   ]
  },
  {
   "cell_type": "code",
   "execution_count": 640,
   "metadata": {},
   "outputs": [],
   "source": [
    "df[\"year_of_capacity_data\"]=df[\"year_of_capacity_data\"].astype(int)"
   ]
  },
  {
   "cell_type": "code",
   "execution_count": 533,
   "metadata": {},
   "outputs": [
    {
     "data": {
      "text/plain": [
       "country                      object\n",
       "country_long                 object\n",
       "name                         object\n",
       "gppd_idnr                    object\n",
       "capacity_mw                 float64\n",
       "latitude                    float64\n",
       "longitude                   float64\n",
       "primary_fuel                 object\n",
       "other_fuel1                  object\n",
       "other_fuel2                  object\n",
       "other_fuel3                 float64\n",
       "commissioning_year            int32\n",
       "owner                        object\n",
       "source                       object\n",
       "url                          object\n",
       "geolocation_source           object\n",
       "wepp_id                     float64\n",
       "year_of_capacity_data         int32\n",
       "generation_gwh_2013         float64\n",
       "generation_gwh_2014         float64\n",
       "generation_gwh_2015         float64\n",
       "generation_gwh_2016         float64\n",
       "generation_gwh_2017         float64\n",
       "generation_data_source       object\n",
       "estimated_generation_gwh    float64\n",
       "dtype: object"
      ]
     },
     "execution_count": 533,
     "metadata": {},
     "output_type": "execute_result"
    }
   ],
   "source": [
    "df.dtypes"
   ]
  },
  {
   "cell_type": "code",
   "execution_count": 641,
   "metadata": {},
   "outputs": [],
   "source": [
    "df[\"latitude\"]=df[\"latitude\"].fillna(np.mean(df[\"latitude\"]))\n",
    "df[\"longitude\"]=df[\"longitude\"].fillna(np.mean(df[\"longitude\"]))"
   ]
  },
  {
   "cell_type": "code",
   "execution_count": 642,
   "metadata": {},
   "outputs": [],
   "source": [
    "df[\"other_fuel1\"]=df[\"other_fuel1\"].replace(np.nan,\"no fuel\")  #replacing nan values with \"no fuel\" by assuming nan values mean no alternative fuels\n",
    "df[\"other_fuel2\"]=df[\"other_fuel2\"].replace(np.nan,\"no fuel\")"
   ]
  },
  {
   "cell_type": "code",
   "execution_count": 536,
   "metadata": {},
   "outputs": [
    {
     "data": {
      "text/plain": [
       "country                       0\n",
       "country_long                  0\n",
       "name                          0\n",
       "gppd_idnr                     0\n",
       "capacity_mw                   0\n",
       "latitude                      0\n",
       "longitude                     0\n",
       "primary_fuel                  0\n",
       "other_fuel1                   0\n",
       "other_fuel2                   0\n",
       "other_fuel3                 908\n",
       "commissioning_year            0\n",
       "owner                       566\n",
       "source                        0\n",
       "url                           0\n",
       "geolocation_source           19\n",
       "wepp_id                     908\n",
       "year_of_capacity_data         0\n",
       "generation_gwh_2013         524\n",
       "generation_gwh_2014         507\n",
       "generation_gwh_2015         483\n",
       "generation_gwh_2016         471\n",
       "generation_gwh_2017         465\n",
       "generation_data_source      458\n",
       "estimated_generation_gwh    908\n",
       "dtype: int64"
      ]
     },
     "execution_count": 536,
     "metadata": {},
     "output_type": "execute_result"
    }
   ],
   "source": [
    "df.isnull().sum()"
   ]
  },
  {
   "cell_type": "code",
   "execution_count": 643,
   "metadata": {},
   "outputs": [
    {
     "data": {
      "text/plain": [
       "array([nan, 'Central Electricity Authority'], dtype=object)"
      ]
     },
     "execution_count": 643,
     "metadata": {},
     "output_type": "execute_result"
    }
   ],
   "source": [
    "df[\"generation_data_source\"].unique()"
   ]
  },
  {
   "cell_type": "code",
   "execution_count": 644,
   "metadata": {},
   "outputs": [],
   "source": [
    "df[\"generation_gwh_2017\"]=df[\"generation_gwh_2017\"].fillna(np.mean(df[\"generation_gwh_2017\"]))\n",
    "df[\"generation_gwh_2016\"]=df[\"generation_gwh_2016\"].fillna(np.mean(df[\"generation_gwh_2016\"]))\n",
    "df[\"generation_gwh_2015\"]=df[\"generation_gwh_2015\"].fillna(np.mean(df[\"generation_gwh_2015\"]))\n",
    "df[\"generation_gwh_2014\"]=df[\"generation_gwh_2014\"].fillna(np.mean(df[\"generation_gwh_2014\"]))\n",
    "df[\"generation_gwh_2013\"]=df[\"generation_gwh_2013\"].fillna(np.mean(df[\"generation_gwh_2013\"]))"
   ]
  },
  {
   "cell_type": "code",
   "execution_count": 539,
   "metadata": {
    "scrolled": true
   },
   "outputs": [
    {
     "data": {
      "text/html": [
       "<div>\n",
       "<style scoped>\n",
       "    .dataframe tbody tr th:only-of-type {\n",
       "        vertical-align: middle;\n",
       "    }\n",
       "\n",
       "    .dataframe tbody tr th {\n",
       "        vertical-align: top;\n",
       "    }\n",
       "\n",
       "    .dataframe thead th {\n",
       "        text-align: right;\n",
       "    }\n",
       "</style>\n",
       "<table border=\"1\" class=\"dataframe\">\n",
       "  <thead>\n",
       "    <tr style=\"text-align: right;\">\n",
       "      <th></th>\n",
       "      <th>country</th>\n",
       "      <th>country_long</th>\n",
       "      <th>name</th>\n",
       "      <th>gppd_idnr</th>\n",
       "      <th>capacity_mw</th>\n",
       "      <th>latitude</th>\n",
       "      <th>longitude</th>\n",
       "      <th>primary_fuel</th>\n",
       "      <th>other_fuel1</th>\n",
       "      <th>other_fuel2</th>\n",
       "      <th>...</th>\n",
       "      <th>geolocation_source</th>\n",
       "      <th>wepp_id</th>\n",
       "      <th>year_of_capacity_data</th>\n",
       "      <th>generation_gwh_2013</th>\n",
       "      <th>generation_gwh_2014</th>\n",
       "      <th>generation_gwh_2015</th>\n",
       "      <th>generation_gwh_2016</th>\n",
       "      <th>generation_gwh_2017</th>\n",
       "      <th>generation_data_source</th>\n",
       "      <th>estimated_generation_gwh</th>\n",
       "    </tr>\n",
       "  </thead>\n",
       "  <tbody>\n",
       "    <tr>\n",
       "      <th>0</th>\n",
       "      <td>IND</td>\n",
       "      <td>India</td>\n",
       "      <td>ACME Solar Tower</td>\n",
       "      <td>WRI1020239</td>\n",
       "      <td>2.5</td>\n",
       "      <td>28.1839</td>\n",
       "      <td>73.2407</td>\n",
       "      <td>Solar</td>\n",
       "      <td>no fuel</td>\n",
       "      <td>no fuel</td>\n",
       "      <td>...</td>\n",
       "      <td>National Renewable Energy Laboratory</td>\n",
       "      <td>NaN</td>\n",
       "      <td>2018</td>\n",
       "      <td>2304.059202</td>\n",
       "      <td>2420.393316</td>\n",
       "      <td>2414.072373</td>\n",
       "      <td>2453.936292</td>\n",
       "      <td>2531.754458</td>\n",
       "      <td>NaN</td>\n",
       "      <td>NaN</td>\n",
       "    </tr>\n",
       "    <tr>\n",
       "      <th>1</th>\n",
       "      <td>IND</td>\n",
       "      <td>India</td>\n",
       "      <td>ADITYA CEMENT WORKS</td>\n",
       "      <td>WRI1019881</td>\n",
       "      <td>98.0</td>\n",
       "      <td>24.7663</td>\n",
       "      <td>74.6090</td>\n",
       "      <td>Coal</td>\n",
       "      <td>no fuel</td>\n",
       "      <td>no fuel</td>\n",
       "      <td>...</td>\n",
       "      <td>WRI</td>\n",
       "      <td>NaN</td>\n",
       "      <td>2018</td>\n",
       "      <td>2304.059202</td>\n",
       "      <td>2420.393316</td>\n",
       "      <td>2414.072373</td>\n",
       "      <td>2453.936292</td>\n",
       "      <td>2531.754458</td>\n",
       "      <td>NaN</td>\n",
       "      <td>NaN</td>\n",
       "    </tr>\n",
       "    <tr>\n",
       "      <th>2</th>\n",
       "      <td>IND</td>\n",
       "      <td>India</td>\n",
       "      <td>AES Saurashtra Windfarms</td>\n",
       "      <td>WRI1026669</td>\n",
       "      <td>39.2</td>\n",
       "      <td>21.9038</td>\n",
       "      <td>69.3732</td>\n",
       "      <td>Wind</td>\n",
       "      <td>no fuel</td>\n",
       "      <td>no fuel</td>\n",
       "      <td>...</td>\n",
       "      <td>WRI</td>\n",
       "      <td>NaN</td>\n",
       "      <td>2018</td>\n",
       "      <td>2304.059202</td>\n",
       "      <td>2420.393316</td>\n",
       "      <td>2414.072373</td>\n",
       "      <td>2453.936292</td>\n",
       "      <td>2531.754458</td>\n",
       "      <td>NaN</td>\n",
       "      <td>NaN</td>\n",
       "    </tr>\n",
       "    <tr>\n",
       "      <th>3</th>\n",
       "      <td>IND</td>\n",
       "      <td>India</td>\n",
       "      <td>AGARTALA GT</td>\n",
       "      <td>IND0000001</td>\n",
       "      <td>135.0</td>\n",
       "      <td>23.8712</td>\n",
       "      <td>91.3602</td>\n",
       "      <td>Gas</td>\n",
       "      <td>no fuel</td>\n",
       "      <td>no fuel</td>\n",
       "      <td>...</td>\n",
       "      <td>WRI</td>\n",
       "      <td>NaN</td>\n",
       "      <td>2018</td>\n",
       "      <td>631.777928</td>\n",
       "      <td>617.789264</td>\n",
       "      <td>843.747000</td>\n",
       "      <td>886.004428</td>\n",
       "      <td>663.774500</td>\n",
       "      <td>Central Electricity Authority</td>\n",
       "      <td>NaN</td>\n",
       "    </tr>\n",
       "    <tr>\n",
       "      <th>4</th>\n",
       "      <td>IND</td>\n",
       "      <td>India</td>\n",
       "      <td>AKALTARA TPP</td>\n",
       "      <td>IND0000002</td>\n",
       "      <td>1800.0</td>\n",
       "      <td>21.9603</td>\n",
       "      <td>82.4091</td>\n",
       "      <td>Coal</td>\n",
       "      <td>Oil</td>\n",
       "      <td>no fuel</td>\n",
       "      <td>...</td>\n",
       "      <td>WRI</td>\n",
       "      <td>NaN</td>\n",
       "      <td>2018</td>\n",
       "      <td>1668.290000</td>\n",
       "      <td>3035.550000</td>\n",
       "      <td>5916.370000</td>\n",
       "      <td>6243.000000</td>\n",
       "      <td>5385.579736</td>\n",
       "      <td>Central Electricity Authority</td>\n",
       "      <td>NaN</td>\n",
       "    </tr>\n",
       "    <tr>\n",
       "      <th>...</th>\n",
       "      <td>...</td>\n",
       "      <td>...</td>\n",
       "      <td>...</td>\n",
       "      <td>...</td>\n",
       "      <td>...</td>\n",
       "      <td>...</td>\n",
       "      <td>...</td>\n",
       "      <td>...</td>\n",
       "      <td>...</td>\n",
       "      <td>...</td>\n",
       "      <td>...</td>\n",
       "      <td>...</td>\n",
       "      <td>...</td>\n",
       "      <td>...</td>\n",
       "      <td>...</td>\n",
       "      <td>...</td>\n",
       "      <td>...</td>\n",
       "      <td>...</td>\n",
       "      <td>...</td>\n",
       "      <td>...</td>\n",
       "      <td>...</td>\n",
       "    </tr>\n",
       "    <tr>\n",
       "      <th>903</th>\n",
       "      <td>IND</td>\n",
       "      <td>India</td>\n",
       "      <td>YERMARUS TPP</td>\n",
       "      <td>IND0000513</td>\n",
       "      <td>1600.0</td>\n",
       "      <td>16.2949</td>\n",
       "      <td>77.3568</td>\n",
       "      <td>Coal</td>\n",
       "      <td>Oil</td>\n",
       "      <td>no fuel</td>\n",
       "      <td>...</td>\n",
       "      <td>WRI</td>\n",
       "      <td>NaN</td>\n",
       "      <td>2018</td>\n",
       "      <td>2304.059202</td>\n",
       "      <td>2420.393316</td>\n",
       "      <td>0.994875</td>\n",
       "      <td>233.596650</td>\n",
       "      <td>865.400000</td>\n",
       "      <td>Central Electricity Authority</td>\n",
       "      <td>NaN</td>\n",
       "    </tr>\n",
       "    <tr>\n",
       "      <th>904</th>\n",
       "      <td>IND</td>\n",
       "      <td>India</td>\n",
       "      <td>Yelesandra Solar Power Plant</td>\n",
       "      <td>WRI1026222</td>\n",
       "      <td>3.0</td>\n",
       "      <td>12.8932</td>\n",
       "      <td>78.1654</td>\n",
       "      <td>Solar</td>\n",
       "      <td>no fuel</td>\n",
       "      <td>no fuel</td>\n",
       "      <td>...</td>\n",
       "      <td>Industry About</td>\n",
       "      <td>NaN</td>\n",
       "      <td>2018</td>\n",
       "      <td>2304.059202</td>\n",
       "      <td>2420.393316</td>\n",
       "      <td>2414.072373</td>\n",
       "      <td>2453.936292</td>\n",
       "      <td>2531.754458</td>\n",
       "      <td>NaN</td>\n",
       "      <td>NaN</td>\n",
       "    </tr>\n",
       "    <tr>\n",
       "      <th>905</th>\n",
       "      <td>IND</td>\n",
       "      <td>India</td>\n",
       "      <td>Yelisirur wind power project</td>\n",
       "      <td>WRI1026776</td>\n",
       "      <td>25.5</td>\n",
       "      <td>15.2758</td>\n",
       "      <td>75.5811</td>\n",
       "      <td>Wind</td>\n",
       "      <td>no fuel</td>\n",
       "      <td>no fuel</td>\n",
       "      <td>...</td>\n",
       "      <td>WRI</td>\n",
       "      <td>NaN</td>\n",
       "      <td>2018</td>\n",
       "      <td>2304.059202</td>\n",
       "      <td>2420.393316</td>\n",
       "      <td>2414.072373</td>\n",
       "      <td>2453.936292</td>\n",
       "      <td>2531.754458</td>\n",
       "      <td>NaN</td>\n",
       "      <td>NaN</td>\n",
       "    </tr>\n",
       "    <tr>\n",
       "      <th>906</th>\n",
       "      <td>IND</td>\n",
       "      <td>India</td>\n",
       "      <td>ZAWAR MINES</td>\n",
       "      <td>WRI1019901</td>\n",
       "      <td>80.0</td>\n",
       "      <td>24.3500</td>\n",
       "      <td>73.7477</td>\n",
       "      <td>Coal</td>\n",
       "      <td>no fuel</td>\n",
       "      <td>no fuel</td>\n",
       "      <td>...</td>\n",
       "      <td>WRI</td>\n",
       "      <td>NaN</td>\n",
       "      <td>2018</td>\n",
       "      <td>2304.059202</td>\n",
       "      <td>2420.393316</td>\n",
       "      <td>2414.072373</td>\n",
       "      <td>2453.936292</td>\n",
       "      <td>2531.754458</td>\n",
       "      <td>NaN</td>\n",
       "      <td>NaN</td>\n",
       "    </tr>\n",
       "    <tr>\n",
       "      <th>907</th>\n",
       "      <td>IND</td>\n",
       "      <td>India</td>\n",
       "      <td>iEnergy Theni Wind Farm</td>\n",
       "      <td>WRI1026761</td>\n",
       "      <td>16.5</td>\n",
       "      <td>9.9344</td>\n",
       "      <td>77.4768</td>\n",
       "      <td>Wind</td>\n",
       "      <td>no fuel</td>\n",
       "      <td>no fuel</td>\n",
       "      <td>...</td>\n",
       "      <td>WRI</td>\n",
       "      <td>NaN</td>\n",
       "      <td>2018</td>\n",
       "      <td>2304.059202</td>\n",
       "      <td>2420.393316</td>\n",
       "      <td>2414.072373</td>\n",
       "      <td>2453.936292</td>\n",
       "      <td>2531.754458</td>\n",
       "      <td>NaN</td>\n",
       "      <td>NaN</td>\n",
       "    </tr>\n",
       "  </tbody>\n",
       "</table>\n",
       "<p>908 rows × 25 columns</p>\n",
       "</div>"
      ],
      "text/plain": [
       "    country country_long                          name   gppd_idnr  \\\n",
       "0       IND        India              ACME Solar Tower  WRI1020239   \n",
       "1       IND        India           ADITYA CEMENT WORKS  WRI1019881   \n",
       "2       IND        India      AES Saurashtra Windfarms  WRI1026669   \n",
       "3       IND        India                   AGARTALA GT  IND0000001   \n",
       "4       IND        India                  AKALTARA TPP  IND0000002   \n",
       "..      ...          ...                           ...         ...   \n",
       "903     IND        India                  YERMARUS TPP  IND0000513   \n",
       "904     IND        India  Yelesandra Solar Power Plant  WRI1026222   \n",
       "905     IND        India  Yelisirur wind power project  WRI1026776   \n",
       "906     IND        India                   ZAWAR MINES  WRI1019901   \n",
       "907     IND        India       iEnergy Theni Wind Farm  WRI1026761   \n",
       "\n",
       "     capacity_mw  latitude  longitude primary_fuel other_fuel1 other_fuel2  \\\n",
       "0            2.5   28.1839    73.2407        Solar     no fuel     no fuel   \n",
       "1           98.0   24.7663    74.6090         Coal     no fuel     no fuel   \n",
       "2           39.2   21.9038    69.3732         Wind     no fuel     no fuel   \n",
       "3          135.0   23.8712    91.3602          Gas     no fuel     no fuel   \n",
       "4         1800.0   21.9603    82.4091         Coal         Oil     no fuel   \n",
       "..           ...       ...        ...          ...         ...         ...   \n",
       "903       1600.0   16.2949    77.3568         Coal         Oil     no fuel   \n",
       "904          3.0   12.8932    78.1654        Solar     no fuel     no fuel   \n",
       "905         25.5   15.2758    75.5811         Wind     no fuel     no fuel   \n",
       "906         80.0   24.3500    73.7477         Coal     no fuel     no fuel   \n",
       "907         16.5    9.9344    77.4768         Wind     no fuel     no fuel   \n",
       "\n",
       "     ...                    geolocation_source  wepp_id year_of_capacity_data  \\\n",
       "0    ...  National Renewable Energy Laboratory      NaN                  2018   \n",
       "1    ...                                   WRI      NaN                  2018   \n",
       "2    ...                                   WRI      NaN                  2018   \n",
       "3    ...                                   WRI      NaN                  2018   \n",
       "4    ...                                   WRI      NaN                  2018   \n",
       "..   ...                                   ...      ...                   ...   \n",
       "903  ...                                   WRI      NaN                  2018   \n",
       "904  ...                        Industry About      NaN                  2018   \n",
       "905  ...                                   WRI      NaN                  2018   \n",
       "906  ...                                   WRI      NaN                  2018   \n",
       "907  ...                                   WRI      NaN                  2018   \n",
       "\n",
       "    generation_gwh_2013 generation_gwh_2014 generation_gwh_2015  \\\n",
       "0           2304.059202         2420.393316         2414.072373   \n",
       "1           2304.059202         2420.393316         2414.072373   \n",
       "2           2304.059202         2420.393316         2414.072373   \n",
       "3            631.777928          617.789264          843.747000   \n",
       "4           1668.290000         3035.550000         5916.370000   \n",
       "..                  ...                 ...                 ...   \n",
       "903         2304.059202         2420.393316            0.994875   \n",
       "904         2304.059202         2420.393316         2414.072373   \n",
       "905         2304.059202         2420.393316         2414.072373   \n",
       "906         2304.059202         2420.393316         2414.072373   \n",
       "907         2304.059202         2420.393316         2414.072373   \n",
       "\n",
       "     generation_gwh_2016  generation_gwh_2017         generation_data_source  \\\n",
       "0            2453.936292          2531.754458                            NaN   \n",
       "1            2453.936292          2531.754458                            NaN   \n",
       "2            2453.936292          2531.754458                            NaN   \n",
       "3             886.004428           663.774500  Central Electricity Authority   \n",
       "4            6243.000000          5385.579736  Central Electricity Authority   \n",
       "..                   ...                  ...                            ...   \n",
       "903           233.596650           865.400000  Central Electricity Authority   \n",
       "904          2453.936292          2531.754458                            NaN   \n",
       "905          2453.936292          2531.754458                            NaN   \n",
       "906          2453.936292          2531.754458                            NaN   \n",
       "907          2453.936292          2531.754458                            NaN   \n",
       "\n",
       "     estimated_generation_gwh  \n",
       "0                         NaN  \n",
       "1                         NaN  \n",
       "2                         NaN  \n",
       "3                         NaN  \n",
       "4                         NaN  \n",
       "..                        ...  \n",
       "903                       NaN  \n",
       "904                       NaN  \n",
       "905                       NaN  \n",
       "906                       NaN  \n",
       "907                       NaN  \n",
       "\n",
       "[908 rows x 25 columns]"
      ]
     },
     "execution_count": 539,
     "metadata": {},
     "output_type": "execute_result"
    }
   ],
   "source": [
    "df"
   ]
  },
  {
   "cell_type": "code",
   "execution_count": 645,
   "metadata": {},
   "outputs": [],
   "source": [
    "df=df.drop([\"name\",\"gppd_idnr\"],axis=1)  #all unique present\n",
    "df=df.drop([\"country\",\"country_long\",\"year_of_capacity_data\"],axis=1) # contains the same value\n",
    "df=df.drop([\"wepp_id\",\"estimated_generation_gwh\",\"other_fuel3\"],axis=1)  #all nan values"
   ]
  },
  {
   "cell_type": "code",
   "execution_count": 646,
   "metadata": {},
   "outputs": [],
   "source": [
    "df=df.drop([\"generation_data_source\"],axis=1) #only values present are Central Electricity Authority and nan"
   ]
  },
  {
   "cell_type": "code",
   "execution_count": 647,
   "metadata": {},
   "outputs": [],
   "source": [
    "df[\"owner\"]=df[\"owner\"].replace(np.nan,\"not mentioned\")"
   ]
  },
  {
   "cell_type": "code",
   "execution_count": 648,
   "metadata": {},
   "outputs": [],
   "source": [
    "df[\"geolocation_source\"]=df[\"geolocation_source\"].fillna(stats.mode(df[\"geolocation_source\"]))"
   ]
  },
  {
   "cell_type": "code",
   "execution_count": 649,
   "metadata": {},
   "outputs": [
    {
     "data": {
      "text/html": [
       "<div>\n",
       "<style scoped>\n",
       "    .dataframe tbody tr th:only-of-type {\n",
       "        vertical-align: middle;\n",
       "    }\n",
       "\n",
       "    .dataframe tbody tr th {\n",
       "        vertical-align: top;\n",
       "    }\n",
       "\n",
       "    .dataframe thead th {\n",
       "        text-align: right;\n",
       "    }\n",
       "</style>\n",
       "<table border=\"1\" class=\"dataframe\">\n",
       "  <thead>\n",
       "    <tr style=\"text-align: right;\">\n",
       "      <th></th>\n",
       "      <th>capacity_mw</th>\n",
       "      <th>latitude</th>\n",
       "      <th>longitude</th>\n",
       "      <th>primary_fuel</th>\n",
       "      <th>other_fuel1</th>\n",
       "      <th>other_fuel2</th>\n",
       "      <th>commissioning_year</th>\n",
       "      <th>owner</th>\n",
       "      <th>source</th>\n",
       "      <th>url</th>\n",
       "      <th>geolocation_source</th>\n",
       "      <th>generation_gwh_2013</th>\n",
       "      <th>generation_gwh_2014</th>\n",
       "      <th>generation_gwh_2015</th>\n",
       "      <th>generation_gwh_2016</th>\n",
       "      <th>generation_gwh_2017</th>\n",
       "    </tr>\n",
       "  </thead>\n",
       "  <tbody>\n",
       "    <tr>\n",
       "      <th>0</th>\n",
       "      <td>2.5</td>\n",
       "      <td>28.1839</td>\n",
       "      <td>73.2407</td>\n",
       "      <td>Solar</td>\n",
       "      <td>no fuel</td>\n",
       "      <td>no fuel</td>\n",
       "      <td>2011</td>\n",
       "      <td>Solar Paces</td>\n",
       "      <td>National Renewable Energy Laboratory</td>\n",
       "      <td>http://www.nrel.gov/csp/solarpaces/project_det...</td>\n",
       "      <td>National Renewable Energy Laboratory</td>\n",
       "      <td>2304.059202</td>\n",
       "      <td>2420.393316</td>\n",
       "      <td>2414.072373</td>\n",
       "      <td>2453.936292</td>\n",
       "      <td>2531.754458</td>\n",
       "    </tr>\n",
       "    <tr>\n",
       "      <th>1</th>\n",
       "      <td>98.0</td>\n",
       "      <td>24.7663</td>\n",
       "      <td>74.6090</td>\n",
       "      <td>Coal</td>\n",
       "      <td>no fuel</td>\n",
       "      <td>no fuel</td>\n",
       "      <td>2013</td>\n",
       "      <td>Ultratech Cement ltd</td>\n",
       "      <td>Ultratech Cement ltd</td>\n",
       "      <td>http://www.ultratechcement.com/</td>\n",
       "      <td>WRI</td>\n",
       "      <td>2304.059202</td>\n",
       "      <td>2420.393316</td>\n",
       "      <td>2414.072373</td>\n",
       "      <td>2453.936292</td>\n",
       "      <td>2531.754458</td>\n",
       "    </tr>\n",
       "    <tr>\n",
       "      <th>2</th>\n",
       "      <td>39.2</td>\n",
       "      <td>21.9038</td>\n",
       "      <td>69.3732</td>\n",
       "      <td>Wind</td>\n",
       "      <td>no fuel</td>\n",
       "      <td>no fuel</td>\n",
       "      <td>2013</td>\n",
       "      <td>AES</td>\n",
       "      <td>CDM</td>\n",
       "      <td>https://cdm.unfccc.int/Projects/DB/DNV-CUK1328...</td>\n",
       "      <td>WRI</td>\n",
       "      <td>2304.059202</td>\n",
       "      <td>2420.393316</td>\n",
       "      <td>2414.072373</td>\n",
       "      <td>2453.936292</td>\n",
       "      <td>2531.754458</td>\n",
       "    </tr>\n",
       "    <tr>\n",
       "      <th>3</th>\n",
       "      <td>135.0</td>\n",
       "      <td>23.8712</td>\n",
       "      <td>91.3602</td>\n",
       "      <td>Gas</td>\n",
       "      <td>no fuel</td>\n",
       "      <td>no fuel</td>\n",
       "      <td>2004</td>\n",
       "      <td>not mentioned</td>\n",
       "      <td>Central Electricity Authority</td>\n",
       "      <td>http://www.cea.nic.in/</td>\n",
       "      <td>WRI</td>\n",
       "      <td>631.777928</td>\n",
       "      <td>617.789264</td>\n",
       "      <td>843.747000</td>\n",
       "      <td>886.004428</td>\n",
       "      <td>663.774500</td>\n",
       "    </tr>\n",
       "    <tr>\n",
       "      <th>4</th>\n",
       "      <td>1800.0</td>\n",
       "      <td>21.9603</td>\n",
       "      <td>82.4091</td>\n",
       "      <td>Coal</td>\n",
       "      <td>Oil</td>\n",
       "      <td>no fuel</td>\n",
       "      <td>2015</td>\n",
       "      <td>not mentioned</td>\n",
       "      <td>Central Electricity Authority</td>\n",
       "      <td>http://www.cea.nic.in/</td>\n",
       "      <td>WRI</td>\n",
       "      <td>1668.290000</td>\n",
       "      <td>3035.550000</td>\n",
       "      <td>5916.370000</td>\n",
       "      <td>6243.000000</td>\n",
       "      <td>5385.579736</td>\n",
       "    </tr>\n",
       "    <tr>\n",
       "      <th>...</th>\n",
       "      <td>...</td>\n",
       "      <td>...</td>\n",
       "      <td>...</td>\n",
       "      <td>...</td>\n",
       "      <td>...</td>\n",
       "      <td>...</td>\n",
       "      <td>...</td>\n",
       "      <td>...</td>\n",
       "      <td>...</td>\n",
       "      <td>...</td>\n",
       "      <td>...</td>\n",
       "      <td>...</td>\n",
       "      <td>...</td>\n",
       "      <td>...</td>\n",
       "      <td>...</td>\n",
       "      <td>...</td>\n",
       "    </tr>\n",
       "    <tr>\n",
       "      <th>903</th>\n",
       "      <td>1600.0</td>\n",
       "      <td>16.2949</td>\n",
       "      <td>77.3568</td>\n",
       "      <td>Coal</td>\n",
       "      <td>Oil</td>\n",
       "      <td>no fuel</td>\n",
       "      <td>2016</td>\n",
       "      <td>not mentioned</td>\n",
       "      <td>Central Electricity Authority</td>\n",
       "      <td>http://www.cea.nic.in/</td>\n",
       "      <td>WRI</td>\n",
       "      <td>2304.059202</td>\n",
       "      <td>2420.393316</td>\n",
       "      <td>0.994875</td>\n",
       "      <td>233.596650</td>\n",
       "      <td>865.400000</td>\n",
       "    </tr>\n",
       "    <tr>\n",
       "      <th>904</th>\n",
       "      <td>3.0</td>\n",
       "      <td>12.8932</td>\n",
       "      <td>78.1654</td>\n",
       "      <td>Solar</td>\n",
       "      <td>no fuel</td>\n",
       "      <td>no fuel</td>\n",
       "      <td>2013</td>\n",
       "      <td>Karnataka Power Corporation Limited</td>\n",
       "      <td>Karnataka Power Corporation Limited</td>\n",
       "      <td>http://karnatakapower.com</td>\n",
       "      <td>Industry About</td>\n",
       "      <td>2304.059202</td>\n",
       "      <td>2420.393316</td>\n",
       "      <td>2414.072373</td>\n",
       "      <td>2453.936292</td>\n",
       "      <td>2531.754458</td>\n",
       "    </tr>\n",
       "    <tr>\n",
       "      <th>905</th>\n",
       "      <td>25.5</td>\n",
       "      <td>15.2758</td>\n",
       "      <td>75.5811</td>\n",
       "      <td>Wind</td>\n",
       "      <td>no fuel</td>\n",
       "      <td>no fuel</td>\n",
       "      <td>2013</td>\n",
       "      <td>not mentioned</td>\n",
       "      <td>CDM</td>\n",
       "      <td>https://cdm.unfccc.int/Projects/DB/TUEV-RHEIN1...</td>\n",
       "      <td>WRI</td>\n",
       "      <td>2304.059202</td>\n",
       "      <td>2420.393316</td>\n",
       "      <td>2414.072373</td>\n",
       "      <td>2453.936292</td>\n",
       "      <td>2531.754458</td>\n",
       "    </tr>\n",
       "    <tr>\n",
       "      <th>906</th>\n",
       "      <td>80.0</td>\n",
       "      <td>24.3500</td>\n",
       "      <td>73.7477</td>\n",
       "      <td>Coal</td>\n",
       "      <td>no fuel</td>\n",
       "      <td>no fuel</td>\n",
       "      <td>2013</td>\n",
       "      <td>Hindustan Zinc ltd</td>\n",
       "      <td>Hindustan Zinc ltd</td>\n",
       "      <td>http://www.hzlindia.com/</td>\n",
       "      <td>WRI</td>\n",
       "      <td>2304.059202</td>\n",
       "      <td>2420.393316</td>\n",
       "      <td>2414.072373</td>\n",
       "      <td>2453.936292</td>\n",
       "      <td>2531.754458</td>\n",
       "    </tr>\n",
       "    <tr>\n",
       "      <th>907</th>\n",
       "      <td>16.5</td>\n",
       "      <td>9.9344</td>\n",
       "      <td>77.4768</td>\n",
       "      <td>Wind</td>\n",
       "      <td>no fuel</td>\n",
       "      <td>no fuel</td>\n",
       "      <td>2013</td>\n",
       "      <td>iEnergy Wind Farms</td>\n",
       "      <td>CDM</td>\n",
       "      <td>https://cdm.unfccc.int/Projects/DB/RWTUV134503...</td>\n",
       "      <td>WRI</td>\n",
       "      <td>2304.059202</td>\n",
       "      <td>2420.393316</td>\n",
       "      <td>2414.072373</td>\n",
       "      <td>2453.936292</td>\n",
       "      <td>2531.754458</td>\n",
       "    </tr>\n",
       "  </tbody>\n",
       "</table>\n",
       "<p>908 rows × 16 columns</p>\n",
       "</div>"
      ],
      "text/plain": [
       "     capacity_mw  latitude  longitude primary_fuel other_fuel1 other_fuel2  \\\n",
       "0            2.5   28.1839    73.2407        Solar     no fuel     no fuel   \n",
       "1           98.0   24.7663    74.6090         Coal     no fuel     no fuel   \n",
       "2           39.2   21.9038    69.3732         Wind     no fuel     no fuel   \n",
       "3          135.0   23.8712    91.3602          Gas     no fuel     no fuel   \n",
       "4         1800.0   21.9603    82.4091         Coal         Oil     no fuel   \n",
       "..           ...       ...        ...          ...         ...         ...   \n",
       "903       1600.0   16.2949    77.3568         Coal         Oil     no fuel   \n",
       "904          3.0   12.8932    78.1654        Solar     no fuel     no fuel   \n",
       "905         25.5   15.2758    75.5811         Wind     no fuel     no fuel   \n",
       "906         80.0   24.3500    73.7477         Coal     no fuel     no fuel   \n",
       "907         16.5    9.9344    77.4768         Wind     no fuel     no fuel   \n",
       "\n",
       "     commissioning_year                                owner  \\\n",
       "0                  2011                          Solar Paces   \n",
       "1                  2013                 Ultratech Cement ltd   \n",
       "2                  2013                                  AES   \n",
       "3                  2004                        not mentioned   \n",
       "4                  2015                        not mentioned   \n",
       "..                  ...                                  ...   \n",
       "903                2016                        not mentioned   \n",
       "904                2013  Karnataka Power Corporation Limited   \n",
       "905                2013                        not mentioned   \n",
       "906                2013                   Hindustan Zinc ltd   \n",
       "907                2013                   iEnergy Wind Farms   \n",
       "\n",
       "                                   source  \\\n",
       "0    National Renewable Energy Laboratory   \n",
       "1                    Ultratech Cement ltd   \n",
       "2                                     CDM   \n",
       "3           Central Electricity Authority   \n",
       "4           Central Electricity Authority   \n",
       "..                                    ...   \n",
       "903         Central Electricity Authority   \n",
       "904   Karnataka Power Corporation Limited   \n",
       "905                                   CDM   \n",
       "906                    Hindustan Zinc ltd   \n",
       "907                                   CDM   \n",
       "\n",
       "                                                   url  \\\n",
       "0    http://www.nrel.gov/csp/solarpaces/project_det...   \n",
       "1                      http://www.ultratechcement.com/   \n",
       "2    https://cdm.unfccc.int/Projects/DB/DNV-CUK1328...   \n",
       "3                               http://www.cea.nic.in/   \n",
       "4                               http://www.cea.nic.in/   \n",
       "..                                                 ...   \n",
       "903                             http://www.cea.nic.in/   \n",
       "904                          http://karnatakapower.com   \n",
       "905  https://cdm.unfccc.int/Projects/DB/TUEV-RHEIN1...   \n",
       "906                           http://www.hzlindia.com/   \n",
       "907  https://cdm.unfccc.int/Projects/DB/RWTUV134503...   \n",
       "\n",
       "                       geolocation_source  generation_gwh_2013  \\\n",
       "0    National Renewable Energy Laboratory          2304.059202   \n",
       "1                                     WRI          2304.059202   \n",
       "2                                     WRI          2304.059202   \n",
       "3                                     WRI           631.777928   \n",
       "4                                     WRI          1668.290000   \n",
       "..                                    ...                  ...   \n",
       "903                                   WRI          2304.059202   \n",
       "904                        Industry About          2304.059202   \n",
       "905                                   WRI          2304.059202   \n",
       "906                                   WRI          2304.059202   \n",
       "907                                   WRI          2304.059202   \n",
       "\n",
       "     generation_gwh_2014  generation_gwh_2015  generation_gwh_2016  \\\n",
       "0            2420.393316          2414.072373          2453.936292   \n",
       "1            2420.393316          2414.072373          2453.936292   \n",
       "2            2420.393316          2414.072373          2453.936292   \n",
       "3             617.789264           843.747000           886.004428   \n",
       "4            3035.550000          5916.370000          6243.000000   \n",
       "..                   ...                  ...                  ...   \n",
       "903          2420.393316             0.994875           233.596650   \n",
       "904          2420.393316          2414.072373          2453.936292   \n",
       "905          2420.393316          2414.072373          2453.936292   \n",
       "906          2420.393316          2414.072373          2453.936292   \n",
       "907          2420.393316          2414.072373          2453.936292   \n",
       "\n",
       "     generation_gwh_2017  \n",
       "0            2531.754458  \n",
       "1            2531.754458  \n",
       "2            2531.754458  \n",
       "3             663.774500  \n",
       "4            5385.579736  \n",
       "..                   ...  \n",
       "903           865.400000  \n",
       "904          2531.754458  \n",
       "905          2531.754458  \n",
       "906          2531.754458  \n",
       "907          2531.754458  \n",
       "\n",
       "[908 rows x 16 columns]"
      ]
     },
     "execution_count": 649,
     "metadata": {},
     "output_type": "execute_result"
    }
   ],
   "source": [
    "df"
   ]
  },
  {
   "cell_type": "markdown",
   "metadata": {},
   "source": [
    "# EDA"
   ]
  },
  {
   "cell_type": "code",
   "execution_count": 545,
   "metadata": {},
   "outputs": [
    {
     "data": {
      "text/plain": [
       "Text(0.5, 1.0, 'Primary fuel')"
      ]
     },
     "execution_count": 545,
     "metadata": {},
     "output_type": "execute_result"
    },
    {
     "data": {
      "image/png": "[encoded data removed]",
      "text/plain": [
       "<Figure size 504x504 with 1 Axes>"
      ]
     },
     "metadata": {},
     "output_type": "display_data"
    }
   ],
   "source": [
    "count=df[\"primary_fuel\"].value_counts()\n",
    "explode = [0.05, 0.1,0.1,0.1,0.15,0.6,0.175,0.2]\n",
    "plt.figure(figsize=(7,7))\n",
    "plt.pie(data=count,x=count.values,labels=count.index,colors=[\"blue\",\"orange\",\"lime\",\"green\",\"red\",\"pink\",\"grey\",\"yellow\"],autopct=\"%0.2f%%\",explode=explode)\n",
    "plt.title(\"Primary fuel\",size=20)"
   ]
  },
  {
   "cell_type": "markdown",
   "metadata": {},
   "source": [
    "Observations:\n",
    "    \n",
    "1. Coal is the most generated primary fuel. \n",
    "\n",
    "\n",
    "2. Nuclear is the least generated primary fuel.\n",
    "\n",
    "\n",
    "3. Coal and Hydro account for over 56% of primary fuel."
   ]
  },
  {
   "cell_type": "code",
   "execution_count": 546,
   "metadata": {},
   "outputs": [
    {
     "data": {
      "text/plain": [
       "<AxesSubplot:xlabel='primary_fuel', ylabel='capacity_mw'>"
      ]
     },
     "execution_count": 546,
     "metadata": {},
     "output_type": "execute_result"
    },
    {
     "data": {
      "image/png": "[encoded data removed]",
      "text/plain": [
       "<Figure size 576x576 with 1 Axes>"
      ]
     },
     "metadata": {
      "needs_background": "light"
     },
     "output_type": "display_data"
    }
   ],
   "source": [
    "plt.subplots(figsize=(8,8))\n",
    "sns.stripplot(x=\"primary_fuel\",y=\"capacity_mw\",data=df)"
   ]
  },
  {
   "cell_type": "markdown",
   "metadata": {},
   "source": [
    "observation:\n",
    "    \n",
    "1. Coal generates the most power in mega watts (mw).\n",
    "\n",
    "\n",
    "2. Nuclear having the least presence in terms of count in the plot. \n",
    "\n",
    "\n",
    "3. Biomass contributes the least in terms of capacity in mw."
   ]
  },
  {
   "cell_type": "code",
   "execution_count": 547,
   "metadata": {},
   "outputs": [
    {
     "data": {
      "text/plain": [
       "<AxesSubplot:xlabel='primary_fuel', ylabel='Count'>"
      ]
     },
     "execution_count": 547,
     "metadata": {},
     "output_type": "execute_result"
    },
    {
     "data": {
      "image/png": "[encoded data removed]",
      "text/plain": [
       "<Figure size 576x576 with 1 Axes>"
      ]
     },
     "metadata": {
      "needs_background": "light"
     },
     "output_type": "display_data"
    }
   ],
   "source": [
    "plt.subplots(figsize=(8,8))\n",
    "sns.histplot(df,x=\"primary_fuel\",stat=\"count\",bins=\"auto\",hue=\"other_fuel1\",multiple=\"dodge\")"
   ]
  },
  {
   "cell_type": "markdown",
   "metadata": {},
   "source": [
    "observations:\n",
    "    \n",
    "1. When coal is the primary fuel, other fuels (alternatives) have been oil and Congeneration. \n",
    "\n",
    "\n",
    "2. When nuclear is the primary fuel, other fuel has been Gas. \n",
    "\n",
    "\n",
    "3. When the primary fuel has been gas, other fuel generates is oil.\n",
    "\n",
    "\n",
    "4. Whereas for solar,wind,hydro,biomass an oil as primary fuel no alterntaive fuels have been generated. "
   ]
  },
  {
   "cell_type": "code",
   "execution_count": 548,
   "metadata": {},
   "outputs": [
    {
     "data": {
      "text/plain": [
       "<AxesSubplot:xlabel='primary_fuel', ylabel='Count'>"
      ]
     },
     "execution_count": 548,
     "metadata": {},
     "output_type": "execute_result"
    },
    {
     "data": {
      "image/png": "[encoded data removed]",
      "text/plain": [
       "<Figure size 576x576 with 1 Axes>"
      ]
     },
     "metadata": {
      "needs_background": "light"
     },
     "output_type": "display_data"
    }
   ],
   "source": [
    "plt.subplots(figsize=(8,8))\n",
    "sns.histplot(df,x=\"primary_fuel\",stat=\"count\",bins=\"auto\",hue=\"other_fuel2\",multiple=\"dodge\")"
   ]
  },
  {
   "cell_type": "markdown",
   "metadata": {},
   "source": [
    "Observations:\n",
    "    \n",
    "1. Coal is the only primary fuel where oil as other fuel can be generated."
   ]
  },
  {
   "cell_type": "code",
   "execution_count": 549,
   "metadata": {},
   "outputs": [
    {
     "data": {
      "text/plain": [
       "<AxesSubplot:xlabel='primary_fuel', ylabel='capacity_mw'>"
      ]
     },
     "execution_count": 549,
     "metadata": {},
     "output_type": "execute_result"
    },
    {
     "data": {
      "image/png": "[encoded data removed]",
      "text/plain": [
       "<Figure size 576x576 with 1 Axes>"
      ]
     },
     "metadata": {
      "needs_background": "light"
     },
     "output_type": "display_data"
    }
   ],
   "source": [
    "plt.subplots(figsize=(8,8))\n",
    "sns.stripplot(x=\"primary_fuel\",y=\"capacity_mw\",data=df,hue=\"other_fuel1\")"
   ]
  },
  {
   "cell_type": "markdown",
   "metadata": {},
   "source": [
    "Observations:\n",
    "    \n",
    "1. Coal as primary fuel and oil as other fuel has contributed the most to capacity. \n"
   ]
  },
  {
   "cell_type": "code",
   "execution_count": 550,
   "metadata": {},
   "outputs": [
    {
     "data": {
      "text/plain": [
       "<AxesSubplot:xlabel='primary_fuel', ylabel='commissioning_year'>"
      ]
     },
     "execution_count": 550,
     "metadata": {},
     "output_type": "execute_result"
    },
    {
     "data": {
      "image/png": "[encoded data removed]",
      "text/plain": [
       "<Figure size 576x576 with 1 Axes>"
      ]
     },
     "metadata": {
      "needs_background": "light"
     },
     "output_type": "display_data"
    }
   ],
   "source": [
    "plt.subplots(figsize=(8,8))\n",
    "sns.scatterplot(x=\"primary_fuel\",y=\"commissioning_year\",data=df)"
   ]
  },
  {
   "cell_type": "markdown",
   "metadata": {},
   "source": [
    "Observations:\n",
    "    \n",
    "1. Solar power plants have only begun closer to the year 2020.\n",
    "\n",
    "\n",
    "\n",
    "2. Hydro power plant seems to be the oldest plants to generate power.\n",
    "\n",
    "\n",
    "3. Coal power plants have begun around the year 1960.\n",
    "\n",
    "\n",
    "4. Wind and biomass dont have alot of plants and these have begun in early 2010s."
   ]
  },
  {
   "cell_type": "code",
   "execution_count": 551,
   "metadata": {},
   "outputs": [
    {
     "data": {
      "text/plain": [
       "<AxesSubplot:xlabel='commissioning_year', ylabel='capacity_mw'>"
      ]
     },
     "execution_count": 551,
     "metadata": {},
     "output_type": "execute_result"
    },
    {
     "data": {
      "image/png": "[encoded data removed]",
      "text/plain": [
       "<Figure size 576x576 with 1 Axes>"
      ]
     },
     "metadata": {
      "needs_background": "light"
     },
     "output_type": "display_data"
    }
   ],
   "source": [
    "plt.subplots(figsize=(8,8))\n",
    "sns.scatterplot(x=\"commissioning_year\",y=\"capacity_mw\",data=df,color=\"green\")"
   ]
  },
  {
   "cell_type": "markdown",
   "metadata": {},
   "source": [
    "Observations:\n",
    "    \n",
    "1. Over the years plants have managed to increase the capacity of the plant drastically."
   ]
  },
  {
   "cell_type": "code",
   "execution_count": 552,
   "metadata": {},
   "outputs": [
    {
     "data": {
      "text/plain": [
       "<AxesSubplot:xlabel='capacity_mw', ylabel='generation_gwh_2017'>"
      ]
     },
     "execution_count": 552,
     "metadata": {},
     "output_type": "execute_result"
    },
    {
     "data": {
      "image/png": "[encoded data removed]",
      "text/plain": [
       "<Figure size 1080x720 with 5 Axes>"
      ]
     },
     "metadata": {
      "needs_background": "light"
     },
     "output_type": "display_data"
    }
   ],
   "source": [
    "fig, axes = plt.subplots(5, 1, figsize=(15, 10), sharex=False)\n",
    "fig.suptitle(\"Power generated VS Capacity\")\n",
    "\n",
    "sns.lineplot(y=df[\"generation_gwh_2013\"],x=df[\"capacity_mw\"],ax=axes[0],color=\"red\")\n",
    "\n",
    "sns.lineplot(y=df[\"generation_gwh_2014\"],x=df[\"capacity_mw\"],ax=axes[1],color=\"lime\")\n",
    "\n",
    "sns.lineplot(y=df[\"generation_gwh_2015\"],x=df[\"capacity_mw\"],ax=axes[2],color=\"0.2\")\n",
    "\n",
    "sns.lineplot(y=df[\"generation_gwh_2016\"],x=df[\"capacity_mw\"],ax=axes[3],color=\"blue\")\n",
    "\n",
    "sns.lineplot(y=df[\"generation_gwh_2017\"],x=df[\"capacity_mw\"],ax=axes[4],color=\"0.5\")"
   ]
  },
  {
   "cell_type": "markdown",
   "metadata": {},
   "source": [
    "Observations:\n",
    "    \n",
    "1. Across years a similr trend is observed between electricity generated and capacity of the plant. \n",
    "\n",
    "\n",
    "2. In the year 2013, there is a significant drop in electricity generated at capacity 4000 mw when compared with the consecutive years.\n",
    "\n",
    "\n",
    "3. While in the year 2015, there is a steep increase in the electricity generated at capacity 4000 mw when compared with the consecutive years."
   ]
  },
  {
   "cell_type": "code",
   "execution_count": 553,
   "metadata": {},
   "outputs": [
    {
     "data": {
      "text/plain": [
       "<AxesSubplot:xlabel='geolocation_source', ylabel='count'>"
      ]
     },
     "execution_count": 553,
     "metadata": {},
     "output_type": "execute_result"
    },
    {
     "data": {
      "image/png": "[encoded data removed]",
      "text/plain": [
       "<Figure size 576x576 with 1 Axes>"
      ]
     },
     "metadata": {
      "needs_background": "light"
     },
     "output_type": "display_data"
    }
   ],
   "source": [
    "plt.subplots(figsize=(8,8))\n",
    "sns.countplot(x=\"geolocation_source\",data=df,palette=\"flare\")"
   ]
  },
  {
   "cell_type": "markdown",
   "metadata": {},
   "source": [
    "Observations:\n",
    "    \n",
    "1. WRI is from where the most geolocation_source is collected."
   ]
  },
  {
   "cell_type": "code",
   "execution_count": 554,
   "metadata": {},
   "outputs": [
    {
     "data": {
      "text/plain": [
       "capacity_mw            float64\n",
       "latitude               float64\n",
       "longitude              float64\n",
       "primary_fuel            object\n",
       "other_fuel1             object\n",
       "other_fuel2             object\n",
       "commissioning_year       int32\n",
       "owner                   object\n",
       "source                  object\n",
       "url                     object\n",
       "geolocation_source      object\n",
       "generation_gwh_2013    float64\n",
       "generation_gwh_2014    float64\n",
       "generation_gwh_2015    float64\n",
       "generation_gwh_2016    float64\n",
       "generation_gwh_2017    float64\n",
       "dtype: object"
      ]
     },
     "execution_count": 554,
     "metadata": {},
     "output_type": "execute_result"
    }
   ],
   "source": [
    "df.dtypes"
   ]
  },
  {
   "cell_type": "code",
   "execution_count": null,
   "metadata": {},
   "outputs": [],
   "source": []
  },
  {
   "cell_type": "markdown",
   "metadata": {},
   "source": [
    "# Label Encoder"
   ]
  },
  {
   "cell_type": "code",
   "execution_count": 650,
   "metadata": {},
   "outputs": [
    {
     "data": {
      "text/html": [
       "<div>\n",
       "<style scoped>\n",
       "    .dataframe tbody tr th:only-of-type {\n",
       "        vertical-align: middle;\n",
       "    }\n",
       "\n",
       "    .dataframe tbody tr th {\n",
       "        vertical-align: top;\n",
       "    }\n",
       "\n",
       "    .dataframe thead th {\n",
       "        text-align: right;\n",
       "    }\n",
       "</style>\n",
       "<table border=\"1\" class=\"dataframe\">\n",
       "  <thead>\n",
       "    <tr style=\"text-align: right;\">\n",
       "      <th></th>\n",
       "      <th>capacity_mw</th>\n",
       "      <th>latitude</th>\n",
       "      <th>longitude</th>\n",
       "      <th>primary_fuel</th>\n",
       "      <th>other_fuel1</th>\n",
       "      <th>other_fuel2</th>\n",
       "      <th>commissioning_year</th>\n",
       "      <th>owner</th>\n",
       "      <th>source</th>\n",
       "      <th>url</th>\n",
       "      <th>geolocation_source</th>\n",
       "      <th>generation_gwh_2013</th>\n",
       "      <th>generation_gwh_2014</th>\n",
       "      <th>generation_gwh_2015</th>\n",
       "      <th>generation_gwh_2016</th>\n",
       "      <th>generation_gwh_2017</th>\n",
       "    </tr>\n",
       "  </thead>\n",
       "  <tbody>\n",
       "    <tr>\n",
       "      <th>0</th>\n",
       "      <td>2.5</td>\n",
       "      <td>28.1839</td>\n",
       "      <td>73.2407</td>\n",
       "      <td>6</td>\n",
       "      <td>3</td>\n",
       "      <td>1</td>\n",
       "      <td>65</td>\n",
       "      <td>229</td>\n",
       "      <td>109</td>\n",
       "      <td>128</td>\n",
       "      <td>1</td>\n",
       "      <td>2304.059202</td>\n",
       "      <td>2420.393316</td>\n",
       "      <td>2414.072373</td>\n",
       "      <td>2453.936292</td>\n",
       "      <td>2531.754458</td>\n",
       "    </tr>\n",
       "    <tr>\n",
       "      <th>1</th>\n",
       "      <td>98.0</td>\n",
       "      <td>24.7663</td>\n",
       "      <td>74.6090</td>\n",
       "      <td>1</td>\n",
       "      <td>3</td>\n",
       "      <td>1</td>\n",
       "      <td>67</td>\n",
       "      <td>258</td>\n",
       "      <td>174</td>\n",
       "      <td>173</td>\n",
       "      <td>2</td>\n",
       "      <td>2304.059202</td>\n",
       "      <td>2420.393316</td>\n",
       "      <td>2414.072373</td>\n",
       "      <td>2453.936292</td>\n",
       "      <td>2531.754458</td>\n",
       "    </tr>\n",
       "    <tr>\n",
       "      <th>2</th>\n",
       "      <td>39.2</td>\n",
       "      <td>21.9038</td>\n",
       "      <td>69.3732</td>\n",
       "      <td>7</td>\n",
       "      <td>3</td>\n",
       "      <td>1</td>\n",
       "      <td>67</td>\n",
       "      <td>2</td>\n",
       "      <td>21</td>\n",
       "      <td>205</td>\n",
       "      <td>2</td>\n",
       "      <td>2304.059202</td>\n",
       "      <td>2420.393316</td>\n",
       "      <td>2414.072373</td>\n",
       "      <td>2453.936292</td>\n",
       "      <td>2531.754458</td>\n",
       "    </tr>\n",
       "    <tr>\n",
       "      <th>3</th>\n",
       "      <td>135.0</td>\n",
       "      <td>23.8712</td>\n",
       "      <td>91.3602</td>\n",
       "      <td>2</td>\n",
       "      <td>3</td>\n",
       "      <td>1</td>\n",
       "      <td>58</td>\n",
       "      <td>280</td>\n",
       "      <td>22</td>\n",
       "      <td>58</td>\n",
       "      <td>2</td>\n",
       "      <td>631.777928</td>\n",
       "      <td>617.789264</td>\n",
       "      <td>843.747000</td>\n",
       "      <td>886.004428</td>\n",
       "      <td>663.774500</td>\n",
       "    </tr>\n",
       "    <tr>\n",
       "      <th>4</th>\n",
       "      <td>1800.0</td>\n",
       "      <td>21.9603</td>\n",
       "      <td>82.4091</td>\n",
       "      <td>1</td>\n",
       "      <td>2</td>\n",
       "      <td>1</td>\n",
       "      <td>69</td>\n",
       "      <td>280</td>\n",
       "      <td>22</td>\n",
       "      <td>58</td>\n",
       "      <td>2</td>\n",
       "      <td>1668.290000</td>\n",
       "      <td>3035.550000</td>\n",
       "      <td>5916.370000</td>\n",
       "      <td>6243.000000</td>\n",
       "      <td>5385.579736</td>\n",
       "    </tr>\n",
       "    <tr>\n",
       "      <th>...</th>\n",
       "      <td>...</td>\n",
       "      <td>...</td>\n",
       "      <td>...</td>\n",
       "      <td>...</td>\n",
       "      <td>...</td>\n",
       "      <td>...</td>\n",
       "      <td>...</td>\n",
       "      <td>...</td>\n",
       "      <td>...</td>\n",
       "      <td>...</td>\n",
       "      <td>...</td>\n",
       "      <td>...</td>\n",
       "      <td>...</td>\n",
       "      <td>...</td>\n",
       "      <td>...</td>\n",
       "      <td>...</td>\n",
       "    </tr>\n",
       "    <tr>\n",
       "      <th>903</th>\n",
       "      <td>1600.0</td>\n",
       "      <td>16.2949</td>\n",
       "      <td>77.3568</td>\n",
       "      <td>1</td>\n",
       "      <td>2</td>\n",
       "      <td>1</td>\n",
       "      <td>70</td>\n",
       "      <td>280</td>\n",
       "      <td>22</td>\n",
       "      <td>58</td>\n",
       "      <td>2</td>\n",
       "      <td>2304.059202</td>\n",
       "      <td>2420.393316</td>\n",
       "      <td>0.994875</td>\n",
       "      <td>233.596650</td>\n",
       "      <td>865.400000</td>\n",
       "    </tr>\n",
       "    <tr>\n",
       "      <th>904</th>\n",
       "      <td>3.0</td>\n",
       "      <td>12.8932</td>\n",
       "      <td>78.1654</td>\n",
       "      <td>6</td>\n",
       "      <td>3</td>\n",
       "      <td>1</td>\n",
       "      <td>67</td>\n",
       "      <td>114</td>\n",
       "      <td>77</td>\n",
       "      <td>22</td>\n",
       "      <td>0</td>\n",
       "      <td>2304.059202</td>\n",
       "      <td>2420.393316</td>\n",
       "      <td>2414.072373</td>\n",
       "      <td>2453.936292</td>\n",
       "      <td>2531.754458</td>\n",
       "    </tr>\n",
       "    <tr>\n",
       "      <th>905</th>\n",
       "      <td>25.5</td>\n",
       "      <td>15.2758</td>\n",
       "      <td>75.5811</td>\n",
       "      <td>7</td>\n",
       "      <td>3</td>\n",
       "      <td>1</td>\n",
       "      <td>67</td>\n",
       "      <td>280</td>\n",
       "      <td>21</td>\n",
       "      <td>260</td>\n",
       "      <td>2</td>\n",
       "      <td>2304.059202</td>\n",
       "      <td>2420.393316</td>\n",
       "      <td>2414.072373</td>\n",
       "      <td>2453.936292</td>\n",
       "      <td>2531.754458</td>\n",
       "    </tr>\n",
       "    <tr>\n",
       "      <th>906</th>\n",
       "      <td>80.0</td>\n",
       "      <td>24.3500</td>\n",
       "      <td>73.7477</td>\n",
       "      <td>1</td>\n",
       "      <td>3</td>\n",
       "      <td>1</td>\n",
       "      <td>67</td>\n",
       "      <td>91</td>\n",
       "      <td>59</td>\n",
       "      <td>82</td>\n",
       "      <td>2</td>\n",
       "      <td>2304.059202</td>\n",
       "      <td>2420.393316</td>\n",
       "      <td>2414.072373</td>\n",
       "      <td>2453.936292</td>\n",
       "      <td>2531.754458</td>\n",
       "    </tr>\n",
       "    <tr>\n",
       "      <th>907</th>\n",
       "      <td>16.5</td>\n",
       "      <td>9.9344</td>\n",
       "      <td>77.4768</td>\n",
       "      <td>7</td>\n",
       "      <td>3</td>\n",
       "      <td>1</td>\n",
       "      <td>67</td>\n",
       "      <td>279</td>\n",
       "      <td>21</td>\n",
       "      <td>245</td>\n",
       "      <td>2</td>\n",
       "      <td>2304.059202</td>\n",
       "      <td>2420.393316</td>\n",
       "      <td>2414.072373</td>\n",
       "      <td>2453.936292</td>\n",
       "      <td>2531.754458</td>\n",
       "    </tr>\n",
       "  </tbody>\n",
       "</table>\n",
       "<p>908 rows × 16 columns</p>\n",
       "</div>"
      ],
      "text/plain": [
       "     capacity_mw  latitude  longitude  primary_fuel  other_fuel1  other_fuel2  \\\n",
       "0            2.5   28.1839    73.2407             6            3            1   \n",
       "1           98.0   24.7663    74.6090             1            3            1   \n",
       "2           39.2   21.9038    69.3732             7            3            1   \n",
       "3          135.0   23.8712    91.3602             2            3            1   \n",
       "4         1800.0   21.9603    82.4091             1            2            1   \n",
       "..           ...       ...        ...           ...          ...          ...   \n",
       "903       1600.0   16.2949    77.3568             1            2            1   \n",
       "904          3.0   12.8932    78.1654             6            3            1   \n",
       "905         25.5   15.2758    75.5811             7            3            1   \n",
       "906         80.0   24.3500    73.7477             1            3            1   \n",
       "907         16.5    9.9344    77.4768             7            3            1   \n",
       "\n",
       "     commissioning_year  owner  source  url  geolocation_source  \\\n",
       "0                    65    229     109  128                   1   \n",
       "1                    67    258     174  173                   2   \n",
       "2                    67      2      21  205                   2   \n",
       "3                    58    280      22   58                   2   \n",
       "4                    69    280      22   58                   2   \n",
       "..                  ...    ...     ...  ...                 ...   \n",
       "903                  70    280      22   58                   2   \n",
       "904                  67    114      77   22                   0   \n",
       "905                  67    280      21  260                   2   \n",
       "906                  67     91      59   82                   2   \n",
       "907                  67    279      21  245                   2   \n",
       "\n",
       "     generation_gwh_2013  generation_gwh_2014  generation_gwh_2015  \\\n",
       "0            2304.059202          2420.393316          2414.072373   \n",
       "1            2304.059202          2420.393316          2414.072373   \n",
       "2            2304.059202          2420.393316          2414.072373   \n",
       "3             631.777928           617.789264           843.747000   \n",
       "4            1668.290000          3035.550000          5916.370000   \n",
       "..                   ...                  ...                  ...   \n",
       "903          2304.059202          2420.393316             0.994875   \n",
       "904          2304.059202          2420.393316          2414.072373   \n",
       "905          2304.059202          2420.393316          2414.072373   \n",
       "906          2304.059202          2420.393316          2414.072373   \n",
       "907          2304.059202          2420.393316          2414.072373   \n",
       "\n",
       "     generation_gwh_2016  generation_gwh_2017  \n",
       "0            2453.936292          2531.754458  \n",
       "1            2453.936292          2531.754458  \n",
       "2            2453.936292          2531.754458  \n",
       "3             886.004428           663.774500  \n",
       "4            6243.000000          5385.579736  \n",
       "..                   ...                  ...  \n",
       "903           233.596650           865.400000  \n",
       "904          2453.936292          2531.754458  \n",
       "905          2453.936292          2531.754458  \n",
       "906          2453.936292          2531.754458  \n",
       "907          2453.936292          2531.754458  \n",
       "\n",
       "[908 rows x 16 columns]"
      ]
     },
     "execution_count": 650,
     "metadata": {},
     "output_type": "execute_result"
    }
   ],
   "source": [
    "import sklearn \n",
    "from sklearn.preprocessing import LabelEncoder \n",
    "\n",
    "lencode=LabelEncoder()\n",
    "df[\"primary_fuel\"]=lencode.fit_transform(df[\"primary_fuel\"])\n",
    "df[\"other_fuel1\"]=lencode.fit_transform(df[\"other_fuel1\"])\n",
    "df[\"other_fuel2\"]=lencode.fit_transform(df[\"other_fuel2\"])\n",
    "df[\"owner\"]=lencode.fit_transform(df[\"owner\"])\n",
    "df[\"source\"]=lencode.fit_transform(df[\"source\"])\n",
    "df[\"url\"]=lencode.fit_transform(df[\"url\"])\n",
    "df[\"geolocation_source\"]=lencode.fit_transform(df[\"geolocation_source\"])\n",
    "df[\"commissioning_year\"]=lencode.fit_transform(df[\"commissioning_year\"])\n",
    "df"
   ]
  },
  {
   "cell_type": "code",
   "execution_count": 556,
   "metadata": {},
   "outputs": [
    {
     "data": {
      "text/html": [
       "<div>\n",
       "<style scoped>\n",
       "    .dataframe tbody tr th:only-of-type {\n",
       "        vertical-align: middle;\n",
       "    }\n",
       "\n",
       "    .dataframe tbody tr th {\n",
       "        vertical-align: top;\n",
       "    }\n",
       "\n",
       "    .dataframe thead th {\n",
       "        text-align: right;\n",
       "    }\n",
       "</style>\n",
       "<table border=\"1\" class=\"dataframe\">\n",
       "  <thead>\n",
       "    <tr style=\"text-align: right;\">\n",
       "      <th></th>\n",
       "      <th>capacity_mw</th>\n",
       "      <th>latitude</th>\n",
       "      <th>longitude</th>\n",
       "      <th>primary_fuel</th>\n",
       "      <th>other_fuel1</th>\n",
       "      <th>other_fuel2</th>\n",
       "      <th>commissioning_year</th>\n",
       "      <th>owner</th>\n",
       "      <th>source</th>\n",
       "      <th>url</th>\n",
       "      <th>geolocation_source</th>\n",
       "      <th>generation_gwh_2013</th>\n",
       "      <th>generation_gwh_2014</th>\n",
       "      <th>generation_gwh_2015</th>\n",
       "      <th>generation_gwh_2016</th>\n",
       "      <th>generation_gwh_2017</th>\n",
       "    </tr>\n",
       "  </thead>\n",
       "  <tbody>\n",
       "    <tr>\n",
       "      <th>capacity_mw</th>\n",
       "      <td>1.0000</td>\n",
       "      <td>0.0498</td>\n",
       "      <td>0.1971</td>\n",
       "      <td>-0.3778</td>\n",
       "      <td>-0.5985</td>\n",
       "      <td>0.0035</td>\n",
       "      <td>0.0109</td>\n",
       "      <td>0.3037</td>\n",
       "      <td>-0.2417</td>\n",
       "      <td>-0.2432</td>\n",
       "      <td>0.2047</td>\n",
       "      <td>0.6678</td>\n",
       "      <td>0.7054</td>\n",
       "      <td>0.7221</td>\n",
       "      <td>0.7528</td>\n",
       "      <td>0.7670</td>\n",
       "    </tr>\n",
       "    <tr>\n",
       "      <th>latitude</th>\n",
       "      <td>0.0498</td>\n",
       "      <td>1.0000</td>\n",
       "      <td>0.0315</td>\n",
       "      <td>-0.0135</td>\n",
       "      <td>-0.0381</td>\n",
       "      <td>0.0328</td>\n",
       "      <td>0.0311</td>\n",
       "      <td>0.0070</td>\n",
       "      <td>0.0559</td>\n",
       "      <td>-0.1306</td>\n",
       "      <td>-0.1840</td>\n",
       "      <td>0.0366</td>\n",
       "      <td>0.0441</td>\n",
       "      <td>0.0361</td>\n",
       "      <td>0.0309</td>\n",
       "      <td>0.0307</td>\n",
       "    </tr>\n",
       "    <tr>\n",
       "      <th>longitude</th>\n",
       "      <td>0.1971</td>\n",
       "      <td>0.0315</td>\n",
       "      <td>1.0000</td>\n",
       "      <td>-0.3487</td>\n",
       "      <td>-0.2780</td>\n",
       "      <td>0.0055</td>\n",
       "      <td>-0.1475</td>\n",
       "      <td>0.2779</td>\n",
       "      <td>-0.2390</td>\n",
       "      <td>-0.3031</td>\n",
       "      <td>0.2524</td>\n",
       "      <td>0.0140</td>\n",
       "      <td>0.0117</td>\n",
       "      <td>0.0192</td>\n",
       "      <td>0.0398</td>\n",
       "      <td>0.0404</td>\n",
       "    </tr>\n",
       "    <tr>\n",
       "      <th>primary_fuel</th>\n",
       "      <td>-0.3778</td>\n",
       "      <td>-0.0135</td>\n",
       "      <td>-0.3487</td>\n",
       "      <td>1.0000</td>\n",
       "      <td>0.4776</td>\n",
       "      <td>0.0321</td>\n",
       "      <td>0.1474</td>\n",
       "      <td>-0.2602</td>\n",
       "      <td>0.0536</td>\n",
       "      <td>0.5893</td>\n",
       "      <td>-0.4828</td>\n",
       "      <td>-0.1205</td>\n",
       "      <td>-0.1250</td>\n",
       "      <td>-0.1251</td>\n",
       "      <td>-0.1314</td>\n",
       "      <td>-0.1322</td>\n",
       "    </tr>\n",
       "    <tr>\n",
       "      <th>other_fuel1</th>\n",
       "      <td>-0.5985</td>\n",
       "      <td>-0.0381</td>\n",
       "      <td>-0.2780</td>\n",
       "      <td>0.4776</td>\n",
       "      <td>1.0000</td>\n",
       "      <td>0.2146</td>\n",
       "      <td>-0.0347</td>\n",
       "      <td>-0.3256</td>\n",
       "      <td>0.2546</td>\n",
       "      <td>0.2696</td>\n",
       "      <td>-0.2050</td>\n",
       "      <td>-0.3219</td>\n",
       "      <td>-0.3368</td>\n",
       "      <td>-0.3327</td>\n",
       "      <td>-0.3500</td>\n",
       "      <td>-0.3619</td>\n",
       "    </tr>\n",
       "    <tr>\n",
       "      <th>other_fuel2</th>\n",
       "      <td>0.0035</td>\n",
       "      <td>0.0328</td>\n",
       "      <td>0.0055</td>\n",
       "      <td>0.0321</td>\n",
       "      <td>0.2146</td>\n",
       "      <td>1.0000</td>\n",
       "      <td>0.0104</td>\n",
       "      <td>-0.0208</td>\n",
       "      <td>0.0162</td>\n",
       "      <td>0.0172</td>\n",
       "      <td>-0.0131</td>\n",
       "      <td>0.0037</td>\n",
       "      <td>0.0043</td>\n",
       "      <td>0.0045</td>\n",
       "      <td>0.0100</td>\n",
       "      <td>0.0112</td>\n",
       "    </tr>\n",
       "    <tr>\n",
       "      <th>commissioning_year</th>\n",
       "      <td>0.0109</td>\n",
       "      <td>0.0311</td>\n",
       "      <td>-0.1475</td>\n",
       "      <td>0.1474</td>\n",
       "      <td>-0.0347</td>\n",
       "      <td>0.0104</td>\n",
       "      <td>1.0000</td>\n",
       "      <td>-0.3894</td>\n",
       "      <td>0.3044</td>\n",
       "      <td>0.3221</td>\n",
       "      <td>-0.2447</td>\n",
       "      <td>0.0941</td>\n",
       "      <td>0.1145</td>\n",
       "      <td>0.1276</td>\n",
       "      <td>0.1478</td>\n",
       "      <td>0.1484</td>\n",
       "    </tr>\n",
       "    <tr>\n",
       "      <th>owner</th>\n",
       "      <td>0.3037</td>\n",
       "      <td>0.0070</td>\n",
       "      <td>0.2779</td>\n",
       "      <td>-0.2602</td>\n",
       "      <td>-0.3256</td>\n",
       "      <td>-0.0208</td>\n",
       "      <td>-0.3894</td>\n",
       "      <td>1.0000</td>\n",
       "      <td>-0.2438</td>\n",
       "      <td>-0.1910</td>\n",
       "      <td>0.4269</td>\n",
       "      <td>-0.0000</td>\n",
       "      <td>-0.0000</td>\n",
       "      <td>0.0000</td>\n",
       "      <td>0.0000</td>\n",
       "      <td>0.0000</td>\n",
       "    </tr>\n",
       "    <tr>\n",
       "      <th>source</th>\n",
       "      <td>-0.2417</td>\n",
       "      <td>0.0559</td>\n",
       "      <td>-0.2390</td>\n",
       "      <td>0.0536</td>\n",
       "      <td>0.2546</td>\n",
       "      <td>0.0162</td>\n",
       "      <td>0.3044</td>\n",
       "      <td>-0.2438</td>\n",
       "      <td>1.0000</td>\n",
       "      <td>0.1604</td>\n",
       "      <td>-0.5058</td>\n",
       "      <td>0.0000</td>\n",
       "      <td>0.0000</td>\n",
       "      <td>0.0000</td>\n",
       "      <td>0.0000</td>\n",
       "      <td>-0.0000</td>\n",
       "    </tr>\n",
       "    <tr>\n",
       "      <th>url</th>\n",
       "      <td>-0.2432</td>\n",
       "      <td>-0.1306</td>\n",
       "      <td>-0.3031</td>\n",
       "      <td>0.5893</td>\n",
       "      <td>0.2696</td>\n",
       "      <td>0.0172</td>\n",
       "      <td>0.3221</td>\n",
       "      <td>-0.1910</td>\n",
       "      <td>0.1604</td>\n",
       "      <td>1.0000</td>\n",
       "      <td>-0.0191</td>\n",
       "      <td>-0.0000</td>\n",
       "      <td>0.0000</td>\n",
       "      <td>-0.0000</td>\n",
       "      <td>-0.0000</td>\n",
       "      <td>-0.0000</td>\n",
       "    </tr>\n",
       "    <tr>\n",
       "      <th>geolocation_source</th>\n",
       "      <td>0.2047</td>\n",
       "      <td>-0.1840</td>\n",
       "      <td>0.2524</td>\n",
       "      <td>-0.4828</td>\n",
       "      <td>-0.2050</td>\n",
       "      <td>-0.0131</td>\n",
       "      <td>-0.2447</td>\n",
       "      <td>0.4269</td>\n",
       "      <td>-0.5058</td>\n",
       "      <td>-0.0191</td>\n",
       "      <td>1.0000</td>\n",
       "      <td>-0.0000</td>\n",
       "      <td>-0.0000</td>\n",
       "      <td>-0.0000</td>\n",
       "      <td>0.0000</td>\n",
       "      <td>0.0000</td>\n",
       "    </tr>\n",
       "    <tr>\n",
       "      <th>generation_gwh_2013</th>\n",
       "      <td>0.6678</td>\n",
       "      <td>0.0366</td>\n",
       "      <td>0.0140</td>\n",
       "      <td>-0.1205</td>\n",
       "      <td>-0.3219</td>\n",
       "      <td>0.0037</td>\n",
       "      <td>0.0941</td>\n",
       "      <td>-0.0000</td>\n",
       "      <td>0.0000</td>\n",
       "      <td>-0.0000</td>\n",
       "      <td>-0.0000</td>\n",
       "      <td>1.0000</td>\n",
       "      <td>0.9635</td>\n",
       "      <td>0.8964</td>\n",
       "      <td>0.8735</td>\n",
       "      <td>0.8306</td>\n",
       "    </tr>\n",
       "    <tr>\n",
       "      <th>generation_gwh_2014</th>\n",
       "      <td>0.7054</td>\n",
       "      <td>0.0441</td>\n",
       "      <td>0.0117</td>\n",
       "      <td>-0.1250</td>\n",
       "      <td>-0.3368</td>\n",
       "      <td>0.0043</td>\n",
       "      <td>0.1145</td>\n",
       "      <td>-0.0000</td>\n",
       "      <td>0.0000</td>\n",
       "      <td>0.0000</td>\n",
       "      <td>-0.0000</td>\n",
       "      <td>0.9635</td>\n",
       "      <td>1.0000</td>\n",
       "      <td>0.9537</td>\n",
       "      <td>0.9260</td>\n",
       "      <td>0.8919</td>\n",
       "    </tr>\n",
       "    <tr>\n",
       "      <th>generation_gwh_2015</th>\n",
       "      <td>0.7221</td>\n",
       "      <td>0.0361</td>\n",
       "      <td>0.0192</td>\n",
       "      <td>-0.1251</td>\n",
       "      <td>-0.3327</td>\n",
       "      <td>0.0045</td>\n",
       "      <td>0.1276</td>\n",
       "      <td>0.0000</td>\n",
       "      <td>0.0000</td>\n",
       "      <td>-0.0000</td>\n",
       "      <td>-0.0000</td>\n",
       "      <td>0.8964</td>\n",
       "      <td>0.9537</td>\n",
       "      <td>1.0000</td>\n",
       "      <td>0.9690</td>\n",
       "      <td>0.9285</td>\n",
       "    </tr>\n",
       "    <tr>\n",
       "      <th>generation_gwh_2016</th>\n",
       "      <td>0.7528</td>\n",
       "      <td>0.0309</td>\n",
       "      <td>0.0398</td>\n",
       "      <td>-0.1314</td>\n",
       "      <td>-0.3500</td>\n",
       "      <td>0.0100</td>\n",
       "      <td>0.1478</td>\n",
       "      <td>0.0000</td>\n",
       "      <td>0.0000</td>\n",
       "      <td>-0.0000</td>\n",
       "      <td>0.0000</td>\n",
       "      <td>0.8735</td>\n",
       "      <td>0.9260</td>\n",
       "      <td>0.9690</td>\n",
       "      <td>1.0000</td>\n",
       "      <td>0.9648</td>\n",
       "    </tr>\n",
       "    <tr>\n",
       "      <th>generation_gwh_2017</th>\n",
       "      <td>0.7670</td>\n",
       "      <td>0.0307</td>\n",
       "      <td>0.0404</td>\n",
       "      <td>-0.1322</td>\n",
       "      <td>-0.3619</td>\n",
       "      <td>0.0112</td>\n",
       "      <td>0.1484</td>\n",
       "      <td>0.0000</td>\n",
       "      <td>-0.0000</td>\n",
       "      <td>-0.0000</td>\n",
       "      <td>0.0000</td>\n",
       "      <td>0.8306</td>\n",
       "      <td>0.8919</td>\n",
       "      <td>0.9285</td>\n",
       "      <td>0.9648</td>\n",
       "      <td>1.0000</td>\n",
       "    </tr>\n",
       "  </tbody>\n",
       "</table>\n",
       "</div>"
      ],
      "text/plain": [
       "                     capacity_mw  latitude  longitude  primary_fuel  \\\n",
       "capacity_mw               1.0000    0.0498     0.1971       -0.3778   \n",
       "latitude                  0.0498    1.0000     0.0315       -0.0135   \n",
       "longitude                 0.1971    0.0315     1.0000       -0.3487   \n",
       "primary_fuel             -0.3778   -0.0135    -0.3487        1.0000   \n",
       "other_fuel1              -0.5985   -0.0381    -0.2780        0.4776   \n",
       "other_fuel2               0.0035    0.0328     0.0055        0.0321   \n",
       "commissioning_year        0.0109    0.0311    -0.1475        0.1474   \n",
       "owner                     0.3037    0.0070     0.2779       -0.2602   \n",
       "source                   -0.2417    0.0559    -0.2390        0.0536   \n",
       "url                      -0.2432   -0.1306    -0.3031        0.5893   \n",
       "geolocation_source        0.2047   -0.1840     0.2524       -0.4828   \n",
       "generation_gwh_2013       0.6678    0.0366     0.0140       -0.1205   \n",
       "generation_gwh_2014       0.7054    0.0441     0.0117       -0.1250   \n",
       "generation_gwh_2015       0.7221    0.0361     0.0192       -0.1251   \n",
       "generation_gwh_2016       0.7528    0.0309     0.0398       -0.1314   \n",
       "generation_gwh_2017       0.7670    0.0307     0.0404       -0.1322   \n",
       "\n",
       "                     other_fuel1  other_fuel2  commissioning_year   owner  \\\n",
       "capacity_mw              -0.5985       0.0035              0.0109  0.3037   \n",
       "latitude                 -0.0381       0.0328              0.0311  0.0070   \n",
       "longitude                -0.2780       0.0055             -0.1475  0.2779   \n",
       "primary_fuel              0.4776       0.0321              0.1474 -0.2602   \n",
       "other_fuel1               1.0000       0.2146             -0.0347 -0.3256   \n",
       "other_fuel2               0.2146       1.0000              0.0104 -0.0208   \n",
       "commissioning_year       -0.0347       0.0104              1.0000 -0.3894   \n",
       "owner                    -0.3256      -0.0208             -0.3894  1.0000   \n",
       "source                    0.2546       0.0162              0.3044 -0.2438   \n",
       "url                       0.2696       0.0172              0.3221 -0.1910   \n",
       "geolocation_source       -0.2050      -0.0131             -0.2447  0.4269   \n",
       "generation_gwh_2013      -0.3219       0.0037              0.0941 -0.0000   \n",
       "generation_gwh_2014      -0.3368       0.0043              0.1145 -0.0000   \n",
       "generation_gwh_2015      -0.3327       0.0045              0.1276  0.0000   \n",
       "generation_gwh_2016      -0.3500       0.0100              0.1478  0.0000   \n",
       "generation_gwh_2017      -0.3619       0.0112              0.1484  0.0000   \n",
       "\n",
       "                     source     url  geolocation_source  generation_gwh_2013  \\\n",
       "capacity_mw         -0.2417 -0.2432              0.2047               0.6678   \n",
       "latitude             0.0559 -0.1306             -0.1840               0.0366   \n",
       "longitude           -0.2390 -0.3031              0.2524               0.0140   \n",
       "primary_fuel         0.0536  0.5893             -0.4828              -0.1205   \n",
       "other_fuel1          0.2546  0.2696             -0.2050              -0.3219   \n",
       "other_fuel2          0.0162  0.0172             -0.0131               0.0037   \n",
       "commissioning_year   0.3044  0.3221             -0.2447               0.0941   \n",
       "owner               -0.2438 -0.1910              0.4269              -0.0000   \n",
       "source               1.0000  0.1604             -0.5058               0.0000   \n",
       "url                  0.1604  1.0000             -0.0191              -0.0000   \n",
       "geolocation_source  -0.5058 -0.0191              1.0000              -0.0000   \n",
       "generation_gwh_2013  0.0000 -0.0000             -0.0000               1.0000   \n",
       "generation_gwh_2014  0.0000  0.0000             -0.0000               0.9635   \n",
       "generation_gwh_2015  0.0000 -0.0000             -0.0000               0.8964   \n",
       "generation_gwh_2016  0.0000 -0.0000              0.0000               0.8735   \n",
       "generation_gwh_2017 -0.0000 -0.0000              0.0000               0.8306   \n",
       "\n",
       "                     generation_gwh_2014  generation_gwh_2015  \\\n",
       "capacity_mw                       0.7054               0.7221   \n",
       "latitude                          0.0441               0.0361   \n",
       "longitude                         0.0117               0.0192   \n",
       "primary_fuel                     -0.1250              -0.1251   \n",
       "other_fuel1                      -0.3368              -0.3327   \n",
       "other_fuel2                       0.0043               0.0045   \n",
       "commissioning_year                0.1145               0.1276   \n",
       "owner                            -0.0000               0.0000   \n",
       "source                            0.0000               0.0000   \n",
       "url                               0.0000              -0.0000   \n",
       "geolocation_source               -0.0000              -0.0000   \n",
       "generation_gwh_2013               0.9635               0.8964   \n",
       "generation_gwh_2014               1.0000               0.9537   \n",
       "generation_gwh_2015               0.9537               1.0000   \n",
       "generation_gwh_2016               0.9260               0.9690   \n",
       "generation_gwh_2017               0.8919               0.9285   \n",
       "\n",
       "                     generation_gwh_2016  generation_gwh_2017  \n",
       "capacity_mw                       0.7528               0.7670  \n",
       "latitude                          0.0309               0.0307  \n",
       "longitude                         0.0398               0.0404  \n",
       "primary_fuel                     -0.1314              -0.1322  \n",
       "other_fuel1                      -0.3500              -0.3619  \n",
       "other_fuel2                       0.0100               0.0112  \n",
       "commissioning_year                0.1478               0.1484  \n",
       "owner                             0.0000               0.0000  \n",
       "source                            0.0000              -0.0000  \n",
       "url                              -0.0000              -0.0000  \n",
       "geolocation_source                0.0000               0.0000  \n",
       "generation_gwh_2013               0.8735               0.8306  \n",
       "generation_gwh_2014               0.9260               0.8919  \n",
       "generation_gwh_2015               0.9690               0.9285  \n",
       "generation_gwh_2016               1.0000               0.9648  \n",
       "generation_gwh_2017               0.9648               1.0000  "
      ]
     },
     "execution_count": 556,
     "metadata": {},
     "output_type": "execute_result"
    }
   ],
   "source": [
    "round(df.corr(),4)"
   ]
  },
  {
   "cell_type": "code",
   "execution_count": 557,
   "metadata": {},
   "outputs": [
    {
     "data": {
      "text/plain": [
       "<AxesSubplot:>"
      ]
     },
     "execution_count": 557,
     "metadata": {},
     "output_type": "execute_result"
    },
    {
     "data": {
      "image/png": "[encoded data removed]",
      "text/plain": [
       "<Figure size 1800x1800 with 2 Axes>"
      ]
     },
     "metadata": {
      "needs_background": "light"
     },
     "output_type": "display_data"
    }
   ],
   "source": [
    "plt.subplots(figsize=(25,25))\n",
    "sns.heatmap(round(df.corr(),3),linewidth=0.2,annot=True)"
   ]
  },
  {
   "cell_type": "markdown",
   "metadata": {},
   "source": [
    "Observations:\n",
    "    \n",
    "1. There is presence of multi-colinearity across multiple features. \n",
    "\n",
    "\n",
    "2. generation_gwh_2013,generation_gwh_2014,generation_gwh_2015,generation_gwh_2016 and generation_gwh_2017 have high co-linearity between eachother. \n",
    "\n",
    "\n",
    "3. owner,source, url and geolocation_scource have 0 co-linearity with generation_gwh."
   ]
  },
  {
   "cell_type": "code",
   "execution_count": 558,
   "metadata": {},
   "outputs": [
    {
     "data": {
      "text/html": [
       "<div>\n",
       "<style scoped>\n",
       "    .dataframe tbody tr th:only-of-type {\n",
       "        vertical-align: middle;\n",
       "    }\n",
       "\n",
       "    .dataframe tbody tr th {\n",
       "        vertical-align: top;\n",
       "    }\n",
       "\n",
       "    .dataframe thead th {\n",
       "        text-align: right;\n",
       "    }\n",
       "</style>\n",
       "<table border=\"1\" class=\"dataframe\">\n",
       "  <thead>\n",
       "    <tr style=\"text-align: right;\">\n",
       "      <th></th>\n",
       "      <th>capacity_mw</th>\n",
       "      <th>latitude</th>\n",
       "      <th>longitude</th>\n",
       "      <th>primary_fuel</th>\n",
       "      <th>other_fuel1</th>\n",
       "      <th>other_fuel2</th>\n",
       "      <th>commissioning_year</th>\n",
       "      <th>owner</th>\n",
       "      <th>source</th>\n",
       "      <th>url</th>\n",
       "      <th>geolocation_source</th>\n",
       "      <th>generation_gwh_2013</th>\n",
       "      <th>generation_gwh_2014</th>\n",
       "      <th>generation_gwh_2015</th>\n",
       "      <th>generation_gwh_2016</th>\n",
       "      <th>generation_gwh_2017</th>\n",
       "    </tr>\n",
       "  </thead>\n",
       "  <tbody>\n",
       "    <tr>\n",
       "      <th>count</th>\n",
       "      <td>908.000000</td>\n",
       "      <td>908.000000</td>\n",
       "      <td>908.000000</td>\n",
       "      <td>908.000000</td>\n",
       "      <td>908.000000</td>\n",
       "      <td>908.000000</td>\n",
       "      <td>908.000000</td>\n",
       "      <td>908.000000</td>\n",
       "      <td>908.000000</td>\n",
       "      <td>908.000000</td>\n",
       "      <td>908.000000</td>\n",
       "      <td>908.000000</td>\n",
       "      <td>908.000000</td>\n",
       "      <td>908.000000</td>\n",
       "      <td>908.000000</td>\n",
       "      <td>908.000000</td>\n",
       "    </tr>\n",
       "    <tr>\n",
       "      <th>mean</th>\n",
       "      <td>321.046378</td>\n",
       "      <td>21.196189</td>\n",
       "      <td>77.447848</td>\n",
       "      <td>3.205947</td>\n",
       "      <td>2.776432</td>\n",
       "      <td>0.998899</td>\n",
       "      <td>57.679515</td>\n",
       "      <td>227.534141</td>\n",
       "      <td>43.823789</td>\n",
       "      <td>94.429515</td>\n",
       "      <td>1.733480</td>\n",
       "      <td>2304.059202</td>\n",
       "      <td>2420.393316</td>\n",
       "      <td>2414.072373</td>\n",
       "      <td>2453.936292</td>\n",
       "      <td>2531.754458</td>\n",
       "    </tr>\n",
       "    <tr>\n",
       "      <th>std</th>\n",
       "      <td>580.221767</td>\n",
       "      <td>6.088110</td>\n",
       "      <td>4.781201</td>\n",
       "      <td>2.281339</td>\n",
       "      <td>0.429886</td>\n",
       "      <td>0.033186</td>\n",
       "      <td>15.011342</td>\n",
       "      <td>83.895877</td>\n",
       "      <td>44.624092</td>\n",
       "      <td>70.352824</td>\n",
       "      <td>0.676835</td>\n",
       "      <td>2465.930970</td>\n",
       "      <td>2665.360236</td>\n",
       "      <td>2860.146282</td>\n",
       "      <td>2878.730064</td>\n",
       "      <td>2923.041411</td>\n",
       "    </tr>\n",
       "    <tr>\n",
       "      <th>min</th>\n",
       "      <td>0.000000</td>\n",
       "      <td>8.168900</td>\n",
       "      <td>68.644700</td>\n",
       "      <td>0.000000</td>\n",
       "      <td>0.000000</td>\n",
       "      <td>0.000000</td>\n",
       "      <td>0.000000</td>\n",
       "      <td>0.000000</td>\n",
       "      <td>0.000000</td>\n",
       "      <td>0.000000</td>\n",
       "      <td>0.000000</td>\n",
       "      <td>0.000000</td>\n",
       "      <td>0.000000</td>\n",
       "      <td>0.000000</td>\n",
       "      <td>0.000000</td>\n",
       "      <td>0.000000</td>\n",
       "    </tr>\n",
       "    <tr>\n",
       "      <th>25%</th>\n",
       "      <td>16.837500</td>\n",
       "      <td>17.057825</td>\n",
       "      <td>74.390250</td>\n",
       "      <td>1.000000</td>\n",
       "      <td>3.000000</td>\n",
       "      <td>1.000000</td>\n",
       "      <td>51.000000</td>\n",
       "      <td>188.750000</td>\n",
       "      <td>22.000000</td>\n",
       "      <td>58.000000</td>\n",
       "      <td>2.000000</td>\n",
       "      <td>1332.538825</td>\n",
       "      <td>1175.264825</td>\n",
       "      <td>874.205000</td>\n",
       "      <td>826.629750</td>\n",
       "      <td>852.438887</td>\n",
       "    </tr>\n",
       "    <tr>\n",
       "      <th>50%</th>\n",
       "      <td>60.000000</td>\n",
       "      <td>21.278850</td>\n",
       "      <td>76.978950</td>\n",
       "      <td>3.000000</td>\n",
       "      <td>3.000000</td>\n",
       "      <td>1.000000</td>\n",
       "      <td>67.000000</td>\n",
       "      <td>280.000000</td>\n",
       "      <td>22.000000</td>\n",
       "      <td>58.000000</td>\n",
       "      <td>2.000000</td>\n",
       "      <td>2304.059202</td>\n",
       "      <td>2420.393316</td>\n",
       "      <td>2414.072373</td>\n",
       "      <td>2453.936292</td>\n",
       "      <td>2531.754458</td>\n",
       "    </tr>\n",
       "    <tr>\n",
       "      <th>75%</th>\n",
       "      <td>388.125000</td>\n",
       "      <td>25.183775</td>\n",
       "      <td>79.211600</td>\n",
       "      <td>6.000000</td>\n",
       "      <td>3.000000</td>\n",
       "      <td>1.000000</td>\n",
       "      <td>67.000000</td>\n",
       "      <td>280.000000</td>\n",
       "      <td>29.250000</td>\n",
       "      <td>115.250000</td>\n",
       "      <td>2.000000</td>\n",
       "      <td>2304.059202</td>\n",
       "      <td>2420.393316</td>\n",
       "      <td>2414.072373</td>\n",
       "      <td>2453.936292</td>\n",
       "      <td>2531.754458</td>\n",
       "    </tr>\n",
       "    <tr>\n",
       "      <th>max</th>\n",
       "      <td>4760.000000</td>\n",
       "      <td>34.649000</td>\n",
       "      <td>95.408000</td>\n",
       "      <td>7.000000</td>\n",
       "      <td>3.000000</td>\n",
       "      <td>1.000000</td>\n",
       "      <td>72.000000</td>\n",
       "      <td>280.000000</td>\n",
       "      <td>190.000000</td>\n",
       "      <td>303.000000</td>\n",
       "      <td>2.000000</td>\n",
       "      <td>27586.200000</td>\n",
       "      <td>28127.000000</td>\n",
       "      <td>30539.000000</td>\n",
       "      <td>30015.000000</td>\n",
       "      <td>35116.000000</td>\n",
       "    </tr>\n",
       "  </tbody>\n",
       "</table>\n",
       "</div>"
      ],
      "text/plain": [
       "       capacity_mw    latitude   longitude  primary_fuel  other_fuel1  \\\n",
       "count   908.000000  908.000000  908.000000    908.000000   908.000000   \n",
       "mean    321.046378   21.196189   77.447848      3.205947     2.776432   \n",
       "std     580.221767    6.088110    4.781201      2.281339     0.429886   \n",
       "min       0.000000    8.168900   68.644700      0.000000     0.000000   \n",
       "25%      16.837500   17.057825   74.390250      1.000000     3.000000   \n",
       "50%      60.000000   21.278850   76.978950      3.000000     3.000000   \n",
       "75%     388.125000   25.183775   79.211600      6.000000     3.000000   \n",
       "max    4760.000000   34.649000   95.408000      7.000000     3.000000   \n",
       "\n",
       "       other_fuel2  commissioning_year       owner      source         url  \\\n",
       "count   908.000000          908.000000  908.000000  908.000000  908.000000   \n",
       "mean      0.998899           57.679515  227.534141   43.823789   94.429515   \n",
       "std       0.033186           15.011342   83.895877   44.624092   70.352824   \n",
       "min       0.000000            0.000000    0.000000    0.000000    0.000000   \n",
       "25%       1.000000           51.000000  188.750000   22.000000   58.000000   \n",
       "50%       1.000000           67.000000  280.000000   22.000000   58.000000   \n",
       "75%       1.000000           67.000000  280.000000   29.250000  115.250000   \n",
       "max       1.000000           72.000000  280.000000  190.000000  303.000000   \n",
       "\n",
       "       geolocation_source  generation_gwh_2013  generation_gwh_2014  \\\n",
       "count          908.000000           908.000000           908.000000   \n",
       "mean             1.733480          2304.059202          2420.393316   \n",
       "std              0.676835          2465.930970          2665.360236   \n",
       "min              0.000000             0.000000             0.000000   \n",
       "25%              2.000000          1332.538825          1175.264825   \n",
       "50%              2.000000          2304.059202          2420.393316   \n",
       "75%              2.000000          2304.059202          2420.393316   \n",
       "max              2.000000         27586.200000         28127.000000   \n",
       "\n",
       "       generation_gwh_2015  generation_gwh_2016  generation_gwh_2017  \n",
       "count           908.000000           908.000000           908.000000  \n",
       "mean           2414.072373          2453.936292          2531.754458  \n",
       "std            2860.146282          2878.730064          2923.041411  \n",
       "min               0.000000             0.000000             0.000000  \n",
       "25%             874.205000           826.629750           852.438887  \n",
       "50%            2414.072373          2453.936292          2531.754458  \n",
       "75%            2414.072373          2453.936292          2531.754458  \n",
       "max           30539.000000         30015.000000         35116.000000  "
      ]
     },
     "execution_count": 558,
     "metadata": {},
     "output_type": "execute_result"
    }
   ],
   "source": [
    "df.describe()"
   ]
  },
  {
   "cell_type": "markdown",
   "metadata": {},
   "source": [
    "Observations:\n",
    "    \n",
    "1. Data is not normally distributed."
   ]
  },
  {
   "cell_type": "code",
   "execution_count": 559,
   "metadata": {},
   "outputs": [
    {
     "name": "stdout",
     "output_type": "stream",
     "text": [
      "<class 'pandas.core.frame.DataFrame'>\n",
      "RangeIndex: 908 entries, 0 to 907\n",
      "Data columns (total 16 columns):\n",
      " #   Column               Non-Null Count  Dtype  \n",
      "---  ------               --------------  -----  \n",
      " 0   capacity_mw          908 non-null    float64\n",
      " 1   latitude             908 non-null    float64\n",
      " 2   longitude            908 non-null    float64\n",
      " 3   primary_fuel         908 non-null    int32  \n",
      " 4   other_fuel1          908 non-null    int32  \n",
      " 5   other_fuel2          908 non-null    int32  \n",
      " 6   commissioning_year   908 non-null    int64  \n",
      " 7   owner                908 non-null    int32  \n",
      " 8   source               908 non-null    int32  \n",
      " 9   url                  908 non-null    int32  \n",
      " 10  geolocation_source   908 non-null    int32  \n",
      " 11  generation_gwh_2013  908 non-null    float64\n",
      " 12  generation_gwh_2014  908 non-null    float64\n",
      " 13  generation_gwh_2015  908 non-null    float64\n",
      " 14  generation_gwh_2016  908 non-null    float64\n",
      " 15  generation_gwh_2017  908 non-null    float64\n",
      "dtypes: float64(8), int32(7), int64(1)\n",
      "memory usage: 88.8 KB\n"
     ]
    }
   ],
   "source": [
    "df.info()"
   ]
  },
  {
   "cell_type": "markdown",
   "metadata": {
    "collapsed": true
   },
   "source": [
    "Observation:\n",
    "    \n",
    "No null values present across the dataset."
   ]
  },
  {
   "cell_type": "markdown",
   "metadata": {},
   "source": [
    "# Checking for outliers and skewness"
   ]
  },
  {
   "cell_type": "code",
   "execution_count": 560,
   "metadata": {},
   "outputs": [
    {
     "data": {
      "image/png": "[encoded data removed]",
      "text/plain": [
       "<Figure size 2160x7560 with 16 Axes>"
      ]
     },
     "metadata": {
      "needs_background": "light"
     },
     "output_type": "display_data"
    }
   ],
   "source": [
    "collist=df.columns.values\n",
    "ncol=15 #no.of columns and rows to display the graphs i.e max col and max row\n",
    "nrows=10\n",
    "plt.figure(figsize=(2*ncol,7*ncol))\n",
    "for i in range (0, len(collist)):\n",
    "    plt.subplot(nrows,ncol,i+1)\n",
    "    sns.boxplot(y=df[collist[i]],color=\"Blue\",orient=\"v\")\n",
    "    plt.tight_layout()\n",
    "    plt.yticks(fontsize=12)"
   ]
  },
  {
   "cell_type": "code",
   "execution_count": 561,
   "metadata": {},
   "outputs": [
    {
     "data": {
      "text/plain": [
       "capacity_mw             3.193257\n",
       "latitude               -0.147391\n",
       "longitude               1.129836\n",
       "primary_fuel            0.471141\n",
       "other_fuel1            -1.619441\n",
       "other_fuel2           -30.133038\n",
       "commissioning_year     -1.680860\n",
       "owner                  -1.375607\n",
       "source                  1.829145\n",
       "url                     1.512258\n",
       "geolocation_source     -2.161710\n",
       "generation_gwh_2013     5.241491\n",
       "generation_gwh_2014     5.041961\n",
       "generation_gwh_2015     5.367370\n",
       "generation_gwh_2016     5.071758\n",
       "generation_gwh_2017     5.111938\n",
       "dtype: float64"
      ]
     },
     "execution_count": 561,
     "metadata": {},
     "output_type": "execute_result"
    }
   ],
   "source": [
    "df.skew()"
   ]
  },
  {
   "cell_type": "markdown",
   "metadata": {},
   "source": [
    "Observation:\n",
    "    \n",
    "features have outliers and are skewed."
   ]
  },
  {
   "cell_type": "code",
   "execution_count": 651,
   "metadata": {},
   "outputs": [],
   "source": [
    "df_c=df"
   ]
  },
  {
   "cell_type": "markdown",
   "metadata": {},
   "source": [
    "# Regression model"
   ]
  },
  {
   "cell_type": "markdown",
   "metadata": {},
   "source": [
    "# Data Cleaning "
   ]
  },
  {
   "cell_type": "code",
   "execution_count": 563,
   "metadata": {},
   "outputs": [],
   "source": [
    "df=df.drop([\"other_fuel2\"],axis=1) #correlation is very low"
   ]
  },
  {
   "cell_type": "code",
   "execution_count": 564,
   "metadata": {},
   "outputs": [],
   "source": [
    "x=df.drop([\"capacity_mw\"],axis=1)\n",
    "y=df[\"capacity_mw\"]\n",
    "from statsmodels.stats.outliers_influence import variance_inflation_factor \n",
    "def c_vif(x):\n",
    "    vif=pd.DataFrame()\n",
    "    vif[\"variables\"]=x.columns\n",
    "    vif[\"VIF\"]=[variance_inflation_factor(x.values,i)for i in range(x.shape[1])]\n",
    "    return(vif)"
   ]
  },
  {
   "cell_type": "code",
   "execution_count": 565,
   "metadata": {},
   "outputs": [
    {
     "data": {
      "text/html": [
       "<div>\n",
       "<style scoped>\n",
       "    .dataframe tbody tr th:only-of-type {\n",
       "        vertical-align: middle;\n",
       "    }\n",
       "\n",
       "    .dataframe tbody tr th {\n",
       "        vertical-align: top;\n",
       "    }\n",
       "\n",
       "    .dataframe thead th {\n",
       "        text-align: right;\n",
       "    }\n",
       "</style>\n",
       "<table border=\"1\" class=\"dataframe\">\n",
       "  <thead>\n",
       "    <tr style=\"text-align: right;\">\n",
       "      <th></th>\n",
       "      <th>variables</th>\n",
       "      <th>VIF</th>\n",
       "    </tr>\n",
       "  </thead>\n",
       "  <tbody>\n",
       "    <tr>\n",
       "      <th>0</th>\n",
       "      <td>latitude</td>\n",
       "      <td>13.754747</td>\n",
       "    </tr>\n",
       "    <tr>\n",
       "      <th>1</th>\n",
       "      <td>longitude</td>\n",
       "      <td>106.328878</td>\n",
       "    </tr>\n",
       "    <tr>\n",
       "      <th>2</th>\n",
       "      <td>primary_fuel</td>\n",
       "      <td>13.247617</td>\n",
       "    </tr>\n",
       "    <tr>\n",
       "      <th>3</th>\n",
       "      <td>other_fuel1</td>\n",
       "      <td>73.397958</td>\n",
       "    </tr>\n",
       "    <tr>\n",
       "      <th>4</th>\n",
       "      <td>commissioning_year</td>\n",
       "      <td>21.610813</td>\n",
       "    </tr>\n",
       "    <tr>\n",
       "      <th>5</th>\n",
       "      <td>owner</td>\n",
       "      <td>13.812807</td>\n",
       "    </tr>\n",
       "    <tr>\n",
       "      <th>6</th>\n",
       "      <td>source</td>\n",
       "      <td>4.633994</td>\n",
       "    </tr>\n",
       "    <tr>\n",
       "      <th>7</th>\n",
       "      <td>url</td>\n",
       "      <td>7.864593</td>\n",
       "    </tr>\n",
       "    <tr>\n",
       "      <th>8</th>\n",
       "      <td>geolocation_source</td>\n",
       "      <td>28.148681</td>\n",
       "    </tr>\n",
       "    <tr>\n",
       "      <th>9</th>\n",
       "      <td>generation_gwh_2013</td>\n",
       "      <td>29.460796</td>\n",
       "    </tr>\n",
       "    <tr>\n",
       "      <th>10</th>\n",
       "      <td>generation_gwh_2014</td>\n",
       "      <td>62.197963</td>\n",
       "    </tr>\n",
       "    <tr>\n",
       "      <th>11</th>\n",
       "      <td>generation_gwh_2015</td>\n",
       "      <td>47.723315</td>\n",
       "    </tr>\n",
       "    <tr>\n",
       "      <th>12</th>\n",
       "      <td>generation_gwh_2016</td>\n",
       "      <td>58.750073</td>\n",
       "    </tr>\n",
       "    <tr>\n",
       "      <th>13</th>\n",
       "      <td>generation_gwh_2017</td>\n",
       "      <td>26.725182</td>\n",
       "    </tr>\n",
       "  </tbody>\n",
       "</table>\n",
       "</div>"
      ],
      "text/plain": [
       "              variables         VIF\n",
       "0              latitude   13.754747\n",
       "1             longitude  106.328878\n",
       "2          primary_fuel   13.247617\n",
       "3           other_fuel1   73.397958\n",
       "4    commissioning_year   21.610813\n",
       "5                 owner   13.812807\n",
       "6                source    4.633994\n",
       "7                   url    7.864593\n",
       "8    geolocation_source   28.148681\n",
       "9   generation_gwh_2013   29.460796\n",
       "10  generation_gwh_2014   62.197963\n",
       "11  generation_gwh_2015   47.723315\n",
       "12  generation_gwh_2016   58.750073\n",
       "13  generation_gwh_2017   26.725182"
      ]
     },
     "execution_count": 565,
     "metadata": {},
     "output_type": "execute_result"
    }
   ],
   "source": [
    "c_vif(x)"
   ]
  },
  {
   "cell_type": "code",
   "execution_count": 566,
   "metadata": {},
   "outputs": [],
   "source": [
    "df[\"diff\"]=(df[\"generation_gwh_2014\"]-df[\"generation_gwh_2015\"]-df[\"generation_gwh_2016\"]-df[\"longitude\"])**2\n",
    "df=df.drop([\"generation_gwh_2014\",\"generation_gwh_2015\",\"generation_gwh_2016\",\"longitude\"],axis=1)"
   ]
  },
  {
   "cell_type": "code",
   "execution_count": 567,
   "metadata": {},
   "outputs": [
    {
     "data": {
      "text/html": [
       "<div>\n",
       "<style scoped>\n",
       "    .dataframe tbody tr th:only-of-type {\n",
       "        vertical-align: middle;\n",
       "    }\n",
       "\n",
       "    .dataframe tbody tr th {\n",
       "        vertical-align: top;\n",
       "    }\n",
       "\n",
       "    .dataframe thead th {\n",
       "        text-align: right;\n",
       "    }\n",
       "</style>\n",
       "<table border=\"1\" class=\"dataframe\">\n",
       "  <thead>\n",
       "    <tr style=\"text-align: right;\">\n",
       "      <th></th>\n",
       "      <th>variables</th>\n",
       "      <th>VIF</th>\n",
       "    </tr>\n",
       "  </thead>\n",
       "  <tbody>\n",
       "    <tr>\n",
       "      <th>0</th>\n",
       "      <td>latitude</td>\n",
       "      <td>12.770254</td>\n",
       "    </tr>\n",
       "    <tr>\n",
       "      <th>1</th>\n",
       "      <td>primary_fuel</td>\n",
       "      <td>13.242689</td>\n",
       "    </tr>\n",
       "    <tr>\n",
       "      <th>2</th>\n",
       "      <td>other_fuel1</td>\n",
       "      <td>49.483167</td>\n",
       "    </tr>\n",
       "    <tr>\n",
       "      <th>3</th>\n",
       "      <td>commissioning_year</td>\n",
       "      <td>16.495322</td>\n",
       "    </tr>\n",
       "    <tr>\n",
       "      <th>4</th>\n",
       "      <td>owner</td>\n",
       "      <td>11.042380</td>\n",
       "    </tr>\n",
       "    <tr>\n",
       "      <th>5</th>\n",
       "      <td>source</td>\n",
       "      <td>4.631342</td>\n",
       "    </tr>\n",
       "    <tr>\n",
       "      <th>6</th>\n",
       "      <td>url</td>\n",
       "      <td>7.589263</td>\n",
       "    </tr>\n",
       "    <tr>\n",
       "      <th>7</th>\n",
       "      <td>geolocation_source</td>\n",
       "      <td>27.179523</td>\n",
       "    </tr>\n",
       "    <tr>\n",
       "      <th>8</th>\n",
       "      <td>generation_gwh_2013</td>\n",
       "      <td>6.265863</td>\n",
       "    </tr>\n",
       "    <tr>\n",
       "      <th>9</th>\n",
       "      <td>generation_gwh_2017</td>\n",
       "      <td>10.927173</td>\n",
       "    </tr>\n",
       "    <tr>\n",
       "      <th>10</th>\n",
       "      <td>diff</td>\n",
       "      <td>3.105806</td>\n",
       "    </tr>\n",
       "  </tbody>\n",
       "</table>\n",
       "</div>"
      ],
      "text/plain": [
       "              variables        VIF\n",
       "0              latitude  12.770254\n",
       "1          primary_fuel  13.242689\n",
       "2           other_fuel1  49.483167\n",
       "3    commissioning_year  16.495322\n",
       "4                 owner  11.042380\n",
       "5                source   4.631342\n",
       "6                   url   7.589263\n",
       "7    geolocation_source  27.179523\n",
       "8   generation_gwh_2013   6.265863\n",
       "9   generation_gwh_2017  10.927173\n",
       "10                 diff   3.105806"
      ]
     },
     "execution_count": 567,
     "metadata": {},
     "output_type": "execute_result"
    }
   ],
   "source": [
    "x=df.drop([\"capacity_mw\"],axis=1)\n",
    "y=df[\"capacity_mw\"]\n",
    "c_vif(x)"
   ]
  },
  {
   "cell_type": "code",
   "execution_count": 568,
   "metadata": {},
   "outputs": [],
   "source": [
    "df[\"new_col\"]=(df[\"other_fuel1\"]+df[\"geolocation_source\"])**2"
   ]
  },
  {
   "cell_type": "code",
   "execution_count": 569,
   "metadata": {},
   "outputs": [],
   "source": [
    "df=df.drop([\"other_fuel1\",\"geolocation_source\"],axis=1)"
   ]
  },
  {
   "cell_type": "code",
   "execution_count": 570,
   "metadata": {},
   "outputs": [
    {
     "data": {
      "text/html": [
       "<div>\n",
       "<style scoped>\n",
       "    .dataframe tbody tr th:only-of-type {\n",
       "        vertical-align: middle;\n",
       "    }\n",
       "\n",
       "    .dataframe tbody tr th {\n",
       "        vertical-align: top;\n",
       "    }\n",
       "\n",
       "    .dataframe thead th {\n",
       "        text-align: right;\n",
       "    }\n",
       "</style>\n",
       "<table border=\"1\" class=\"dataframe\">\n",
       "  <thead>\n",
       "    <tr style=\"text-align: right;\">\n",
       "      <th></th>\n",
       "      <th>variables</th>\n",
       "      <th>VIF</th>\n",
       "    </tr>\n",
       "  </thead>\n",
       "  <tbody>\n",
       "    <tr>\n",
       "      <th>0</th>\n",
       "      <td>latitude</td>\n",
       "      <td>11.584095</td>\n",
       "    </tr>\n",
       "    <tr>\n",
       "      <th>1</th>\n",
       "      <td>primary_fuel</td>\n",
       "      <td>4.779750</td>\n",
       "    </tr>\n",
       "    <tr>\n",
       "      <th>2</th>\n",
       "      <td>commissioning_year</td>\n",
       "      <td>14.537307</td>\n",
       "    </tr>\n",
       "    <tr>\n",
       "      <th>3</th>\n",
       "      <td>owner</td>\n",
       "      <td>8.084959</td>\n",
       "    </tr>\n",
       "    <tr>\n",
       "      <th>4</th>\n",
       "      <td>source</td>\n",
       "      <td>2.344551</td>\n",
       "    </tr>\n",
       "    <tr>\n",
       "      <th>5</th>\n",
       "      <td>url</td>\n",
       "      <td>5.485217</td>\n",
       "    </tr>\n",
       "    <tr>\n",
       "      <th>6</th>\n",
       "      <td>generation_gwh_2013</td>\n",
       "      <td>6.258145</td>\n",
       "    </tr>\n",
       "    <tr>\n",
       "      <th>7</th>\n",
       "      <td>generation_gwh_2017</td>\n",
       "      <td>10.931727</td>\n",
       "    </tr>\n",
       "    <tr>\n",
       "      <th>8</th>\n",
       "      <td>diff</td>\n",
       "      <td>3.102304</td>\n",
       "    </tr>\n",
       "    <tr>\n",
       "      <th>9</th>\n",
       "      <td>new_col</td>\n",
       "      <td>11.650691</td>\n",
       "    </tr>\n",
       "  </tbody>\n",
       "</table>\n",
       "</div>"
      ],
      "text/plain": [
       "             variables        VIF\n",
       "0             latitude  11.584095\n",
       "1         primary_fuel   4.779750\n",
       "2   commissioning_year  14.537307\n",
       "3                owner   8.084959\n",
       "4               source   2.344551\n",
       "5                  url   5.485217\n",
       "6  generation_gwh_2013   6.258145\n",
       "7  generation_gwh_2017  10.931727\n",
       "8                 diff   3.102304\n",
       "9              new_col  11.650691"
      ]
     },
     "execution_count": 570,
     "metadata": {},
     "output_type": "execute_result"
    }
   ],
   "source": [
    "x=df.drop([\"capacity_mw\"],axis=1)\n",
    "y=df[\"capacity_mw\"]\n",
    "c_vif(x)"
   ]
  },
  {
   "cell_type": "markdown",
   "metadata": {},
   "source": [
    "Observations:\n",
    "    \n",
    "It can be noted that the vif value hs come down drastically."
   ]
  },
  {
   "cell_type": "code",
   "execution_count": 571,
   "metadata": {},
   "outputs": [
    {
     "data": {
      "text/plain": [
       "(908, 11)"
      ]
     },
     "execution_count": 571,
     "metadata": {},
     "output_type": "execute_result"
    }
   ],
   "source": [
    "#removing outliers\n",
    "import scipy \n",
    "from scipy.stats import zscore \n",
    "z=np.abs(zscore(df))  #removes outliers\n",
    "z.shape"
   ]
  },
  {
   "cell_type": "code",
   "execution_count": 572,
   "metadata": {},
   "outputs": [
    {
     "name": "stdout",
     "output_type": "stream",
     "text": [
      "(908, 11)\n",
      "(852, 11)\n"
     ]
    }
   ],
   "source": [
    "threshold=3\n",
    "df_new=df[(z<3).all(axis=1)]\n",
    "print(df.shape)\n",
    "print(df_new.shape)"
   ]
  },
  {
   "cell_type": "code",
   "execution_count": null,
   "metadata": {},
   "outputs": [],
   "source": [
    "#data loss \n",
    "(908-852)/908*100"
   ]
  },
  {
   "cell_type": "markdown",
   "metadata": {},
   "source": [
    "Since the data loss is less than 10% we can proceed."
   ]
  },
  {
   "cell_type": "code",
   "execution_count": 574,
   "metadata": {},
   "outputs": [
    {
     "data": {
      "text/plain": [
       "capacity_mw            3.712875e+02\n",
       "latitude               8.125950e+00\n",
       "primary_fuel           5.000000e+00\n",
       "commissioning_year     1.600000e+01\n",
       "owner                  9.125000e+01\n",
       "source                 7.250000e+00\n",
       "url                    5.725000e+01\n",
       "generation_gwh_2013    9.715204e+02\n",
       "generation_gwh_2017    1.679316e+03\n",
       "diff                   5.398047e+06\n",
       "new_col                9.000000e+00\n",
       "dtype: float64"
      ]
     },
     "execution_count": 574,
     "metadata": {},
     "output_type": "execute_result"
    }
   ],
   "source": [
    "Q1= df.quantile(0.25)\n",
    "Q3=df.quantile(0.75)\n",
    "IQR=Q3-Q1\n",
    "IQR"
   ]
  },
  {
   "cell_type": "code",
   "execution_count": 575,
   "metadata": {},
   "outputs": [
    {
     "data": {
      "text/plain": [
       "(367, 11)"
      ]
     },
     "execution_count": 575,
     "metadata": {},
     "output_type": "execute_result"
    }
   ],
   "source": [
    "df_new1=df[~((df<(Q1-1.5*IQR))|(df>(Q3+1.5*IQR))).any(axis=1)]\n",
    "df_new1.shape"
   ]
  },
  {
   "cell_type": "markdown",
   "metadata": {},
   "source": [
    "Since the data loss here is higher we can proceed with  zscore method"
   ]
  },
  {
   "cell_type": "code",
   "execution_count": 576,
   "metadata": {},
   "outputs": [],
   "source": [
    "x=df_new.drop([\"capacity_mw\"],axis=1)\n",
    "y=df_new[\"capacity_mw\"]"
   ]
  },
  {
   "cell_type": "markdown",
   "metadata": {},
   "source": [
    "Power transform can be skipped because the dataset has low variance and large offset."
   ]
  },
  {
   "cell_type": "markdown",
   "metadata": {},
   "source": [
    "# Preprocessing "
   ]
  },
  {
   "cell_type": "code",
   "execution_count": 577,
   "metadata": {},
   "outputs": [
    {
     "data": {
      "text/plain": [
       "array([[0.75585062, 0.85714286, 0.88135593, ..., 0.25745722, 0.0286251 ,\n",
       "        0.57142857],\n",
       "       [0.62678766, 0.14285714, 0.91525424, ..., 0.25745722, 0.02865619,\n",
       "        1.        ],\n",
       "       [0.51868762, 1.        , 0.91525424, ..., 0.25745722, 0.02853733,\n",
       "        1.        ],\n",
       "       ...,\n",
       "       [0.26838645, 1.        , 0.91525424, ..., 0.25745722, 0.02867829,\n",
       "        1.        ],\n",
       "       [0.61106642, 0.14285714, 0.91525424, ..., 0.25745722, 0.02863662,\n",
       "        1.        ],\n",
       "       [0.06667271, 1.        , 0.91525424, ..., 0.25745722, 0.0287214 ,\n",
       "        1.        ]])"
      ]
     },
     "execution_count": 577,
     "metadata": {},
     "output_type": "execute_result"
    }
   ],
   "source": [
    "from sklearn.preprocessing import MinMaxScaler\n",
    "ms=MinMaxScaler()\n",
    "x=ms.fit_transform(x)\n",
    "x"
   ]
  },
  {
   "cell_type": "markdown",
   "metadata": {},
   "source": [
    "# Linear Regression"
   ]
  },
  {
   "cell_type": "code",
   "execution_count": 578,
   "metadata": {},
   "outputs": [],
   "source": [
    "from sklearn.linear_model import LinearRegression\n",
    "from sklearn.metrics import r2_score\n",
    "from sklearn.model_selection import train_test_split\n",
    "from sklearn.model_selection import cross_val_score"
   ]
  },
  {
   "cell_type": "code",
   "execution_count": 579,
   "metadata": {},
   "outputs": [
    {
     "name": "stdout",
     "output_type": "stream",
     "text": [
      "At random state= 0 training accuracy = 0.6429094723684745\n",
      "At random state= 0 testing accuracy = 0.635136096015783\n",
      "\n",
      "\n",
      "At random state= 1 training accuracy = 0.6324707220977448\n",
      "At random state= 1 testing accuracy = 0.694019083455786\n",
      "\n",
      "\n",
      "At random state= 2 training accuracy = 0.6567674569986703\n",
      "At random state= 2 testing accuracy = 0.5849528102204535\n",
      "\n",
      "\n",
      "At random state= 3 training accuracy = 0.6513808924382496\n",
      "At random state= 3 testing accuracy = 0.6083302896533538\n",
      "\n",
      "\n",
      "At random state= 4 training accuracy = 0.6336829789104279\n",
      "At random state= 4 testing accuracy = 0.6748743804949544\n",
      "\n",
      "\n",
      "At random state= 5 training accuracy = 0.6487119039730425\n",
      "At random state= 5 testing accuracy = 0.6083789846484715\n",
      "\n",
      "\n",
      "At random state= 6 training accuracy = 0.6258107475933512\n",
      "At random state= 6 testing accuracy = 0.7144556070364665\n",
      "\n",
      "\n",
      "At random state= 7 training accuracy = 0.64926214349234\n",
      "At random state= 7 testing accuracy = 0.6190292143171889\n",
      "\n",
      "\n",
      "At random state= 8 training accuracy = 0.6530153025264347\n",
      "At random state= 8 testing accuracy = 0.5672809384965408\n",
      "\n",
      "\n",
      "At random state= 9 training accuracy = 0.6772603680165825\n",
      "At random state= 9 testing accuracy = 0.5119901177098454\n",
      "\n",
      "\n",
      "At random state= 10 training accuracy = 0.6425550592513888\n",
      "At random state= 10 testing accuracy = 0.6282086188222928\n",
      "\n",
      "\n",
      "At random state= 11 training accuracy = 0.6318161193311763\n",
      "At random state= 11 testing accuracy = 0.6835878559353129\n",
      "\n",
      "\n",
      "At random state= 12 training accuracy = 0.6736470960416172\n",
      "At random state= 12 testing accuracy = 0.4981079936939742\n",
      "\n",
      "\n",
      "At random state= 13 training accuracy = 0.6381461075991725\n",
      "At random state= 13 testing accuracy = 0.6563521703287121\n",
      "\n",
      "\n",
      "At random state= 14 training accuracy = 0.6411340254608588\n",
      "At random state= 14 testing accuracy = 0.6418612049095593\n",
      "\n",
      "\n",
      "At random state= 15 training accuracy = 0.6501690809285634\n",
      "At random state= 15 testing accuracy = 0.613465086193389\n",
      "\n",
      "\n",
      "At random state= 16 training accuracy = 0.6482074714736761\n",
      "At random state= 16 testing accuracy = 0.6113285325961966\n",
      "\n",
      "\n",
      "At random state= 17 training accuracy = 0.6553880946669393\n",
      "At random state= 17 testing accuracy = 0.5629898704588815\n",
      "\n",
      "\n",
      "At random state= 18 training accuracy = 0.6537219726327173\n",
      "At random state= 18 testing accuracy = 0.5639853334195531\n",
      "\n",
      "\n",
      "At random state= 19 training accuracy = 0.6321099875751913\n",
      "At random state= 19 testing accuracy = 0.6413117766478373\n",
      "\n",
      "\n",
      "At random state= 20 training accuracy = 0.6663273920303752\n",
      "At random state= 20 testing accuracy = 0.5525946177139142\n",
      "\n",
      "\n",
      "At random state= 21 training accuracy = 0.6739946793649272\n",
      "At random state= 21 testing accuracy = 0.4794897695104454\n",
      "\n",
      "\n",
      "At random state= 22 training accuracy = 0.6234646628169995\n",
      "At random state= 22 testing accuracy = 0.6924638728798354\n",
      "\n",
      "\n",
      "At random state= 23 training accuracy = 0.6633575131596923\n",
      "At random state= 23 testing accuracy = 0.5718374645510671\n",
      "\n",
      "\n",
      "At random state= 24 training accuracy = 0.6428272793717147\n",
      "At random state= 24 testing accuracy = 0.6392359167599175\n",
      "\n",
      "\n",
      "At random state= 25 training accuracy = 0.6389431991633953\n",
      "At random state= 25 testing accuracy = 0.6504268693706781\n",
      "\n",
      "\n",
      "At random state= 26 training accuracy = 0.6297062571995271\n",
      "At random state= 26 testing accuracy = 0.6940422928714298\n",
      "\n",
      "\n",
      "At random state= 27 training accuracy = 0.6625701375273831\n",
      "At random state= 27 testing accuracy = 0.5561920408421162\n",
      "\n",
      "\n",
      "At random state= 28 training accuracy = 0.6158583707618198\n",
      "At random state= 28 testing accuracy = 0.7360884561112089\n",
      "\n",
      "\n",
      "At random state= 29 training accuracy = 0.6624489366409783\n",
      "At random state= 29 testing accuracy = 0.5292137681516653\n",
      "\n",
      "\n",
      "At random state= 30 training accuracy = 0.6559774953408067\n",
      "At random state= 30 testing accuracy = 0.5841824013076393\n",
      "\n",
      "\n",
      "At random state= 31 training accuracy = 0.6528125980964474\n",
      "At random state= 31 testing accuracy = 0.5823652555976029\n",
      "\n",
      "\n",
      "At random state= 32 training accuracy = 0.6502225373994229\n",
      "At random state= 32 testing accuracy = 0.6108895490748693\n",
      "\n",
      "\n",
      "At random state= 33 training accuracy = 0.6513234233855005\n",
      "At random state= 33 testing accuracy = 0.6171326949927344\n",
      "\n",
      "\n",
      "At random state= 34 training accuracy = 0.6235027810804596\n",
      "At random state= 34 testing accuracy = 0.7256498920099008\n",
      "\n",
      "\n",
      "At random state= 35 training accuracy = 0.6541509146441548\n",
      "At random state= 35 testing accuracy = 0.5856743634592478\n",
      "\n",
      "\n",
      "At random state= 36 training accuracy = 0.641536738155233\n",
      "At random state= 36 testing accuracy = 0.6395304987916685\n",
      "\n",
      "\n",
      "At random state= 37 training accuracy = 0.653689215820029\n",
      "At random state= 37 testing accuracy = 0.5965770184369023\n",
      "\n",
      "\n",
      "At random state= 38 training accuracy = 0.6401933018430046\n",
      "At random state= 38 testing accuracy = 0.6476668970497199\n",
      "\n",
      "\n",
      "At random state= 39 training accuracy = 0.6480195114808766\n",
      "At random state= 39 testing accuracy = 0.6222720786352519\n",
      "\n",
      "\n",
      "At random state= 40 training accuracy = 0.6520049413847793\n",
      "At random state= 40 testing accuracy = 0.6042065492084862\n",
      "\n",
      "\n",
      "At random state= 41 training accuracy = 0.6440413014337589\n",
      "At random state= 41 testing accuracy = 0.6365266064178234\n",
      "\n",
      "\n",
      "At random state= 42 training accuracy = 0.6342836534751837\n",
      "At random state= 42 testing accuracy = 0.6795712941279923\n",
      "\n",
      "\n",
      "At random state= 43 training accuracy = 0.6341468994109948\n",
      "At random state= 43 testing accuracy = 0.6692144843872037\n",
      "\n",
      "\n",
      "At random state= 44 training accuracy = 0.6320482191578001\n",
      "At random state= 44 testing accuracy = 0.6814599621382963\n",
      "\n",
      "\n",
      "At random state= 45 training accuracy = 0.6729379326817894\n",
      "At random state= 45 testing accuracy = 0.540724304849572\n",
      "\n",
      "\n",
      "At random state= 46 training accuracy = 0.6235786028298655\n",
      "At random state= 46 testing accuracy = 0.7279819869794504\n",
      "\n",
      "\n",
      "At random state= 47 training accuracy = 0.6323366192605393\n",
      "At random state= 47 testing accuracy = 0.6903367932850522\n",
      "\n",
      "\n",
      "At random state= 48 training accuracy = 0.6511589293796884\n",
      "At random state= 48 testing accuracy = 0.603943422655836\n",
      "\n",
      "\n",
      "At random state= 49 training accuracy = 0.6424763506182369\n",
      "At random state= 49 testing accuracy = 0.6423752244838974\n",
      "\n",
      "\n",
      "At random state= 50 training accuracy = 0.6533981268859297\n",
      "At random state= 50 testing accuracy = 0.5947279672025544\n",
      "\n",
      "\n",
      "At random state= 51 training accuracy = 0.6518259604442751\n",
      "At random state= 51 testing accuracy = 0.6048251154504422\n",
      "\n",
      "\n",
      "At random state= 52 training accuracy = 0.6501858072319526\n",
      "At random state= 52 testing accuracy = 0.6079498523120511\n",
      "\n",
      "\n",
      "At random state= 53 training accuracy = 0.6228562524496744\n",
      "At random state= 53 testing accuracy = 0.712541144024597\n",
      "\n",
      "\n",
      "At random state= 54 training accuracy = 0.6336941713666302\n",
      "At random state= 54 testing accuracy = 0.682648248550503\n",
      "\n",
      "\n",
      "At random state= 55 training accuracy = 0.6408198072059011\n",
      "At random state= 55 testing accuracy = 0.6513056928707169\n",
      "\n",
      "\n",
      "At random state= 56 training accuracy = 0.6488192523517863\n",
      "At random state= 56 testing accuracy = 0.616537132864297\n",
      "\n",
      "\n",
      "At random state= 57 training accuracy = 0.6799661076723218\n",
      "At random state= 57 testing accuracy = 0.5057229475190381\n",
      "\n",
      "\n",
      "At random state= 58 training accuracy = 0.6469119414347497\n",
      "At random state= 58 testing accuracy = 0.620326733652996\n",
      "\n",
      "\n",
      "At random state= 59 training accuracy = 0.6621203485504993\n",
      "At random state= 59 testing accuracy = 0.5213871622931412\n",
      "\n",
      "\n",
      "At random state= 60 training accuracy = 0.6503073709007068\n",
      "At random state= 60 testing accuracy = 0.618489089557311\n",
      "\n",
      "\n",
      "At random state= 61 training accuracy = 0.6443145981738763\n",
      "At random state= 61 testing accuracy = 0.6334502242296751\n",
      "\n",
      "\n",
      "At random state= 62 training accuracy = 0.6551811572031712\n",
      "At random state= 62 testing accuracy = 0.600876488699102\n",
      "\n",
      "\n",
      "At random state= 63 training accuracy = 0.6221159200898236\n",
      "At random state= 63 testing accuracy = 0.719806261606849\n",
      "\n",
      "\n",
      "At random state= 64 training accuracy = 0.6496959760561013\n",
      "At random state= 64 testing accuracy = 0.615970244255688\n",
      "\n",
      "\n",
      "At random state= 65 training accuracy = 0.6306547998609785\n",
      "At random state= 65 testing accuracy = 0.6848825403813565\n",
      "\n",
      "\n",
      "At random state= 66 training accuracy = 0.6220092127074938\n",
      "At random state= 66 testing accuracy = 0.7065726142411598\n",
      "\n",
      "\n",
      "At random state= 67 training accuracy = 0.6352483305045014\n",
      "At random state= 67 testing accuracy = 0.6784307573926619\n",
      "\n",
      "\n",
      "At random state= 68 training accuracy = 0.6358159475780405\n",
      "At random state= 68 testing accuracy = 0.6729359228494376\n",
      "\n",
      "\n",
      "At random state= 69 training accuracy = 0.6459459777371812\n",
      "At random state= 69 testing accuracy = 0.6217644309323029\n",
      "\n",
      "\n",
      "At random state= 70 training accuracy = 0.639321772287131\n",
      "At random state= 70 testing accuracy = 0.656746838974885\n",
      "\n",
      "\n",
      "At random state= 71 training accuracy = 0.6530192971204147\n",
      "At random state= 71 testing accuracy = 0.6038478279990357\n",
      "\n",
      "\n",
      "At random state= 72 training accuracy = 0.6243174244008449\n",
      "At random state= 72 testing accuracy = 0.7131783549447732\n",
      "\n",
      "\n",
      "At random state= 73 training accuracy = 0.6675912562211475\n",
      "At random state= 73 testing accuracy = 0.5674244094627279\n",
      "\n",
      "\n",
      "At random state= 74 training accuracy = 0.6487677341455527\n",
      "At random state= 74 testing accuracy = 0.6203993528070597\n",
      "\n",
      "\n",
      "At random state= 75 training accuracy = 0.6447581694291639\n",
      "At random state= 75 testing accuracy = 0.6365192062641635\n",
      "\n",
      "\n",
      "At random state= 76 training accuracy = 0.6463635281623517\n",
      "At random state= 76 testing accuracy = 0.618928814799675\n",
      "\n",
      "\n",
      "At random state= 77 training accuracy = 0.6483795728493694\n",
      "At random state= 77 testing accuracy = 0.6165473162562576\n",
      "\n",
      "\n",
      "At random state= 78 training accuracy = 0.6531889369977271\n",
      "At random state= 78 testing accuracy = 0.575583530914193\n",
      "\n",
      "\n",
      "At random state= 79 training accuracy = 0.6556132059170492\n",
      "At random state= 79 testing accuracy = 0.5878650707463685\n",
      "\n",
      "\n",
      "At random state= 80 training accuracy = 0.6356613918122931\n",
      "At random state= 80 testing accuracy = 0.6794265120695915\n",
      "\n",
      "\n",
      "At random state= 81 training accuracy = 0.6351222988991667\n",
      "At random state= 81 testing accuracy = 0.6603143448732242\n",
      "\n",
      "\n",
      "At random state= 82 training accuracy = 0.6247626879965033\n",
      "At random state= 82 testing accuracy = 0.7001794515409968\n",
      "\n",
      "\n",
      "At random state= 83 training accuracy = 0.6634598119698543\n",
      "At random state= 83 testing accuracy = 0.5491120746406064\n",
      "\n",
      "\n",
      "At random state= 84 training accuracy = 0.6629705400720587\n",
      "At random state= 84 testing accuracy = 0.5662860947422956\n",
      "\n",
      "\n",
      "At random state= 85 training accuracy = 0.6342259146014916\n",
      "At random state= 85 testing accuracy = 0.6591739219287869\n",
      "\n",
      "\n",
      "At random state= 86 training accuracy = 0.6410807594274286\n",
      "At random state= 86 testing accuracy = 0.6541299473832157\n",
      "\n",
      "\n",
      "At random state= 87 training accuracy = 0.6539052974955144\n",
      "At random state= 87 testing accuracy = 0.6060735946143567\n",
      "\n",
      "\n",
      "At random state= 88 training accuracy = 0.6589564522705792\n",
      "At random state= 88 testing accuracy = 0.5774852971132889\n",
      "\n",
      "\n",
      "At random state= 89 training accuracy = 0.6700377567083418\n",
      "At random state= 89 testing accuracy = 0.5565301036344491\n",
      "\n",
      "\n",
      "At random state= 90 training accuracy = 0.6563431017530957\n",
      "At random state= 90 testing accuracy = 0.5963567503216045\n",
      "\n",
      "\n",
      "At random state= 91 training accuracy = 0.6479624913954698\n",
      "At random state= 91 testing accuracy = 0.6120790490333599\n",
      "\n",
      "\n",
      "At random state= 92 training accuracy = 0.621943562931125\n",
      "At random state= 92 testing accuracy = 0.7260504032777042\n",
      "\n",
      "\n",
      "At random state= 93 training accuracy = 0.6310614953916212\n",
      "At random state= 93 testing accuracy = 0.6789009538219227\n",
      "\n",
      "\n",
      "At random state= 94 training accuracy = 0.6452416238418691\n",
      "At random state= 94 testing accuracy = 0.6297638400874338\n",
      "\n",
      "\n",
      "At random state= 95 training accuracy = 0.6246224740547257\n",
      "At random state= 95 testing accuracy = 0.7015200196272804\n",
      "\n",
      "\n",
      "At random state= 96 training accuracy = 0.6549891877167628\n",
      "At random state= 96 testing accuracy = 0.5619300174900208\n",
      "\n",
      "\n",
      "At random state= 97 training accuracy = 0.6649372653666271\n",
      "At random state= 97 testing accuracy = 0.5249583883428613\n",
      "\n",
      "\n",
      "At random state= 98 training accuracy = 0.6438583206636226\n",
      "At random state= 98 testing accuracy = 0.62607488348393\n",
      "\n",
      "\n",
      "At random state= 99 training accuracy = 0.644129243519423\n",
      "At random state= 99 testing accuracy = 0.6376153678213046\n",
      "\n",
      "\n"
     ]
    }
   ],
   "source": [
    "lr=LinearRegression()\n",
    "for i in range(0,100):\n",
    "    x_train,x_test,y_train,y_test=train_test_split(x,y,test_size=0.2, random_state=i)\n",
    "    lr.fit(x_train,y_train)\n",
    "    pred_train=lr.predict(x_train)\n",
    "    pred_test=lr.predict(x_test)\n",
    "    print(\"At random state=\",i,'training accuracy =',r2_score(y_train,pred_train))\n",
    "    print(\"At random state=\",i,'testing accuracy =',r2_score(y_test,pred_test))\n",
    "    print(\"\\n\")"
   ]
  },
  {
   "cell_type": "code",
   "execution_count": 580,
   "metadata": {},
   "outputs": [],
   "source": [
    "x_train,x_test,y_train,y_test=train_test_split(x,y,test_size=0.2)"
   ]
  },
  {
   "cell_type": "markdown",
   "metadata": {},
   "source": [
    "# XGBRegressor"
   ]
  },
  {
   "cell_type": "code",
   "execution_count": 581,
   "metadata": {},
   "outputs": [],
   "source": [
    "from xgboost import XGBRegressor"
   ]
  },
  {
   "cell_type": "code",
   "execution_count": 582,
   "metadata": {},
   "outputs": [
    {
     "data": {
      "text/plain": [
       "0.6492839531135013"
      ]
     },
     "execution_count": 582,
     "metadata": {},
     "output_type": "execute_result"
    }
   ],
   "source": [
    "xgbr=XGBRegressor()\n",
    "xgbr.fit(x_train,y_train)\n",
    "xgbr_pred=xgbr.predict(x_test)\n",
    "r2_score(y_test,xgbr_pred)"
   ]
  },
  {
   "cell_type": "code",
   "execution_count": 583,
   "metadata": {},
   "outputs": [
    {
     "name": "stdout",
     "output_type": "stream",
     "text": [
      "Score = 69.50619015127724 at cv = 2\n",
      "Score = 74.01643385525887 at cv = 3\n",
      "Score = 72.5143052737986 at cv = 4\n",
      "Score = 70.62798298271827 at cv = 5\n",
      "Score = 71.51315359689369 at cv = 6\n",
      "Score = 71.30464015358534 at cv = 7\n",
      "Score = 73.11594199600822 at cv = 8\n",
      "Score = 70.6840643126565 at cv = 9\n",
      "Score = 70.66631928827928 at cv = 10\n"
     ]
    }
   ],
   "source": [
    "for i in range(2,11):\n",
    "    lr_cv=cross_val_score(xgbr,x,y,cv=i)\n",
    "    lrs=lr_cv.mean()\n",
    "    print(\"Score =\",lrs*100,\"at cv =\",i)"
   ]
  },
  {
   "cell_type": "markdown",
   "metadata": {},
   "source": [
    "# Ensemble"
   ]
  },
  {
   "cell_type": "code",
   "execution_count": 584,
   "metadata": {},
   "outputs": [
    {
     "data": {
      "text/plain": [
       "0.5123294091903328"
      ]
     },
     "execution_count": 584,
     "metadata": {},
     "output_type": "execute_result"
    }
   ],
   "source": [
    "from sklearn.ensemble import AdaBoostRegressor \n",
    "Ad=AdaBoostRegressor()\n",
    "Ad.fit(x_train,y_train)\n",
    "Ad.score(x_train,y_train)\n",
    "pred_ad=Ad.predict(x_test)\n",
    "r2_ad=r2_score(y_test,pred_ad)\n",
    "r2_ad"
   ]
  },
  {
   "cell_type": "code",
   "execution_count": 585,
   "metadata": {},
   "outputs": [
    {
     "name": "stdout",
     "output_type": "stream",
     "text": [
      "Score = 47.4093451464588 at cv = 2\n",
      "Score = 64.77521041245929 at cv = 3\n",
      "Score = 61.73173122940313 at cv = 4\n",
      "Score = 62.860916103260344 at cv = 5\n",
      "Score = 64.27711970010962 at cv = 6\n",
      "Score = 60.00259400465603 at cv = 7\n",
      "Score = 64.16346606215872 at cv = 8\n",
      "Score = 61.73701707286314 at cv = 9\n",
      "Score = 61.254072560208925 at cv = 10\n"
     ]
    }
   ],
   "source": [
    "for i in range(2,11):\n",
    "    lr_cv=cross_val_score(Ad,x,y,cv=i)\n",
    "    lrs=lr_cv.mean()\n",
    "    print(\"Score =\",lrs*100,\"at cv =\",i)"
   ]
  },
  {
   "cell_type": "code",
   "execution_count": 586,
   "metadata": {},
   "outputs": [
    {
     "name": "stdout",
     "output_type": "stream",
     "text": [
      "CV Score = 63.7511596565882\n",
      "Accuracy_score = 51.232940919033275\n"
     ]
    }
   ],
   "source": [
    "lr_cv=cross_val_score(Ad,x,y,cv=9)\n",
    "lrs=lr_cv.mean()\n",
    "print(\"CV Score =\",lrs*100)\n",
    "print(\"Accuracy_score =\",r2_score(y_test,pred_ad)*100)"
   ]
  },
  {
   "cell_type": "markdown",
   "metadata": {},
   "source": [
    "# Random Forest Regressor"
   ]
  },
  {
   "cell_type": "code",
   "execution_count": 600,
   "metadata": {},
   "outputs": [
    {
     "data": {
      "text/plain": [
       "0.7268250100126021"
      ]
     },
     "execution_count": 600,
     "metadata": {},
     "output_type": "execute_result"
    }
   ],
   "source": [
    "from sklearn.ensemble import RandomForestRegressor\n",
    "regressor_rf = RandomForestRegressor()\n",
    "regressor_rf.fit(x_train, y_train)\n",
    "y_pred_rf = regressor_rf.predict(x_test)\n",
    "rf_r2=r2_score(y_test,y_pred_rf)\n",
    "rf_r2"
   ]
  },
  {
   "cell_type": "code",
   "execution_count": 602,
   "metadata": {},
   "outputs": [
    {
     "name": "stdout",
     "output_type": "stream",
     "text": [
      "Score = 74.36216146599071 at cv = 2\n",
      "Score = 78.36741767640825 at cv = 3\n",
      "Score = 77.2335733382763 at cv = 4\n",
      "Score = 76.95944592948427 at cv = 5\n",
      "Score = 76.95853435664469 at cv = 6\n",
      "Score = 76.0135121548557 at cv = 7\n",
      "Score = 77.59149175506145 at cv = 8\n",
      "Score = 76.28101211727808 at cv = 9\n",
      "Score = 75.79445875774582 at cv = 10\n"
     ]
    }
   ],
   "source": [
    "for i in range(2,11):\n",
    "    lr_cv=cross_val_score(regressor_rf,x,y,cv=i)\n",
    "    lrs=lr_cv.mean()\n",
    "    print(\"Score =\",lrs*100,\"at cv =\",i)"
   ]
  },
  {
   "cell_type": "code",
   "execution_count": 603,
   "metadata": {},
   "outputs": [
    {
     "name": "stdout",
     "output_type": "stream",
     "text": [
      "Score = 75.98595781323205\n",
      "Accuracy_score = 72.68250100126022\n"
     ]
    }
   ],
   "source": [
    "lr_cv=cross_val_score(regressor_rf,x,y,cv=10)\n",
    "lrs=lr_cv.mean()\n",
    "print(\"Score =\",lrs*100)\n",
    "print(\"Accuracy_score =\",r2_score(y_test,y_pred_rf)*100)"
   ]
  },
  {
   "cell_type": "markdown",
   "metadata": {},
   "source": [
    "# Lasso"
   ]
  },
  {
   "cell_type": "code",
   "execution_count": 590,
   "metadata": {},
   "outputs": [
    {
     "data": {
      "text/plain": [
       "0.651124357643331"
      ]
     },
     "execution_count": 590,
     "metadata": {},
     "output_type": "execute_result"
    }
   ],
   "source": [
    "from sklearn.linear_model import Lasso\n",
    "ls=Lasso()\n",
    "ls.fit(x_train,y_train)\n",
    "ls.score(x_train,y_train)\n",
    "pred_ls=ls.predict(x_test)\n",
    "lss=r2_score(y_test,pred_ls)\n",
    "lss"
   ]
  },
  {
   "cell_type": "code",
   "execution_count": 604,
   "metadata": {},
   "outputs": [
    {
     "name": "stdout",
     "output_type": "stream",
     "text": [
      "Score = 60.55043171739629 at cv = 2\n",
      "Score = 61.65151620576287 at cv = 3\n",
      "Score = 61.72984625998941 at cv = 4\n",
      "Score = 62.25266739618025 at cv = 5\n",
      "Score = 62.58710538322666 at cv = 6\n",
      "Score = 61.1988307979547 at cv = 7\n",
      "Score = 62.754625262754814 at cv = 8\n",
      "Score = 61.07952924801728 at cv = 9\n",
      "Score = 59.42474398831508 at cv = 10\n"
     ]
    }
   ],
   "source": [
    "for i in range(2,11):\n",
    "    lr_cv=cross_val_score(ls,x,y,cv=i)\n",
    "    lrs=lr_cv.mean()\n",
    "    print(\"Score =\",lrs*100,\"at cv =\",i)"
   ]
  },
  {
   "cell_type": "code",
   "execution_count": 605,
   "metadata": {},
   "outputs": [
    {
     "name": "stdout",
     "output_type": "stream",
     "text": [
      "CV Score = 62.58710538322666\n",
      "Accuracy_score = 65.1124357643331\n"
     ]
    }
   ],
   "source": [
    "lr_cv=cross_val_score(ls,x,y,cv=6)\n",
    "lrs=lr_cv.mean()\n",
    "print(\"CV Score =\",lrs*100)\n",
    "print(\"Accuracy_score =\",r2_score(y_test,pred_ls)*100)"
   ]
  },
  {
   "cell_type": "markdown",
   "metadata": {},
   "source": [
    "# DecisionTree Regressor"
   ]
  },
  {
   "cell_type": "code",
   "execution_count": 614,
   "metadata": {},
   "outputs": [
    {
     "data": {
      "text/plain": [
       "0.5315249064491366"
      ]
     },
     "execution_count": 614,
     "metadata": {},
     "output_type": "execute_result"
    }
   ],
   "source": [
    "from sklearn.tree import DecisionTreeRegressor\n",
    "dt=DecisionTreeRegressor()\n",
    "dt.fit(x_train,y_train)\n",
    "pred_dt=dt.predict(x_test)\n",
    "r2_dt=r2_score(pred_dt,y_test)\n",
    "r2_dt"
   ]
  },
  {
   "cell_type": "code",
   "execution_count": 607,
   "metadata": {},
   "outputs": [
    {
     "name": "stdout",
     "output_type": "stream",
     "text": [
      "Score = 52.2026350929987 at cv = 2\n",
      "Score = 62.51745368597983 at cv = 3\n",
      "Score = 62.706306518923796 at cv = 4\n",
      "Score = 61.985000613238974 at cv = 5\n",
      "Score = 58.72147141993136 at cv = 6\n",
      "Score = 58.11891777111864 at cv = 7\n",
      "Score = 61.482504367809454 at cv = 8\n",
      "Score = 59.02777524345948 at cv = 9\n",
      "Score = 56.99794191123726 at cv = 10\n"
     ]
    }
   ],
   "source": [
    "for i in range(2,11):\n",
    "    lr_cv=cross_val_score(dt,x,y,cv=i)\n",
    "    lrs=lr_cv.mean()\n",
    "    print(\"Score =\",lrs*100,\"at cv =\",i)"
   ]
  },
  {
   "cell_type": "code",
   "execution_count": 615,
   "metadata": {},
   "outputs": [
    {
     "name": "stdout",
     "output_type": "stream",
     "text": [
      "CV Score = 60.51526056225285\n",
      "Accuracy_score = 53.15249064491366\n"
     ]
    }
   ],
   "source": [
    "lr_cv=cross_val_score(dt,x,y,cv=6)\n",
    "lrs=lr_cv.mean()\n",
    "print(\"CV Score =\",lrs*100)\n",
    "print(\"Accuracy_score =\",r2_score(pred_dt,y_test)*100)"
   ]
  },
  {
   "cell_type": "markdown",
   "metadata": {},
   "source": [
    "# Hyper paramter Tuning "
   ]
  },
  {
   "cell_type": "code",
   "execution_count": 616,
   "metadata": {},
   "outputs": [],
   "source": [
    "from sklearn.model_selection import GridSearchCV\n",
    "param={\"n_estimators\":[100,150,200],\"criterion\":[\"squared_error\",\"mse\",\"absolute_error\",\"poisson\"],\"max_features\":[\"auto\",\"sqrt\",\"log2\"],\"oob_score\":[True,False]}\n",
    "clf = GridSearchCV(RandomForestRegressor(),param_grid=param)"
   ]
  },
  {
   "cell_type": "code",
   "execution_count": 618,
   "metadata": {},
   "outputs": [
    {
     "data": {
      "text/plain": [
       "0.7945777914896303"
      ]
     },
     "execution_count": 618,
     "metadata": {},
     "output_type": "execute_result"
    }
   ],
   "source": [
    "regressor_rf = RandomForestRegressor(n_estimators=100,criterion=\"mse\",max_features=\"log2\",oob_score=True)\n",
    "regressor_rf.fit(x_train, y_train)\n",
    "y_pred_rf = regressor_rf.predict(x_test)\n",
    "rf_r2=r2_score(y_test,y_pred_rf)\n",
    "rf_r2"
   ]
  },
  {
   "cell_type": "code",
   "execution_count": 619,
   "metadata": {},
   "outputs": [
    {
     "name": "stdout",
     "output_type": "stream",
     "text": [
      "CV Score = 79.20261273156194\n",
      "Accuracy_score = 79.45777914896303\n"
     ]
    }
   ],
   "source": [
    "lr_cv=cross_val_score(regressor_rf,x,y,cv=6)\n",
    "lrs=lr_cv.mean()\n",
    "print(\"CV Score =\",lrs*100)\n",
    "print(\"Accuracy_score =\",r2_score(y_test,y_pred_rf)*100)"
   ]
  },
  {
   "cell_type": "code",
   "execution_count": 620,
   "metadata": {},
   "outputs": [
    {
     "data": {
      "image/png": "[encoded data removed]",
      "text/plain": [
       "<Figure size 576x432 with 1 Axes>"
      ]
     },
     "metadata": {
      "needs_background": "light"
     },
     "output_type": "display_data"
    }
   ],
   "source": [
    "plt.figure(figsize=(8,6))\n",
    "plt.scatter(x=y_test,y=y_pred_rf,color=\"r\")\n",
    "plt.plot(y_test,y_test,color=\"b\")\n",
    "plt.xlabel(\"Actual Capacity \",fontsize=14)\n",
    "plt.ylabel(\"Predicted Capacity \",fontsize=14)\n",
    "plt.title(\"RandomForest Regressor\",fontsize=18)\n",
    "plt.show()"
   ]
  },
  {
   "cell_type": "markdown",
   "metadata": {},
   "source": [
    "# Model Saving "
   ]
  },
  {
   "cell_type": "code",
   "execution_count": 621,
   "metadata": {},
   "outputs": [],
   "source": [
    "import pickle \n",
    "filename= \"power_r.pkl\"\n",
    "pickle.dump(regressor_rf, open(filename,\"wb\"))"
   ]
  },
  {
   "cell_type": "markdown",
   "metadata": {},
   "source": [
    "# Classification model"
   ]
  },
  {
   "cell_type": "markdown",
   "metadata": {},
   "source": [
    "# Data cleaning"
   ]
  },
  {
   "cell_type": "code",
   "execution_count": 652,
   "metadata": {},
   "outputs": [
    {
     "data": {
      "text/html": [
       "<div>\n",
       "<style scoped>\n",
       "    .dataframe tbody tr th:only-of-type {\n",
       "        vertical-align: middle;\n",
       "    }\n",
       "\n",
       "    .dataframe tbody tr th {\n",
       "        vertical-align: top;\n",
       "    }\n",
       "\n",
       "    .dataframe thead th {\n",
       "        text-align: right;\n",
       "    }\n",
       "</style>\n",
       "<table border=\"1\" class=\"dataframe\">\n",
       "  <thead>\n",
       "    <tr style=\"text-align: right;\">\n",
       "      <th></th>\n",
       "      <th>capacity_mw</th>\n",
       "      <th>latitude</th>\n",
       "      <th>longitude</th>\n",
       "      <th>primary_fuel</th>\n",
       "      <th>other_fuel1</th>\n",
       "      <th>other_fuel2</th>\n",
       "      <th>commissioning_year</th>\n",
       "      <th>owner</th>\n",
       "      <th>source</th>\n",
       "      <th>url</th>\n",
       "      <th>geolocation_source</th>\n",
       "      <th>generation_gwh_2013</th>\n",
       "      <th>generation_gwh_2014</th>\n",
       "      <th>generation_gwh_2015</th>\n",
       "      <th>generation_gwh_2016</th>\n",
       "      <th>generation_gwh_2017</th>\n",
       "    </tr>\n",
       "  </thead>\n",
       "  <tbody>\n",
       "    <tr>\n",
       "      <th>0</th>\n",
       "      <td>2.5</td>\n",
       "      <td>28.1839</td>\n",
       "      <td>73.2407</td>\n",
       "      <td>6</td>\n",
       "      <td>3</td>\n",
       "      <td>1</td>\n",
       "      <td>65</td>\n",
       "      <td>229</td>\n",
       "      <td>109</td>\n",
       "      <td>128</td>\n",
       "      <td>1</td>\n",
       "      <td>2304.059202</td>\n",
       "      <td>2420.393316</td>\n",
       "      <td>2414.072373</td>\n",
       "      <td>2453.936292</td>\n",
       "      <td>2531.754458</td>\n",
       "    </tr>\n",
       "    <tr>\n",
       "      <th>1</th>\n",
       "      <td>98.0</td>\n",
       "      <td>24.7663</td>\n",
       "      <td>74.6090</td>\n",
       "      <td>1</td>\n",
       "      <td>3</td>\n",
       "      <td>1</td>\n",
       "      <td>67</td>\n",
       "      <td>258</td>\n",
       "      <td>174</td>\n",
       "      <td>173</td>\n",
       "      <td>2</td>\n",
       "      <td>2304.059202</td>\n",
       "      <td>2420.393316</td>\n",
       "      <td>2414.072373</td>\n",
       "      <td>2453.936292</td>\n",
       "      <td>2531.754458</td>\n",
       "    </tr>\n",
       "    <tr>\n",
       "      <th>2</th>\n",
       "      <td>39.2</td>\n",
       "      <td>21.9038</td>\n",
       "      <td>69.3732</td>\n",
       "      <td>7</td>\n",
       "      <td>3</td>\n",
       "      <td>1</td>\n",
       "      <td>67</td>\n",
       "      <td>2</td>\n",
       "      <td>21</td>\n",
       "      <td>205</td>\n",
       "      <td>2</td>\n",
       "      <td>2304.059202</td>\n",
       "      <td>2420.393316</td>\n",
       "      <td>2414.072373</td>\n",
       "      <td>2453.936292</td>\n",
       "      <td>2531.754458</td>\n",
       "    </tr>\n",
       "    <tr>\n",
       "      <th>3</th>\n",
       "      <td>135.0</td>\n",
       "      <td>23.8712</td>\n",
       "      <td>91.3602</td>\n",
       "      <td>2</td>\n",
       "      <td>3</td>\n",
       "      <td>1</td>\n",
       "      <td>58</td>\n",
       "      <td>280</td>\n",
       "      <td>22</td>\n",
       "      <td>58</td>\n",
       "      <td>2</td>\n",
       "      <td>631.777928</td>\n",
       "      <td>617.789264</td>\n",
       "      <td>843.747000</td>\n",
       "      <td>886.004428</td>\n",
       "      <td>663.774500</td>\n",
       "    </tr>\n",
       "    <tr>\n",
       "      <th>4</th>\n",
       "      <td>1800.0</td>\n",
       "      <td>21.9603</td>\n",
       "      <td>82.4091</td>\n",
       "      <td>1</td>\n",
       "      <td>2</td>\n",
       "      <td>1</td>\n",
       "      <td>69</td>\n",
       "      <td>280</td>\n",
       "      <td>22</td>\n",
       "      <td>58</td>\n",
       "      <td>2</td>\n",
       "      <td>1668.290000</td>\n",
       "      <td>3035.550000</td>\n",
       "      <td>5916.370000</td>\n",
       "      <td>6243.000000</td>\n",
       "      <td>5385.579736</td>\n",
       "    </tr>\n",
       "    <tr>\n",
       "      <th>...</th>\n",
       "      <td>...</td>\n",
       "      <td>...</td>\n",
       "      <td>...</td>\n",
       "      <td>...</td>\n",
       "      <td>...</td>\n",
       "      <td>...</td>\n",
       "      <td>...</td>\n",
       "      <td>...</td>\n",
       "      <td>...</td>\n",
       "      <td>...</td>\n",
       "      <td>...</td>\n",
       "      <td>...</td>\n",
       "      <td>...</td>\n",
       "      <td>...</td>\n",
       "      <td>...</td>\n",
       "      <td>...</td>\n",
       "    </tr>\n",
       "    <tr>\n",
       "      <th>903</th>\n",
       "      <td>1600.0</td>\n",
       "      <td>16.2949</td>\n",
       "      <td>77.3568</td>\n",
       "      <td>1</td>\n",
       "      <td>2</td>\n",
       "      <td>1</td>\n",
       "      <td>70</td>\n",
       "      <td>280</td>\n",
       "      <td>22</td>\n",
       "      <td>58</td>\n",
       "      <td>2</td>\n",
       "      <td>2304.059202</td>\n",
       "      <td>2420.393316</td>\n",
       "      <td>0.994875</td>\n",
       "      <td>233.596650</td>\n",
       "      <td>865.400000</td>\n",
       "    </tr>\n",
       "    <tr>\n",
       "      <th>904</th>\n",
       "      <td>3.0</td>\n",
       "      <td>12.8932</td>\n",
       "      <td>78.1654</td>\n",
       "      <td>6</td>\n",
       "      <td>3</td>\n",
       "      <td>1</td>\n",
       "      <td>67</td>\n",
       "      <td>114</td>\n",
       "      <td>77</td>\n",
       "      <td>22</td>\n",
       "      <td>0</td>\n",
       "      <td>2304.059202</td>\n",
       "      <td>2420.393316</td>\n",
       "      <td>2414.072373</td>\n",
       "      <td>2453.936292</td>\n",
       "      <td>2531.754458</td>\n",
       "    </tr>\n",
       "    <tr>\n",
       "      <th>905</th>\n",
       "      <td>25.5</td>\n",
       "      <td>15.2758</td>\n",
       "      <td>75.5811</td>\n",
       "      <td>7</td>\n",
       "      <td>3</td>\n",
       "      <td>1</td>\n",
       "      <td>67</td>\n",
       "      <td>280</td>\n",
       "      <td>21</td>\n",
       "      <td>260</td>\n",
       "      <td>2</td>\n",
       "      <td>2304.059202</td>\n",
       "      <td>2420.393316</td>\n",
       "      <td>2414.072373</td>\n",
       "      <td>2453.936292</td>\n",
       "      <td>2531.754458</td>\n",
       "    </tr>\n",
       "    <tr>\n",
       "      <th>906</th>\n",
       "      <td>80.0</td>\n",
       "      <td>24.3500</td>\n",
       "      <td>73.7477</td>\n",
       "      <td>1</td>\n",
       "      <td>3</td>\n",
       "      <td>1</td>\n",
       "      <td>67</td>\n",
       "      <td>91</td>\n",
       "      <td>59</td>\n",
       "      <td>82</td>\n",
       "      <td>2</td>\n",
       "      <td>2304.059202</td>\n",
       "      <td>2420.393316</td>\n",
       "      <td>2414.072373</td>\n",
       "      <td>2453.936292</td>\n",
       "      <td>2531.754458</td>\n",
       "    </tr>\n",
       "    <tr>\n",
       "      <th>907</th>\n",
       "      <td>16.5</td>\n",
       "      <td>9.9344</td>\n",
       "      <td>77.4768</td>\n",
       "      <td>7</td>\n",
       "      <td>3</td>\n",
       "      <td>1</td>\n",
       "      <td>67</td>\n",
       "      <td>279</td>\n",
       "      <td>21</td>\n",
       "      <td>245</td>\n",
       "      <td>2</td>\n",
       "      <td>2304.059202</td>\n",
       "      <td>2420.393316</td>\n",
       "      <td>2414.072373</td>\n",
       "      <td>2453.936292</td>\n",
       "      <td>2531.754458</td>\n",
       "    </tr>\n",
       "  </tbody>\n",
       "</table>\n",
       "<p>908 rows × 16 columns</p>\n",
       "</div>"
      ],
      "text/plain": [
       "     capacity_mw  latitude  longitude  primary_fuel  other_fuel1  other_fuel2  \\\n",
       "0            2.5   28.1839    73.2407             6            3            1   \n",
       "1           98.0   24.7663    74.6090             1            3            1   \n",
       "2           39.2   21.9038    69.3732             7            3            1   \n",
       "3          135.0   23.8712    91.3602             2            3            1   \n",
       "4         1800.0   21.9603    82.4091             1            2            1   \n",
       "..           ...       ...        ...           ...          ...          ...   \n",
       "903       1600.0   16.2949    77.3568             1            2            1   \n",
       "904          3.0   12.8932    78.1654             6            3            1   \n",
       "905         25.5   15.2758    75.5811             7            3            1   \n",
       "906         80.0   24.3500    73.7477             1            3            1   \n",
       "907         16.5    9.9344    77.4768             7            3            1   \n",
       "\n",
       "     commissioning_year  owner  source  url  geolocation_source  \\\n",
       "0                    65    229     109  128                   1   \n",
       "1                    67    258     174  173                   2   \n",
       "2                    67      2      21  205                   2   \n",
       "3                    58    280      22   58                   2   \n",
       "4                    69    280      22   58                   2   \n",
       "..                  ...    ...     ...  ...                 ...   \n",
       "903                  70    280      22   58                   2   \n",
       "904                  67    114      77   22                   0   \n",
       "905                  67    280      21  260                   2   \n",
       "906                  67     91      59   82                   2   \n",
       "907                  67    279      21  245                   2   \n",
       "\n",
       "     generation_gwh_2013  generation_gwh_2014  generation_gwh_2015  \\\n",
       "0            2304.059202          2420.393316          2414.072373   \n",
       "1            2304.059202          2420.393316          2414.072373   \n",
       "2            2304.059202          2420.393316          2414.072373   \n",
       "3             631.777928           617.789264           843.747000   \n",
       "4            1668.290000          3035.550000          5916.370000   \n",
       "..                   ...                  ...                  ...   \n",
       "903          2304.059202          2420.393316             0.994875   \n",
       "904          2304.059202          2420.393316          2414.072373   \n",
       "905          2304.059202          2420.393316          2414.072373   \n",
       "906          2304.059202          2420.393316          2414.072373   \n",
       "907          2304.059202          2420.393316          2414.072373   \n",
       "\n",
       "     generation_gwh_2016  generation_gwh_2017  \n",
       "0            2453.936292          2531.754458  \n",
       "1            2453.936292          2531.754458  \n",
       "2            2453.936292          2531.754458  \n",
       "3             886.004428           663.774500  \n",
       "4            6243.000000          5385.579736  \n",
       "..                   ...                  ...  \n",
       "903           233.596650           865.400000  \n",
       "904          2453.936292          2531.754458  \n",
       "905          2453.936292          2531.754458  \n",
       "906          2453.936292          2531.754458  \n",
       "907          2453.936292          2531.754458  \n",
       "\n",
       "[908 rows x 16 columns]"
      ]
     },
     "execution_count": 652,
     "metadata": {},
     "output_type": "execute_result"
    }
   ],
   "source": [
    "df_c"
   ]
  },
  {
   "cell_type": "code",
   "execution_count": 653,
   "metadata": {},
   "outputs": [],
   "source": [
    "x=df_c.drop([\"primary_fuel\"],axis=1)\n",
    "y=df_c[\"primary_fuel\"]\n",
    "from statsmodels.stats.outliers_influence import variance_inflation_factor \n",
    "def c_vif(x):\n",
    "    vif=pd.DataFrame()\n",
    "    vif[\"variables\"]=x.columns\n",
    "    vif[\"VIF\"]=[variance_inflation_factor(x.values,i)for i in range(x.shape[1])]\n",
    "    return(vif)"
   ]
  },
  {
   "cell_type": "code",
   "execution_count": 654,
   "metadata": {},
   "outputs": [
    {
     "data": {
      "text/html": [
       "<div>\n",
       "<style scoped>\n",
       "    .dataframe tbody tr th:only-of-type {\n",
       "        vertical-align: middle;\n",
       "    }\n",
       "\n",
       "    .dataframe tbody tr th {\n",
       "        vertical-align: top;\n",
       "    }\n",
       "\n",
       "    .dataframe thead th {\n",
       "        text-align: right;\n",
       "    }\n",
       "</style>\n",
       "<table border=\"1\" class=\"dataframe\">\n",
       "  <thead>\n",
       "    <tr style=\"text-align: right;\">\n",
       "      <th></th>\n",
       "      <th>variables</th>\n",
       "      <th>VIF</th>\n",
       "    </tr>\n",
       "  </thead>\n",
       "  <tbody>\n",
       "    <tr>\n",
       "      <th>0</th>\n",
       "      <td>capacity_mw</td>\n",
       "      <td>6.100041</td>\n",
       "    </tr>\n",
       "    <tr>\n",
       "      <th>1</th>\n",
       "      <td>latitude</td>\n",
       "      <td>13.997661</td>\n",
       "    </tr>\n",
       "    <tr>\n",
       "      <th>2</th>\n",
       "      <td>longitude</td>\n",
       "      <td>253.516903</td>\n",
       "    </tr>\n",
       "    <tr>\n",
       "      <th>3</th>\n",
       "      <td>other_fuel1</td>\n",
       "      <td>81.739529</td>\n",
       "    </tr>\n",
       "    <tr>\n",
       "      <th>4</th>\n",
       "      <td>other_fuel2</td>\n",
       "      <td>398.633198</td>\n",
       "    </tr>\n",
       "    <tr>\n",
       "      <th>5</th>\n",
       "      <td>commissioning_year</td>\n",
       "      <td>23.691719</td>\n",
       "    </tr>\n",
       "    <tr>\n",
       "      <th>6</th>\n",
       "      <td>owner</td>\n",
       "      <td>14.572976</td>\n",
       "    </tr>\n",
       "    <tr>\n",
       "      <th>7</th>\n",
       "      <td>source</td>\n",
       "      <td>3.094929</td>\n",
       "    </tr>\n",
       "    <tr>\n",
       "      <th>8</th>\n",
       "      <td>url</td>\n",
       "      <td>4.074409</td>\n",
       "    </tr>\n",
       "    <tr>\n",
       "      <th>9</th>\n",
       "      <td>geolocation_source</td>\n",
       "      <td>12.624028</td>\n",
       "    </tr>\n",
       "    <tr>\n",
       "      <th>10</th>\n",
       "      <td>generation_gwh_2013</td>\n",
       "      <td>29.538814</td>\n",
       "    </tr>\n",
       "    <tr>\n",
       "      <th>11</th>\n",
       "      <td>generation_gwh_2014</td>\n",
       "      <td>62.225293</td>\n",
       "    </tr>\n",
       "    <tr>\n",
       "      <th>12</th>\n",
       "      <td>generation_gwh_2015</td>\n",
       "      <td>47.800528</td>\n",
       "    </tr>\n",
       "    <tr>\n",
       "      <th>13</th>\n",
       "      <td>generation_gwh_2016</td>\n",
       "      <td>59.156733</td>\n",
       "    </tr>\n",
       "    <tr>\n",
       "      <th>14</th>\n",
       "      <td>generation_gwh_2017</td>\n",
       "      <td>28.949304</td>\n",
       "    </tr>\n",
       "  </tbody>\n",
       "</table>\n",
       "</div>"
      ],
      "text/plain": [
       "              variables         VIF\n",
       "0           capacity_mw    6.100041\n",
       "1              latitude   13.997661\n",
       "2             longitude  253.516903\n",
       "3           other_fuel1   81.739529\n",
       "4           other_fuel2  398.633198\n",
       "5    commissioning_year   23.691719\n",
       "6                 owner   14.572976\n",
       "7                source    3.094929\n",
       "8                   url    4.074409\n",
       "9    geolocation_source   12.624028\n",
       "10  generation_gwh_2013   29.538814\n",
       "11  generation_gwh_2014   62.225293\n",
       "12  generation_gwh_2015   47.800528\n",
       "13  generation_gwh_2016   59.156733\n",
       "14  generation_gwh_2017   28.949304"
      ]
     },
     "execution_count": 654,
     "metadata": {},
     "output_type": "execute_result"
    }
   ],
   "source": [
    "c_vif(x)"
   ]
  },
  {
   "cell_type": "code",
   "execution_count": 655,
   "metadata": {},
   "outputs": [
    {
     "data": {
      "text/html": [
       "<div>\n",
       "<style scoped>\n",
       "    .dataframe tbody tr th:only-of-type {\n",
       "        vertical-align: middle;\n",
       "    }\n",
       "\n",
       "    .dataframe tbody tr th {\n",
       "        vertical-align: top;\n",
       "    }\n",
       "\n",
       "    .dataframe thead th {\n",
       "        text-align: right;\n",
       "    }\n",
       "</style>\n",
       "<table border=\"1\" class=\"dataframe\">\n",
       "  <thead>\n",
       "    <tr style=\"text-align: right;\">\n",
       "      <th></th>\n",
       "      <th>variables</th>\n",
       "      <th>VIF</th>\n",
       "    </tr>\n",
       "  </thead>\n",
       "  <tbody>\n",
       "    <tr>\n",
       "      <th>0</th>\n",
       "      <td>capacity_mw</td>\n",
       "      <td>5.956876</td>\n",
       "    </tr>\n",
       "    <tr>\n",
       "      <th>1</th>\n",
       "      <td>latitude</td>\n",
       "      <td>13.387524</td>\n",
       "    </tr>\n",
       "    <tr>\n",
       "      <th>2</th>\n",
       "      <td>other_fuel1</td>\n",
       "      <td>38.080062</td>\n",
       "    </tr>\n",
       "    <tr>\n",
       "      <th>3</th>\n",
       "      <td>commissioning_year</td>\n",
       "      <td>19.750484</td>\n",
       "    </tr>\n",
       "    <tr>\n",
       "      <th>4</th>\n",
       "      <td>owner</td>\n",
       "      <td>13.531403</td>\n",
       "    </tr>\n",
       "    <tr>\n",
       "      <th>5</th>\n",
       "      <td>source</td>\n",
       "      <td>3.098921</td>\n",
       "    </tr>\n",
       "    <tr>\n",
       "      <th>6</th>\n",
       "      <td>url</td>\n",
       "      <td>4.083700</td>\n",
       "    </tr>\n",
       "    <tr>\n",
       "      <th>7</th>\n",
       "      <td>geolocation_source</td>\n",
       "      <td>12.344751</td>\n",
       "    </tr>\n",
       "    <tr>\n",
       "      <th>8</th>\n",
       "      <td>generation_gwh_2013</td>\n",
       "      <td>29.489453</td>\n",
       "    </tr>\n",
       "    <tr>\n",
       "      <th>9</th>\n",
       "      <td>generation_gwh_2014</td>\n",
       "      <td>62.213140</td>\n",
       "    </tr>\n",
       "    <tr>\n",
       "      <th>10</th>\n",
       "      <td>generation_gwh_2015</td>\n",
       "      <td>47.822899</td>\n",
       "    </tr>\n",
       "    <tr>\n",
       "      <th>11</th>\n",
       "      <td>generation_gwh_2016</td>\n",
       "      <td>59.037783</td>\n",
       "    </tr>\n",
       "    <tr>\n",
       "      <th>12</th>\n",
       "      <td>generation_gwh_2017</td>\n",
       "      <td>28.883560</td>\n",
       "    </tr>\n",
       "    <tr>\n",
       "      <th>13</th>\n",
       "      <td>diff</td>\n",
       "      <td>50.653732</td>\n",
       "    </tr>\n",
       "  </tbody>\n",
       "</table>\n",
       "</div>"
      ],
      "text/plain": [
       "              variables        VIF\n",
       "0           capacity_mw   5.956876\n",
       "1              latitude  13.387524\n",
       "2           other_fuel1  38.080062\n",
       "3    commissioning_year  19.750484\n",
       "4                 owner  13.531403\n",
       "5                source   3.098921\n",
       "6                   url   4.083700\n",
       "7    geolocation_source  12.344751\n",
       "8   generation_gwh_2013  29.489453\n",
       "9   generation_gwh_2014  62.213140\n",
       "10  generation_gwh_2015  47.822899\n",
       "11  generation_gwh_2016  59.037783\n",
       "12  generation_gwh_2017  28.883560\n",
       "13                 diff  50.653732"
      ]
     },
     "execution_count": 655,
     "metadata": {},
     "output_type": "execute_result"
    }
   ],
   "source": [
    "df_c[\"diff\"]=(df_c[\"longitude\"]-df_c[\"other_fuel2\"])**2\n",
    "df_c=df_c.drop([\"longitude\",\"other_fuel2\"],axis=1)\n",
    "x_c=df_c.drop([\"primary_fuel\"],axis=1)\n",
    "y_c=df_c[\"primary_fuel\"]\n",
    "c_vif(x_c)"
   ]
  },
  {
   "cell_type": "code",
   "execution_count": 656,
   "metadata": {},
   "outputs": [
    {
     "data": {
      "text/html": [
       "<div>\n",
       "<style scoped>\n",
       "    .dataframe tbody tr th:only-of-type {\n",
       "        vertical-align: middle;\n",
       "    }\n",
       "\n",
       "    .dataframe tbody tr th {\n",
       "        vertical-align: top;\n",
       "    }\n",
       "\n",
       "    .dataframe thead th {\n",
       "        text-align: right;\n",
       "    }\n",
       "</style>\n",
       "<table border=\"1\" class=\"dataframe\">\n",
       "  <thead>\n",
       "    <tr style=\"text-align: right;\">\n",
       "      <th></th>\n",
       "      <th>capacity_mw</th>\n",
       "      <th>latitude</th>\n",
       "      <th>primary_fuel</th>\n",
       "      <th>other_fuel1</th>\n",
       "      <th>commissioning_year</th>\n",
       "      <th>owner</th>\n",
       "      <th>source</th>\n",
       "      <th>url</th>\n",
       "      <th>geolocation_source</th>\n",
       "      <th>generation_gwh_2013</th>\n",
       "      <th>generation_gwh_2014</th>\n",
       "      <th>generation_gwh_2015</th>\n",
       "      <th>generation_gwh_2016</th>\n",
       "      <th>generation_gwh_2017</th>\n",
       "      <th>diff</th>\n",
       "    </tr>\n",
       "  </thead>\n",
       "  <tbody>\n",
       "    <tr>\n",
       "      <th>capacity_mw</th>\n",
       "      <td>1.000</td>\n",
       "      <td>0.050</td>\n",
       "      <td>-0.378</td>\n",
       "      <td>-0.598</td>\n",
       "      <td>0.011</td>\n",
       "      <td>0.304</td>\n",
       "      <td>-0.242</td>\n",
       "      <td>-0.243</td>\n",
       "      <td>0.205</td>\n",
       "      <td>0.668</td>\n",
       "      <td>0.705</td>\n",
       "      <td>0.722</td>\n",
       "      <td>0.753</td>\n",
       "      <td>0.767</td>\n",
       "      <td>0.192</td>\n",
       "    </tr>\n",
       "    <tr>\n",
       "      <th>latitude</th>\n",
       "      <td>0.050</td>\n",
       "      <td>1.000</td>\n",
       "      <td>-0.013</td>\n",
       "      <td>-0.038</td>\n",
       "      <td>0.031</td>\n",
       "      <td>0.007</td>\n",
       "      <td>0.056</td>\n",
       "      <td>-0.131</td>\n",
       "      <td>-0.184</td>\n",
       "      <td>0.037</td>\n",
       "      <td>0.044</td>\n",
       "      <td>0.036</td>\n",
       "      <td>0.031</td>\n",
       "      <td>0.031</td>\n",
       "      <td>0.043</td>\n",
       "    </tr>\n",
       "    <tr>\n",
       "      <th>primary_fuel</th>\n",
       "      <td>-0.378</td>\n",
       "      <td>-0.013</td>\n",
       "      <td>1.000</td>\n",
       "      <td>0.478</td>\n",
       "      <td>0.147</td>\n",
       "      <td>-0.260</td>\n",
       "      <td>0.054</td>\n",
       "      <td>0.589</td>\n",
       "      <td>-0.483</td>\n",
       "      <td>-0.121</td>\n",
       "      <td>-0.125</td>\n",
       "      <td>-0.125</td>\n",
       "      <td>-0.131</td>\n",
       "      <td>-0.132</td>\n",
       "      <td>-0.338</td>\n",
       "    </tr>\n",
       "    <tr>\n",
       "      <th>other_fuel1</th>\n",
       "      <td>-0.598</td>\n",
       "      <td>-0.038</td>\n",
       "      <td>0.478</td>\n",
       "      <td>1.000</td>\n",
       "      <td>-0.035</td>\n",
       "      <td>-0.326</td>\n",
       "      <td>0.255</td>\n",
       "      <td>0.270</td>\n",
       "      <td>-0.205</td>\n",
       "      <td>-0.322</td>\n",
       "      <td>-0.337</td>\n",
       "      <td>-0.333</td>\n",
       "      <td>-0.350</td>\n",
       "      <td>-0.362</td>\n",
       "      <td>-0.274</td>\n",
       "    </tr>\n",
       "    <tr>\n",
       "      <th>commissioning_year</th>\n",
       "      <td>0.011</td>\n",
       "      <td>0.031</td>\n",
       "      <td>0.147</td>\n",
       "      <td>-0.035</td>\n",
       "      <td>1.000</td>\n",
       "      <td>-0.389</td>\n",
       "      <td>0.304</td>\n",
       "      <td>0.322</td>\n",
       "      <td>-0.245</td>\n",
       "      <td>0.094</td>\n",
       "      <td>0.114</td>\n",
       "      <td>0.128</td>\n",
       "      <td>0.148</td>\n",
       "      <td>0.148</td>\n",
       "      <td>-0.143</td>\n",
       "    </tr>\n",
       "    <tr>\n",
       "      <th>owner</th>\n",
       "      <td>0.304</td>\n",
       "      <td>0.007</td>\n",
       "      <td>-0.260</td>\n",
       "      <td>-0.326</td>\n",
       "      <td>-0.389</td>\n",
       "      <td>1.000</td>\n",
       "      <td>-0.244</td>\n",
       "      <td>-0.191</td>\n",
       "      <td>0.427</td>\n",
       "      <td>-0.000</td>\n",
       "      <td>-0.000</td>\n",
       "      <td>0.000</td>\n",
       "      <td>0.000</td>\n",
       "      <td>0.000</td>\n",
       "      <td>0.275</td>\n",
       "    </tr>\n",
       "    <tr>\n",
       "      <th>source</th>\n",
       "      <td>-0.242</td>\n",
       "      <td>0.056</td>\n",
       "      <td>0.054</td>\n",
       "      <td>0.255</td>\n",
       "      <td>0.304</td>\n",
       "      <td>-0.244</td>\n",
       "      <td>1.000</td>\n",
       "      <td>0.160</td>\n",
       "      <td>-0.506</td>\n",
       "      <td>0.000</td>\n",
       "      <td>0.000</td>\n",
       "      <td>0.000</td>\n",
       "      <td>0.000</td>\n",
       "      <td>-0.000</td>\n",
       "      <td>-0.235</td>\n",
       "    </tr>\n",
       "    <tr>\n",
       "      <th>url</th>\n",
       "      <td>-0.243</td>\n",
       "      <td>-0.131</td>\n",
       "      <td>0.589</td>\n",
       "      <td>0.270</td>\n",
       "      <td>0.322</td>\n",
       "      <td>-0.191</td>\n",
       "      <td>0.160</td>\n",
       "      <td>1.000</td>\n",
       "      <td>-0.019</td>\n",
       "      <td>-0.000</td>\n",
       "      <td>0.000</td>\n",
       "      <td>-0.000</td>\n",
       "      <td>-0.000</td>\n",
       "      <td>-0.000</td>\n",
       "      <td>-0.297</td>\n",
       "    </tr>\n",
       "    <tr>\n",
       "      <th>geolocation_source</th>\n",
       "      <td>0.205</td>\n",
       "      <td>-0.184</td>\n",
       "      <td>-0.483</td>\n",
       "      <td>-0.205</td>\n",
       "      <td>-0.245</td>\n",
       "      <td>0.427</td>\n",
       "      <td>-0.506</td>\n",
       "      <td>-0.019</td>\n",
       "      <td>1.000</td>\n",
       "      <td>-0.000</td>\n",
       "      <td>-0.000</td>\n",
       "      <td>-0.000</td>\n",
       "      <td>0.000</td>\n",
       "      <td>0.000</td>\n",
       "      <td>0.243</td>\n",
       "    </tr>\n",
       "    <tr>\n",
       "      <th>generation_gwh_2013</th>\n",
       "      <td>0.668</td>\n",
       "      <td>0.037</td>\n",
       "      <td>-0.121</td>\n",
       "      <td>-0.322</td>\n",
       "      <td>0.094</td>\n",
       "      <td>-0.000</td>\n",
       "      <td>0.000</td>\n",
       "      <td>-0.000</td>\n",
       "      <td>-0.000</td>\n",
       "      <td>1.000</td>\n",
       "      <td>0.963</td>\n",
       "      <td>0.896</td>\n",
       "      <td>0.874</td>\n",
       "      <td>0.831</td>\n",
       "      <td>0.014</td>\n",
       "    </tr>\n",
       "    <tr>\n",
       "      <th>generation_gwh_2014</th>\n",
       "      <td>0.705</td>\n",
       "      <td>0.044</td>\n",
       "      <td>-0.125</td>\n",
       "      <td>-0.337</td>\n",
       "      <td>0.114</td>\n",
       "      <td>-0.000</td>\n",
       "      <td>0.000</td>\n",
       "      <td>0.000</td>\n",
       "      <td>-0.000</td>\n",
       "      <td>0.963</td>\n",
       "      <td>1.000</td>\n",
       "      <td>0.954</td>\n",
       "      <td>0.926</td>\n",
       "      <td>0.892</td>\n",
       "      <td>0.011</td>\n",
       "    </tr>\n",
       "    <tr>\n",
       "      <th>generation_gwh_2015</th>\n",
       "      <td>0.722</td>\n",
       "      <td>0.036</td>\n",
       "      <td>-0.125</td>\n",
       "      <td>-0.333</td>\n",
       "      <td>0.128</td>\n",
       "      <td>0.000</td>\n",
       "      <td>0.000</td>\n",
       "      <td>-0.000</td>\n",
       "      <td>-0.000</td>\n",
       "      <td>0.896</td>\n",
       "      <td>0.954</td>\n",
       "      <td>1.000</td>\n",
       "      <td>0.969</td>\n",
       "      <td>0.928</td>\n",
       "      <td>0.019</td>\n",
       "    </tr>\n",
       "    <tr>\n",
       "      <th>generation_gwh_2016</th>\n",
       "      <td>0.753</td>\n",
       "      <td>0.031</td>\n",
       "      <td>-0.131</td>\n",
       "      <td>-0.350</td>\n",
       "      <td>0.148</td>\n",
       "      <td>0.000</td>\n",
       "      <td>0.000</td>\n",
       "      <td>-0.000</td>\n",
       "      <td>0.000</td>\n",
       "      <td>0.874</td>\n",
       "      <td>0.926</td>\n",
       "      <td>0.969</td>\n",
       "      <td>1.000</td>\n",
       "      <td>0.965</td>\n",
       "      <td>0.039</td>\n",
       "    </tr>\n",
       "    <tr>\n",
       "      <th>generation_gwh_2017</th>\n",
       "      <td>0.767</td>\n",
       "      <td>0.031</td>\n",
       "      <td>-0.132</td>\n",
       "      <td>-0.362</td>\n",
       "      <td>0.148</td>\n",
       "      <td>0.000</td>\n",
       "      <td>-0.000</td>\n",
       "      <td>-0.000</td>\n",
       "      <td>0.000</td>\n",
       "      <td>0.831</td>\n",
       "      <td>0.892</td>\n",
       "      <td>0.928</td>\n",
       "      <td>0.965</td>\n",
       "      <td>1.000</td>\n",
       "      <td>0.038</td>\n",
       "    </tr>\n",
       "    <tr>\n",
       "      <th>diff</th>\n",
       "      <td>0.192</td>\n",
       "      <td>0.043</td>\n",
       "      <td>-0.338</td>\n",
       "      <td>-0.274</td>\n",
       "      <td>-0.143</td>\n",
       "      <td>0.275</td>\n",
       "      <td>-0.235</td>\n",
       "      <td>-0.297</td>\n",
       "      <td>0.243</td>\n",
       "      <td>0.014</td>\n",
       "      <td>0.011</td>\n",
       "      <td>0.019</td>\n",
       "      <td>0.039</td>\n",
       "      <td>0.038</td>\n",
       "      <td>1.000</td>\n",
       "    </tr>\n",
       "  </tbody>\n",
       "</table>\n",
       "</div>"
      ],
      "text/plain": [
       "                     capacity_mw  latitude  primary_fuel  other_fuel1  \\\n",
       "capacity_mw                1.000     0.050        -0.378       -0.598   \n",
       "latitude                   0.050     1.000        -0.013       -0.038   \n",
       "primary_fuel              -0.378    -0.013         1.000        0.478   \n",
       "other_fuel1               -0.598    -0.038         0.478        1.000   \n",
       "commissioning_year         0.011     0.031         0.147       -0.035   \n",
       "owner                      0.304     0.007        -0.260       -0.326   \n",
       "source                    -0.242     0.056         0.054        0.255   \n",
       "url                       -0.243    -0.131         0.589        0.270   \n",
       "geolocation_source         0.205    -0.184        -0.483       -0.205   \n",
       "generation_gwh_2013        0.668     0.037        -0.121       -0.322   \n",
       "generation_gwh_2014        0.705     0.044        -0.125       -0.337   \n",
       "generation_gwh_2015        0.722     0.036        -0.125       -0.333   \n",
       "generation_gwh_2016        0.753     0.031        -0.131       -0.350   \n",
       "generation_gwh_2017        0.767     0.031        -0.132       -0.362   \n",
       "diff                       0.192     0.043        -0.338       -0.274   \n",
       "\n",
       "                     commissioning_year  owner  source    url  \\\n",
       "capacity_mw                       0.011  0.304  -0.242 -0.243   \n",
       "latitude                          0.031  0.007   0.056 -0.131   \n",
       "primary_fuel                      0.147 -0.260   0.054  0.589   \n",
       "other_fuel1                      -0.035 -0.326   0.255  0.270   \n",
       "commissioning_year                1.000 -0.389   0.304  0.322   \n",
       "owner                            -0.389  1.000  -0.244 -0.191   \n",
       "source                            0.304 -0.244   1.000  0.160   \n",
       "url                               0.322 -0.191   0.160  1.000   \n",
       "geolocation_source               -0.245  0.427  -0.506 -0.019   \n",
       "generation_gwh_2013               0.094 -0.000   0.000 -0.000   \n",
       "generation_gwh_2014               0.114 -0.000   0.000  0.000   \n",
       "generation_gwh_2015               0.128  0.000   0.000 -0.000   \n",
       "generation_gwh_2016               0.148  0.000   0.000 -0.000   \n",
       "generation_gwh_2017               0.148  0.000  -0.000 -0.000   \n",
       "diff                             -0.143  0.275  -0.235 -0.297   \n",
       "\n",
       "                     geolocation_source  generation_gwh_2013  \\\n",
       "capacity_mw                       0.205                0.668   \n",
       "latitude                         -0.184                0.037   \n",
       "primary_fuel                     -0.483               -0.121   \n",
       "other_fuel1                      -0.205               -0.322   \n",
       "commissioning_year               -0.245                0.094   \n",
       "owner                             0.427               -0.000   \n",
       "source                           -0.506                0.000   \n",
       "url                              -0.019               -0.000   \n",
       "geolocation_source                1.000               -0.000   \n",
       "generation_gwh_2013              -0.000                1.000   \n",
       "generation_gwh_2014              -0.000                0.963   \n",
       "generation_gwh_2015              -0.000                0.896   \n",
       "generation_gwh_2016               0.000                0.874   \n",
       "generation_gwh_2017               0.000                0.831   \n",
       "diff                              0.243                0.014   \n",
       "\n",
       "                     generation_gwh_2014  generation_gwh_2015  \\\n",
       "capacity_mw                        0.705                0.722   \n",
       "latitude                           0.044                0.036   \n",
       "primary_fuel                      -0.125               -0.125   \n",
       "other_fuel1                       -0.337               -0.333   \n",
       "commissioning_year                 0.114                0.128   \n",
       "owner                             -0.000                0.000   \n",
       "source                             0.000                0.000   \n",
       "url                                0.000               -0.000   \n",
       "geolocation_source                -0.000               -0.000   \n",
       "generation_gwh_2013                0.963                0.896   \n",
       "generation_gwh_2014                1.000                0.954   \n",
       "generation_gwh_2015                0.954                1.000   \n",
       "generation_gwh_2016                0.926                0.969   \n",
       "generation_gwh_2017                0.892                0.928   \n",
       "diff                               0.011                0.019   \n",
       "\n",
       "                     generation_gwh_2016  generation_gwh_2017   diff  \n",
       "capacity_mw                        0.753                0.767  0.192  \n",
       "latitude                           0.031                0.031  0.043  \n",
       "primary_fuel                      -0.131               -0.132 -0.338  \n",
       "other_fuel1                       -0.350               -0.362 -0.274  \n",
       "commissioning_year                 0.148                0.148 -0.143  \n",
       "owner                              0.000                0.000  0.275  \n",
       "source                             0.000               -0.000 -0.235  \n",
       "url                               -0.000               -0.000 -0.297  \n",
       "geolocation_source                 0.000                0.000  0.243  \n",
       "generation_gwh_2013                0.874                0.831  0.014  \n",
       "generation_gwh_2014                0.926                0.892  0.011  \n",
       "generation_gwh_2015                0.969                0.928  0.019  \n",
       "generation_gwh_2016                1.000                0.965  0.039  \n",
       "generation_gwh_2017                0.965                1.000  0.038  \n",
       "diff                               0.039                0.038  1.000  "
      ]
     },
     "execution_count": 656,
     "metadata": {},
     "output_type": "execute_result"
    }
   ],
   "source": [
    "round(df_c.corr(),3)"
   ]
  },
  {
   "cell_type": "code",
   "execution_count": 657,
   "metadata": {},
   "outputs": [
    {
     "data": {
      "text/html": [
       "<div>\n",
       "<style scoped>\n",
       "    .dataframe tbody tr th:only-of-type {\n",
       "        vertical-align: middle;\n",
       "    }\n",
       "\n",
       "    .dataframe tbody tr th {\n",
       "        vertical-align: top;\n",
       "    }\n",
       "\n",
       "    .dataframe thead th {\n",
       "        text-align: right;\n",
       "    }\n",
       "</style>\n",
       "<table border=\"1\" class=\"dataframe\">\n",
       "  <thead>\n",
       "    <tr style=\"text-align: right;\">\n",
       "      <th></th>\n",
       "      <th>variables</th>\n",
       "      <th>VIF</th>\n",
       "    </tr>\n",
       "  </thead>\n",
       "  <tbody>\n",
       "    <tr>\n",
       "      <th>0</th>\n",
       "      <td>capacity_mw</td>\n",
       "      <td>4.986108</td>\n",
       "    </tr>\n",
       "    <tr>\n",
       "      <th>1</th>\n",
       "      <td>latitude</td>\n",
       "      <td>10.602623</td>\n",
       "    </tr>\n",
       "    <tr>\n",
       "      <th>2</th>\n",
       "      <td>commissioning_year</td>\n",
       "      <td>14.228797</td>\n",
       "    </tr>\n",
       "    <tr>\n",
       "      <th>3</th>\n",
       "      <td>owner</td>\n",
       "      <td>11.111764</td>\n",
       "    </tr>\n",
       "    <tr>\n",
       "      <th>4</th>\n",
       "      <td>source</td>\n",
       "      <td>2.994594</td>\n",
       "    </tr>\n",
       "    <tr>\n",
       "      <th>5</th>\n",
       "      <td>url</td>\n",
       "      <td>3.804157</td>\n",
       "    </tr>\n",
       "    <tr>\n",
       "      <th>6</th>\n",
       "      <td>geolocation_source</td>\n",
       "      <td>10.278292</td>\n",
       "    </tr>\n",
       "    <tr>\n",
       "      <th>7</th>\n",
       "      <td>generation_gwh_2013</td>\n",
       "      <td>6.330659</td>\n",
       "    </tr>\n",
       "    <tr>\n",
       "      <th>8</th>\n",
       "      <td>generation_gwh_2017</td>\n",
       "      <td>16.400175</td>\n",
       "    </tr>\n",
       "    <tr>\n",
       "      <th>9</th>\n",
       "      <td>diff_2</td>\n",
       "      <td>6.127176</td>\n",
       "    </tr>\n",
       "  </tbody>\n",
       "</table>\n",
       "</div>"
      ],
      "text/plain": [
       "             variables        VIF\n",
       "0          capacity_mw   4.986108\n",
       "1             latitude  10.602623\n",
       "2   commissioning_year  14.228797\n",
       "3                owner  11.111764\n",
       "4               source   2.994594\n",
       "5                  url   3.804157\n",
       "6   geolocation_source  10.278292\n",
       "7  generation_gwh_2013   6.330659\n",
       "8  generation_gwh_2017  16.400175\n",
       "9               diff_2   6.127176"
      ]
     },
     "execution_count": 657,
     "metadata": {},
     "output_type": "execute_result"
    }
   ],
   "source": [
    "df_c[\"diff_2\"]=(df_c[\"generation_gwh_2014\"]-df_c[\"generation_gwh_2015\"]-df_c[\"generation_gwh_2016\"]-df_c[\"diff\"]-df_c[\"other_fuel1\"])**2\n",
    "df_c=df_c.drop([\"generation_gwh_2014\",\"generation_gwh_2015\",\"generation_gwh_2016\",\"diff\",\"other_fuel1\"],axis=1)\n",
    "x_c=df_c.drop([\"primary_fuel\"],axis=1)\n",
    "y_c=df_c[\"primary_fuel\"]\n",
    "c_vif(x_c)"
   ]
  },
  {
   "cell_type": "code",
   "execution_count": 658,
   "metadata": {},
   "outputs": [
    {
     "data": {
      "text/plain": [
       "(908, 11)"
      ]
     },
     "execution_count": 658,
     "metadata": {},
     "output_type": "execute_result"
    }
   ],
   "source": [
    "#removing outliers\n",
    "import scipy \n",
    "from scipy.stats import zscore \n",
    "z=np.abs(zscore(df_c))  #removes outliers\n",
    "z.shape"
   ]
  },
  {
   "cell_type": "code",
   "execution_count": 659,
   "metadata": {},
   "outputs": [
    {
     "name": "stdout",
     "output_type": "stream",
     "text": [
      "(908, 11)\n",
      "(852, 11)\n"
     ]
    }
   ],
   "source": [
    "threshold=3\n",
    "df_new_c=df_c[(z<3).all(axis=1)]\n",
    "print(df_c.shape)\n",
    "print(df_new_c.shape)"
   ]
  },
  {
   "cell_type": "code",
   "execution_count": 660,
   "metadata": {},
   "outputs": [
    {
     "data": {
      "text/plain": [
       "6.167400881057269"
      ]
     },
     "execution_count": 660,
     "metadata": {},
     "output_type": "execute_result"
    }
   ],
   "source": [
    "#data loss\n",
    "(908-852)/908*100"
   ]
  },
  {
   "cell_type": "markdown",
   "metadata": {},
   "source": [
    "Since the data loss is less than 10% we can proceed"
   ]
  },
  {
   "cell_type": "code",
   "execution_count": 661,
   "metadata": {},
   "outputs": [],
   "source": [
    "x_c=df_new_c.drop([\"primary_fuel\"],axis=1)\n",
    "y_c=df_new_c[\"primary_fuel\"]"
   ]
  },
  {
   "cell_type": "markdown",
   "metadata": {},
   "source": [
    "# Preprocessing"
   ]
  },
  {
   "cell_type": "code",
   "execution_count": 662,
   "metadata": {},
   "outputs": [
    {
     "data": {
      "text/plain": [
       "array([[0.00125   , 0.75585062, 0.88135593, ..., 0.25698899, 0.25745722,\n",
       "        0.11249222],\n",
       "       [0.049     , 0.62678766, 0.91525424, ..., 0.25698899, 0.25745722,\n",
       "        0.11962681],\n",
       "       [0.0196    , 0.51868762, 0.91525424, ..., 0.25698899, 0.25745722,\n",
       "        0.09398039],\n",
       "       ...,\n",
       "       [0.01275   , 0.26838645, 0.91525424, ..., 0.25698899, 0.25745722,\n",
       "        0.12489076],\n",
       "       [0.04      , 0.61106642, 0.91525424, ..., 0.25698899, 0.25745722,\n",
       "        0.11509888],\n",
       "       [0.00825   , 0.06667271, 0.91525424, ..., 0.25698899, 0.25745722,\n",
       "        0.13563827]])"
      ]
     },
     "execution_count": 662,
     "metadata": {},
     "output_type": "execute_result"
    }
   ],
   "source": [
    "from sklearn.preprocessing import MinMaxScaler\n",
    "ms=MinMaxScaler()\n",
    "x_c=ms.fit_transform(x_c)\n",
    "x_c"
   ]
  },
  {
   "cell_type": "markdown",
   "metadata": {},
   "source": [
    "# SMOTE"
   ]
  },
  {
   "cell_type": "code",
   "execution_count": 663,
   "metadata": {},
   "outputs": [
    {
     "data": {
      "text/plain": [
       "1    233\n",
       "3    231\n",
       "7    123\n",
       "6    122\n",
       "2     68\n",
       "0     45\n",
       "5     21\n",
       "4      9\n",
       "Name: primary_fuel, dtype: int64"
      ]
     },
     "execution_count": 663,
     "metadata": {},
     "output_type": "execute_result"
    }
   ],
   "source": [
    "y_c.value_counts()"
   ]
  },
  {
   "cell_type": "code",
   "execution_count": 664,
   "metadata": {},
   "outputs": [],
   "source": [
    "from imblearn.over_sampling import SMOTE \n",
    "smt=SMOTE()\n",
    "trainx,trainy=smt.fit_resample(x_c,y_c)"
   ]
  },
  {
   "cell_type": "code",
   "execution_count": 665,
   "metadata": {},
   "outputs": [
    {
     "data": {
      "text/plain": [
       "7    233\n",
       "6    233\n",
       "5    233\n",
       "4    233\n",
       "3    233\n",
       "2    233\n",
       "1    233\n",
       "0    233\n",
       "Name: primary_fuel, dtype: int64"
      ]
     },
     "execution_count": 665,
     "metadata": {},
     "output_type": "execute_result"
    }
   ],
   "source": [
    "trainy.value_counts()"
   ]
  },
  {
   "cell_type": "code",
   "execution_count": 666,
   "metadata": {},
   "outputs": [],
   "source": [
    "from sklearn.model_selection import train_test_split"
   ]
  },
  {
   "cell_type": "code",
   "execution_count": 667,
   "metadata": {},
   "outputs": [],
   "source": [
    "x_train_c,x_test_c,y_train_c,y_test_c=train_test_split(trainx,trainy,test_size=0.2)"
   ]
  },
  {
   "cell_type": "markdown",
   "metadata": {},
   "source": [
    "# Logistic Regression"
   ]
  },
  {
   "cell_type": "code",
   "execution_count": 668,
   "metadata": {},
   "outputs": [],
   "source": [
    "from sklearn.linear_model import LogisticRegression \n",
    "from sklearn.metrics import accuracy_score,confusion_matrix"
   ]
  },
  {
   "cell_type": "code",
   "execution_count": 669,
   "metadata": {},
   "outputs": [
    {
     "name": "stdout",
     "output_type": "stream",
     "text": [
      "At random state= 0 testing accuracy = 0.6890080428954424\n",
      "\n",
      "\n",
      "At random state= 1 testing accuracy = 0.6890080428954424\n",
      "\n",
      "\n",
      "At random state= 2 testing accuracy = 0.6675603217158177\n",
      "\n",
      "\n",
      "At random state= 3 testing accuracy = 0.6943699731903485\n",
      "\n",
      "\n",
      "At random state= 4 testing accuracy = 0.6916890080428955\n",
      "\n",
      "\n",
      "At random state= 5 testing accuracy = 0.6943699731903485\n",
      "\n",
      "\n",
      "At random state= 6 testing accuracy = 0.707774798927614\n",
      "\n",
      "\n",
      "At random state= 7 testing accuracy = 0.6836461126005362\n",
      "\n",
      "\n",
      "At random state= 8 testing accuracy = 0.6541554959785523\n",
      "\n",
      "\n",
      "At random state= 9 testing accuracy = 0.6568364611260054\n",
      "\n",
      "\n",
      "At random state= 10 testing accuracy = 0.7479892761394102\n",
      "\n",
      "\n",
      "At random state= 11 testing accuracy = 0.6541554959785523\n",
      "\n",
      "\n",
      "At random state= 12 testing accuracy = 0.707774798927614\n",
      "\n",
      "\n",
      "At random state= 13 testing accuracy = 0.675603217158177\n",
      "\n",
      "\n",
      "At random state= 14 testing accuracy = 0.6997319034852547\n",
      "\n",
      "\n",
      "At random state= 15 testing accuracy = 0.6997319034852547\n",
      "\n",
      "\n",
      "At random state= 16 testing accuracy = 0.7184986595174263\n",
      "\n",
      "\n",
      "At random state= 17 testing accuracy = 0.6729222520107239\n",
      "\n",
      "\n",
      "At random state= 18 testing accuracy = 0.7211796246648794\n",
      "\n",
      "\n",
      "At random state= 19 testing accuracy = 0.7050938337801609\n",
      "\n",
      "\n",
      "At random state= 20 testing accuracy = 0.6943699731903485\n",
      "\n",
      "\n",
      "At random state= 21 testing accuracy = 0.6890080428954424\n",
      "\n",
      "\n",
      "At random state= 22 testing accuracy = 0.6809651474530831\n",
      "\n",
      "\n",
      "At random state= 23 testing accuracy = 0.6729222520107239\n",
      "\n",
      "\n",
      "At random state= 24 testing accuracy = 0.7050938337801609\n",
      "\n",
      "\n",
      "At random state= 25 testing accuracy = 0.6648793565683646\n",
      "\n",
      "\n",
      "At random state= 26 testing accuracy = 0.6943699731903485\n",
      "\n",
      "\n",
      "At random state= 27 testing accuracy = 0.6890080428954424\n",
      "\n",
      "\n",
      "At random state= 28 testing accuracy = 0.707774798927614\n",
      "\n",
      "\n",
      "At random state= 29 testing accuracy = 0.7131367292225201\n",
      "\n",
      "\n",
      "At random state= 30 testing accuracy = 0.6997319034852547\n",
      "\n",
      "\n",
      "At random state= 31 testing accuracy = 0.6675603217158177\n",
      "\n",
      "\n",
      "At random state= 32 testing accuracy = 0.6729222520107239\n",
      "\n",
      "\n",
      "At random state= 33 testing accuracy = 0.6970509383378016\n",
      "\n",
      "\n",
      "At random state= 34 testing accuracy = 0.710455764075067\n",
      "\n",
      "\n",
      "At random state= 35 testing accuracy = 0.6648793565683646\n",
      "\n",
      "\n",
      "At random state= 36 testing accuracy = 0.6890080428954424\n",
      "\n",
      "\n",
      "At random state= 37 testing accuracy = 0.6702412868632708\n",
      "\n",
      "\n",
      "At random state= 38 testing accuracy = 0.7131367292225201\n",
      "\n",
      "\n",
      "At random state= 39 testing accuracy = 0.6675603217158177\n",
      "\n",
      "\n",
      "At random state= 40 testing accuracy = 0.6997319034852547\n",
      "\n",
      "\n",
      "At random state= 41 testing accuracy = 0.7131367292225201\n",
      "\n",
      "\n",
      "At random state= 42 testing accuracy = 0.7024128686327078\n",
      "\n",
      "\n",
      "At random state= 43 testing accuracy = 0.6836461126005362\n",
      "\n",
      "\n",
      "At random state= 44 testing accuracy = 0.6916890080428955\n",
      "\n",
      "\n",
      "At random state= 45 testing accuracy = 0.7560321715817694\n",
      "\n",
      "\n",
      "At random state= 46 testing accuracy = 0.6809651474530831\n",
      "\n",
      "\n",
      "At random state= 47 testing accuracy = 0.6809651474530831\n",
      "\n",
      "\n",
      "At random state= 48 testing accuracy = 0.7158176943699732\n",
      "\n",
      "\n",
      "At random state= 49 testing accuracy = 0.6970509383378016\n",
      "\n",
      "\n",
      "At random state= 50 testing accuracy = 0.7345844504021448\n",
      "\n",
      "\n",
      "At random state= 51 testing accuracy = 0.7292225201072386\n",
      "\n",
      "\n",
      "At random state= 52 testing accuracy = 0.6916890080428955\n",
      "\n",
      "\n",
      "At random state= 53 testing accuracy = 0.6863270777479893\n",
      "\n",
      "\n",
      "At random state= 54 testing accuracy = 0.6487935656836461\n",
      "\n",
      "\n",
      "At random state= 55 testing accuracy = 0.6729222520107239\n",
      "\n",
      "\n",
      "At random state= 56 testing accuracy = 0.6595174262734584\n",
      "\n",
      "\n",
      "At random state= 57 testing accuracy = 0.7211796246648794\n",
      "\n",
      "\n",
      "At random state= 58 testing accuracy = 0.6916890080428955\n",
      "\n",
      "\n",
      "At random state= 59 testing accuracy = 0.6836461126005362\n",
      "\n",
      "\n",
      "At random state= 60 testing accuracy = 0.6916890080428955\n",
      "\n",
      "\n",
      "At random state= 61 testing accuracy = 0.6916890080428955\n",
      "\n",
      "\n",
      "At random state= 62 testing accuracy = 0.6943699731903485\n",
      "\n",
      "\n",
      "At random state= 63 testing accuracy = 0.7184986595174263\n",
      "\n",
      "\n",
      "At random state= 64 testing accuracy = 0.7158176943699732\n",
      "\n",
      "\n",
      "At random state= 65 testing accuracy = 0.7184986595174263\n",
      "\n",
      "\n",
      "At random state= 66 testing accuracy = 0.7050938337801609\n",
      "\n",
      "\n",
      "At random state= 67 testing accuracy = 0.6675603217158177\n",
      "\n",
      "\n",
      "At random state= 68 testing accuracy = 0.6595174262734584\n",
      "\n",
      "\n",
      "At random state= 69 testing accuracy = 0.6595174262734584\n",
      "\n",
      "\n",
      "At random state= 70 testing accuracy = 0.6675603217158177\n",
      "\n",
      "\n",
      "At random state= 71 testing accuracy = 0.6541554959785523\n",
      "\n",
      "\n",
      "At random state= 72 testing accuracy = 0.6997319034852547\n",
      "\n",
      "\n",
      "At random state= 73 testing accuracy = 0.7453083109919572\n",
      "\n",
      "\n",
      "At random state= 74 testing accuracy = 0.6675603217158177\n",
      "\n",
      "\n",
      "At random state= 75 testing accuracy = 0.6729222520107239\n",
      "\n",
      "\n",
      "At random state= 76 testing accuracy = 0.6916890080428955\n",
      "\n",
      "\n",
      "At random state= 77 testing accuracy = 0.6407506702412868\n",
      "\n",
      "\n",
      "At random state= 78 testing accuracy = 0.6729222520107239\n",
      "\n",
      "\n",
      "At random state= 79 testing accuracy = 0.6890080428954424\n",
      "\n",
      "\n",
      "At random state= 80 testing accuracy = 0.6514745308310992\n",
      "\n",
      "\n",
      "At random state= 81 testing accuracy = 0.6836461126005362\n",
      "\n",
      "\n",
      "At random state= 82 testing accuracy = 0.6997319034852547\n",
      "\n",
      "\n",
      "At random state= 83 testing accuracy = 0.7292225201072386\n",
      "\n",
      "\n",
      "At random state= 84 testing accuracy = 0.6970509383378016\n",
      "\n",
      "\n",
      "At random state= 85 testing accuracy = 0.6970509383378016\n",
      "\n",
      "\n",
      "At random state= 86 testing accuracy = 0.67828418230563\n",
      "\n",
      "\n",
      "At random state= 87 testing accuracy = 0.6916890080428955\n",
      "\n",
      "\n",
      "At random state= 88 testing accuracy = 0.67828418230563\n",
      "\n",
      "\n",
      "At random state= 89 testing accuracy = 0.707774798927614\n",
      "\n",
      "\n",
      "At random state= 90 testing accuracy = 0.7479892761394102\n",
      "\n",
      "\n",
      "At random state= 91 testing accuracy = 0.7131367292225201\n",
      "\n",
      "\n",
      "At random state= 92 testing accuracy = 0.646112600536193\n",
      "\n",
      "\n",
      "At random state= 93 testing accuracy = 0.6836461126005362\n",
      "\n",
      "\n",
      "At random state= 94 testing accuracy = 0.6890080428954424\n",
      "\n",
      "\n",
      "At random state= 95 testing accuracy = 0.6648793565683646\n",
      "\n",
      "\n",
      "At random state= 96 testing accuracy = 0.6890080428954424\n",
      "\n",
      "\n",
      "At random state= 97 testing accuracy = 0.6702412868632708\n",
      "\n",
      "\n",
      "At random state= 98 testing accuracy = 0.6970509383378016\n",
      "\n",
      "\n",
      "At random state= 99 testing accuracy = 0.6836461126005362\n",
      "\n",
      "\n"
     ]
    }
   ],
   "source": [
    "lr=LogisticRegression(max_iter=200)\n",
    "for i in range(0,100):\n",
    "    x_train,x_test,y_train,y_test=train_test_split(trainx,trainy,test_size=0.2,random_state=i)\n",
    "    lr.fit(x_train,y_train)\n",
    "    \n",
    "    pred_test_lr=lr.predict(x_test)\n",
    "    \n",
    "    print(\"At random state=\",i,'testing accuracy =',accuracy_score(y_test,pred_test_lr))\n",
    "    print(\"\\n\")"
   ]
  },
  {
   "cell_type": "code",
   "execution_count": 670,
   "metadata": {},
   "outputs": [
    {
     "name": "stdout",
     "output_type": "stream",
     "text": [
      "testing accuracy = 0.7184986595174263\n"
     ]
    }
   ],
   "source": [
    "x_train,x_test,y_train,y_test=train_test_split(trainx,trainy,test_size=0.2,random_state=65)\n",
    "lr.fit(x_train,y_train)\n",
    "    \n",
    "pred_test_lr=lr.predict(x_test)\n",
    "    \n",
    "print('testing accuracy =',accuracy_score(y_test,pred_test_lr))"
   ]
  },
  {
   "cell_type": "markdown",
   "metadata": {},
   "source": [
    "# DecisionTree Classifier"
   ]
  },
  {
   "cell_type": "code",
   "execution_count": 672,
   "metadata": {},
   "outputs": [],
   "source": [
    "from sklearn.tree import DecisionTreeClassifier \n",
    "from sklearn import tree\n",
    "from sklearn.metrics import accuracy_score "
   ]
  },
  {
   "cell_type": "code",
   "execution_count": 673,
   "metadata": {},
   "outputs": [
    {
     "name": "stdout",
     "output_type": "stream",
     "text": [
      "acc_test = 0.8766756032171582\n"
     ]
    }
   ],
   "source": [
    "dt=DecisionTreeClassifier()\n",
    "dt.fit(x_train_c,y_train_c)\n",
    "\n",
    "pred_test=dt.predict(x_test_c)\n",
    "acc_test=accuracy_score(pred_test,y_test_c)\n",
    "\n",
    "print(\"acc_test =\",acc_test)"
   ]
  },
  {
   "cell_type": "code",
   "execution_count": 674,
   "metadata": {},
   "outputs": [
    {
     "name": "stdout",
     "output_type": "stream",
     "text": [
      "Score = 85.46255506607929 at cv = 2\n",
      "Score = 86.89339132588755 at cv = 3\n",
      "Score = 87.44493392070484 at cv = 4\n",
      "Score = 86.56912148624855 at cv = 5\n",
      "Score = 86.67799465551296 at cv = 6\n",
      "Score = 86.89837294488456 at cv = 7\n",
      "Score = 87.00318273560006 at cv = 8\n",
      "Score = 87.66446644664467 at cv = 9\n"
     ]
    }
   ],
   "source": [
    "for i in range(2,10):\n",
    "    rf_cv=cross_val_score(dt,x,y,cv=i)\n",
    "    rfs=rf_cv.mean()\n",
    "    print(\"Score =\",rfs*100,\"at cv =\",i)\n"
   ]
  },
  {
   "cell_type": "code",
   "execution_count": 680,
   "metadata": {},
   "outputs": [
    {
     "name": "stdout",
     "output_type": "stream",
     "text": [
      "Cv Score = 87.11186151218755\n",
      "Accuracy_score = 87.66756032171583\n"
     ]
    }
   ],
   "source": [
    "rf_cv=cross_val_score(dt,x,y,cv=8)\n",
    "rfs=rf_cv.mean()\n",
    "print(\"Cv Score =\",rfs*100)\n",
    "print(\"Accuracy_score =\",accuracy_score(pred_test,y_test_c)*100)"
   ]
  },
  {
   "cell_type": "markdown",
   "metadata": {},
   "source": [
    "# RandomForest Classifier"
   ]
  },
  {
   "cell_type": "code",
   "execution_count": 685,
   "metadata": {},
   "outputs": [
    {
     "name": "stdout",
     "output_type": "stream",
     "text": [
      "acc_test = 0.9195710455764075\n"
     ]
    }
   ],
   "source": [
    "from sklearn.ensemble import RandomForestClassifier\n",
    "rf=RandomForestClassifier()\n",
    "rf.fit(x_train_c,y_train_c)\n",
    "\n",
    "pred_test_rf=rf.predict(x_test_c)\n",
    "acc_test=accuracy_score(pred_test_rf,y_test_c)\n",
    "\n",
    "print(\"acc_test =\",acc_test)"
   ]
  },
  {
   "cell_type": "code",
   "execution_count": 681,
   "metadata": {},
   "outputs": [
    {
     "name": "stdout",
     "output_type": "stream",
     "text": [
      "Score = 88.10572687224669 at cv = 2\n",
      "Score = 89.64840192628535 at cv = 3\n",
      "Score = 89.86784140969164 at cv = 4\n",
      "Score = 90.7504098111833 at cv = 5\n",
      "Score = 90.08583130010456 at cv = 6\n",
      "Score = 89.98381463497742 at cv = 7\n",
      "Score = 90.30915230554261 at cv = 8\n",
      "Score = 90.53135313531354 at cv = 9\n"
     ]
    }
   ],
   "source": [
    "for i in range(2,10):\n",
    "    rf_cv=cross_val_score(rf,x,y,cv=i)\n",
    "    rfs=rf_cv.mean()\n",
    "    print(\"Score =\",rfs*100,\"at cv =\",i)\n"
   ]
  },
  {
   "cell_type": "code",
   "execution_count": 686,
   "metadata": {},
   "outputs": [
    {
     "name": "stdout",
     "output_type": "stream",
     "text": [
      "CV Score = 90.3102310231023\n",
      "Accuracy_score = 91.95710455764075\n"
     ]
    }
   ],
   "source": [
    "rf_cv=cross_val_score(rf,x,y,cv=9)\n",
    "rfs=rf_cv.mean()\n",
    "print(\"CV Score =\",rfs*100)\n",
    "print(\"Accuracy_score =\",accuracy_score(pred_test_rf,y_test_c)*100)\n"
   ]
  },
  {
   "cell_type": "markdown",
   "metadata": {},
   "source": [
    "# SVC"
   ]
  },
  {
   "cell_type": "code",
   "execution_count": 682,
   "metadata": {},
   "outputs": [
    {
     "data": {
      "text/plain": [
       "0.7560321715817694"
      ]
     },
     "execution_count": 682,
     "metadata": {},
     "output_type": "execute_result"
    }
   ],
   "source": [
    "from sklearn.svm import SVC\n",
    "svc = SVC()\n",
    "svc.fit(x_train_c,y_train_c)\n",
    "y_pred_svc = svc.predict(x_test_c)\n",
    "accuracy_score(y_test_c,y_pred_svc)"
   ]
  },
  {
   "cell_type": "code",
   "execution_count": 683,
   "metadata": {},
   "outputs": [
    {
     "name": "stdout",
     "output_type": "stream",
     "text": [
      "Score = 45.81497797356828 at cv = 2\n",
      "Score = 45.37589520541459 at cv = 3\n",
      "Score = 44.713656387665196 at cv = 4\n",
      "Score = 44.82727217533847 at cv = 5\n",
      "Score = 44.50011618450098 at cv = 6\n",
      "Score = 44.27293636595962 at cv = 7\n",
      "Score = 44.2768979972054 at cv = 8\n",
      "Score = 44.26952695269527 at cv = 9\n"
     ]
    }
   ],
   "source": [
    "for i in range(2,10):\n",
    "    rf_cv=cross_val_score(svc,x,y,cv=i)\n",
    "    rfs=rf_cv.mean()\n",
    "    print(\"Score =\",rfs*100,\"at cv =\",i)"
   ]
  },
  {
   "cell_type": "code",
   "execution_count": 684,
   "metadata": {},
   "outputs": [
    {
     "name": "stdout",
     "output_type": "stream",
     "text": [
      "CV Score = 44.26952695269527\n",
      "Accuracy_score = 75.60321715817693\n"
     ]
    }
   ],
   "source": [
    "rf_cv=cross_val_score(svc,x,y,cv=9)\n",
    "rfs=rf_cv.mean()\n",
    "print(\"CV Score =\",rfs*100)\n",
    "print(\"Accuracy_score =\",accuracy_score(y_test_c,y_pred_svc)*100)"
   ]
  },
  {
   "cell_type": "markdown",
   "metadata": {},
   "source": [
    "# Hyper parameter tuning"
   ]
  },
  {
   "cell_type": "code",
   "execution_count": 687,
   "metadata": {},
   "outputs": [],
   "source": [
    "from sklearn.model_selection import GridSearchCV\n",
    "param = {\"criterion\":[\"gini\",\"entropy\"],\"max_features\":[\"auto\",\"sqrt\",\"log2\"],\"bootstrap\":[True,False],\"n_estimators\":[50,100,150,200]}\n",
    "clf = GridSearchCV(RandomForestClassifier(),param_grid=param)"
   ]
  },
  {
   "cell_type": "code",
   "execution_count": 688,
   "metadata": {},
   "outputs": [
    {
     "data": {
      "text/plain": [
       "GridSearchCV(estimator=RandomForestClassifier(),\n",
       "             param_grid={'bootstrap': [True, False],\n",
       "                         'criterion': ['gini', 'entropy'],\n",
       "                         'max_features': ['auto', 'sqrt', 'log2'],\n",
       "                         'n_estimators': [50, 100, 150, 200]})"
      ]
     },
     "execution_count": 688,
     "metadata": {},
     "output_type": "execute_result"
    }
   ],
   "source": [
    "clf.fit(x_train,y_train)"
   ]
  },
  {
   "cell_type": "code",
   "execution_count": 689,
   "metadata": {},
   "outputs": [
    {
     "name": "stdout",
     "output_type": "stream",
     "text": [
      "{'bootstrap': False, 'criterion': 'gini', 'max_features': 'sqrt', 'n_estimators': 200}\n",
      "0.9201948328881506\n"
     ]
    }
   ],
   "source": [
    "print(clf.best_params_)\n",
    "print(clf.best_score_)"
   ]
  },
  {
   "cell_type": "code",
   "execution_count": 691,
   "metadata": {},
   "outputs": [
    {
     "name": "stdout",
     "output_type": "stream",
     "text": [
      "acc_test = 92.76139410187668\n"
     ]
    }
   ],
   "source": [
    "rf=RandomForestClassifier(bootstrap=False,criterion=\"gini\",max_features=\"sqrt\",n_estimators=200)\n",
    "rf.fit(x_train,y_train)\n",
    "\n",
    "pred_test_rf=rf.predict(x_test)\n",
    "acc_test=accuracy_score(pred_test_rf,y_test)\n",
    "\n",
    "print(\"acc_test =\",acc_test*100)"
   ]
  },
  {
   "cell_type": "code",
   "execution_count": 692,
   "metadata": {},
   "outputs": [
    {
     "name": "stdout",
     "output_type": "stream",
     "text": [
      "CV Score = 92.00643776824035\n",
      "Accuracy_score = 92.76139410187668\n"
     ]
    }
   ],
   "source": [
    "rf_cv=cross_val_score(rf,trainx,trainy,cv=4)\n",
    "rfs=rf_cv.mean()\n",
    "print(\"CV Score =\",rfs*100)\n",
    "print(\"Accuracy_score =\",accuracy_score(pred_test_rf,y_test)*100)"
   ]
  },
  {
   "cell_type": "code",
   "execution_count": 696,
   "metadata": {},
   "outputs": [
    {
     "data": {
      "image/png": "[encoded data removed]",
      "text/plain": [
       "<Figure size 576x432 with 1 Axes>"
      ]
     },
     "metadata": {
      "needs_background": "light"
     },
     "output_type": "display_data"
    }
   ],
   "source": [
    "plt.figure(figsize=(8,6))\n",
    "plt.scatter(x=y_test,y=pred_test_rf,color=\"r\")\n",
    "plt.plot(y_test,y_test,color=\"b\")\n",
    "plt.xlabel(\"Actual fuel \",fontsize=14)\n",
    "plt.ylabel(\"Predicted  fuel\",fontsize=14)\n",
    "plt.title(\"RandomForest Classifier\",fontsize=18)\n",
    "plt.show()"
   ]
  },
  {
   "cell_type": "markdown",
   "metadata": {},
   "source": [
    "# Model saving "
   ]
  },
  {
   "cell_type": "code",
   "execution_count": 695,
   "metadata": {},
   "outputs": [],
   "source": [
    "import pickle \n",
    "filename= \"power_c.pkl\"\n",
    "pickle.dump(rf, open(filename,\"wb\"))"
   ]
  },
  {
   "cell_type": "markdown",
   "metadata": {},
   "source": [
    "# Conclusion "
   ]
  },
  {
   "cell_type": "code",
   "execution_count": 697,
   "metadata": {},
   "outputs": [
    {
     "data": {
      "text/html": [
       "<div>\n",
       "<style scoped>\n",
       "    .dataframe tbody tr th:only-of-type {\n",
       "        vertical-align: middle;\n",
       "    }\n",
       "\n",
       "    .dataframe tbody tr th {\n",
       "        vertical-align: top;\n",
       "    }\n",
       "\n",
       "    .dataframe thead th {\n",
       "        text-align: right;\n",
       "    }\n",
       "</style>\n",
       "<table border=\"1\" class=\"dataframe\">\n",
       "  <thead>\n",
       "    <tr style=\"text-align: right;\">\n",
       "      <th></th>\n",
       "      <th>original</th>\n",
       "      <th>predicted</th>\n",
       "    </tr>\n",
       "  </thead>\n",
       "  <tbody>\n",
       "    <tr>\n",
       "      <th>0</th>\n",
       "      <td>2</td>\n",
       "      <td>2</td>\n",
       "    </tr>\n",
       "    <tr>\n",
       "      <th>1</th>\n",
       "      <td>5</td>\n",
       "      <td>5</td>\n",
       "    </tr>\n",
       "    <tr>\n",
       "      <th>2</th>\n",
       "      <td>1</td>\n",
       "      <td>1</td>\n",
       "    </tr>\n",
       "    <tr>\n",
       "      <th>3</th>\n",
       "      <td>1</td>\n",
       "      <td>1</td>\n",
       "    </tr>\n",
       "    <tr>\n",
       "      <th>4</th>\n",
       "      <td>6</td>\n",
       "      <td>6</td>\n",
       "    </tr>\n",
       "    <tr>\n",
       "      <th>...</th>\n",
       "      <td>...</td>\n",
       "      <td>...</td>\n",
       "    </tr>\n",
       "    <tr>\n",
       "      <th>368</th>\n",
       "      <td>1</td>\n",
       "      <td>1</td>\n",
       "    </tr>\n",
       "    <tr>\n",
       "      <th>369</th>\n",
       "      <td>5</td>\n",
       "      <td>5</td>\n",
       "    </tr>\n",
       "    <tr>\n",
       "      <th>370</th>\n",
       "      <td>7</td>\n",
       "      <td>7</td>\n",
       "    </tr>\n",
       "    <tr>\n",
       "      <th>371</th>\n",
       "      <td>4</td>\n",
       "      <td>4</td>\n",
       "    </tr>\n",
       "    <tr>\n",
       "      <th>372</th>\n",
       "      <td>2</td>\n",
       "      <td>2</td>\n",
       "    </tr>\n",
       "  </tbody>\n",
       "</table>\n",
       "<p>373 rows × 2 columns</p>\n",
       "</div>"
      ],
      "text/plain": [
       "     original  predicted\n",
       "0           2          2\n",
       "1           5          5\n",
       "2           1          1\n",
       "3           1          1\n",
       "4           6          6\n",
       "..        ...        ...\n",
       "368         1          1\n",
       "369         5          5\n",
       "370         7          7\n",
       "371         4          4\n",
       "372         2          2\n",
       "\n",
       "[373 rows x 2 columns]"
      ]
     },
     "execution_count": 697,
     "metadata": {},
     "output_type": "execute_result"
    }
   ],
   "source": [
    "a=np.array(y_test)\n",
    "predicted = np.array(rf.predict(x_test))\n",
    "df_com=pd.DataFrame({\"original\":a,\"predicted\":predicted}, index=range(len(a)))\n",
    "df_com"
   ]
  },
  {
   "cell_type": "code",
   "execution_count": null,
   "metadata": {},
   "outputs": [],
   "source": []
  }
 ],
 "metadata": {
  "kernelspec": {
   "display_name": "Python 3",
   "language": "python",
   "name": "python3"
  },
  "language_info": {
   "codemirror_mode": {
    "name": "ipython",
    "version": 3
   },
   "file_extension": ".py",
   "mimetype": "text/x-python",
   "name": "python",
   "nbconvert_exporter": "python",
   "pygments_lexer": "ipython3",
   "version": "3.8.5"
  }
 },
 "nbformat": 4,
 "nbformat_minor": 4
}
